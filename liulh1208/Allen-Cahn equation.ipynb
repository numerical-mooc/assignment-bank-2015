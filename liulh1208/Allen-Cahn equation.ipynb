{
 "cells": [
  {
   "cell_type": "markdown",
   "metadata": {},
   "source": [
    "# Allen-Cahn Equation"
   ]
  },
  {
   "cell_type": "markdown",
   "metadata": {},
   "source": [
    "\n",
    "The Allen-Cahn equation was introduced by S. Allen and J. W. Cahn.\n",
    "\n",
    "The Allen-Cahn equation is a reaction-difusion equation or a diffuse interface model. It descibes the phase separation processes in alloys or melts, and widely used to model diverse phenomena in nature. Besides, the Allen-Cahn equation has become a basic model which is used in diffuse interface approach. \n",
    "\n",
    "Originally, the Allen-Cahn can solve the phase transition problems, transformation of a thermodynamics system from one phase to another. The homogenous Neumann boundary condition means that no mass loss at the boundary.\n"
   ]
  },
  {
   "cell_type": "markdown",
   "metadata": {},
   "source": [
    "\n",
    "\n",
    "\n",
    "Fristly, let's know how the Allen-Cahn works in difussion process."
   ]
  },
  {
   "cell_type": "code",
   "execution_count": 1,
   "metadata": {
    "collapsed": false
   },
   "outputs": [
    {
     "data": {
      "text/html": [
       "\n",
       "        <iframe\n",
       "            width=\"400\"\n",
       "            height=\"300\"\n",
       "            src=\"https://www.youtube.com/embed/QQCr2g6jDsM\"\n",
       "            frameborder=\"0\"\n",
       "            allowfullscreen\n",
       "        ></iframe>\n",
       "        "
      ],
      "text/plain": [
       "<IPython.lib.display.YouTubeVideo at 0x104b34748>"
      ]
     },
     "execution_count": 1,
     "metadata": {},
     "output_type": "execute_result"
    }
   ],
   "source": [
    "from IPython.display import YouTubeVideo\n",
    "YouTubeVideo('QQCr2g6jDsM')"
   ]
  },
  {
   "cell_type": "markdown",
   "metadata": {},
   "source": [
    "# 1D Allen-Cahn"
   ]
  },
  {
   "cell_type": "markdown",
   "metadata": {},
   "source": [
    "Allen-Cahn equation in one dimension looks like this:\n",
    "\n",
    "\\begin{equation}\n",
    "\\frac{\\partial U}{\\partial t} = \\epsilon (\\frac{\\partial^2 U}{\\partial x^2}) + U - U^3\n",
    "\\end{equation}\n",
    "\n",
    "Where the function of U displays the phase state at each point in time and spaces, and it varies from -1 to 1. The $\\epsilon$ is a small parameter and the value is positive constant, and it can describe the thickness of the phase boundary, and knows as the interaction length."
   ]
  },
  {
   "cell_type": "markdown",
   "metadata": {},
   "source": [
    "##  Finite difference"
   ]
  },
  {
   "cell_type": "markdown",
   "metadata": {},
   "source": [
    "The Allen-Cahn equation has both linear part and nonlinear part, so we use the Crank Nicolson method to slove it.\n",
    "Let's write this out discretized using Crank Nicolson scheme. i and n are the indices which shows the space and time discretization respectively."
   ]
  },
  {
   "cell_type": "markdown",
   "metadata": {},
   "source": [
    "\\begin{eqnarray}\n",
    "\\frac{U_{i}^{n+1}-U_{i}^{n}}{\\Delta t} =\n",
    "\\frac{\\epsilon }{2}(\\frac{U_{i+1}^{n+1}-2U_{i}^{n+1}+U_{i-1}^{n+1}}{\\Delta x^2}\\frac{U_{i+1}^{n}-2U_{i}^{n}+U_{i-1}^{n}}{\\Delta x^2}) + U_{i}^{n}-(U_{i}^{n})^3\n",
    "\\end{eqnarray}"
   ]
  },
  {
   "cell_type": "markdown",
   "metadata": {},
   "source": [
    "\n",
    "Rearraning the equation to solve for the value at the next time step, put all the $U_i^{n+1}$ term on the left side and all the $U_i^n$ on the right side, we get\n"
   ]
  },
  {
   "cell_type": "markdown",
   "metadata": {},
   "source": [
    "\\begin{eqnarray}\n",
    "-\\frac{\\epsilon}{2\\Delta x^2}U^{n+1}_{i-1} + \\left(\\frac{\\epsilon}{\\Delta x^2}+\\frac{1}{\\Delta t}\\right)U^{n+1}_i - \\frac{\\epsilon}{2\\Delta x^2}U^{n+1}_{i+1} = & \\nonumber\\\\\n",
    "\\frac{\\epsilon}{2\\Delta x^2}U^{n}_{i-1} + \\left(\\frac{1}{\\Delta t}-\\frac{\\epsilon}{\\Delta x^2}\\right)U^{n}_i + \\frac{\\epsilon}{2\\Delta x^2}U^{n}_{i+1} +  U_{i}^{n}-(U_{i}^{n})^3\n",
    "\\end{eqnarray}"
   ]
  },
  {
   "cell_type": "markdown",
   "metadata": {},
   "source": [
    "When i =1:\n",
    "\n",
    "\\begin{eqnarray}\n",
    "-\\frac{\\epsilon}{2\\Delta x^2}U^{n+1}_{0} + \\left(\\frac{\\epsilon}{\\Delta x^2}+\\frac{1}{\\Delta t}\\right)U^{n+1}_1 - \\frac{\\epsilon}{2\\Delta x^2}U^{n+1}_{2} = & \\nonumber\\\\\n",
    "\\frac{\\epsilon}{2\\Delta x^2}U^{n}_{0} + \\left(\\frac{1}{\\Delta t}-\\frac{\\epsilon}{\\Delta x^2}\\right)U^{n}_1 + \\frac{\\epsilon}{2\\Delta x^2}U^{n}_{2} +  U_{1}^{n}-(U_{1}^{n})^3\n",
    "\\end{eqnarray}"
   ]
  },
  {
   "cell_type": "markdown",
   "metadata": {},
   "source": [
    "and i =2:\n",
    "\n",
    "\\begin{eqnarray}\n",
    "-\\frac{\\epsilon}{2\\Delta x^2}U^{n+1}_{1} + \\left(\\frac{\\epsilon}{\\Delta x^2}+\\frac{1}{\\Delta t}\\right)U^{n+1}_2 - \\frac{\\epsilon}{2\\Delta x^2}U^{n+1}_{3} = & \\nonumber\\\\\n",
    "\\frac{\\epsilon}{2\\Delta x^2}U^{n}_{1} + \\left(\\frac{1}{\\Delta t}-\\frac{\\epsilon}{\\Delta x^2}\\right)U^{n}_2 + \\frac{\\epsilon}{2\\Delta x^2}U^{n}_{3} +  U_{2}^{n}-(U_{2}^{n})^3\n",
    "\\end{eqnarray}"
   ]
  },
  {
   "cell_type": "markdown",
   "metadata": {},
   "source": [
    "i=3:\n",
    "\n",
    "\\begin{eqnarray}\n",
    "-\\frac{\\epsilon}{2\\Delta x^2}U^{n+1}_{2} + \\left(\\frac{\\epsilon}{\\Delta x^2}+\\frac{1}{\\Delta t}\\right)U^{n+1}_3 - \\frac{\\epsilon}{2\\Delta x^2}U^{n+1}_{4} = & \\nonumber\\\\\n",
    "\\frac{\\epsilon}{2\\Delta x^2}U^{n}_{2} + \\left(\\frac{1}{\\Delta t}-\\frac{\\epsilon}{\\Delta x^2}\\right)U^{n}_3 + \\frac{\\epsilon}{2\\Delta x^2}U^{n}_{4} +  U_{3}^{n}-(U_{3}^{n})^3\n",
    "\\end{eqnarray}"
   ]
  },
  {
   "cell_type": "markdown",
   "metadata": {},
   "source": [
    "### Boundary Condition"
   ]
  },
  {
   "cell_type": "markdown",
   "metadata": {},
   "source": [
    "For the one dimensional Allen-Cahn equation introduced above, the zero Neumann boundary conditions on all sides of the domain are applied. In this model, the Neumann boundary condition implies that no mass loss occurs across the boundary walls.\n",
    "\n",
    "For Neumann boundary conditions, it indicates the derivate in the normal direction.\n",
    "\n",
    "\\begin{equation}\n",
    "\\left. \\frac{\\partial U}{\\partial x} \\right|_{x = 1} \\approx \\frac{U^n_{i+1}- U^n_i}{\\Delta x} = 0\n",
    "\\end{equation}\n"
   ]
  },
  {
   "cell_type": "markdown",
   "metadata": {},
   "source": [
    "The value of $U^{n+1}_0$ which from BC will be 0 when i = 1, \n"
   ]
  },
  {
   "cell_type": "markdown",
   "metadata": {},
   "source": [
    "\\begin{eqnarray}\n",
    "\\left(\\frac{\\epsilon}{\\Delta x^2}+\\frac{1}{\\Delta t}\\right)U^{n+1}_1 - \\frac{\\epsilon}{2\\Delta x^2}U^{n+1}_{2} = & \\nonumber\\\\\n",
    "\\frac{\\epsilon}{2\\Delta x^2}U^{n}_{0} + \\left(\\frac{1}{\\Delta t}-\\frac{\\epsilon}{\\Delta x^2}\\right)U^{n}_1 + \\frac{\\epsilon}{2\\Delta x^2}U^{n}_{2} +  U_{1}^{n}-(U_{1}^{n})^3\n",
    "\\end{eqnarray}"
   ]
  },
  {
   "cell_type": "markdown",
   "metadata": {
    "collapsed": true
   },
   "source": [
    "and i = 2:\n",
    "\n",
    "\\begin{eqnarray}\n",
    "-\\frac{\\epsilon}{2\\Delta x^2}U^{n+1}_{1} + \\left(\\frac{\\epsilon}{\\Delta x^2}+\\frac{1}{\\Delta t}\\right)U^{n+1}_2 - \\frac{\\epsilon}{2\\Delta x^2}U^{n+1}_{3} = & \\nonumber\\\\\n",
    "\\frac{\\epsilon}{2\\Delta x^2}U^{n}_{1} + \\left(\\frac{1}{\\Delta t}-\\frac{\\epsilon}{\\Delta x^2}\\right)U^{n}_2 + \\frac{\\epsilon}{2\\Delta x^2}U^{n}_{3} +  U_{2}^{n}-(U_{2}^{n})^3\n",
    "\\end{eqnarray}\n",
    "\n"
   ]
  },
  {
   "cell_type": "markdown",
   "metadata": {},
   "source": [
    "For i = $n_x$-2, we get\n",
    "\n",
    "\\begin{eqnarray}\n",
    "-\\frac{\\epsilon}{2\\Delta x^2}U^{n+1}_{n_x-3} + \\left(\\frac{\\epsilon}{\\Delta x^2}+\\frac{1}{\\Delta t}\\right)U^{n+1}_{n_x-2}-\\frac{\\epsilon}{2\\Delta x^2}U^{n+1}_{n_x-1} = & \\nonumber\\\\\n",
    "\\frac{\\epsilon}{2\\Delta x^2}U^{n}_{n_x-3} + \\left(\\frac{1}{\\Delta t}-\\frac{\\epsilon}{\\Delta x^2}\\right)U^{n}_{n_x-2} + \\frac{\\epsilon}{2\\Delta x^2}U^{n}_{n_x-1} +  U_{n_x-2}^{n}-(U_{n_x-2}^{n})^3\n",
    "\\end{eqnarray}"
   ]
  },
  {
   "cell_type": "markdown",
   "metadata": {},
   "source": [
    "Because the zero Neumann boundary condition applied on the right side, so"
   ]
  },
  {
   "cell_type": "markdown",
   "metadata": {},
   "source": [
    "\n",
    "\\begin{equation}\n",
    "\\frac{U^{n}_{n_x-1} - U^{n}_{n_x-2}}{\\Delta x} = 0\n",
    "\\end{equation}"
   ]
  },
  {
   "cell_type": "markdown",
   "metadata": {},
   "source": [
    "Because the boundary condition applied at every time step, at the time step n+1:\n",
    "\n",
    "\\begin{equation}\n",
    "\\frac{U^{n+1}_{n_x-1} - U^{n+1}_{n_x-2}}{\\Delta x} = 0\n",
    "\\end{equation}"
   ]
  },
  {
   "cell_type": "markdown",
   "metadata": {},
   "source": [
    "Thus, for i = $n_x-2$, it becomes:\n",
    "\n",
    "\\begin{eqnarray}\n",
    "-\\frac{\\epsilon}{2\\Delta x^2}U^{n+1}_{n_x-3} + \\left(\\frac{\\epsilon}{\\Delta x^2}-\\frac{1}{\\Delta t}\\right)U^{n+1}_{n_x-2} = & \\nonumber\\\\\n",
    "\\frac{\\epsilon}{2\\Delta x^2}U^{n}_{n_x-3} + \\left(\\frac{1}{\\Delta t}-\\frac{\\epsilon}{\\Delta x^2}\\right)U^{n}_{n_x-2} + \\frac{\\epsilon}{2\\Delta x^2}U^{n}_{n_x-1} +  U_{n_x-2}^{n}-(U_{n_x-2}^{n})^3\n",
    "\\end{eqnarray}"
   ]
  },
  {
   "cell_type": "markdown",
   "metadata": {
    "collapsed": true
   },
   "source": [
    "### The Linear System"
   ]
  },
  {
   "cell_type": "markdown",
   "metadata": {},
   "source": [
    "The form of linear system:\n",
    "\n",
    "$$[A][U^{n+1}_\\text{int}] = [b]+[b]_{b.c.}$$\n",
    "\n",
    "Because the zero Neumann boundary applied, the $[b]_{b.c.}$ will be zero, so the form above change to:\n",
    "\n",
    "$$[A][U^{n+1}_\\text{int}] = [b]$$"
   ]
  },
  {
   "cell_type": "markdown",
   "metadata": {},
   "source": [
    "The matrix of coefficients [A] has three non-zero diagonals:\n",
    "\n",
    "\n",
    "\\begin{align}\\left[ \\begin{array}{cccccc}\n",
    " \\left(\\frac{1}{\\Delta t}+\\frac{\\epsilon}{\\Delta x^2}\\right) & -\\frac{\\epsilon}{2\\Delta x^2} & 0 & \\cdots & & 0 \\\\\n",
    " -\\frac{\\epsilon}{2\\Delta x^2} & \\left(\\frac{1}{\\Delta t}+\\frac{\\epsilon}{\\Delta x^2}\\right) & - \\frac{\\epsilon}{2\\Delta x^2}& 0 & \\cdots & 0 \\\\\n",
    " 0 & & \\ddots& & & \\vdots \\\\\n",
    " \\vdots & & & & \\left(\\frac{1}{\\Delta t}+\\frac{\\epsilon}{\\Delta x^2}\\right)& \\\\\n",
    " 0 & \\cdots & & & -\\frac{\\epsilon}{2\\Delta x^2} & \\left(\\frac{1}{\\Delta t}-\\frac{\\epsilon}{\\Delta x^2}\\right) \\end{array} \\right]\n",
    " \\cdot \n",
    " \\left[ \\begin{array}{c} \n",
    " U_1^{n+1} \\\\ U_2^{n+1} \\\\ \\vdots \\\\ \\\\ U_{N-2}^{n+1} \\end{array} \\right]\n",
    " =\n",
    " \\left[ \\begin{array}{c} \n",
    " \\frac{\\epsilon}{2\\Delta x^2}U_0^n + \\left(\\frac{1}{\\Delta t}-\\frac{\\epsilon}{\\Delta x^2}\\right)U_1^n + \\frac{\\epsilon}{2\\Delta x^2}U_2^n + U_1^n - (U_1^n)^3\\\\  \\frac{\\epsilon}{2\\Delta x^2}U_1^n + \\left(\\frac{1}{\\Delta t}-\\frac{\\epsilon}{\\Delta x^2}\\right)U_2^n + \\frac{\\epsilon}{2\\Delta x^2}U_3^n + U_2^n - (U_2^n)^3\\\\ \\vdots \\\\ \\\\  \\frac{\\epsilon}{2\\Delta x^2}U_{n_x-3}^n + \\left(\\frac{1}{\\Delta t}-\\frac{\\epsilon}{\\Delta x^2}\\right)U_{n_x-2}^n + \\frac{\\epsilon}{2\\Delta x^2}U_{n_x-1}^n + U_{n_x-2}^n - (U_{n_x-2}^n)^3\\end{array} \\right]\n",
    " \\end{align} "
   ]
  },
  {
   "cell_type": "markdown",
   "metadata": {},
   "source": [
    "## Initial condition"
   ]
  },
  {
   "cell_type": "markdown",
   "metadata": {},
   "source": [
    "The initial condition of Allen-Cahn equation which I set up is $sin(5\\pi x/2)$.\n",
    "\n",
    "$$U(x,0) = sin(5\\pi x/2)$$\n",
    "\n",
    "$$x \\in (-1,1)$$\n",
    "\n",
    "\n",
    "The initial condition is a function in terms of x. It is satisfy the domain of U(x), which from -1 to 1."
   ]
  },
  {
   "cell_type": "code",
   "execution_count": 2,
   "metadata": {
    "collapsed": true
   },
   "outputs": [],
   "source": [
    "import numpy\n",
    "from scipy.linalg import solve\n",
    "from matplotlib import pyplot\n",
    "%matplotlib inline\n",
    "from matplotlib import rcParams\n",
    "rcParams['font.family'] = 'serif'\n",
    "rcParams['font.size'] = 16"
   ]
  },
  {
   "cell_type": "code",
   "execution_count": 3,
   "metadata": {
    "collapsed": true
   },
   "outputs": [],
   "source": [
    "def RHS(U, eps, dt, dx):\n",
    "    \"\"\" Computes right-hand side of linear system with backward Euler Method\n",
    "    \n",
    "    Parameters:\n",
    "    ----------\n",
    "    U: array of float\n",
    "        Space at current time step\n",
    "    eps: int\n",
    "          canstant value\n",
    "    dt: float\n",
    "         Time-step size\n",
    "    dx: float\n",
    "         Mesh spacing\n",
    "    \n",
    "    Returns:\n",
    "    -------\n",
    "    b: array of float\n",
    "        Right-hand side with backward Euler Method\n",
    "    \"\"\"\n",
    "    \n",
    "    b =(eps/(2.*dx**2))*U[1:-1] + (1./dt-eps/dx**2)*U[:-2] + (eps/(2.*dx**2))*U[2:] + U[1:-1]-U[1:-1]*U[1:-1]*U[1:-1]\n",
    "    \n",
    "    return b"
   ]
  },
  {
   "cell_type": "code",
   "execution_count": 4,
   "metadata": {
    "collapsed": false
   },
   "outputs": [],
   "source": [
    "def Matrix_A(N, eps, dx):\n",
    "    \"\"\" Computes the matrix with Crank-Nicolson Method\n",
    "\n",
    "    \n",
    "    Parameters:\n",
    "    ----------\n",
    "    N: int\n",
    "        Number of discretization points\n",
    "    \n",
    "    eps: int\n",
    "          constant value\n",
    "    dx: float\n",
    "         Mesh spacing\n",
    "    Returns:\n",
    "    -------\n",
    "    A: 2D numpy array of float\n",
    "        Matrix\n",
    "    \"\"\"\n",
    "   \n",
    "    # Setup the diagonal\n",
    "    d = numpy.diag(numpy.ones(N-2)*(1./dt+eps/dx**2))\n",
    "    # Setup upper diagonal\n",
    "    ud = numpy.diag(numpy.ones(N-3)*(-eps/(2*dx**2)), 1)\n",
    "    # Setup lower diagonal\n",
    "    ld = numpy.diag(numpy.ones(N-3)*(-eps/(2*dx**2)), -1)\n",
    "     # Consider Neumann BC\n",
    "    d[-1,-1] = 1./dt-eps/dx**2\n",
    "    \n",
    "    A = d + ud + ld\n",
    "    return A"
   ]
  },
  {
   "cell_type": "code",
   "execution_count": 5,
   "metadata": {
    "collapsed": true
   },
   "outputs": [],
   "source": [
    "def CrankNicolson(U, A, nt, eps, dt, dx):\n",
    "    \"\"\" \n",
    "    Parameters:\n",
    "    ----------\n",
    "    U: array of float\n",
    "        initial profile\n",
    "    A: 2D array of float\n",
    "        Matrix with discretized diffusion equation\n",
    "    nt: int\n",
    "        number of time steps\n",
    "    eps: int\n",
    "          constant value\n",
    "    dt: float\n",
    "         Time-step size\n",
    "    dx: float\n",
    "         Mesh spacing\n",
    "        \n",
    "    Returns:\n",
    "    -------\n",
    "    U: array of floats\n",
    "        profile after nt time steps\n",
    "    Un: array of floats\n",
    "         profile from begining to end  \n",
    "        \n",
    "    \"\"\"\n",
    "    Un = numpy.zeros((nt,nx))\n",
    "    for t in range(nt):\n",
    "        Un[t] = U.copy()\n",
    "        # get b by Un[t]\n",
    "        b = RHS(Un[t], eps, dt, dx)\n",
    "        U_value = solve(A,b)\n",
    "        # value assignment\n",
    "        U[1:-1] = U_value\n",
    "        # Neumann Boundary\n",
    "        U[-1] = U[-2]\n",
    "      \n",
    "    return U, Un"
   ]
  },
  {
   "cell_type": "markdown",
   "metadata": {},
   "source": [
    "\n",
    "## Problem Setup"
   ]
  },
  {
   "cell_type": "markdown",
   "metadata": {},
   "source": [
    "Basiclly, the Allen-Cahn is a diffusion equation. It represents by one array and diffuse by the initial condition. The evenly space grid of points is need to be set, the nx is the number of spatial grid points, and the dx is the distance between every two grid points. The dt is the step in time and nt is the number of steps.\n",
    "\n"
   ]
  },
  {
   "cell_type": "code",
   "execution_count": 6,
   "metadata": {
    "collapsed": false
   },
   "outputs": [],
   "source": [
    "nx = 51 # number of spatial grid point\n",
    "dx = 2/(nx-1) # distance between two spatial grid points\n",
    "eps = 0.01 # constant\n",
    "x = numpy.linspace(-1, 1, nx)\n",
    "Ui = numpy.zeros\n",
    "Ui = numpy.sin(5*numpy.pi*x/2) #initial condition\n",
    "dt = 0.001 # step in time \n",
    "nt = 101  # number of time steps"
   ]
  },
  {
   "cell_type": "code",
   "execution_count": 7,
   "metadata": {
    "collapsed": true
   },
   "outputs": [],
   "source": [
    "A = Matrix_A(nx, eps, dx)"
   ]
  },
  {
   "cell_type": "code",
   "execution_count": 8,
   "metadata": {
    "collapsed": false
   },
   "outputs": [],
   "source": [
    "UU = CrankNicolson(Ui.copy(), A, nt, eps, dt, dx)"
   ]
  },
  {
   "cell_type": "code",
   "execution_count": 9,
   "metadata": {
    "collapsed": true
   },
   "outputs": [],
   "source": [
    "U = UU[0]\n",
    "U_ = UU[1]"
   ]
  },
  {
   "cell_type": "markdown",
   "metadata": {},
   "source": [
    " Let's looks the diffuse process at the begining"
   ]
  },
  {
   "cell_type": "code",
   "execution_count": 10,
   "metadata": {
    "collapsed": false
   },
   "outputs": [
    {
     "data": {
      "image/png": "[encoded data removed]",
      "text/plain": [
       "<matplotlib.figure.Figure at 0x10a7315f8>"
      ]
     },
     "metadata": {},
     "output_type": "display_data"
    }
   ],
   "source": [
    "pyplot.plot(x, numpy.sin(5*numpy.pi*x/2), color='#003366', ls='-', lw=3);\n",
    "pyplot.xlabel('x')\n",
    "pyplot.ylabel('U(x)');"
   ]
  },
  {
   "cell_type": "markdown",
   "metadata": {},
   "source": [
    "From the picture above, the solution behaves like sinusoidal."
   ]
  },
  {
   "cell_type": "markdown",
   "metadata": {},
   "source": [
    "We have 100 time steps, let us try different steps in time."
   ]
  },
  {
   "cell_type": "markdown",
   "metadata": {},
   "source": [
    "At the time step of 10, t = 0.01s:"
   ]
  },
  {
   "cell_type": "code",
   "execution_count": 11,
   "metadata": {
    "collapsed": false
   },
   "outputs": [
    {
     "data": {
      "image/png": "[encoded data removed]",
      "text/plain": [
       "<matplotlib.figure.Figure at 0x10a7314e0>"
      ]
     },
     "metadata": {},
     "output_type": "display_data"
    }
   ],
   "source": [
    "pyplot.plot(x, U_[10], color='#003366', ls='-', lw=3)\n",
    "pyplot.xlabel('x')\n",
    "pyplot.ylabel('U(x)');"
   ]
  },
  {
   "cell_type": "markdown",
   "metadata": {},
   "source": [
    "From plot above, we can see the oscillation move to right."
   ]
  },
  {
   "cell_type": "markdown",
   "metadata": {},
   "source": [
    "At the time step of 20, t = 0.02s:"
   ]
  },
  {
   "cell_type": "code",
   "execution_count": 12,
   "metadata": {
    "collapsed": false
   },
   "outputs": [
    {
     "data": {
      "image/png": "[encoded data removed]",
      "text/plain": [
       "<matplotlib.figure.Figure at 0x10a945278>"
      ]
     },
     "metadata": {},
     "output_type": "display_data"
    }
   ],
   "source": [
    "pyplot.plot(x, U_[20], color='#003366', ls='-', lw=3)\n",
    "pyplot.xlabel('x')\n",
    "pyplot.ylabel('U(x)');"
   ]
  },
  {
   "cell_type": "markdown",
   "metadata": {},
   "source": [
    "At the time step of 30, t = 0.03s:"
   ]
  },
  {
   "cell_type": "code",
   "execution_count": 13,
   "metadata": {
    "collapsed": false
   },
   "outputs": [
    {
     "data": {
      "image/png": "[encoded data removed]",
      "text/plain": [
       "<matplotlib.figure.Figure at 0x10aa0e080>"
      ]
     },
     "metadata": {},
     "output_type": "display_data"
    }
   ],
   "source": [
    "pyplot.plot(x, U_[30], color='#003366', ls='-', lw=3)\n",
    "pyplot.xlabel('x')\n",
    "pyplot.ylabel('U(x)');"
   ]
  },
  {
   "cell_type": "markdown",
   "metadata": {},
   "source": [
    "At the time step of 40, t = 0.04s:"
   ]
  },
  {
   "cell_type": "code",
   "execution_count": 14,
   "metadata": {
    "collapsed": false
   },
   "outputs": [
    {
     "data": {
      "image/png": "[encoded data removed]",
      "text/plain": [
       "<matplotlib.figure.Figure at 0x10ab210b8>"
      ]
     },
     "metadata": {},
     "output_type": "display_data"
    }
   ],
   "source": [
    "pyplot.plot(x, U_[40], color='#003366', ls='-', lw=3)\n",
    "pyplot.xlabel('x')\n",
    "pyplot.ylabel('U(x)');"
   ]
  },
  {
   "cell_type": "markdown",
   "metadata": {},
   "source": [
    "At the time step of 50, t = 0.05s:"
   ]
  },
  {
   "cell_type": "code",
   "execution_count": 15,
   "metadata": {
    "collapsed": false
   },
   "outputs": [
    {
     "data": {
      "image/png": "[encoded data removed]",
      "text/plain": [
       "<matplotlib.figure.Figure at 0x10ab7de48>"
      ]
     },
     "metadata": {},
     "output_type": "display_data"
    }
   ],
   "source": [
    "pyplot.plot(x, U_[50], color='#003366', ls='-', lw=3)\n",
    "pyplot.ylim(-2,1)\n",
    "pyplot.xlim(-1,1)\n",
    "pyplot.xlabel('x')\n",
    "pyplot.ylabel('U(x)');"
   ]
  },
  {
   "cell_type": "markdown",
   "metadata": {},
   "source": [
    "At the time step of 70, t = 0.07s:"
   ]
  },
  {
   "cell_type": "code",
   "execution_count": 16,
   "metadata": {
    "collapsed": false
   },
   "outputs": [
    {
     "data": {
      "image/png": "[encoded data removed]",
      "text/plain": [
       "<matplotlib.figure.Figure at 0x10aeac208>"
      ]
     },
     "metadata": {},
     "output_type": "display_data"
    }
   ],
   "source": [
    "pyplot.plot(x, U_[70], color='#003366', ls='-', lw=3)\n",
    "pyplot.ylim(-2,1)\n",
    "pyplot.xlim(-1,1)\n",
    "pyplot.xlabel('x')\n",
    "pyplot.ylabel('U(x)');"
   ]
  },
  {
   "cell_type": "markdown",
   "metadata": {},
   "source": [
    "The oscillation becomes flat."
   ]
  },
  {
   "cell_type": "markdown",
   "metadata": {},
   "source": [
    "\n",
    "Let us check what it is looks like at the end.\n"
   ]
  },
  {
   "cell_type": "code",
   "execution_count": 17,
   "metadata": {
    "collapsed": false
   },
   "outputs": [
    {
     "data": {
      "image/png": "[encoded data removed]",
      "text/plain": [
       "<matplotlib.figure.Figure at 0x10ab71860>"
      ]
     },
     "metadata": {},
     "output_type": "display_data"
    }
   ],
   "source": [
    "pyplot.plot(x, U, color='#003366', ls='-', lw=3)\n",
    "pyplot.ylim(-2,0)\n",
    "pyplot.xlim(-1,1)\n",
    "pyplot.xlabel('x')\n",
    "pyplot.ylabel('U(x)');"
   ]
  },
  {
   "cell_type": "markdown",
   "metadata": {},
   "source": [
    "Obviously, it is a steady state profile.  After a period of time, the periodic oscillation dampens and finally become flat. "
   ]
  },
  {
   "cell_type": "markdown",
   "metadata": {},
   "source": [
    "\n",
    "\n",
    "## Animations"
   ]
  },
  {
   "cell_type": "markdown",
   "metadata": {},
   "source": [
    "Let's see how the curve changing from sinusoidal becomes to flat."
   ]
  },
  {
   "cell_type": "code",
   "execution_count": 18,
   "metadata": {
    "collapsed": true
   },
   "outputs": [],
   "source": [
    "%matplotlib inline\n",
    "import matplotlib.pyplot as plt\n",
    "from JSAnimation.IPython_display import display_animation\n",
    "from matplotlib import animation"
   ]
  },
  {
   "cell_type": "code",
   "execution_count": 19,
   "metadata": {
    "collapsed": false
   },
   "outputs": [],
   "source": [
    "def animate(data):\n",
    "    x =numpy.linspace(-1,1,nx)\n",
    "    y = data\n",
    "    line.set_data(x,y)\n",
    "    return line,\n",
    "\n"
   ]
  },
  {
   "cell_type": "code",
   "execution_count": 20,
   "metadata": {
    "collapsed": false
   },
   "outputs": [
    {
     "data": {
      "text/html": [
       "\n",
       "<script language=\"javascript\">\n",
       "  /* Define the Animation class */\n",
       "  function Animation(frames, img_id, slider_id, interval, loop_select_id){\n",
       "    this.img_id = img_id;\n",
       "    this.slider_id = slider_id;\n",
       "    this.loop_select_id = loop_select_id;\n",
       "    this.interval = interval;\n",
       "    this.current_frame = 0;\n",
       "    this.direction = 0;\n",
       "    this.timer = null;\n",
       "    this.frames = new Array(frames.length);\n",
       "\n",
       "    for (var i=0; i<frames.length; i++)\n",
       "    {\n",
       "     this.frames[i] = new Image();\n",
       "     this.frames[i].src = frames[i];\n",
       "    }\n",
       "    document.getElementById(this.slider_id).max = this.frames.length - 1;\n",
       "    this.set_frame(this.current_frame);\n",
       "  }\n",
       "\n",
       "  Animation.prototype.get_loop_state = function(){\n",
       "    var button_group = document[this.loop_select_id].state;\n",
       "    for (var i = 0; i < button_group.length; i++) {\n",
       "        var button = button_group[i];\n",
       "        if (button.checked) {\n",
       "            return button.value;\n",
       "        }\n",
       "    }\n",
       "    return undefined;\n",
       "  }\n",
       "\n",
       "  Animation.prototype.set_frame = function(frame){\n",
       "    this.current_frame = frame;\n",
       "    document.getElementById(this.img_id).src = this.frames[this.current_frame].src;\n",
       "    document.getElementById(this.slider_id).value = this.current_frame;\n",
       "  }\n",
       "\n",
       "  Animation.prototype.next_frame = function()\n",
       "  {\n",
       "    this.set_frame(Math.min(this.frames.length - 1, this.current_frame + 1));\n",
       "  }\n",
       "\n",
       "  Animation.prototype.previous_frame = function()\n",
       "  {\n",
       "    this.set_frame(Math.max(0, this.current_frame - 1));\n",
       "  }\n",
       "\n",
       "  Animation.prototype.first_frame = function()\n",
       "  {\n",
       "    this.set_frame(0);\n",
       "  }\n",
       "\n",
       "  Animation.prototype.last_frame = function()\n",
       "  {\n",
       "    this.set_frame(this.frames.length - 1);\n",
       "  }\n",
       "\n",
       "  Animation.prototype.slower = function()\n",
       "  {\n",
       "    this.interval /= 0.7;\n",
       "    if(this.direction > 0){this.play_animation();}\n",
       "    else if(this.direction < 0){this.reverse_animation();}\n",
       "  }\n",
       "\n",
       "  Animation.prototype.faster = function()\n",
       "  {\n",
       "    this.interval *= 0.7;\n",
       "    if(this.direction > 0){this.play_animation();}\n",
       "    else if(this.direction < 0){this.reverse_animation();}\n",
       "  }\n",
       "\n",
       "  Animation.prototype.anim_step_forward = function()\n",
       "  {\n",
       "    this.current_frame += 1;\n",
       "    if(this.current_frame < this.frames.length){\n",
       "      this.set_frame(this.current_frame);\n",
       "    }else{\n",
       "      var loop_state = this.get_loop_state();\n",
       "      if(loop_state == \"loop\"){\n",
       "        this.first_frame();\n",
       "      }else if(loop_state == \"reflect\"){\n",
       "        this.last_frame();\n",
       "        this.reverse_animation();\n",
       "      }else{\n",
       "        this.pause_animation();\n",
       "        this.last_frame();\n",
       "      }\n",
       "    }\n",
       "  }\n",
       "\n",
       "  Animation.prototype.anim_step_reverse = function()\n",
       "  {\n",
       "    this.current_frame -= 1;\n",
       "    if(this.current_frame >= 0){\n",
       "      this.set_frame(this.current_frame);\n",
       "    }else{\n",
       "      var loop_state = this.get_loop_state();\n",
       "      if(loop_state == \"loop\"){\n",
       "        this.last_frame();\n",
       "      }else if(loop_state == \"reflect\"){\n",
       "        this.first_frame();\n",
       "        this.play_animation();\n",
       "      }else{\n",
       "        this.pause_animation();\n",
       "        this.first_frame();\n",
       "      }\n",
       "    }\n",
       "  }\n",
       "\n",
       "  Animation.prototype.pause_animation = function()\n",
       "  {\n",
       "    this.direction = 0;\n",
       "    if (this.timer){\n",
       "      clearInterval(this.timer);\n",
       "      this.timer = null;\n",
       "    }\n",
       "  }\n",
       "\n",
       "  Animation.prototype.play_animation = function()\n",
       "  {\n",
       "    this.pause_animation();\n",
       "    this.direction = 1;\n",
       "    var t = this;\n",
       "    if (!this.timer) this.timer = setInterval(function(){t.anim_step_forward();}, this.interval);\n",
       "  }\n",
       "\n",
       "  Animation.prototype.reverse_animation = function()\n",
       "  {\n",
       "    this.pause_animation();\n",
       "    this.direction = -1;\n",
       "    var t = this;\n",
       "    if (!this.timer) this.timer = setInterval(function(){t.anim_step_reverse();}, this.interval);\n",
       "  }\n",
       "</script>\n",
       "\n",
       "<div class=\"animation\" align=\"center\">\n",
       "    <img id=\"_anim_imgVQXVNXWZZCMOMLXC\">\n",
       "    <br>\n",
       "    <input id=\"_anim_sliderVQXVNXWZZCMOMLXC\" type=\"range\" style=\"width:350px\" name=\"points\" min=\"0\" max=\"1\" step=\"1\" value=\"0\" onchange=\"animVQXVNXWZZCMOMLXC.set_frame(parseInt(this.value));\"></input>\n",
       "    <br>\n",
       "    <button onclick=\"animVQXVNXWZZCMOMLXC.slower()\">&#8211;</button>\n",
       "    <button onclick=\"animVQXVNXWZZCMOMLXC.first_frame()\"><img class=\"anim_icon\" src=\"data:image/png;base64,iVBORw0KGgoAAAANSUhEUgAAABQAAAAUCAQAAAAngNWGAAAAAXNSR0IArs4c6QAAAAJiS0dEAP+Hj8y/AAAACXBIWXMAAAsTAAALEwEAmpwYAAAAB3RJTUUH3QURCAgaeZk4EQAAASlJREFUKM/dkj9LQnEUhp9zr3bpj1uBcKGiJWxzLWivKAIRjIhcCqcgqJbKRagPICiVSVEuNTu0tLYGUg4tkRGUdxLJ0u79Ndxr5FfwTO/L+xzO4XCgO+v2T70AFU+/A/Dhmlzg6Pr0DKAMwOH4zQxAAbAkv2xNeF2RoQUVc1ytgttXUbWVdN1dOPE8pz4j4APQsdFtKA0WY6vpKjqvVciHnvZTS6Ja4HgggJLs7MHxl9nCh8NYcO+iGG0agiaC4h9oa6Vsw2yiK+QHSZT934YoEQABNBcTNDszsrhm1m1B+bFS86PT6QFppx6oeSaeOwlMXRp1h4aK13Y2kuHhUo9ykPboPvFjeEvsrhTMt3ylHyB0r8KZyYdCrbfj4OveoHMANjuyx+76rV+/blxKMZUnLgAAAABJRU5ErkJggg==\"></button>\n",
       "    <button onclick=\"animVQXVNXWZZCMOMLXC.previous_frame()\"><img class=\"anim_icon\" src=\"data:image/png;base64,iVBORw0KGgoAAAANSUhEUgAAABQAAAAUCAQAAAAngNWGAAAAAXNSR0IArs4c6QAAAAJiS0dEAP+Hj8y/AAAACXBIWXMAAAsTAAALEwEAmpwYAAAAB3RJTUUH3QURCAgyTCyQ6wAAANRJREFUKM9jYBjO4AiUfgzFGGAp4+yayUvX6jMwMDCsYmBgOCS4OAOrSYmMgcc8/pd5Q3irC+Neh/1AlmeBMVgZmP8yMLD8/c/cqv9r90whzv/MX7Eq/MfAwMDIwCuZdfSV8U8WDgZGRmYGrAoZGRgY/jO8b3sj/J2F6T8j4z80pzEhmIwMjAxsSbqqlkeZGP//Z8SlkJnhPwMjwx/Guoe1NhmRwk+YGH5jV8jOwMPHzcDBysAwh8FrxQwtPU99HrwBXsnAwMDAsJiBgYGBoZ1xmKYqALHhMpn1o7igAAAAAElFTkSuQmCC\"></button>\n",
       "    <button onclick=\"animVQXVNXWZZCMOMLXC.reverse_animation()\"><img class=\"anim_icon\" src=\"data:image/png;base64,iVBORw0KGgoAAAANSUhEUgAAABQAAAAUCAQAAAAngNWGAAAAAXNSR0IArs4c6QAAAAJiS0dEAP+Hj8y/AAAACXBIWXMAAAsTAAALEwEAmpwYAAAAB3RJTUUH3QURCAgmVvZElgAAAVFJREFUKM+t0k8ow3EYx/H3s/2aLDUSZctFkgsHEi1XLi5ukpPSWsuJklwclsPSsDKFi7MSJ0I5qF2GHO2m0FY7+BdNv7Y9DpuxDSt5vsfvq+fT9/k+8D8VBxIAWH6H0ead4Qb5BRwCENoceZi5Stl/6BgCBmtWhjzxg4mUQ02rAhil7JgB9tze7aTLxFAKsUUd14B9ZzCyFUk401gQyQJaDNcBHwv7t7ETd0ZVQFEEzcNCdE/1wtj15imGWlEB8qkf2QaAWjbG/bPSamIDyX65/iwDIFx7tWjUvWCoSo5oGbYATN7PORt7W9IZEQXJH8ohuN7C0VVX91KNqYhq4a1lEGJI0j892tazXCWQRUpwAbYDcHczPxXuajq3mbnhfANz5eOJxsuNvs7+jud0UcuyL3QAkuEMx4rnIvBYq1JhEwPAUb3fG7x8tVdc292/7Po7f2VqA+Yz7ZwAAAAASUVORK5CYII=\"></button>\n",
       "    <button onclick=\"animVQXVNXWZZCMOMLXC.pause_animation()\"><img class=\"anim_icon\" src=\"data:image/png;base64,iVBORw0KGgoAAAANSUhEUgAAABQAAAAUCAQAAAAngNWGAAAAAXNSR0IArs4c6QAAAAJiS0dEAP+Hj8y/AAAACXBIWXMAAAsTAAALEwEAmpwYAAAAB3RJTUUH3QURCAkR91DQ2AAAAKtJREFUKM9jYCANTEVib2K4jcRbzQihGWEC00JuNjN8Z2Q0Zo3VYWA4lL005venH9+c3ZK5IfIsMIXMBtc12Bj+MMgxMDAwMPzWe2TBzPCf4SLcZCYY4/9/RgZGBiaYFf8gljFhKiQERhUOeoX/Gf8y/GX4y/APmlj+Mfxj+MfwH64Qnnq0zr9fyfLrPzP3eQYGBobvk5x4GX4xMIij23gdib0cRWYHiVmAAQDK5ircshCbHQAAAABJRU5ErkJggg==\"></button>\n",
       "    <button onclick=\"animVQXVNXWZZCMOMLXC.play_animation()\"><img class=\"anim_icon\" src=\"data:image/png;base64,iVBORw0KGgoAAAANSUhEUgAAABQAAAAUCAQAAAAngNWGAAAAAXNSR0IArs4c6QAAAAJiS0dEAP+Hj8y/AAAACXBIWXMAAAsTAAALEwEAmpwYAAAAB3RJTUUH3QURCAkEmo00MwAAAS9JREFUKM+tkj1IQmEUhp9j94LQj0FD4RRBLdLQ3ftb26PRcCiQIIiIDFwKC0OhaAiam5wVDBpqCKohQojMLYzaAiUatOtpuQrKVQl64fu+4Xt4OLwc+Fs+nNM16jsPAWS6gZXggoZfXmfhog3hcZ6aTXF87Sp68OmH4/YggAo8bmfyyeh6Z1AAKPVldyO1+Iz2uILq3AriJSe3l+H7aj+cuRnrTsVDxSxay+VYbMDnCtZxxQOU9G4nlU9E1HQBxRkCQMRGRnIbpxMARkvxCIoAorYMMrq0mJ0qu4COUW3xyVDqJC4P+86P0ewDQbQqgevhlc2C8ETApXAEFLzvwa3EXG9BoIE1GQUbv1h7k4fTXxBu6cKgUbX5M3ZzNC+a7rQ936HV56SlRpcle+Mf8wvgJ16zo/4BtQAAAABJRU5ErkJggg==\"></button>\n",
       "    <button onclick=\"animVQXVNXWZZCMOMLXC.next_frame()\"><img class=\"anim_icon\" src=\"data:image/png;base64,iVBORw0KGgoAAAANSUhEUgAAABQAAAAUCAQAAAAngNWGAAAAAXNSR0IArs4c6QAAAAJiS0dEAP+Hj8y/AAAACXBIWXMAAAsTAAALEwEAmpwYAAAAB3RJTUUH3QURCAkd/uac8wAAAMhJREFUKM9jYBie4DEUQ8B+fEq3+3UrMzAwMFxjYGBgYJizYubaOUxYFUaXh/6vWfRfEMIL/+//P5gZJoei4/f/7wxnY1PeNUXdE2RgYGZgYoCrY2BBVsjKwMDAwvCS4f3SG/dXxm5gYESSQ1HIwvCPgZmB8f8Pxv+Kxxb/YfiPJIdi9T8GJgaG/38ZFd4Fx0xUYsZt4h8GBgb2D2bLy7KnMTAwMEIxFoVCXIYr1IoDnkF4XAysqNIwUMDAwMDAsADKS2NkGL4AAIARMlfNIfZMAAAAAElFTkSuQmCC\"></button>\n",
       "    <button onclick=\"animVQXVNXWZZCMOMLXC.last_frame()\"><img class=\"anim_icon\" src=\"data:image/png;base64,iVBORw0KGgoAAAANSUhEUgAAABQAAAAUCAQAAAAngNWGAAAAAXNSR0IArs4c6QAAAAJiS0dEAP+Hj8y/AAAACXBIWXMAAAsTAAALEwEAmpwYAAAAB3RJTUUH3QURCAknOOpFQQAAAS9JREFUKM/dkrEvQ3EQxz/33mtoQxiYpANbLU26NAabSCcSUouGBVNDjYQaOiDpIEiKjURIw2Kx04hEYmkHEpGoJpSISaXq9Wd4P03/ht5y98197/u9XA4aK4rAWw3lgWddZ3S+/G9mEovtAB8AHE4pgTQAx8PbJweRmsq6GimmNpxaNYXVzMNNCI6A2figimwCGACK786zuWgh3qcsKf/w0pM4X0m/doNVFVzVGlEQsdRj193VxEWpH0RsdRu+zi3tVMqCAsDShoiYqiSV4OouVDFEqS9Pbiyg7vV62lpQ2BJ4Gg0meg0MbNpkYG/e+540NNFyrE1a8qHk5BaAjfnrzUaHfAWImVrLIXbgnx4/9X06s35cweWsVACa3a24PVp0X+rPv1aHFnSONdiL8Qci0lzwpOM5sQAAAABJRU5ErkJggg==\"></button>\n",
       "    <button onclick=\"animVQXVNXWZZCMOMLXC.faster()\">+</button>\n",
       "  <form action=\"#n\" name=\"_anim_loop_selectVQXVNXWZZCMOMLXC\" class=\"anim_control\">\n",
       "    <input type=\"radio\" name=\"state\" value=\"once\" checked> Once </input>\n",
       "    <input type=\"radio\" name=\"state\" value=\"loop\" > Loop </input>\n",
       "    <input type=\"radio\" name=\"state\" value=\"reflect\" > Reflect </input>\n",
       "  </form>\n",
       "</div>\n",
       "\n",
       "\n",
       "<script language=\"javascript\">\n",
       "  /* Instantiate the Animation class. */\n",
       "  /* The IDs given should match those used in the template above. */\n",
       "  (function() {\n",
       "    var img_id = \"_anim_imgVQXVNXWZZCMOMLXC\";\n",
       "    var slider_id = \"_anim_sliderVQXVNXWZZCMOMLXC\";\n",
       "    var loop_select_id = \"_anim_loop_selectVQXVNXWZZCMOMLXC\";\n",
       "    var frames = new Array(0);\n",
       "    \n",
       "  frames[0] = \"data:image/png;base64,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\"\n",
       "\n",
       "\n",
       "    /* set a timeout to make sure all the above elements are created before\n",
       "       the object is initialized. */\n",
       "    setTimeout(function() {\n",
       "        animVQXVNXWZZCMOMLXC = new Animation(frames, img_id, slider_id, 5, loop_select_id);\n",
       "    }, 0);\n",
       "  })()\n",
       "</script>\n"
      ],
      "text/plain": [
       "<IPython.core.display.HTML object>"
      ]
     },
     "execution_count": 20,
     "metadata": {},
     "output_type": "execute_result"
    }
   ],
   "source": [
    "fig = plt.figure();\n",
    "ax = plt.axes(xlim=(-1,1),ylim=(-2,1));\n",
    "line, = ax.plot([],[],lw=2);\n",
    "\n",
    "anim = animation.FuncAnimation(fig, animate, frames=U_, interval=5)\n",
    "display_animation(anim, default_mode='once')"
   ]
  },
  {
   "cell_type": "markdown",
   "metadata": {},
   "source": [
    "## Stability"
   ]
  },
  {
   "cell_type": "markdown",
   "metadata": {},
   "source": [
    "For diffusion equations, the Crank-Nicolson method is unconditionally stable. Thus, we do not need to consider stability in this project.\n"
   ]
  },
  {
   "cell_type": "markdown",
   "metadata": {},
   "source": [
    "# 2D Allen Cahn"
   ]
  },
  {
   "cell_type": "markdown",
   "metadata": {},
   "source": [
    "The Allen-Cahn equation in two dimension looks like this:\n",
    "\n",
    "\\begin{equation}\n",
    "\\frac{\\partial U}{\\partial t} = \\epsilon (\\frac{\\partial^2 U}{\\partial x^2} + \\frac{\\partial^2 U}{\\partial y^2}) + U - U^3\n",
    "\\end{equation}"
   ]
  },
  {
   "cell_type": "markdown",
   "metadata": {},
   "source": [
    "where the function and parameter are really similar to the one dimensional Allen-Cahn equation. where the $\\epsilon$ is small postive constant and the U display the concntration of two phase which varies from -1 to 1."
   ]
  },
  {
   "cell_type": "markdown",
   "metadata": {},
   "source": [
    "## Explicit scheme in 2D"
   ]
  },
  {
   "cell_type": "markdown",
   "metadata": {},
   "source": [
    "Due to the 2D Allen-Cahn is nonlinear equation, I perfer to use explicit euler method to solve it.\n",
    "\n",
    "\\begin{equation}\n",
    "\\frac{\\partial U}{\\partial t} = \\epsilon (\\frac{\\partial^2 U}{\\partial x^2} + \\frac{\\partial^2 U}{\\partial y^2}) + U - U^3\n",
    "\\end{equation}"
   ]
  },
  {
   "cell_type": "markdown",
   "metadata": {},
   "source": [
    "By using forward difference in time and central difference in space, I get:\n",
    "\n",
    "\\begin{equation}\n",
    "\\frac{U^{n+1}_{i,j} - U^n_{i,j}}{\\Delta t} = \\epsilon \\left( \\frac{U^n_{i+1, j} - 2U^n_{i,j} + U^n_{i-1,j}}{\\Delta x^2} + \\frac{U^n_{i, j+1} - 2U^n_{i,j} + U^n_{i,j-1}}{\\Delta y^2}\\right) + U^{n}_{i,j} - (U^n_{i,j})^3\n",
    "\\end{equation}"
   ]
  },
  {
   "cell_type": "markdown",
   "metadata": {},
   "source": [
    "Rearranging the equation,\n",
    "\n",
    "\\begin{equation}\n",
    "U^{n+1}_{i,j}= U^n_{i,j} + \\epsilon ( \\frac{\\Delta t}{\\Delta x^2} (U^n_{i+1, j} - 2U^n_{i,j} + U^n_{i-1,j}) + \\frac{\\Delta t}{\\Delta y^2} (U^n_{i, j+1} - 2U^n_{i,j} + U^n_{i,j-1}) + \\Delta t (U^n_{i,j}-(U^n_{i,j})^3)) \n",
    "\\end{equation}"
   ]
  },
  {
   "cell_type": "markdown",
   "metadata": {},
   "source": [
    "## Boundary Condition"
   ]
  },
  {
   "cell_type": "markdown",
   "metadata": {},
   "source": [
    "For the 2D Allen-Cahn equation, the zero Neumann boundary condition on all sides of domain are applied. "
   ]
  },
  {
   "cell_type": "code",
   "execution_count": 21,
   "metadata": {
    "collapsed": true
   },
   "outputs": [],
   "source": [
    "def ftcs(U2, nt2, eps, dt2, dx2, dy2, nx2, ny2):\n",
    "    \"\"\"Solves the equation with forward-time, centered scheme using \n",
    "        zero Neumann boundary condition.\n",
    "    \n",
    "    \n",
    "    Parameters:\n",
    "    ----------\n",
    "    U2: array of float\n",
    "        Initial profile\n",
    "    nt2: int\n",
    "        Number of time steps\n",
    "    eps: constant\n",
    "    dt2: float\n",
    "        Time step size\n",
    "    dx2: float\n",
    "        Mesh size\n",
    "    dy2: float\n",
    "        Mesh size\n",
    "        \n",
    "    Returns:\n",
    "    -------\n",
    "    U2: array of float\n",
    "        profile after ntt time steps\n",
    "    \n",
    "    \"\"\"\n",
    "    for t in range (nt2):\n",
    "        U2n = U2.copy()\n",
    "        f = numpy.zeros((nx2,ny2))\n",
    "        for i in range(nx2):\n",
    "            for j in range(ny2):\n",
    "                f[i,j] = U2n[i,j]**3\n",
    "        U2[1:-1,1:-1] = U2n[1:-1,1:-1] + eps *\\\n",
    "        (dt2/dy2**2 * (U2n[2:,1:-1] - 2*U2n[1:-1,1:-1] + U2n[:-2,1:-1]) +dt2/dx2**2 * (U2n[1:-1,2:] - 2*U2n[1:-1,1:-1] + U2n[1:-1,:-2]))-\\\n",
    "        dt2*(U2n[1:-1,1:-1]-f[1:-1,1:-1])    \n",
    "        \n",
    "        #Neumann Boundary\n",
    "        U2[-1,:] = U2[-2,:] \n",
    "        U2[:,-1] = U2[:,-2]\n",
    "        U2[0,:] = U2[1,:]\n",
    "        U2[:,0] = U2[:,1]\n",
    "        \n",
    "    return U2"
   ]
  },
  {
   "cell_type": "code",
   "execution_count": 23,
   "metadata": {
    "collapsed": false
   },
   "outputs": [],
   "source": [
    "nx2 = 64 \n",
    "ny2 = 64 \n",
    "dx2 = 2/(nx2-1) \n",
    "dy2 = 2/(ny2-1)\n",
    "eps = 0.01 \n",
    "x2 = numpy.linspace(-1, 1, nx2)\n",
    "y2 = numpy.linspace(-1, 1, ny2)\n",
    "Ui2 = numpy.ones((nx2,ny2))\n",
    "dt2 = 0.01 \n",
    "nt2 = 100  "
   ]
  },
  {
   "cell_type": "markdown",
   "metadata": {},
   "source": [
    "## Stability"
   ]
  },
  {
   "cell_type": "markdown",
   "metadata": {},
   "source": [
    "I can use the parameter  $\\sigma$ to replace the $\\epsilon \\frac{\\Delta t}{(\\Delta x)^2}$ and $\\epsilon \\frac{\\Delta t}{(\\Delta y)^2}$. \n",
    "From the lesson 4, when the  $\\sigma>\\frac{1}{2}$, the solution would have more errors and becomes unstable. That's means the value of $\\sigma$ should smaller than 1/2.\n",
    "\n",
    "For the 2D problem, the constraint is tighter than 1D problem, so\n",
    "\n",
    "\\begin{equation}\n",
    "\\epsilon \\frac{\\Delta t}{(\\Delta x)^2} + \\epsilon \\frac{\\Delta t}{(\\Delta y)^2} < \\frac{1}{2}.\n",
    "\\end{equation}\n",
    "\n",
    "We already know the value of $\\Delta x$ and $\\Delta y$ are same, we can get the range of $\\Delta t$.\n",
    "\n",
    "\\begin{equation}\n",
    "\\epsilon \\frac{\\Delta t}{\\Delta x^2} < \\frac{1}{4}\n",
    "\\end{equation}\n",
    "\n",
    "Thus,\n",
    "\n",
    "\\begin{equation}\n",
    "\\Delta t < 1/4 * (\\Delta x)^2 /\\epsilon\n",
    "\\end{equation}"
   ]
  },
  {
   "cell_type": "code",
   "execution_count": 24,
   "metadata": {
    "collapsed": false
   },
   "outputs": [
    {
     "data": {
      "text/plain": [
       "0.025195263290501382"
      ]
     },
     "execution_count": 24,
     "metadata": {},
     "output_type": "execute_result"
    }
   ],
   "source": [
    "0.25*(dx2**2 )/eps"
   ]
  },
  {
   "cell_type": "markdown",
   "metadata": {},
   "source": [
    "I set the dt = 0.01, which is smaller than the max value of $\\Delta t$"
   ]
  },
  {
   "cell_type": "markdown",
   "metadata": {},
   "source": [
    "## Initial Condition"
   ]
  },
  {
   "cell_type": "markdown",
   "metadata": {},
   "source": [
    "The initial condition of Allen-Cahn equation which I set up is $sin(5\\pi x/2)+cos(16\\pi y)$.\n",
    "\n",
    "$$U2(x,0) = sin(5\\pi x/2) + cos(16\\pi y)$$\n",
    "\n",
    "$$x \\in (-1,1)$$\n",
    "$$y \\in (-1,1)$$\n",
    "\n",
    "The initial condition is a function in terms of x and y. It is satisfy the domain of U(x,y), which from -1 to 1."
   ]
  },
  {
   "cell_type": "code",
   "execution_count": 25,
   "metadata": {
    "collapsed": true
   },
   "outputs": [],
   "source": [
    "# Initial Condition\n",
    "for i in range(nx2):\n",
    "    for j in range(ny2):\n",
    "        Ui2[i,j] = numpy.sin(5*numpy.pi*i*dx2/2)+numpy.cos(16*numpy.pi*i*dy2) "
   ]
  },
  {
   "cell_type": "code",
   "execution_count": 26,
   "metadata": {
    "collapsed": false
   },
   "outputs": [],
   "source": [
    "U2 = ftcs(Ui2.copy(), nt2, eps, dt2, dx2, dy2, nx2, ny2)"
   ]
  },
  {
   "cell_type": "code",
   "execution_count": 27,
   "metadata": {
    "collapsed": true
   },
   "outputs": [],
   "source": [
    "from mpl_toolkits.mplot3d import Axes3D\n",
    "from matplotlib import cm"
   ]
  },
  {
   "cell_type": "code",
   "execution_count": 28,
   "metadata": {
    "collapsed": true
   },
   "outputs": [],
   "source": [
    "def plot_3D(x, y, U):\n",
    "    fig = pyplot.figure(figsize=(11,7), dpi=100)\n",
    "    ax = fig.gca(projection='3d')\n",
    "    X,Y = numpy.meshgrid(x2,y2)\n",
    "    surf = ax.plot_surface(X,Y,U[:], rstride=1, cstride=1, cmap=cm.viridis,\n",
    "            linewidth=0, antialiased=False)\n",
    "    ax.set_xlim(-1,1)\n",
    "    ax.set_ylim(-1,1)\n",
    "    ax.set_xlabel('$x$')\n",
    "    ax.set_ylabel('$y$')\n",
    "    ax.set_zlabel('$U$')\n",
    "    ax.view_init(45,30)"
   ]
  },
  {
   "cell_type": "code",
   "execution_count": 29,
   "metadata": {
    "collapsed": false
   },
   "outputs": [
    {
     "data": {
      "image/png": "[encoded data removed]",
      "text/plain": [
       "<matplotlib.figure.Figure at 0x10a8428d0>"
      ]
     },
     "metadata": {},
     "output_type": "display_data"
    }
   ],
   "source": [
    "plot_3D(x2,y2,U2)"
   ]
  },
  {
   "cell_type": "markdown",
   "metadata": {},
   "source": [
    "## Conclusion\n",
    "\n",
    "In this project, the phase transition by Allen-Cahn equation was explored. We observed the Allen-Cahn with zero Neumann boundary condition and specific initial condition. The animation of 1D Allen-cahn equation indicates how the phase transition proceed at specific boundary condition and initial condition. The 3D plot of 2D Allen-Cahn equation indicates how the initial condition transfered at two direction with time growing."
   ]
  },
  {
   "cell_type": "markdown",
   "metadata": {},
   "source": [
    "## References\n",
    "\n",
    "* Shen, J. Yang, X. [Numerical approximation of Allen-Cahn and Cahn-Hilliard equations](http://www.math.purdue.edu/~shen/pub/ac_ch.pdf)\n",
    "* Ali, I. Islam, S. Siddique, I. Min-Allah, N. (2011).[Some Efficient Numberical Solutions of Allen-Cahn Equation with Non-periodic Boundary Conditions](http://www.internonlinearscience.org/upload/papers/20110915025019312.pdf)\n",
    "* Barba, L. A. [Crank-Nicolson](https://github.com/numerical-mooc/numerical-mooc/blob/master/lessons/04_spreadout/04_05_Crank-Nicolson.ipynb)\n"
   ]
  },
  {
   "cell_type": "code",
   "execution_count": null,
   "metadata": {
    "collapsed": true
   },
   "outputs": [],
   "source": []
  }
 ],
 "metadata": {
  "kernelspec": {
   "display_name": "Python 3",
   "language": "python",
   "name": "python3"
  },
  "language_info": {
   "codemirror_mode": {
    "name": "ipython",
    "version": 3
   },
   "file_extension": ".py",
   "mimetype": "text/x-python",
   "name": "python",
   "nbconvert_exporter": "python",
   "pygments_lexer": "ipython3",
   "version": "3.4.3"
  }
 },
 "nbformat": 4,
 "nbformat_minor": 0
}
