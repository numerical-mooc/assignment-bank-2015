{
 "cells": [
  {
   "cell_type": "markdown",
   "metadata": {},
   "source": [
    "###### Content under Creative Commons Attriubtion license CC-BY 4.0, code under MIT license (c)2015 Ye Qin."
   ]
  },
  {
   "cell_type": "markdown",
   "metadata": {},
   "source": [
    "# The Fisher-Kolmogorov equation"
   ]
  },
  {
   "cell_type": "markdown",
   "metadata": {},
   "source": [
    "The Fisher-Kolmogorov equation (also known as KPP equation or Fisher's equation) has a form of\n",
    "$$\n",
    "\\frac{\\partial u}{\\partial t}=ru(1-u)+D\\frac{\\partial u^2 }{\\partial x^2}\n",
    "$$\n",
    "It can be used in many fields such as economy, chemistry, and so on."
   ]
  },
  {
   "cell_type": "markdown",
   "metadata": {},
   "source": [
    "## Discretizing our model equation"
   ]
  },
  {
   "cell_type": "markdown",
   "metadata": {},
   "source": [
    "In our model, the Fisher's equation is used to describe the diffusion of an epidemic in a population in a 1-D space. Denote $n(x,t)$ the density of infected individuals, the model is formulated as: \n",
    "$$\n",
    "\\frac{\\partial n}{\\partial t}=r(1-\\frac{n}{K})n+\\chi\\frac{\\partial n^2 }{\\partial x^2}\n",
    "\\tag{1}\n",
    "$$\n",
    "where $t$ is time, $x$ is space, $r$ is rate of growth, $K$ is carrying capacity, and $\\chi$ is diffusivity.\n",
    "Eq. (1) seems complex. We can simplify it by using dimensionless variable. Let $u=\\frac{n} {K}$, $\\tilde{t}=rt$, and $\\tilde{x}=\\sqrt{\\frac{r}{\\chi}}x$. Then, Eq. (1) can be rewritten as \n",
    "$$\n",
    "\\frac{\\partial u}{\\partial \\tilde{t}}=(1-u)u+\\frac{\\partial u^2 }{\\partial \\tilde{x}^2}\n",
    "\\tag{2}\n",
    "$$\n",
    "For convenience, we drop the notation $\\tilde{}$ in the following."
   ]
  },
  {
   "cell_type": "markdown",
   "metadata": {},
   "source": [
    "We establish the discrete system as:\n",
    "$$\n",
    "x_{i} = i\\Delta x \\quad  \\quad t^{n}= n\\Delta t\n",
    "$$\n",
    "$$\n",
    "u_{i}^{n} = u(i\\Delta x, n\\Delta t)\n",
    "$$"
   ]
  },
  {
   "cell_type": "markdown",
   "metadata": {},
   "source": [
    "Choose Patankar scheme for the non-linear term, which means $\\frac{\\partial u}{\\partial t}=u(1-u)$ is approximated as\n",
    "$$\n",
    "\\frac{u_{i}^{n+1}-u_{i}^{n}}{\\Delta t}=u_{i}^{n}(1-u_{i}^{n+1})\n",
    "$$\n",
    "Use forward-difference in time and central-difference in space, the partial differential part is approximated as\n",
    "$$\n",
    "\\frac{u_{i}^{n+1}-u_{i}^{n}}{\\Delta t}=\\frac{u_{i-1}^{n}-2u_{i}^{n}+u_{i+1}^{n}}{\\Delta x^2}\n",
    "$$\n",
    "Combine them, the discrete form of Eq. 2 is\n",
    "$$\n",
    "\\frac{u_{i}^{n+1}-u_{i}^{n}}{\\Delta t}=u_{i}^{n}(1-u_{i}^{n+1})+\\frac{u_{i-1}^{n}-2u_{i}^{n}+u_{i+1}^{n}}{\\Delta x^2}\n",
    "$$\n",
    "Put $u_{i}^{n+1}$ on the left-hand side ofthe equation and put the others on the right-hand side, we get\n",
    "$$\n",
    "u_{i}^{n+1}=(1+\\Delta tu_{i}^{n})(u_{i}^{n}+\\Delta t u_{i}^{n}+\\frac{u_{i-1}^{n}-2u_{i}^{n}+u_{i+1}^{n}}{\\Delta x^2})\n",
    "$$\n",
    "The stability criterion is $\\sigma=\\frac{\\Delta t}{\\Delta x^2}<0.5$."
   ]
  },
  {
   "cell_type": "markdown",
   "metadata": {},
   "source": [
    "## Compute!"
   ]
  },
  {
   "cell_type": "markdown",
   "metadata": {},
   "source": [
    "First, define the initial and boundary conditions. They are defined as\n",
    "\\begin{equation}\n",
    "u(x,0)=\\begin{cases}1 & x=0\\\\\n",
    "0 & 0<x<L\n",
    "\\end{cases}\n",
    "\\end{equation}\n",
    "The length of the space $L$ is 150."
   ]
  },
  {
   "cell_type": "code",
   "execution_count": 1,
   "metadata": {
    "collapsed": true
   },
   "outputs": [],
   "source": [
    "import numpy                       \n",
    "from matplotlib import pyplot                 \n",
    "%matplotlib inline\n",
    "from matplotlib import rcParams\n",
    "\n",
    "rcParams['font.family'] = 'serif'\n",
    "rcParams['font.size'] = 16"
   ]
  },
  {
   "cell_type": "code",
   "execution_count": 2,
   "metadata": {
    "collapsed": true
   },
   "outputs": [],
   "source": [
    "# Parameters\n",
    "\n",
    "L = 150             # Length\n",
    "nx = 1200            # Number of grid points in space\n",
    "dx = L/nx           # Space step\n",
    "T = 56              # Period of time\n",
    "sigma = 0.49        # To meet the stability criterion\n",
    "dt = sigma*dx**2    # Time step\n",
    "\n",
    "x = numpy.linspace(0,L,nx) # Define the space grid"
   ]
  },
  {
   "cell_type": "markdown",
   "metadata": {},
   "source": [
    "Define the initial condition."
   ]
  },
  {
   "cell_type": "code",
   "execution_count": 3,
   "metadata": {
    "collapsed": false
   },
   "outputs": [],
   "source": [
    "def initial():\n",
    "    u = numpy.zeros(nx)\n",
    "    u[0]=1\n",
    "    return u"
   ]
  },
  {
   "cell_type": "code",
   "execution_count": 4,
   "metadata": {
    "collapsed": false
   },
   "outputs": [
    {
     "data": {
      "image/png": "[encoded data removed]",
      "text/plain": [
       "<matplotlib.figure.Figure at 0x7fac15f60dd8>"
      ]
     },
     "metadata": {},
     "output_type": "display_data"
    }
   ],
   "source": [
    "# How does it look like?\n",
    "u = initial()\n",
    "pyplot.figure(figsize=(10,5));\n",
    "pyplot.plot(x, u, color='#003366', ls='-', lw=3)\n",
    "pyplot.ylim(-1,1.5);\n",
    "pyplot.xlim(-10,160);\n",
    "pyplot.xlabel(r't', fontsize=18);\n",
    "pyplot.ylabel(r'u', fontsize=18);"
   ]
  },
  {
   "cell_type": "code",
   "execution_count": null,
   "metadata": {
    "collapsed": false
   },
   "outputs": [],
   "source": [
    "def fisher(T,dt):\n",
    "    \"\"\"\n",
    "    Solve the Fisher's equation\n",
    "    \n",
    "    Parameters\n",
    "    ----------\n",
    "    T : The period of time\n",
    "    \n",
    "    dt : time step\n",
    "    ----------\n",
    "    Produce a plot of the result\n",
    "    \"\"\"\n",
    "    \n",
    "    u = initial()       # Input the initial condition\n",
    "    nt = int(T/dt)      # Number of grid points in time\n",
    "        \n",
    "    for n in range (nt):\n",
    "        un = u.copy()\n",
    "        u[1:-1] = (un[1:-1] + dt*un[1:-1]+dt/dx**2*(un[:-2]-2*un[1:-1]+un[2:]))/(1+dt*un[1:-1])\n",
    "    \n",
    "    # Plot the result\n",
    "    pyplot.figure(figsize=(10,5));\n",
    "    pyplot.plot(x, u, color='#003366', ls='-', lw=3)\n",
    "    pyplot.ylim(-1,1.5);\n",
    "    pyplot.xlim(-10,160);\n",
    "    pyplot.xlabel(r'x', fontsize=18);\n",
    "    pyplot.ylabel(r'u', fontsize=18);\n",
    "    \n",
    "    \n",
    "        "
   ]
  },
  {
   "cell_type": "markdown",
   "metadata": {},
   "source": [
    "Then, we can try some different $T$."
   ]
  },
  {
   "cell_type": "code",
   "execution_count": null,
   "metadata": {
    "collapsed": false
   },
   "outputs": [],
   "source": [
    "fisher(10,dt)"
   ]
  },
  {
   "cell_type": "code",
   "execution_count": null,
   "metadata": {
    "collapsed": false
   },
   "outputs": [],
   "source": [
    "fisher(20,dt)"
   ]
  },
  {
   "cell_type": "code",
   "execution_count": null,
   "metadata": {
    "collapsed": false
   },
   "outputs": [],
   "source": [
    "fisher(30,dt)"
   ]
  },
  {
   "cell_type": "code",
   "execution_count": null,
   "metadata": {
    "collapsed": false
   },
   "outputs": [],
   "source": [
    "fisher(40,dt)"
   ]
  },
  {
   "cell_type": "code",
   "execution_count": null,
   "metadata": {
    "collapsed": false
   },
   "outputs": [],
   "source": [
    "fisher(60,dt)"
   ]
  },
  {
   "cell_type": "markdown",
   "metadata": {},
   "source": [
    "Observe the figures above, we can find that location of the wave is always at around $x=2T$. It seems that the solution is a wave solution and the wave speed is $2$. However, we will talk about this in the next lesson.\n"
   ]
  },
  {
   "cell_type": "markdown",
   "metadata": {},
   "source": [
    "Also, note that the solution on the figure aboves is for the dimensionalized system. When we want to get the solution of the initial variables, we just need to calculate $n(x,t)=Ku(x,t)$, $x=\\tilde{x}\\sqrt{\\frac{\\chi}{r}}$, and $t=\\frac{\\tilde{t}}{r}$."
   ]
  },
  {
   "cell_type": "markdown",
   "metadata": {},
   "source": [
    "### Dig deeper"
   ]
  },
  {
   "cell_type": "markdown",
   "metadata": {},
   "source": [
    "For the non-linear term of the Fisher's equation, we use Patankar scheme and the term is approximated as \n",
    "$$\n",
    "\\frac{u_{i}^{n+1}-u_{i}^{n}}{\\Delta t}=u_{i}^{n}(1-u_{i}^{n+1})\n",
    "$$\n",
    "What would happened if this term is approximated as\n",
    "$$\n",
    "\\frac{u_{i}^{n+1}-u_{i}^{n}}{\\Delta t}=u_{i}^{n}(1-u_{i}^{n})\n",
    "$$"
   ]
  },
  {
   "cell_type": "markdown",
   "metadata": {},
   "source": [
    "## References:"
   ]
  },
  {
   "cell_type": "markdown",
   "metadata": {},
   "source": [
    "+ Fisher's Equation, Wikipidia, https://en.wikipedia.org/wiki/Fisher%27s_equation\n",
    "+ Schumacher, Eva.  \"Ordinary and Fractional Diffusion in Simple Biological Models.\" https://www.uclouvain.be/cps/ucl/doc/commission-map/documents/Schumacher_TFE.pdf\n"
   ]
  }
 ],
 "metadata": {
  "kernelspec": {
   "display_name": "Python 3",
   "language": "python",
   "name": "python3"
  },
  "language_info": {
   "codemirror_mode": {
    "name": "ipython",
    "version": 3
   },
   "file_extension": ".py",
   "mimetype": "text/x-python",
   "name": "python",
   "nbconvert_exporter": "python",
   "pygments_lexer": "ipython3",
   "version": "3.4.3"
  }
 },
 "nbformat": 4,
 "nbformat_minor": 0
}
