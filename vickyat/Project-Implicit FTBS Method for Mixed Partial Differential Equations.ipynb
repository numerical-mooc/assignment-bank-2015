{
 "cells": [
  {
   "cell_type": "markdown",
   "metadata": {},
   "source": [
    "# Implicit FTBS Method to Solve PDE's with Mixed Differentials"
   ]
  },
  {
   "cell_type": "markdown",
   "metadata": {},
   "source": [
    " "
   ]
  },
  {
   "cell_type": "markdown",
   "metadata": {},
   "source": [
    "In this notebook, you will learn the method used for numerically solving a mixed partial differential equation. An example of a mixed PDE looks like:"
   ]
  },
  {
   "cell_type": "markdown",
   "metadata": {},
   "source": [
    "$$\\frac{\\partial ^{2}}{\\partial x \\partial y}$$"
   ]
  },
  {
   "cell_type": "markdown",
   "metadata": {},
   "source": [
    "For this lesson, we will apply what we have learned to a conveyor belt equation. This equation describes the movement of a belt and is used to study the vibrations that arise. The belt vibrations can be classified into two categories: string (or wave)-like and beam-like. Here, we will assume that the belt is string-like. The equation to describe the movement of a string-like belt is:"
   ]
  },
  {
   "cell_type": "markdown",
   "metadata": {},
   "source": [
    "$$\\frac{\\partial ^{2 } u}{\\partial t^{2}}+2V\\frac{\\partial ^{2}u}{\\partial t\\partial x}+\\left ( V^{2} -c^{2}\\right )\\frac{\\partial ^{2}u}{\\partial x^{2}}=0$$"
   ]
  },
  {
   "cell_type": "markdown",
   "metadata": {},
   "source": [
    "$V$ is the time-varying speed of the conveyor belt and $c$ is the wave speed. In this case, we can assume $V$ is constant, or it does not vary with time. We can also assume that $c$ is constant."
   ]
  },
  {
   "cell_type": "markdown",
   "metadata": {},
   "source": [
    "# Discretization"
   ]
  },
  {
   "cell_type": "markdown",
   "metadata": {},
   "source": [
    " "
   ]
  },
  {
   "cell_type": "markdown",
   "metadata": {},
   "source": [
    "Any kind of discretization can be used for this problem. Here we will discretize forwards in time and backwards in space (FTBS).\n",
    "\n",
    "We can begin by discretizing the $\\frac {\\partial^{2}u}{\\partial t^{2}}$ and $\\frac {\\partial^{2}u}{\\partial x^{2}}$ terms using Euler's method just as we always have:"
   ]
  },
  {
   "cell_type": "markdown",
   "metadata": {},
   "source": [
    "$$\\frac {\\partial_{2}u}{\\partial t^{2}} = \\frac{u_{i}^{n+1}-u_{i}^{n}}{\\Delta t^{2}}$$\n",
    "\n",
    "$$\\frac {\\partial_{2}u}{\\partial x^{2}} = \\frac{u_{i}^{n}-u_{i-1}^{n}}{\\Delta x^{2}}$$"
   ]
  },
  {
   "cell_type": "markdown",
   "metadata": {},
   "source": [
    "Now, we can move on to discretizing the mixed partial. First we will start by discretizing forward in time."
   ]
  },
  {
   "cell_type": "markdown",
   "metadata": {},
   "source": [
    "$$\\frac {\\partial u}{\\partial t} = \\frac{u_{i}^{n+1}-u_{i}^{n}}{\\Delta t}$$\n",
    "\n",
    "We can also rewrite the above equation as:\n",
    "\n",
    "$$\\frac {\\partial u}{\\partial t} = \\frac{u_{i}^{n+1}}{\\Delta t}-\\frac{u_{i}^{n}}{\\Delta t}$$"
   ]
  },
  {
   "cell_type": "markdown",
   "metadata": {},
   "source": [
    "Next, we will discretize backwards in space for **each** time step. This can be confusing depending on the discretization method, so make sure to keep track of your $n$ and $i$ values. Notice that in one set, the time step $n+1$ stays the same while the space steps, $i$, change; the same is true for the other time step at $n$.\n",
    "\n",
    "$$\\frac{\\partial^{2} u}{\\partial t \\partial x} = \\frac{u_{i}^{n+1} - u_{i-1}^{n+1}}{\\Delta t \\Delta x} - \\frac{u_{i}^{n} - u_{i-1}^{n}}{\\Delta t \\Delta x}$$ \n",
    "\n",
    "or\n",
    "\n",
    "$$\\frac{\\partial^{2} u}{\\partial t \\partial x} = \\frac{u_{i}^{n+1} - u_{i-1}^{n+1} - u_{i}^{n} + u_{i-1}^{n}}{\\Delta t \\Delta x}$$\n",
    " \n",
    "\n",
    "We can also switch the discretization order and we should get the same thing. Let's check: \n",
    "\n",
    "$$\\frac{\\partial^{2} u}{\\partial x \\partial t} = \\frac{u_{i}^{n+1} - u_{i}^{n} - u_{i-1}^{n+1} + u_{i-1}^{n}}{\\Delta x \\Delta t}$$\n",
    "\n",
    "This is good, we get the same answer! Switching the order of partials should not make a difference, and in mathematics this theorem is called the equality of mixed partials.\n",
    "\n",
    "This is the final form for the discretization of a second order mixed partial! Discretization can continually be applied for more mixed partials with higher orders."
   ]
  },
  {
   "cell_type": "markdown",
   "metadata": {},
   "source": [
    "# Implicit Method"
   ]
  },
  {
   "cell_type": "markdown",
   "metadata": {},
   "source": [
    "Now that we have a discretization for each term, we can plug it all into our conveyor belt equation:\n",
    "\n",
    "$$\\frac{u_{i}^{n+1}-u_{i}^{n}}{\\Delta t^{2}} + 2V(\\frac{u_{i}^{n+1} - u_{i-1}^{n+1} - u_{i}^{n} + u_{i-1}^{n}}{\\Delta t \\Delta x}) + (V^{2} -c^{2}) \\frac{u_{i}^{n}-u_{i-1}^{n}}{\\Delta x^{2}} = 0 $$\n",
    "\n",
    "Next, we'll move the knowns to the RHS and unknowns to the LHS:"
   ]
  },
  {
   "cell_type": "markdown",
   "metadata": {},
   "source": [
    "\n",
    "$$-u_{i-1}^{n+1}\\frac{2V}{\\Delta t\\Delta x} + u_{i}^{n+1}\\left ( \\frac{1}{\\Delta t^{2}} + \\frac{2V}{\\Delta t\\Delta x} \\right )=\n",
    "u_{i}^{n}(\\frac{1}{\\Delta t ^{2}} + \\frac{2V}{\\Delta t \\Delta x} + \\frac{V^{2}-c^{2}}{\\Delta x^{2}}) - u_{i-1}^{n}(\\frac{2V}{\\Delta t \\Delta x} + \\frac{V^{2}-c^{2}}{\\Delta x^{2}})$$"
   ]
  },
  {
   "cell_type": "markdown",
   "metadata": {},
   "source": [
    "Here we have two space terms that are at time step n+1. This indicates that we will need to use an implicit method to solve for the displacement of the conveyor belt, $u$!\n",
    "\n",
    "This looks similar to what was done when we were first introduced to the implicit method, but now there are fewer n+1 terms. This is due to the fact that here we used forward time and backwards space, whereas previously we used forward time and centered space."
   ]
  },
  {
   "cell_type": "markdown",
   "metadata": {},
   "source": [
    "We can solve for a linear system using $[A][x] = [b]+[b_{BC}]$, where the LHS corresponds to $[A][x]$ and the RHS corresponds to $[b]+[b_{BC}]$. We can plug in values of $i$ to get an idea of what our matrices will look like. Remember to move knowns to the RHS and unknowns to the LHS."
   ]
  },
  {
   "cell_type": "markdown",
   "metadata": {},
   "source": [
    "$i=1$:\n",
    "\n",
    "$$u_{1}^{n+1}\\left ( \\frac{1}{\\Delta t^{2}}+\\frac{2V}{\\Delta t\\Delta x} \\right )=\n",
    "u_{1}^{n}(\\frac{1}{\\Delta t ^{2}} + \\frac{2V}{\\Delta t \\Delta x} + \\frac{V^{2}-c^{2}}{\\Delta x^{2}}) - u_{0}^{n}(\\frac{2V}{\\Delta t \\Delta x} + \\frac{V^{2}-c^{2}}{\\Delta x^{2}})+u_{0}^{n+1}\\frac{2V}{\\Delta t\\Delta x}$$\n",
    "\n",
    "$i=2$:\n",
    "\n",
    "$$-u_{1}^{n+1}\\frac{2V}{\\Delta t\\Delta x}+u_{2}^{n+1}\\left ( \\frac{1}{\\Delta t^{2}}+\\frac{2V}{\\Delta t\\Delta x} \\right )=\n",
    "u_{2}^{n}(\\frac{1}{\\Delta t ^{2}} + \\frac{2V}{\\Delta t \\Delta x} + \\frac{V^{2}-c^{2}}{\\Delta x^{2}}) - u_{1}^{n}(\\frac{2V}{\\Delta t \\Delta x} + \\frac{V^{2}-c^{2}}{\\Delta x^{2}})$$\n",
    "\n",
    "$i=3$:\n",
    "\n",
    "$$-u_{2}^{n+1}\\frac{2V}{\\Delta t\\Delta x}+u_{3}^{n+1}\\left ( \\frac{1}{\\Delta t^{2}}+\\frac{2V}{\\Delta t\\Delta x} \\right )=\n",
    "u_{3}^{n}(\\frac{1}{\\Delta t ^{2}} + \\frac{2V}{\\Delta t \\Delta x} + \\frac{V^{2}-c^{2}}{\\Delta x^{2}}) - u_{2}^{n}(\\frac{2V}{\\Delta t \\Delta x} + \\frac{V^{2}-c^{2}}{\\Delta x^{2}})$$"
   ]
  },
  {
   "cell_type": "markdown",
   "metadata": {},
   "source": [
    "On the LHS we see that the matrix should have terms occupying the center diagonal and the lower diagonal. On the RHS we see that we have a difference between two $u$ terms."
   ]
  },
  {
   "cell_type": "markdown",
   "metadata": {},
   "source": [
    "# Boundary Conditions"
   ]
  },
  {
   "cell_type": "markdown",
   "metadata": {},
   "source": [
    "We need to also account for the boundary conditions (BC). Let's set our BC so that at x = 0, L we have u = 0. We can also set our initial conditions (IC). We need two since our time variable is second order. Let's set them so that the initial displacement is 1 inch, and the initial velocity is 0.\n",
    "\n",
    "Our BC give us:\n",
    "\n",
    "$u_{0} =0$ for any time step\n",
    "\n",
    "$u_{N} =0$ for any time step\n",
    "\n",
    "and our IC give us:\n",
    "\n",
    "$u_{i}^{0} = 1$ \n",
    "\n",
    "$u_{i}^{0} = u_{i}^{1}$\n",
    "\n",
    "\n",
    "Since we have two Dirichlet BC, they will only appear on the RHS of our matrices. For our IC, we can simply set them up when initializing the $u$ array."
   ]
  },
  {
   "cell_type": "markdown",
   "metadata": {},
   "source": [
    "Now that we have our BC, we can apply them to the iterations that we did above to see what our equation looks like at $i = 1$ and $i = N$.\n",
    "\n",
    "$i = 1$:\n",
    "\n",
    "$$u_{1}^{n+1}\\left ( \\frac{1}{\\Delta t^{2}}+\\frac{2V}{\\Delta t\\Delta x} \\right )=\n",
    "u_{1}^{n}(\\frac{1}{\\Delta t ^{2}} + \\frac{2V}{\\Delta t \\Delta x} + \\frac{V^{2}-c^{2}}{\\Delta x^{2}}) - u_{0}^{n}(\\frac{2V}{\\Delta t \\Delta x} + \\frac{V^{2}-c^{2}}{\\Delta x^{2}})+u_{0}^{n+1}\\frac{2V}{\\Delta t\\Delta x}$$\n",
    "\n",
    "Apply $u_{0} = 0$ at all time steps\n",
    "\n",
    "$$u_{1}^{n+1}\\left ( \\frac{1}{\\Delta t^{2}}+\\frac{2V}{\\Delta t\\Delta x} \\right )=\n",
    "u_{1}^{n}(\\frac{1}{\\Delta t ^{2}} + \\frac{2V}{\\Delta t \\Delta x} + \\frac{V^{2}-c^{2}}{\\Delta x^{2}})$$\n",
    "\n",
    "$i = N$:\n",
    "\n",
    "$$-u_{N-1}^{n+1}\\frac{2V}{\\Delta t\\Delta x} + u_{N}^{n+1}\\left ( \\frac{1}{\\Delta t^{2}} + \\frac{2V}{\\Delta t\\Delta x} \\right )=\n",
    "u_{N}^{n}(\\frac{1}{\\Delta t ^{2}} + \\frac{2V}{\\Delta t \\Delta x} + \\frac{V^{2}-c^{2}}{\\Delta x^{2}}) - u_{N-1}^{n}(\\frac{2V}{\\Delta t \\Delta x} + \\frac{V^{2}-c^{2}}{\\Delta x^{2}})$$\n",
    "\n",
    "Apply $u_{N} = 0$ at all time steps\n",
    "\n",
    "$$u_{N-1}^{n+1}\\frac{2V}{\\Delta t\\Delta x} = u_{N-1}^{n}(\\frac{2V}{\\Delta t \\Delta x} + \\frac{V^{2}-c^{2}}{\\Delta x^{2}})$$"
   ]
  },
  {
   "cell_type": "markdown",
   "metadata": {},
   "source": [
    "Now let's set up our matrices using the format $[A][x] = [b]+[b_{BC}]$. \n",
    "\n",
    "$$\\left[ \\begin{array}{cccccc}\n",
    " (\\frac{1}{\\Delta t^{2}} + \\frac {2V}{\\Delta t \\Delta x}) & 0 & 0 & \\cdots & & 0 \\\\\n",
    " -\\frac {2V}{\\Delta t \\Delta x} & (\\frac{1}{\\Delta t^{2}} + \\frac {2V}{\\Delta t \\Delta x}) & 0 & 0 & \\cdots & 0 \\\\\n",
    " 0 & & \\ddots& & & \\vdots \\\\\n",
    " \\vdots & & & -\\frac {2V}{\\Delta t \\Delta x} & (\\frac{1}{\\Delta t^{2}} + \\frac {2V}{\\Delta t \\Delta x}) & 0 \\\\\n",
    " 0 & \\cdots & & & -\\frac {2V}{\\Delta t \\Delta x} & (\\frac{1}{\\Delta t^{2}} + \\frac {2V}{\\Delta t \\Delta x}) \\end{array} \\right]\n",
    "  \\cdot \n",
    " \\left[ \\begin{array}{c} \n",
    " u_1^{n+1} \\\\ u_2^{n+1} \\\\ \\vdots \\\\ \\\\ u_{N}^{n+1} \\end{array} \\right]\n",
    " =\n",
    " \\left[ \\begin{array}{c} \n",
    "u_1^{n} (\\frac{1}{\\Delta t ^{2}} + \\frac{2V}{\\Delta t \\Delta x} + \\frac{V^{2}-c^{2}}{\\Delta x^{2}}) \\\\ u_2^{n} (\\frac{1}{\\Delta t ^{2}} + \\frac{2V}{\\Delta t \\Delta x} + \\frac{V^{2}-c^{2}}{\\Delta x^{2}}) - u_1^{n} (\\frac{2V}{\\Delta t \\Delta x} + \\frac{V^{2}-c^{2}}{\\Delta x^{2}}) \\\\ \\vdots \\\\ \\\\ u_{N}^{n}(\\frac{1}{\\Delta t ^{2}} + \\frac{2V}{\\Delta t \\Delta x} + \\frac{V^{2}-c^{2}}{\\Delta x^{2}}) - u_{N-1}^{n}(\\frac{2V}{\\Delta t \\Delta x} + \\frac{V^{2}-c^{2}}{\\Delta x^{2}}) \\end{array} \\right]\n",
    " +\n",
    " \\left [ \\begin{array}{c}\n",
    " u_0^{n+1}\\\\ 0\\\\ \\vdots\\\\ 0\\\\ 0 \\end{array} \\right]$$\n",
    " "
   ]
  },
  {
   "cell_type": "markdown",
   "metadata": {},
   "source": [
    "For ease, lets give our constant terms a variable and apply our BC.\n",
    "\n",
    "$$\\frac {2V}{\\Delta t \\Delta x} = e$$\n",
    "\n",
    "$$(\\frac{1}{\\Delta t^{2}} + \\frac {2V}{\\Delta t \\Delta x}) = f$$\n",
    "\n",
    "$$(\\frac{1}{\\Delta t ^{2}} + \\frac{2V}{\\Delta t \\Delta x} + \\frac{V^{2}-c^{2}}{\\Delta x^{2}}) = g$$\n",
    "\n",
    "$$(\\frac{2V}{\\Delta t \\Delta x} + \\frac{V^{2}-c^{2}}{\\Delta x^{2}}) = h$$\n",
    "\n",
    "Now our matrices are not so scary!\n",
    "\n",
    "$$\\left[ \\begin{array}{cccccc}\n",
    " f & 0 & 0 & \\cdots & & 0 \\\\\n",
    " -e & f & 0 & 0 & \\cdots & 0 \\\\\n",
    " 0 & & \\ddots& & & \\vdots \\\\\n",
    " \\vdots & & & -e & f & 0 \\\\\n",
    " 0 & \\cdots & & & -e & f \\end{array} \\right]\n",
    "  \\cdot \n",
    " \\left[ \\begin{array}{c} \n",
    " u_1^{n+1} \\\\ u_2^{n+1} \\\\ \\vdots \\\\ \\\\ u_{N}^{n+1} \\end{array} \\right]\n",
    " =\n",
    " \\left[ \\begin{array}{c} \n",
    "u_1^{n} g \\\\ u_2^{n} g - u_1^{n} h \\\\ \\vdots \\\\ \\\\ - u_{N-1}^{n}h \\end{array} \\right]\n",
    " +\n",
    " \\left [ \\begin{array}{c}\n",
    " 0\\\\ 0\\\\ \\vdots\\\\ 0\\\\ 0 \\end{array} \\right]$$\n",
    " \n",
    "Now, you can choose to write your code by setting up your constants, e, f, g, and h, but I will continue writing out the whole thing just so that its very clear!"
   ]
  },
  {
   "cell_type": "markdown",
   "metadata": {},
   "source": [
    "# Coding Time"
   ]
  },
  {
   "cell_type": "markdown",
   "metadata": {},
   "source": [
    "Let's assume in this problem that V = 0.5 m/s, c = 0.05 m/s, and the total belt length to be L = 1 m. Now we can load our libraries and set up our initial conditions. Note that we are importing a linear solver that will be used to find the matrix A."
   ]
  },
  {
   "cell_type": "code",
   "execution_count": 414,
   "metadata": {
    "collapsed": true
   },
   "outputs": [],
   "source": [
    "import numpy\n",
    "from matplotlib import pyplot\n",
    "%matplotlib inline\n",
    "from matplotlib import rcParams\n",
    "rcParams['font.family'] = 'serif'\n",
    "rcParams['font.size'] = 16\n",
    "from scipy.linalg import solve"
   ]
  },
  {
   "cell_type": "code",
   "execution_count": 447,
   "metadata": {
    "collapsed": false
   },
   "outputs": [],
   "source": [
    "L = 1.    #length of belt in [m]\n",
    "V = 0.5    # time-varying belt speed, constant in this case, [m/s]\n",
    "c = .05   #wave speed, [m/s]\n",
    "\n",
    "nx = 51.    #number of space steps\n",
    "\n",
    "dx = L/(nx-1)    #length of space step\n",
    "dt = 0.0001    #lengt of time step\n",
    "\n",
    "ui = numpy.ones(nx)    #intial u vector\n",
    "ui[0] = 0    #BC at x = 0\n",
    "ui[-1]= 0    #BC at x = L"
   ]
  },
  {
   "cell_type": "markdown",
   "metadata": {},
   "source": [
    "Next, we can create functions to generate our $A$ and $b$ matrices."
   ]
  },
  {
   "cell_type": "code",
   "execution_count": 416,
   "metadata": {
    "collapsed": true
   },
   "outputs": [],
   "source": [
    "def generateMatrix(nx, dt, dx, V):\n",
    "    \"\"\" Computes the matrix, A, for the conveyor belt equation with Dirichlet BC at x = 0, L\n",
    "    \n",
    "    \n",
    "    Parameters:\n",
    "    ----------\n",
    "    nx: int\n",
    "        number of space steps\n",
    "    dt: float\n",
    "        length of time step\n",
    "    dx: float\n",
    "        length of space step\n",
    "    V: float\n",
    "        time-varying speed of belt\n",
    "    \n",
    "    Returns:\n",
    "    -------\n",
    "    A: 2D numpy array of float\n",
    "        Matrix for conveyor belt equation\n",
    "    \"\"\"\n",
    "   \n",
    "    # Setup the diagonal\n",
    "    d = numpy.diag(numpy.ones(nx-1)*(1./dt**2 + 2*V/(dt*dx)))\n",
    "    \n",
    "    # Setup lower diagonal\n",
    "    ld = numpy.diag(numpy.ones(nx-2)*-2*V/(dt*dx), -1)\n",
    "    \n",
    "    A = d  + ld\n",
    "    \n",
    "    return A"
   ]
  },
  {
   "cell_type": "code",
   "execution_count": 417,
   "metadata": {
    "collapsed": true
   },
   "outputs": [],
   "source": [
    "def generateRHS(u, dt, dx, V, c):\n",
    "    \"\"\" Computes right-hand side of linear system for diffusion equation\n",
    "        with backward Euler\n",
    "    \n",
    "    Parameters:\n",
    "    ----------\n",
    "    u: array of float\n",
    "        Displacement at current time step\n",
    "    dt: float\n",
    "        length of time step\n",
    "    dx: float\n",
    "        length of space step\n",
    "    V: float\n",
    "        time-carying belt speed\n",
    "    c: float\n",
    "        wave speed\n",
    "    \n",
    "    Returns:\n",
    "    -------\n",
    "    b: array of float\n",
    "        Right-hand side of conveyor belt equation\n",
    "    \"\"\"\n",
    "    b = numpy.zeros_like(u)\n",
    "    \n",
    "    b = (u[1:]*(1./dt**2 + 2*V/(dt*dx) + (V**2 - c**2)/dx**2)) - (u[0:-1]*(2*V/(dx*dt) + (V**2 - c**2)/dx**2))\n",
    "\n",
    "    # Dirichlet BC\n",
    "    b[0] += u[0]\n",
    "    b[-1] += u[-1]\n",
    "    \n",
    "    return b"
   ]
  },
  {
   "cell_type": "markdown",
   "metadata": {},
   "source": [
    "Finally, we can implement an implicit forward time, backward space discretization to find our displacement after nt time steps."
   ]
  },
  {
   "cell_type": "code",
   "execution_count": 439,
   "metadata": {
    "collapsed": false
   },
   "outputs": [],
   "source": [
    "def implicit_ftbs(u, A, nt, dt, dx, V, c):\n",
    "    \"\"\" Advances diffusion equation in time with implicit central scheme\n",
    "   \n",
    "    Parameters:\n",
    "    ----------\n",
    "    u: array of float\n",
    "        initial displacement\n",
    "    A: 2D array of float\n",
    "        Matrix with discretized conveyor belt equation\n",
    "    nt: int\n",
    "        number of time steps\n",
    "    dt: float\n",
    "        length of time step\n",
    "    dx: float\n",
    "        length of space step\n",
    "    V:  float\n",
    "        time-varying belt speed\n",
    "    c:  float\n",
    "        wave speed\n",
    "   \n",
    "    Returns:\n",
    "    -------\n",
    "    u: array of floats\n",
    "        displacement after nt time steps\n",
    "    \"\"\"\n",
    "    \n",
    "    for t in range(1,nt):    #set range starting from 1 since IC states that at timestep 0 and 1, u is the same for each space step \n",
    "        un = u.copy()\n",
    "        b = generateRHS(un, dt, dx, V, c)\n",
    "        # Use numpy.linalg.solve\n",
    "        u_interior = solve(A,b)\n",
    "        u[1:] = u_interior\n",
    "\n",
    "    return u"
   ]
  },
  {
   "cell_type": "markdown",
   "metadata": {},
   "source": [
    "Now we can set our number of time steps and generate our $A$ matrix!"
   ]
  },
  {
   "cell_type": "code",
   "execution_count": 440,
   "metadata": {
    "collapsed": false
   },
   "outputs": [
    {
     "name": "stdout",
     "output_type": "stream",
     "text": [
      "[[  1.00500000e+08   0.00000000e+00   0.00000000e+00 ...,   0.00000000e+00\n",
      "    0.00000000e+00   0.00000000e+00]\n",
      " [ -5.00000000e+05   1.00500000e+08   0.00000000e+00 ...,   0.00000000e+00\n",
      "    0.00000000e+00   0.00000000e+00]\n",
      " [  0.00000000e+00  -5.00000000e+05   1.00500000e+08 ...,   0.00000000e+00\n",
      "    0.00000000e+00   0.00000000e+00]\n",
      " ..., \n",
      " [  0.00000000e+00   0.00000000e+00   0.00000000e+00 ...,   1.00500000e+08\n",
      "    0.00000000e+00   0.00000000e+00]\n",
      " [  0.00000000e+00   0.00000000e+00   0.00000000e+00 ...,  -5.00000000e+05\n",
      "    1.00500000e+08   0.00000000e+00]\n",
      " [  0.00000000e+00   0.00000000e+00   0.00000000e+00 ...,   0.00000000e+00\n",
      "   -5.00000000e+05   1.00500000e+08]]\n"
     ]
    }
   ],
   "source": [
    "nt = 1000\n",
    "A = generateMatrix(nx, dt, dx, V)\n",
    "print(A)"
   ]
  },
  {
   "cell_type": "code",
   "execution_count": 441,
   "metadata": {
    "collapsed": false
   },
   "outputs": [],
   "source": [
    "u = implicit_ftbs(ui.copy(), A, nt, dt, dx, V, c)"
   ]
  },
  {
   "cell_type": "markdown",
   "metadata": {},
   "source": [
    "Now let's plot our displacement along the length of the belt."
   ]
  },
  {
   "cell_type": "code",
   "execution_count": 446,
   "metadata": {
    "collapsed": false
   },
   "outputs": [
    {
     "data": {
      "image/png": "[encoded data removed]",
      "text/plain": [
       "<matplotlib.figure.Figure at 0x7f26a0807e10>"
      ]
     },
     "metadata": {},
     "output_type": "display_data"
    }
   ],
   "source": [
    "pyplot.plot(numpy.linspace(0,5,nx), u, color ='#874639', lw = 3)\n",
    "pyplot.xlabel('Position along belt')\n",
    "pyplot.ylabel('Displacement of belt');"
   ]
  },
  {
   "cell_type": "markdown",
   "metadata": {},
   "source": [
    "We can see here that there is a slight overshoot at the beginning of the belt due to the initial displacement, but it quickly dampens out and remains at a constant displacement until the end of the belt, where it undershoots slightly.\n",
    "\n",
    "You can also try different BC to see how the speed of the belt, the wave speed, and the length of the belt affect the intensity of the overshoot! You might find that the longer the belt, the less effect the IC seems to have downstream, and the faster the belt speed, the smaller the overshoot."
   ]
  },
  {
   "cell_type": "markdown",
   "metadata": {},
   "source": [
    "# Summary"
   ]
  },
  {
   "cell_type": "markdown",
   "metadata": {},
   "source": [
    "Hopefully from this lesson you have learned or solidified your understanding of:\n",
    "\n",
    " - How to discretize a mixed partial differential\n",
    " - How and when to implement an implicit scheme\n",
    " - How to create the matrices needed to solve an implicit scheme\n",
    " \n",
    "You can practice further by changing the discretization method to forward time and central space (or any other scheme), or by finding another equation with mixed partials and applying an implicit discretization as we did above!"
   ]
  },
  {
   "cell_type": "markdown",
   "metadata": {},
   "source": [
    "# References"
   ]
  },
  {
   "cell_type": "markdown",
   "metadata": {},
   "source": [
    "[1]Suweken, G., van Horssen, W.T., \"On the Transversal Vibrations of a Conveyor Belt with a Low and Time-Varying Velocity,\" http://ta.twi.tudelft.nl/TWA_Reports/01/01-14new.pdf.\n",
    "\n",
    "[2]Physics Forums, https://www.physicsforums.com/threads/very-difficult-partial-differential-equation.190777/.\n",
    "\n",
    "[3]Eberly, David, Geometric Tools, LLC, \"Derivative Approximation by Finite Difference,\" http://www.geometrictools.com/Documentation/FiniteDifferences.pdf."
   ]
  }
 ],
 "metadata": {
  "kernelspec": {
   "display_name": "Python 3",
   "language": "python",
   "name": "python3"
  },
  "language_info": {
   "codemirror_mode": {
    "name": "ipython",
    "version": 3
   },
   "file_extension": ".py",
   "mimetype": "text/x-python",
   "name": "python",
   "nbconvert_exporter": "python",
   "pygments_lexer": "ipython3",
   "version": "3.4.3"
  }
 },
 "nbformat": 4,
 "nbformat_minor": 0
}
