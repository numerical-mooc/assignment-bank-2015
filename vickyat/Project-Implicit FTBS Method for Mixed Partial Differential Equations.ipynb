{
 "cells": [
  {
   "cell_type": "markdown",
   "metadata": {},
   "source": [
    "# Implicit FTBS Method to Solve PDE's with Mixed Differentials"
   ]
  },
  {
   "cell_type": "markdown",
   "metadata": {},
   "source": [
    " "
   ]
  },
  {
   "cell_type": "markdown",
   "metadata": {},
   "source": [
    " "
   ]
  },
  {
   "cell_type": "markdown",
   "metadata": {},
   "source": [
    " "
   ]
  },
  {
   "cell_type": "markdown",
   "metadata": {},
   "source": [
    "In this notebook, you will learn the method used for numerically solving a mixed partial differential equation. An example of a mixed PDE looks like:"
   ]
  },
  {
   "cell_type": "markdown",
   "metadata": {},
   "source": [
    "$$\\frac{\\partial ^{2}}{\\partial x \\partial y}$$"
   ]
  },
  {
   "cell_type": "markdown",
   "metadata": {},
   "source": [
    "For this lesson, we will apply what we learn to a conveyor motion equation. As its name suggests, this equation describes the movement of a conveyor belt."
   ]
  },
  {
   "cell_type": "markdown",
   "metadata": {},
   "source": [
    "$$\\frac{\\partial ^{2 } u}{\\partial t^{2}}+2V\\frac{\\partial ^{2}u}{\\partial t\\partial x}+\\left ( V^{2} -c^{2}\\right )\\frac{\\partial ^{2}u}{\\partial x^{2}}=0$$"
   ]
  },
  {
   "cell_type": "markdown",
   "metadata": {},
   "source": [
    "In this equation, we have two other values, which we will assume are constants. $V$ is the speed of  the conveyor belt and $c$ is ___."
   ]
  },
  {
   "cell_type": "markdown",
   "metadata": {},
   "source": [
    "# Discretization"
   ]
  },
  {
   "cell_type": "markdown",
   "metadata": {},
   "source": [
    " "
   ]
  },
  {
   "cell_type": "markdown",
   "metadata": {},
   "source": [
    "Any kind of discretization can be used for this problem. Here we will discretize forwards in time and backwards in space (FTBS).\n",
    "\n",
    "We can begin by discretizing the $\\frac {\\partial^{2}u}{\\partial t^{2}}$ and $\\frac {\\partial^{2}u}{\\partial x^{2}}$ terms using Euler's method just as we always have:"
   ]
  },
  {
   "cell_type": "markdown",
   "metadata": {},
   "source": [
    "$$\\frac {\\partial_{2}u}{\\partial t^{2}} = \\frac{u_{i}^{n+1}-u_{i}^{n}}{\\Delta t^{2}}$$\n",
    "\n",
    "$$\\frac {\\partial_{2}u}{\\partial x^{2}} = \\frac{u_{i}^{n}-u_{i-1}^{n}}{\\Delta x^{2}}$$"
   ]
  },
  {
   "cell_type": "markdown",
   "metadata": {},
   "source": [
    "Now, we can move on to discretizing the mixed partial. First we will start by discretizing forward in time."
   ]
  },
  {
   "cell_type": "markdown",
   "metadata": {},
   "source": [
    "$$\\frac {\\partial u}{\\partial t} = \\frac{u_{i}^{n+1}-u_{i}^{n}}{\\Delta t}$$\n",
    "\n",
    "We can also rewrite the above equation as:\n",
    "\n",
    "$$\\frac {\\partial u}{\\partial t} = \\frac{u_{i}^{n+1}}{\\Delta t}-\\frac{u_{i}^{n}}{\\Delta t}$$"
   ]
  },
  {
   "cell_type": "markdown",
   "metadata": {},
   "source": [
    "Next, we will discretize backwards in space for **each** time step. This can be confusing depending on the discretization method, so make sure to keep track of your $n$ and $i$ values."
   ]
  },
  {
   "cell_type": "markdown",
   "metadata": {},
   "source": [
    "$$\\frac{\\partial^2 u}{\\partial t \\partial x} = \\frac{u_{i}^{n+1} - u_{i-1}^{n+1}}{\\Delta t \\Delta x} - \\frac{u_{i}^{n} - u_{i-1}^{n}}{\\Delta t \\Delta x}$$"
   ]
  },
  {
   "cell_type": "markdown",
   "metadata": {},
   "source": [
    "Notice that in one set, the time step $n+1$ stays the same while the space steps, $i$, change; the same is true for the other time step at $n$.\n",
    "\n",
    "This is the final form for the discretization of a second order mixed partial! Discretization can continually be applied for more mixed partials with higher orders."
   ]
  },
  {
   "cell_type": "markdown",
   "metadata": {},
   "source": [
    "Now that we have a discretization for each term, we can plug it all into our conveyor motion equation:"
   ]
  },
  {
   "cell_type": "markdown",
   "metadata": {},
   "source": [
    "$$\\frac{u_{i}^{n+1}-u_{i}^{n}}{\\Delta t^{2}} + 2V(\\frac{u_{i}^{n+1} - u_{i-1}^{n+1}}{\\Delta t \\Delta x} - \\frac{u_{i}^{n} - u_{i-1}^{n}}{\\Delta t \\Delta x}) + (V^{2} -c^{2}) \\frac{u_{i}^{n}-u_{i-1}^{n}}{\\Delta x^{2}} = 0 $$"
   ]
  },
  {
   "cell_type": "markdown",
   "metadata": {},
   "source": [
    "# Implicit Method"
   ]
  },
  {
   "cell_type": "markdown",
   "metadata": {},
   "source": [
    "After FTBS discretization and following the steps outlined in lesson 4.2 by moving the knowns to RHS and unknows to LHS:"
   ]
  },
  {
   "cell_type": "markdown",
   "metadata": {},
   "source": [
    "\n",
    "$$u_{i}^{n+1}\\left ( \\frac{1}{\\Delta t^{2}}+\\frac{2V}{\\Delta t\\Delta x} \\right )-\\frac{2V}{\\Delta t\\Delta x}u_{i-1}^{n+1}=\\frac{u_{i}^{n}}{\\Delta t^{2}}-\\frac{2V}{\\Delta t\\Delta x}\\left ( -u_{i}^{n}+u_{i-1}^{n} \\right )+\\left ( V^{2}-c^{2} \\right )\\frac{u_{i}^{n}-u_{i-1}^{n}}{\\Delta x^{2}}$$"
   ]
  },
  {
   "cell_type": "markdown",
   "metadata": {},
   "source": [
    "Looks similar to what was done in previous lessons, but now there are only terms for the "
   ]
  }
 ],
 "metadata": {
  "kernelspec": {
   "display_name": "Python 3",
   "language": "python",
   "name": "python3"
  },
  "language_info": {
   "codemirror_mode": {
    "name": "ipython",
    "version": 3
   },
   "file_extension": ".py",
   "mimetype": "text/x-python",
   "name": "python",
   "nbconvert_exporter": "python",
   "pygments_lexer": "ipython3",
   "version": "3.4.3"
  }
 },
 "nbformat": 4,
 "nbformat_minor": 0
}
