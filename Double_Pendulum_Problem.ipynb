{
 "cells": [
  {
   "cell_type": "markdown",
   "metadata": {},
   "source": [
    "# Integration of Mechanical Systems\n",
    "\n",
    "In this module, we will be exploring numerical integrators and how they perform for different mechanical systems."
   ]
  },
  {
   "cell_type": "markdown",
   "metadata": {},
   "source": [
    "## Simple Harmonic Oscillator\n",
    "\n",
    "The simple harmonic oscillator is a simple physical system described by the second-order differential equation below. Despite its simplicity, this is a system that shows up in a similar form in many different fields of engineering. The same equation describes the behavior of a spring-mass-damper system, RLC circuit, or the motion of a (small-angle) pendulum.\n",
    "\n",
    "(Insert diagram for spring mass damper)"
   ]
  },
  {
   "cell_type": "markdown",
   "metadata": {},
   "source": [
    "The differential equation describing the motion of a simple harmonic oscillator is:\n",
    "\n",
    "$$\\begin{equation}\n",
    "0 = m\\ddot{x} + kx\n",
    "\\end{equation}$$\n",
    "\n",
    "We can describe the state of the system by its position $x$ and its velocity $\\dot{x}$. We will call this state vector $q$, as:\n",
    "\n",
    "$$\\begin{eqnarray}\n",
    "\\vec{q}  = \\begin{bmatrix} x\\\\ \\dot{x} \\end{bmatrix}\n",
    "\\end{eqnarray}$$\n",
    "\n",
    "This system can then be broken into two first order differential equations:\n",
    "\n",
    "$$\\begin{eqnarray}\n",
    "\\vec{\\dot{q}}  = f(\\vec{q}) = \\begin{bmatrix} q_2\\\\ -\\frac{k}{m}q_1 \\end{bmatrix}\n",
    "\\end{eqnarray}$$\n",
    "\n",
    "To look at the behavior of this system, we can start with some initial conditions for $q$, then use a numerical integration method such as Euler's method to integrate forward in time. "
   ]
  },
  {
   "cell_type": "markdown",
   "metadata": {},
   "source": [
    "### Equations of Motion from Lagrangian\n",
    "\n",
    "You are encouraged to follow this derivation ON PAPER on your own. We gave you the equations of motion for a simple harmonic oscillator, but what if we don't have this equation? The following is a method that will work in nearly any situation to find equations of motion, often working well where a force analysis becomes difficult. This is good practice for anyone studying mechanics. To derive the equations of motion, we will start with the Lagrangian. This is defined by:\n",
    "\n",
    "$$\\begin{equation}\n",
    "L = T- U\n",
    "\\end{equation}$$\n",
    "\n",
    "where $T$ is the total Kinetic Energy in the system, and $U$ is the total Potential Energy. Potential energy is calculated as:\n",
    "\n",
    "$$\\begin{eqnarray*}\n",
    "U &=& \\frac{1}{2}kx^2\\\\\n",
    "\\end{eqnarray*}$$\n",
    "\n",
    "Kinetic Energy is calculated as:\n",
    "\n",
    "$$\\begin{eqnarray*}\n",
    "T &=& \\frac{1}{2}mv^2 \\\\\n",
    "&=& \\frac{1}{2}m(\\dot x)^2 \n",
    "\\end{eqnarray*}$$\n",
    "\n",
    "\n",
    "So the Lagrangian quantity becomes:\n",
    "$$\\begin{equation}\n",
    "L = \\frac{1}{2}m(\\dot x)^2  - \\frac{1}{2}kx^2\\\\\n",
    "\\end{equation}$$\n",
    "\n",
    "\n"
   ]
  },
  {
   "cell_type": "markdown",
   "metadata": {},
   "source": [
    "The equations of motion are then found using the Lagrange Equation:\n",
    "\n",
    "$$\\begin{equation}\n",
    "\\frac{d}{dt} \\left( \\frac{\\partial L}{\\partial \\dot{x_i}}\\right) - \\frac{\\partial L}{\\partial x_i} = 0\n",
    "\\end{equation}$$\n",
    "\n",
    "Since we have only one state (position), we need only one equation of motion. We'll calculate this in steps:\n",
    "\n",
    "$$\\begin{eqnarray*}\n",
    "\\frac{\\partial L}{\\partial \\dot{x}} &=& m\\dot{x} \\\\\n",
    "\\frac{d}{dt} \\left( \\frac{\\partial L}{\\partial \\dot{x}}\\right) &=& m\\ddot{x}\\\\\n",
    "-\\frac{\\partial L}{\\partial x} &=& + kx\n",
    "\\end{eqnarray*}$$\n",
    "\n",
    "We can add together the second and third equations to find the first equation of motion. Some of these terms will cancel out, and we are left with a final equation of motion:\n",
    "\n",
    "$$\\begin{equation}\n",
    "0 = m\\ddot{x} + kx\n",
    "\\end{equation}$$\n",
    "\n",
    "This is the same equation we have before! So, we can be relatively confident that this derivation is correct."
   ]
  },
  {
   "cell_type": "markdown",
   "metadata": {},
   "source": [
    "## Integration Methods\n",
    "\n",
    "### Euler's method\n",
    "\n",
    "Euler's method is discussed in lesson 1 of the Numerical Methods course. The method goes as follows:\n",
    "$$x_i^{n+1} = x_i^n + h\\dot{x}_i^n$$\n",
    "\n",
    "where $h$ is the timestep. This isn't a complicated scheme, so for details see the code below."
   ]
  },
  {
   "cell_type": "markdown",
   "metadata": {},
   "source": [
    "### Runge-Kutta Integration (RK4)\n",
    "\n",
    "Depending on the application, Euler's method may provide enough accuracy with a small timestep, especially a simple harmonic oscillator. However, Euler is a first-order method and we can do better. One option is a Runge-Kutta scheme. This is a popular numerical integration method which is easily extended to higher orders. Here we will use a fourth order Runge-Kutta, also known as RK4:\n",
    "\n",
    "$$\\begin{equation}\n",
    "q_{n+1} = q_n + \\frac{h}{6}\\left(k_1+2k_2+2k_3+k_4\\right)\n",
    "\\end{equation}$$\n",
    "where\n",
    "$$\\begin{eqnarray}\n",
    "k_1 &=& f(t_n, x_n)\\\\\n",
    "k_2 &=& f(t_n+\\frac{h}{2}, x_n+\\frac{h}{2}k_1)\\\\\n",
    "k_3 &=& f(t_n+\\frac{h}{2}, x_n+\\frac{h}{2}k_2)\\\\\n",
    "k_4 &=& f(t_n+h, y_n+hk_3)\\\\\n",
    "t_{n+1} &=& t_n + h\n",
    "\\end{eqnarray}$$\n",
    "\n",
    "For more information on the Runge-Kutta method, including the derivation and explanation of coefficients, see (cite)\n"
   ]
  },
  {
   "cell_type": "markdown",
   "metadata": {},
   "source": [
    "### Symplectic Integrators\n",
    "\n",
    "Symplectic integrators are similar to the methods discussed above, but they use equations of motion derived from Hamiltonian mechanics. According to [Berkeley source], syplectic integrators preserve the conserved Hamiltonian quantities. In practical terms, this works out to mean the methods reflect conservation of energy, down to a truncation error.\n",
    "\n",
    "The Hamiltonian equations of motion can be derived from the total energy in the system, much like the Lagrangian. The coordinates we use are position ($q$) and momentum ($p = m\\dot x$). The Hamiltonian is:\n",
    "$$ H = T+V$$\n",
    "where $T$ is the kinetic energy in the system, and $V$ is the potential energy in the system. So, we get:\n",
    "$$\\begin{eqnarray*}\n",
    "T &=& \\frac{1}{2}m\\dot{x}^2 = \\frac{p^2}{2m}\\\\\n",
    "V &=& mgq\\\\\n",
    "H &=& \\frac{p^2}{2m} + mgq\n",
    "\\end{eqnarray*}$$\n",
    "\n",
    "\n",
    "The Hamilton's equations are:\n",
    "$$\\begin{eqnarray*}\n",
    "\\frac{dp}{dt} &=& -\\frac{\\partial H}{\\partial q}\\\\\n",
    "\\frac{dq}{dt} &=& \\frac{\\partial H}{\\partial p}\n",
    "\\end{eqnarray*}$$\n",
    "\n",
    "So our equations of motion become:\n",
    "$$\\begin{equation*}\n",
    "\\begin{bmatrix} \\dot p \\\\ \\dot q \\end{bmatrix} = \\begin{bmatrix} -\\frac{\\partial H}{\\partial q}\\\\ \\frac{\\partial H}{\\partial p} \\end{bmatrix} = \\begin{bmatrix} -mg \\\\ \\frac{p}{m} \\end{bmatrix}\n",
    "\\end{equation*}$$"
   ]
  },
  {
   "cell_type": "markdown",
   "metadata": {},
   "source": [
    "Let's now take a look at symplectic integration methods. We'll start with a first order method - symplectic Euler's method. This uses the equations:\n",
    "\n",
    "$$\\begin{eqnarray*}\n",
    "p_{n+1} = p_n - h \\frac{\\partial H}{\\partial q} \\Bigr|_{p_{n+1},q_n}\\\\\n",
    "q_{n+1} = q_n + \\frac{h}{2} \\frac{\\partial H}{\\partial p} \\Bigr|_{p_{n+1},q_n}\n",
    "\\end{eqnarray*}$$\n",
    "\n",
    "We can then plug in the partial derivatives and integrate the system. This system will do a better job of conserving energy than Euler's method, $\\textit{but only to a truncation error.}$  Again, we can do better than first-order. Let's try a second-order symplectic scheme, also called Verlet integration. We'll have the same equations of motion, but this time a different set of integration equations:\n",
    "\n",
    "$$\\begin{eqnarray*}\n",
    "p_{n+1/2} &=& p_n - \\frac{h}{2} \\frac{\\partial H}{\\partial q} \\Bigr|_{p_{n+1/2},q_n}\\\\\n",
    "q_{n+1} &=& q_n + \\frac{h}{2} \\left(\\frac{\\partial H}{\\partial p} \\Bigr|_{p_{n+1/2},q_n} +  \\frac{\\partial H}{\\partial p} \\Bigr|_{p_{n+1/2},q_{n+1/2}} \\right) \\\\\n",
    "p_{n+1} &=& p_{n+1/2} - \\frac{h}{2} \\frac{\\partial H}{\\partial q}\\Bigr|_{p_{n+1/2},q_{n+1/2}}\n",
    "\\end{eqnarray*}$$"
   ]
  },
  {
   "cell_type": "markdown",
   "metadata": {},
   "source": [
    "### Analytical Solution\n",
    "The simple harmonic oscillator is a nice example for numerical integration, because it has an analytical form which we can compare to. The analytical solution is\n",
    "\n",
    "$$\\begin{equation}\n",
    "x(t) = Acos(\\omega_n t + \\phi)\n",
    "\\end{equation}$$\n",
    "\n",
    "where $\\omega_n$ is the natural frequency of the system given by $\\omega_n = \\sqrt{\\frac{k}{m}}$ . The amplitude, $A$, and the phase, $\\phi$, of oscillation are determined from the initial conditions. "
   ]
  },
  {
   "cell_type": "markdown",
   "metadata": {},
   "source": [
    "Code section?"
   ]
  },
  {
   "cell_type": "markdown",
   "metadata": {
    "collapsed": true
   },
   "source": [
    "### Adding a damping term\n",
    "\n",
    "A more realistic oscillator also has a damping term. This might correspond to friction, or to some other non-conservative force. For now, we will assume that the damping is linear, and is proportional to the velocity (this is called the -- model of friction). We get the following equation of motion:\n",
    "\n",
    "$$\\begin{equation*}\n",
    "0 = m\\ddot{x} + c\\dot{x} + kx\n",
    "\\end{equation*}$$\n",
    "\n",
    "This gives us the differential equations:\n",
    "$$\\begin{eqnarray*}\n",
    "\\vec{\\dot{q}}  = f(\\vec{q}) = \\begin{bmatrix} q_2\\\\ -\\frac{c}{m}\\dot{q_1} -\\frac{k}{m}q_1 \\end{bmatrix}\n",
    "\\end{eqnarray*}$$\n",
    "\n",
    "The Euler's method and Runge-Kutta integration work the same way with this new equation. We also have a new analytical solution. Assuming the system is underdamped (add explanation of damping ratio), the solution becomes:\n",
    "\n",
    "\n",
    "$$\\begin{equation}\n",
    "x(t) = Acos(\\omega_d t + \\phi)\n",
    "\\end{equation}$$\n",
    "\n",
    "where $\\omega_d = \\omega_n\\sqrt{1 - \\zeta^2}$ is called the damped natural frequency.\n",
    "\n",
    "The big change comes in the Hamiltonian equations. If these are dependent on convservation of energy, how do we deal with a system where energy is not conserved?\n",
    "\n",
    "Our first step is to re-examine the Lagrangian. Since losses due to friction are neither potential nor kinetic energy, we'll need a new term. The Lagrangian equation of motion with non-conservative forces is:\n",
    "\n",
    "$$\\begin{equation}\n",
    "\\frac{d}{dt} \\left( \\frac{\\partial L}{\\partial \\dot{x_i}}\\right) - \\frac{\\partial L}{\\partial x_i} = Q\n",
    "\\end{equation}$$\n",
    "\n",
    "where $Q$ is the sum of all non-conservative forces. In this case, \n",
    "$$Q = c\\frac{\\partial x}{\\partial t}$$\n",
    "\n",
    "Now that we have this, we can add a similar term to the Hamiltonian equations of motion to deal with the same problem. For more information on the derivation of the Hamiltonian from the Lagrangian, see Tveter (cite). The Hamiltonian equations of motion become:\n",
    "\n",
    "$$\\begin{equation*}\n",
    "\\begin{bmatrix} \\dot p \\\\ \\dot q \\end{bmatrix} = \\begin{bmatrix} -\\frac{\\partial H}{\\partial q} + Q\\\\ \\frac{\\partial H}{\\partial p} \\end{bmatrix} = \\begin{bmatrix} -mg + \\frac{c}{m}q \\\\ \\frac{p}{m} \\end{bmatrix}\n",
    "\\end{equation*}$$\n",
    "\n"
   ]
  },
  {
   "cell_type": "code",
   "execution_count": null,
   "metadata": {
    "collapsed": true
   },
   "outputs": [],
   "source": []
  },
  {
   "cell_type": "code",
   "execution_count": null,
   "metadata": {
    "collapsed": true
   },
   "outputs": [],
   "source": []
  },
  {
   "cell_type": "code",
   "execution_count": null,
   "metadata": {
    "collapsed": true
   },
   "outputs": [],
   "source": []
  },
  {
   "cell_type": "code",
   "execution_count": null,
   "metadata": {
    "collapsed": true
   },
   "outputs": [],
   "source": []
  },
  {
   "cell_type": "code",
   "execution_count": null,
   "metadata": {
    "collapsed": true
   },
   "outputs": [],
   "source": []
  },
  {
   "cell_type": "markdown",
   "metadata": {},
   "source": [
    "## Dynamics of a Double Pendulum"
   ]
  },
  {
   "cell_type": "markdown",
   "metadata": {},
   "source": [
    "In this module, we will study the dynamics of a double pendulum. We first derive the equations of motion from the Lagrangian. Next, we take a look at three different numerical integration schemes: Euler's method, Runge-Kutta, and a symplectic integrator. We will investigate how the initial conditions affect the behavior of the system, as well as some of the sources of error in these simulations. Finally, we will look at the properties of the system in phase space using phase plots and Poincare sections."
   ]
  },
  {
   "cell_type": "markdown",
   "metadata": {},
   "source": [
    "## Background\n",
    "\n",
    "The double pendulum problem is a simple system which can produce surprisingly complex movements. It is a chaotic system, meaning it is unpredictable, and there is no closed form solution to the motion of the two masses. This is a frequent example problem in the study of dynamic systems, nonlinear controls, and mechanics.\n",
    "\n",
    "In this notebook we will be treating the two rods as massless and ignoring the effects of friction. For a treatment of this problem without these assumptions, see: \n",
    "\n",
    "See the image below for the definition of constants."
   ]
  },
  {
   "cell_type": "markdown",
   "metadata": {},
   "source": [
    "![Image](figures/diagram.png)\n",
    "#### Figure 1. Diagram of Double Pendulum System"
   ]
  },
  {
   "cell_type": "markdown",
   "metadata": {},
   "source": [
    "## Equations of Motion \n",
    "\n",
    "You are encouraged to follow this derivation ON PAPER on your own. The following is a method that will work in nearly any situation to find equations of motion, often working well where a force analysis becomes difficult. This is good practice for anyone studying mechanics. To derive the equations of motion, we will start with the Lagrangian. This is defined by:\n",
    "\n",
    "$$\\begin{equation}\n",
    "L = T- U\n",
    "\\end{equation}$$\n",
    "\n",
    "where $T$ is the total Kinetic Energy in the system, and $U$ is the total Potential Energy. Potential energy is calculated as:\n",
    "\n",
    "$$\\begin{eqnarray}\n",
    "U &=& m_1g(-y_1) + m_2g(-y_2) \\\\\n",
    " &=& -m_1g(l_1cos(\\theta_1) - m_2g(l_1cos\\theta_1 + l_2cos\\theta_2)\n",
    "\\end{eqnarray}$$\n",
    "\n",
    "Kinetic Energy is calculated as:\n",
    "\n",
    "$$\\begin{eqnarray*}\n",
    "T &=& \\frac{1}{2}mv_1^2+\\frac{1}{2}mv_2^2 \\\\\n",
    "&=& \\frac{1}{2}m_1(l_1\\dot\\theta_1)^2 + \\frac{1}{2}m_2(l_1\\dot\\theta_1 + l_2\\dot\\theta_2)^2 \\\\\n",
    "&=& \\frac{1}{2}(m_1+m_2)l_1^2\\dot\\theta_1^2+\\frac{1}{2}m_2\\left(2l_1l_2\\dot\\theta_1\\dot\\theta_2cos(\\theta_2-\\theta_1)+l_2^2\\dot\\theta_2^2\\right)\n",
    "\\end{eqnarray*}$$\n",
    "\n",
    "\n",
    "So the Lagrangian quantity becomes:\n",
    "$$\\begin{equation}\n",
    "L = \\frac{1}{2}(m_1+m_2)l_1^2\\dot\\theta_1^2+m_2l_1l_2\\dot\\theta_1\\dot\\theta_2cos(\\theta_2-\\theta_1)+(m_1+m_2)l_1gcos\\theta_1 + m_2l_2gcos\\theta_2\n",
    "\\end{equation}$$\n"
   ]
  },
  {
   "cell_type": "markdown",
   "metadata": {
    "collapsed": true
   },
   "source": [
    "The equations of motion are then found using the Lagrange Equation:\n",
    "\n",
    "$$\\begin{equation}\n",
    "\\frac{d}{dt} \\left( \\frac{\\partial L}{\\partial \\dot{x_i}}\\right) - \\frac{\\partial L}{\\partial x_i} = 0\n",
    "\\end{equation}$$\n",
    "\n",
    "\n",
    "So the equation of motion for $\\theta_1$ is calculated by the following steps:\n",
    "\n",
    "$$\\begin{eqnarray*}\n",
    "\\frac{\\partial L}{\\partial \\dot{\\theta_1}} &=& (m_1+m_2)l_1^2\\dot\\theta_1+m_2l_1l_2\\dot\\theta_2cos(\\theta_2-\\theta_1) \\\\\n",
    "\\frac{d}{dt} \\left( \\frac{\\partial L}{\\partial \\dot{\\theta_1}}\\right) &=& (m_1+m_2)l_1^2\\ddot\\theta_1+m_2l_1l_2\\ddot\\theta_2cos(\\theta_2-\\theta_1)-m_2l_1l_2\\dot\\theta_2^2sin(\\theta_2-\\theta_1)+m_2l_1l_2\\dot\\theta_1\\dot\\theta_2sin(\\theta_2-\\theta_1) \\\\\n",
    "-\\frac{\\partial L}{\\partial \\theta_1} &=& -m_2l_1l_2\\dot\\theta_1\\dot\\theta_2sin(\\theta_2-\\theta_1)-(m_1+m_2)gl_1sin\\theta_1\n",
    "\\end{eqnarray*}$$\n",
    "\n",
    "We can add together the second and third equations to find the first equation of motion. Some of these terms will cancel out, and we are left with a final equation of motion:\n",
    "\n",
    "$$\\begin{equation}\n",
    "0 = (m_1+m_2)l_1^2\\ddot\\theta_1+m_2l_1l_2\\ddot\\theta_2cos(\\theta_2-\\theta_1)-m_2l_1l_2\\dot\\theta_2^2sin(\\theta_2-\\theta_1)+(m_1+m_2)gl_1sin\\theta_1\n",
    "\\end{equation}$$\n",
    "\n",
    "We will also need the equation of motion for $\\theta_2$. This can be derived using the same process. It should work out to the following (check this by yourself!):\n",
    "\n",
    "$$\\begin{equation}\n",
    "0 = m_2l_2^2\\ddot\\theta_2+m_2l_1l_2\\ddot\\theta_1cos(\\theta_2-\\theta_1) - m_2l_2l_1\\dot\\theta_1^2sin(\\theta_2-\\theta_1)+ l_2m_2gsin\\theta_2\n",
    "\\end{equation}$$"
   ]
  },
  {
   "cell_type": "markdown",
   "metadata": {},
   "source": [
    "## Problem setup\n",
    "\n",
    "Notice that these equations of motion are implicit equations for $\\ddot\\theta_1$ and $\\ddot\\theta_2$. We have talked about implicit equations in this class, and we solve them by forming a system of equations. In this case, we will need to solve the equations of motion at each time step. We will characterize our system in state space using the angle and angular velocity of each pendulum. So our state becomes:\n",
    "\n",
    "$$\\begin{eqnarray}\n",
    "\\vec{x}(t)  = \\begin{pmatrix} \\theta_1\\\\ \\theta_2\\\\ \\dot\\theta_1 \\\\ \\dot\\theta_2 \\end{pmatrix}\n",
    "\\end{eqnarray}$$\n",
    "\n",
    "The equations of motion can be rewritten as a system of equations:\n",
    "\n",
    "$$ A\\dot x=f(x)$$\n",
    "\n",
    "where \n",
    "\n",
    "\\begin{equation}\n",
    "A = \n",
    "\\left[\\begin{array}{c}\n",
    "1 &0 &0 &0 \\\\\n",
    "0 &1 &0 &0 \\\\\n",
    "0 &0 &(m_1+m_2)l_1^2 &m_2l_1l_2cos(x_2-x_1) \\\\\n",
    "0 &0 &m_2l_1l_2cos(x_2-x_1) &m_2l_2^2\n",
    "\\end{array}\\right]\n",
    "\\end{equation}\n",
    "\n",
    "and\n",
    "\n",
    "$$\\begin{eqnarray}\n",
    "f(\\vec{x}(t))  = \\begin{pmatrix} x_3\\\\ x_4\\\\ m_2l_1l_2x_4^2sin(x_2-x_1) -(m_1+m_2)gl_1sin(x_1)\\\\ m_2l_1l_2x_3^2sin(x_2-x_1)-l_2m_2gsinx_2 \\end{pmatrix}\n",
    "\\end{eqnarray}$$\n",
    "\n",
    "In order to solve this, we can evaluate matrix A and vector $f(x)$ at each time step, then invert A and premultiply the result to each side of the equation. This gives us an explicit system of equations of motion:\n",
    "\n",
    "$$ \\dot x=A^{-1}f(x)$$\n",
    "\n",
    "You may notice that these operations require a significant computational load at each time step. In order to reduce this, we can analytically invert the matrix A, then simply fill in the necessary values at each time step and multiply by $f(x)$. This will significantly speed up running time, as inverting a matrix is an expensive operation.\n"
   ]
  },
  {
   "cell_type": "markdown",
   "metadata": {},
   "source": [
    "## Integration\n",
    "\n",
    "### Euler's Method\n",
    "\n",
    "The first method we will use is Euler integration, covered in lesson 1 of the Numerical Methods course. This is the simplest form of numerical integration, but it can still be effective. Using our equations for $\\dot x$ and $f(x)$:\n",
    "\n",
    "$$x_i^{n+1} = x_i^n + h\\dot{x}_i^n$$\n",
    "\n",
    "where $h$ is the timestep.\n",
    "\n",
    "### Runge-Kutta Method (RK4)\n",
    "\n"
   ]
  },
  {
   "cell_type": "markdown",
   "metadata": {
    "collapsed": true
   },
   "source": [
    "## Solve!\n",
    "\n",
    "Here we define functions for each of the integration methods, set our parameters and initial conditions, and then numerically integrate the motion of the pendulums. The plots below compare the different integration techniques."
   ]
  },
  {
   "cell_type": "markdown",
   "metadata": {},
   "source": [
    "Sources: \n",
    "\n",
    "http://scienceworld.wolfram.com/physics/DoublePendulum.html\n",
    "\n",
    "http://www.phy.uct.ac.za/courses/opencontent/phylab2/worksheet9_09.pdf\n",
    "\n",
    "http://www.phys.lsu.edu/faculty/gonzalez/Teaching/Phys7221/DoublePendulum.pdf\n",
    "\n",
    "http://www.iontrap.wabash.edu/adlab/papers/F2011_foster_groninger_tang_chaos.pdf\n",
    "\n",
    "https://math.berkeley.edu/~alanw/242papers99/markiewicz.pdf\n",
    "\n",
    "http://www.unige.ch/~hairer/poly_geoint/week2.pdf\n",
    "\n",
    "http://articles.adsabs.harvard.edu/cgi-bin/nph-iarticle_query?1994CeMDA..60..409T&defaultprint=YES&filetype=.pdf\n",
    "\n"
   ]
  },
  {
   "cell_type": "code",
   "execution_count": 2,
   "metadata": {
    "collapsed": false
   },
   "outputs": [
    {
     "data": {
      "text/html": [
       "<link href='http://fonts.googleapis.com/css?family=Alegreya+Sans:100,300,400,500,700,800,900,100italic,300italic,400italic,500italic,700italic,800italic,900italic' rel='stylesheet' type='text/css'>\n",
       "<link href='http://fonts.googleapis.com/css?family=Arvo:400,700,400italic' rel='stylesheet' type='text/css'>\n",
       "<link href='http://fonts.googleapis.com/css?family=PT+Mono' rel='stylesheet' type='text/css'>\n",
       "<link href='http://fonts.googleapis.com/css?family=Shadows+Into+Light' rel='stylesheet' type='text/css'>\n",
       "<link href='http://fonts.googleapis.com/css?family=Nixie+One' rel='stylesheet' type='text/css'>\n",
       "<style>\n",
       "\n",
       "@font-face {\n",
       "    font-family: \"Computer Modern\";\n",
       "    src: url('http://mirrors.ctan.org/fonts/cm-unicode/fonts/otf/cmunss.otf');\n",
       "}\n",
       "\n",
       "#notebook_panel { /* main background */\n",
       "    background: rgb(245,245,245);\n",
       "}\n",
       "\n",
       "div.cell { /* set cell width */\n",
       "    width: 750px;\n",
       "}\n",
       "\n",
       "div #notebook { /* centre the content */\n",
       "    background: #fff; /* white background for content */\n",
       "    width: 1000px;\n",
       "    margin: auto;\n",
       "    padding-left: 0em;\n",
       "}\n",
       "\n",
       "#notebook li { /* More space between bullet points */\n",
       "    margin-top:0.8em;\n",
       "}\n",
       "\n",
       "/* draw border around running cells */\n",
       "div.cell.border-box-sizing.code_cell.running { \n",
       "    border: 1px solid #111;\n",
       "}\n",
       "\n",
       "/* Put a solid color box around each cell and its output, visually linking them*/\n",
       "div.cell.code_cell {\n",
       "    background-color: rgb(256,256,256); \n",
       "    border-radius: 0px; \n",
       "    padding: 0.5em;\n",
       "    margin-left:1em;\n",
       "    margin-top: 1em;\n",
       "}\n",
       "\n",
       "div.text_cell_render{\n",
       "    font-family: 'Alegreya Sans' sans-serif;\n",
       "    line-height: 140%;\n",
       "    font-size: 125%;\n",
       "    font-weight: 400;\n",
       "    width:600px;\n",
       "    margin-left:auto;\n",
       "    margin-right:auto;\n",
       "}\n",
       "\n",
       "\n",
       "/* Formatting for header cells */\n",
       ".text_cell_render h1 {\n",
       "    font-family: 'Nixie One', serif;\n",
       "    font-style:regular;\n",
       "    font-weight: 400;    \n",
       "    font-size: 45pt;\n",
       "    line-height: 100%;\n",
       "    color: rgb(0,51,102);\n",
       "    margin-bottom: 0.5em;\n",
       "    margin-top: 0.5em;\n",
       "    display: block;\n",
       "}\n",
       "\n",
       ".text_cell_render h2 {\n",
       "    font-family: 'Nixie One', serif;\n",
       "    font-weight: 400;\n",
       "    font-size: 30pt;\n",
       "    line-height: 100%;\n",
       "    color: rgb(0,51,102);\n",
       "    margin-bottom: 0.1em;\n",
       "    margin-top: 0.3em;\n",
       "    display: block;\n",
       "}\t\n",
       "\n",
       ".text_cell_render h3 {\n",
       "    font-family: 'Nixie One', serif;\n",
       "    margin-top:16px;\n",
       "    font-size: 22pt;\n",
       "    font-weight: 600;\n",
       "    margin-bottom: 3px;\n",
       "    font-style: regular;\n",
       "    color: rgb(102,102,0);\n",
       "}\n",
       "\n",
       ".text_cell_render h4 {    /*Use this for captions*/\n",
       "    font-family: 'Nixie One', serif;\n",
       "    font-size: 14pt;\n",
       "    text-align: center;\n",
       "    margin-top: 0em;\n",
       "    margin-bottom: 2em;\n",
       "    font-style: regular;\n",
       "}\n",
       "\n",
       ".text_cell_render h5 {  /*Use this for small titles*/\n",
       "    font-family: 'Nixie One', sans-serif;\n",
       "    font-weight: 400;\n",
       "    font-size: 16pt;\n",
       "    color: rgb(163,0,0);\n",
       "    font-style: italic;\n",
       "    margin-bottom: .1em;\n",
       "    margin-top: 0.8em;\n",
       "    display: block;\n",
       "}\n",
       "\n",
       ".text_cell_render h6 { /*use this for copyright note*/\n",
       "    font-family: 'PT Mono', sans-serif;\n",
       "    font-weight: 300;\n",
       "    font-size: 9pt;\n",
       "    line-height: 100%;\n",
       "    color: grey;\n",
       "    margin-bottom: 1px;\n",
       "    margin-top: 1px;\n",
       "}\n",
       "\n",
       ".CodeMirror{\n",
       "    font-family: \"PT Mono\";\n",
       "    font-size: 90%;\n",
       "}\n",
       "\n",
       "</style>\n",
       "<script>\n",
       "    MathJax.Hub.Config({\n",
       "                        TeX: {\n",
       "                           extensions: [\"AMSmath.js\"],\n",
       "                           equationNumbers: { autoNumber: \"AMS\", useLabelIds: true}\n",
       "                           },\n",
       "                tex2jax: {\n",
       "                    inlineMath: [ ['$','$'], [\"\\\\(\",\"\\\\)\"] ],\n",
       "                    displayMath: [ ['$$','$$'], [\"\\\\[\",\"\\\\]\"] ]\n",
       "                },\n",
       "                displayAlign: 'center', // Change this to 'center' to center equations.\n",
       "                \"HTML-CSS\": {\n",
       "                    styles: {'.MathJax_Display': {\"margin\": 4}}\n",
       "                }\n",
       "        });\n",
       "</script>\n"
      ],
      "text/plain": [
       "<IPython.core.display.HTML object>"
      ]
     },
     "execution_count": 2,
     "metadata": {},
     "output_type": "execute_result"
    }
   ],
   "source": [
    "# This cell loads the style of the notebook, which is taken from the \n",
    "# Numerical Methods in Python Course: http://openedx.seas.gwu.edu/courses/GW/MAE6286/2014_fall/about\n",
    "\n",
    "from IPython.core.display import HTML\n",
    "css_file = './randy_schur/numericalmoocstyle.css'\n",
    "HTML(open(css_file, \"r\").read())"
   ]
  },
  {
   "cell_type": "code",
   "execution_count": null,
   "metadata": {
    "collapsed": true
   },
   "outputs": [],
   "source": []
  }
 ],
 "metadata": {
  "kernelspec": {
   "display_name": "Python 3",
   "language": "python",
   "name": "python3"
  },
  "language_info": {
   "codemirror_mode": {
    "name": "ipython",
    "version": 3
   },
   "file_extension": ".py",
   "mimetype": "text/x-python",
   "name": "python",
   "nbconvert_exporter": "python",
   "pygments_lexer": "ipython3",
   "version": "3.4.3"
  }
 },
 "nbformat": 4,
 "nbformat_minor": 0
}
