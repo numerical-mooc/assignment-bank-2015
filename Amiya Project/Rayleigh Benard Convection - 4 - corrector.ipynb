{
 "cells": [
  {
   "cell_type": "code",
   "execution_count": 88,
   "metadata": {
    "collapsed": false
   },
   "outputs": [],
   "source": [
    "import numpy as np\n",
    "import matplotlib.pyplot as plt\n",
    "%matplotlib inline\n",
    "from matplotlib import rcParams, cm\n",
    "rcParams['font.family'] = 'serif'\n",
    "rcParams['font.size'] = 16"
   ]
  },
  {
   "cell_type": "code",
   "execution_count": 89,
   "metadata": {
    "collapsed": false
   },
   "outputs": [
    {
     "name": "stdout",
     "output_type": "stream",
     "text": [
      "delT = 120.92877677020469 Tl = 140.9287767702047\n",
      "[[  4.05457457e-07   4.05457457e-07   4.05457457e-07 ...,   4.05457457e-07\n",
      "    4.05457457e-07   4.05457457e-07]\n",
      " [  4.04055450e-07   4.04055450e-07   4.04055450e-07 ...,   4.04055450e-07\n",
      "    4.04055450e-07   4.04055450e-07]\n",
      " [  4.06883369e-07   4.06883369e-07   4.06883369e-07 ...,   4.06883369e-07\n",
      "    4.06883369e-07   4.06883369e-07]\n",
      " ..., \n",
      " [  9.81359599e-07   9.81359599e-07   9.81359599e-07 ...,   9.81359599e-07\n",
      "    9.81359599e-07   9.81359599e-07]\n",
      " [  9.93275020e-07   9.93275020e-07   9.93275020e-07 ...,   9.93275020e-07\n",
      "    9.93275020e-07   9.93275020e-07]\n",
      " [  1.00541442e-06   1.00541442e-06   1.00541442e-06 ...,   1.00541442e-06\n",
      "    1.00541442e-06   1.00541442e-06]]\n"
     ]
    }
   ],
   "source": [
    "H = 0.25\n",
    "L = 1\n",
    "\n",
    "alpha = 207*10**(-6) #Volume expansion coefficient of water @ 20 C\n",
    "k = 0.6     #Thermal conductivity of water @ 20 C\n",
    "\n",
    "#ReC = 1100.65 #Critical Rayleigh number for one free and one rigid boundary condition\n",
    "ReC = 1708     #Critical Rayleigh number for two rigid body boundary condition\n",
    "g = 9.81\n",
    "D = 1.43E-7  #Thermal diffusivity of water\n",
    "c = k/D\n",
    "rho_i = 1000   #Density of water @ 20 C\n",
    "\n",
    "L = 1\n",
    "H = 0.001\n",
    "\n",
    "nxy = 101\n",
    "nt = 6000\n",
    "\n",
    "dxy = H/(nxy-1)\n",
    "\n",
    "x = np.linspace(0,L,nxy)\n",
    "y = np.linspace(0,H,nxy)\n",
    "ya = np.ones((nxy,nxy))\n",
    "for i in range(nxy):\n",
    "    ya[:,i] = y\n",
    "#Change to Kelivin?\n",
    "To = 20\n",
    "vo = 2.414*10**(-5) * 10**(247.8/(To + 273 - 140)) / rho_i  #initial kinematic viscosity of water\n",
    "delT = (ReC*vo*1.43*10**(-7))/(alpha*g*H**3)\n",
    "Ti = np.ones((nxy, nxy))*(To + (H-ya)/H*(70-To))\n",
    "#Ti[-1,:] = To + 50\n",
    "\n",
    "rho = np.ones((nxy,nxy), dtype=float)*rho_i\n",
    "rho[0,:] = rho_i*(1-alpha*(Ti[0,:] - To))\n",
    "\n",
    "v = np.ones((nxy,nxy))*2.414*10**(-5) * 10**(247.8/(Ti + 273 - 140)) / rho  #kinematic viscosity of water\n",
    "\n",
    "pi = np.zeros((nxy,nxy), dtype=float)\n",
    "pi[:,:] = rho[:,:] * (H-ya[:,:]) * g\n",
    "\n",
    "ui = np.zeros((nxy,nxy), dtype=float)\n",
    "\n",
    "print('delT =',delT, 'Tl =',To+delT)\n",
    "print(v)\n",
    "#print('x =', x, 'y =', y)"
   ]
  },
  {
   "cell_type": "code",
   "execution_count": 90,
   "metadata": {
    "collapsed": false
   },
   "outputs": [
    {
     "name": "stdout",
     "output_type": "stream",
     "text": [
      "0.001\n"
     ]
    }
   ],
   "source": [
    "# stability\n",
    "sigma = 0.00005\n",
    "#dt = sigma*min(dxy,dxy)**2/D\n",
    "dt = 0.001\n",
    "\n",
    "print(dt)"
   ]
  },
  {
   "cell_type": "code",
   "execution_count": 91,
   "metadata": {
    "collapsed": false
   },
   "outputs": [
    {
     "name": "stdout",
     "output_type": "stream",
     "text": [
      "1e-05\n"
     ]
    }
   ],
   "source": [
    "print(dxy)"
   ]
  },
  {
   "cell_type": "code",
   "execution_count": 92,
   "metadata": {
    "collapsed": false
   },
   "outputs": [],
   "source": [
    "def constructMatrix(nxy):\n",
    "    \"\"\" Generate implicit matrix for 2D heat equation with Dirichlet in bottom and right and Neumann in top and left\n",
    "        Assumes dx = dy\n",
    "    \n",
    "    Parameters:\n",
    "    ----------\n",
    "    nx   : int\n",
    "        number of discretization points in x\n",
    "    ny   : int\n",
    "        number of discretization points in y\n",
    "    sigma: float\n",
    "        alpha*dt/dx\n",
    "        \n",
    "    Returns:\n",
    "    -------\n",
    "    A: 2D array of floats\n",
    "        Matrix of implicit 2D heat equation\n",
    "    \"\"\"\n",
    "    \n",
    "    A = np.zeros(((nxy)*(nxy-2),(nxy)*(nxy-2)))\n",
    "    \n",
    "    row_number = 0 # row counter\n",
    "    for j in range(1,nxy-1):\n",
    "        for i in range(nxy):\n",
    "                \n",
    "            if j==1: # Bottom boundary (Dirichlet)\n",
    "                A[row_number,row_number] = -4 # Set diagonal\n",
    "                A[row_number,row_number+1] = 1      # fetch i+1\n",
    "                A[row_number,row_number-1] = 1      # fetch i-1\n",
    "                A[row_number,row_number+nxy] = 1   # fetch j+1\n",
    "                \n",
    "            elif j==nxy-2: # Top boundary (Neumann)\n",
    "                A[row_number,row_number] = -4 # Set diagonal\n",
    "                A[row_number,row_number+1] = 1      # fetch i+1\n",
    "                A[row_number,row_number-1] = 1      # fetch i-1\n",
    "                A[row_number,row_number-(nxy)] = 1 # fetch j-1\n",
    "                \n",
    "            # Interior points\n",
    "            else:\n",
    "                A[row_number,row_number] = -4 # Set diagonal\n",
    "                A[row_number,row_number+1] = 1      # fetch i+1\n",
    "                A[row_number,row_number-1] = 1      # fetch i-1\n",
    "                A[row_number,row_number+nxy] = 1   # fetch j+1\n",
    "                A[row_number,row_number-(nxy)] = 1 # fetch j-1\n",
    "                \n",
    "            row_number += 1 # Jump to next row of the matrix!\n",
    "    \n",
    "    return A           "
   ]
  },
  {
   "cell_type": "code",
   "execution_count": 93,
   "metadata": {
    "collapsed": false
   },
   "outputs": [],
   "source": [
    "def generateRHS(nxy, dxy, dt, u, rho_i):\n",
    "    \"\"\" Generates right-hand side for 2D implicit heat equation with Dirichlet in bottom and left and Neumann in top and right\n",
    "        Assumes dx=dy, Neumann BCs = 0, and constant Dirichlet BCs\n",
    "        \n",
    "        Paramenters:\n",
    "        -----------\n",
    "        nx   : int\n",
    "            number of discretization points in x\n",
    "        ny   : int\n",
    "            number of discretization points in y\n",
    "        sigma: float\n",
    "            alpha*dt/dx\n",
    "        T    : array of float\n",
    "            Temperature in current time step\n",
    "        T_bc : float\n",
    "            Temperature in Dirichlet BC\n",
    "        \n",
    "        Returns:\n",
    "        -------\n",
    "        RHS  : array of float\n",
    "            Right hand side of 2D implicit heat equation\n",
    "    \"\"\"\n",
    "    RHS = np.zeros((nxy)*(nxy-2))\n",
    "    \n",
    "    row_number = 0 # row counter\n",
    "    for j in range(1,nxy-1):\n",
    "        for i in range(nxy):\n",
    "              \n",
    "            if j==1: # Bottom boundary (Dirichlet)\n",
    "                RHS[row_number] = 0\n",
    "                \n",
    "            elif j==nxy-2: # Top boundary (Neumann)\n",
    "                RHS[row_number] = 0\n",
    "                \n",
    "            # Interior points\n",
    "            else:\n",
    "                RHS[row_number] = (rho_i*dxy/(2*dt))*(u[2:,1:-1]-u[:-2,1:-1] + u[1:-1,2:] - u[1:-1,:-2]) \n",
    "                \n",
    "            row_number += 1 # Jump to next row!\n",
    "    \n",
    "    return RHS"
   ]
  },
  {
   "cell_type": "code",
   "execution_count": 94,
   "metadata": {
    "collapsed": true
   },
   "outputs": [],
   "source": [
    "def map_1Dto2D(nxy, u_1D):\n",
    "    \"\"\" Takes temperatures of solution of linear system, stored in 1D, \n",
    "    and puts them in a 2D array with the BCs\n",
    "    Valid for constant Dirichlet bottom and left, and Neumann with zero \n",
    "    flux top and right\n",
    "        \n",
    "    Parameters:\n",
    "    ----------\n",
    "        nx  : int\n",
    "            number of nodes in x direction\n",
    "        ny  : int\n",
    "            number of nodes in y direction\n",
    "        T_1D: array of floats\n",
    "            solution of linear system\n",
    "        T_bc: float\n",
    "            Dirichlet BC\n",
    "            \n",
    "    Returns:\n",
    "    -------\n",
    "        T: 2D array of float\n",
    "            Temperature stored in 2D array with BCs\n",
    "    \"\"\"\n",
    "    u = np.zeros((nxy,nxy))\n",
    "    \n",
    "    row_number = 0\n",
    "    for j in range(1,nxy-1):\n",
    "        for i in range(nxy):\n",
    "            u[j,i] = u_1D[row_number]\n",
    "            row_number += 1\n",
    "    # Dirichlet BC\n",
    "    u[0,:] = 0\n",
    "    u[-1,:] = 0\n",
    "    \n",
    "    return u"
   ]
  },
  {
   "cell_type": "code",
   "execution_count": 95,
   "metadata": {
    "collapsed": true
   },
   "outputs": [],
   "source": [
    "def btcs_2D(u, A, nt, nxy, dxy, dt, rho_i):\n",
    "    \"\"\" Advances diffusion equation in time with backward Euler\n",
    "   \n",
    "    Parameters:\n",
    "    ----------\n",
    "    T: 2D array of float\n",
    "        initial temperature profile\n",
    "    A: 2D array of float\n",
    "        Matrix with discretized diffusion equation\n",
    "    nt: int\n",
    "        number of time steps\n",
    "    sigma: float\n",
    "        alpha*dt/dx^2\n",
    "    T_bc : float \n",
    "        Dirichlet BC temperature\n",
    "    nx   : int\n",
    "        Discretization points in x\n",
    "    ny   : int\n",
    "        Discretization points in y\n",
    "    dt   : float\n",
    "        Time step size\n",
    "        \n",
    "    Returns:\n",
    "    -------\n",
    "    T: 2D array of floats\n",
    "        temperature profile after nt time steps\n",
    "    \"\"\"\n",
    "    \n",
    "    \n",
    "    for t in range(nt):\n",
    "        un = u.copy()\n",
    "        b = generateRHS(nxy, dxy, dt, u, rho_i)\n",
    "        # Use numpy.linalg.solve\n",
    "        p_interior = solve(A,b)\n",
    "        p = map_1Dto2D(nxy, p_interior)\n",
    "        \n",
    "    return p"
   ]
  },
  {
   "cell_type": "code",
   "execution_count": 96,
   "metadata": {
    "collapsed": false
   },
   "outputs": [],
   "source": [
    "def ftcs(T, To, u, p, rho, rho_i, alpha, v, k, c, g, ya, H, delT, nt, dt, dxy, nxy):\n",
    "    \n",
    "    for n in range(nt):\n",
    "\n",
    "        un = u.copy()\n",
    "        u_star = un.copy()\n",
    "        Tn = T.copy()\n",
    "        pn = p.copy()\n",
    "        vn = v.copy()\n",
    "        \n",
    "        u_star[1:-1,1:-1] = un[1:-1,1:-1] + dt*(-(u[1:-1,1:-1]/(2*dxy) * (u[2:,1:-1] - u[:-2,1:-1] + u[1:-1,2:] - u[1:-1,:-2])\\\n",
    "                            + v[1:-1,1:-1]/dxy**2 * (u[2:,1:-1] + u[:-2,1:-1] + u[1:-1,2:] + u[1:-1,:-2] - 4*u[1:-1,1:-1])\\\n",
    "                                                 + rho[1:-1,1:-1]/rho_i * g))\n",
    "        \n",
    "        u_star[-1,:] = 0 #Top Boundary\n",
    "        u_star[0,:] = 0   #Bottom Boundary\n",
    "        \n",
    "        #p[1:-1,1:-1] = pn[1:-1,1:-1] + 1/(2*dt*dxy) * (u_star[2:,1:-1] - u_star[:-2,1:-1] + u_star[1:-1,2:] - u_star[1:-1,:-2])\\\n",
    "        \n",
    "        A = constructMatrix(nxy)\n",
    "        p = btcs_2D(u_star, A, nt, nxy, dxy, dt, rho_i)\n",
    "        \n",
    "        u[1:-1,1:-1] = u_star[1:-1,1:-1] - dt/(2*dxy)*(p[2:,1:-1] - p[:-2,1:-1] + p[1:-1,2:] - p[1:-1,:-2])\n",
    "        \n",
    "        u[-1,:] = 0 #Top Boundary\n",
    "        u[0,:] = 0   #Bottom Boundary\n",
    "        \n",
    "        T[1:-1,1:-1] = T[1:-1,1:-1] + dt*(-u[1:-1,1:-1]/(2*dxy) * (T[2:,1:-1]-T[:-2,1:-1]+T[1:-1,2:]-T[1:-1,:-2])\\\n",
    "                                         + k/(rho[1:-1,1:-1]*c*dxy**2) * (T[2:,1:-1] + T[:-2,1:-1] + T[1:-1,2:] + T[1:-1,:-2]\\\n",
    "                                                                         -4*T[1:-1,1:-1]))\n",
    "    \n",
    "        T[0,:] = To + 50 #Bottom Boundary\n",
    "        T[-1,:] = To   #top Boundary\n",
    "        \n",
    "        rho[1:-1,1:-1] = rho_i*(1- alpha*(T[1:-1,1:-1] - To))\n",
    "        \n",
    "        v[1:-1,1:-1] = 2.414*10**(-5) * 10**(247.8/(T[1:-1,1:-1] + 273 - 140)) / rho[1:-1,1:-1]\n",
    "        \n",
    "        \n",
    "        #del u = 0\n",
    "        #u[1:,1:] = 0.5*(u[:-1,1:] + u[1:,:-1])\n",
    "        \n",
    "        \n",
    "\n",
    "                                           \n",
    "    return u, T"
   ]
  },
  {
   "cell_type": "code",
   "execution_count": 97,
   "metadata": {
    "collapsed": false
   },
   "outputs": [
    {
     "ename": "IndexError",
     "evalue": "index 9999 is out of bounds for axis 1 with size 9999",
     "output_type": "error",
     "traceback": [
      "\u001b[1;31m---------------------------------------------------------------------------\u001b[0m",
      "\u001b[1;31mIndexError\u001b[0m                                Traceback (most recent call last)",
      "\u001b[1;32m<ipython-input-97-0d2ff572233c>\u001b[0m in \u001b[0;36m<module>\u001b[1;34m()\u001b[0m\n\u001b[1;32m----> 1\u001b[1;33m \u001b[0mu\u001b[0m\u001b[1;33m,\u001b[0m \u001b[0mT\u001b[0m \u001b[1;33m=\u001b[0m \u001b[0mftcs\u001b[0m\u001b[1;33m(\u001b[0m\u001b[0mTi\u001b[0m\u001b[1;33m,\u001b[0m\u001b[0mTo\u001b[0m\u001b[1;33m,\u001b[0m\u001b[0mui\u001b[0m\u001b[1;33m,\u001b[0m\u001b[0mpi\u001b[0m\u001b[1;33m,\u001b[0m\u001b[0mrho\u001b[0m\u001b[1;33m,\u001b[0m\u001b[0mrho_i\u001b[0m\u001b[1;33m,\u001b[0m\u001b[0malpha\u001b[0m\u001b[1;33m,\u001b[0m\u001b[0mv\u001b[0m\u001b[1;33m,\u001b[0m\u001b[0mk\u001b[0m\u001b[1;33m,\u001b[0m\u001b[0mc\u001b[0m\u001b[1;33m,\u001b[0m\u001b[0mg\u001b[0m\u001b[1;33m,\u001b[0m\u001b[0mya\u001b[0m\u001b[1;33m,\u001b[0m\u001b[0mH\u001b[0m\u001b[1;33m,\u001b[0m\u001b[0mdelT\u001b[0m\u001b[1;33m,\u001b[0m\u001b[0mnt\u001b[0m\u001b[1;33m,\u001b[0m\u001b[0mdt\u001b[0m\u001b[1;33m,\u001b[0m\u001b[0mdxy\u001b[0m\u001b[1;33m,\u001b[0m\u001b[0mnxy\u001b[0m\u001b[1;33m)\u001b[0m\u001b[1;33m\u001b[0m\u001b[0m\n\u001b[0m",
      "\u001b[1;32m<ipython-input-96-de8b70b54ce5>\u001b[0m in \u001b[0;36mftcs\u001b[1;34m(T, To, u, p, rho, rho_i, alpha, v, k, c, g, ya, H, delT, nt, dt, dxy, nxy)\u001b[0m\n\u001b[0;32m     16\u001b[0m         \u001b[1;31m#p[1:-1,1:-1] = pn[1:-1,1:-1] + 1/(2*dt*dxy) * (u_star[2:,1:-1] - u_star[:-2,1:-1] + u_star[1:-1,2:] - u_star[1:-1,:-2])\\\u001b[0m\u001b[1;33m\u001b[0m\u001b[1;33m\u001b[0m\u001b[0m\n\u001b[0;32m     17\u001b[0m \u001b[1;33m\u001b[0m\u001b[0m\n\u001b[1;32m---> 18\u001b[1;33m         \u001b[0mA\u001b[0m \u001b[1;33m=\u001b[0m \u001b[0mconstructMatrix\u001b[0m\u001b[1;33m(\u001b[0m\u001b[0mnxy\u001b[0m\u001b[1;33m)\u001b[0m\u001b[1;33m\u001b[0m\u001b[0m\n\u001b[0m\u001b[0;32m     19\u001b[0m         \u001b[0mp\u001b[0m \u001b[1;33m=\u001b[0m \u001b[0mbtcs_2D\u001b[0m\u001b[1;33m(\u001b[0m\u001b[0mu_star\u001b[0m\u001b[1;33m,\u001b[0m \u001b[0mA\u001b[0m\u001b[1;33m,\u001b[0m \u001b[0mnt\u001b[0m\u001b[1;33m,\u001b[0m \u001b[0mnxy\u001b[0m\u001b[1;33m,\u001b[0m \u001b[0mdxy\u001b[0m\u001b[1;33m,\u001b[0m \u001b[0mdt\u001b[0m\u001b[1;33m,\u001b[0m \u001b[0mrho_i\u001b[0m\u001b[1;33m)\u001b[0m\u001b[1;33m\u001b[0m\u001b[0m\n\u001b[0;32m     20\u001b[0m \u001b[1;33m\u001b[0m\u001b[0m\n",
      "\u001b[1;32m<ipython-input-92-47d0cbc809b1>\u001b[0m in \u001b[0;36mconstructMatrix\u001b[1;34m(nxy)\u001b[0m\n\u001b[0;32m     32\u001b[0m             \u001b[1;32melif\u001b[0m \u001b[0mj\u001b[0m\u001b[1;33m==\u001b[0m\u001b[0mnxy\u001b[0m\u001b[1;33m-\u001b[0m\u001b[1;36m2\u001b[0m\u001b[1;33m:\u001b[0m \u001b[1;31m# Top boundary (Neumann)\u001b[0m\u001b[1;33m\u001b[0m\u001b[0m\n\u001b[0;32m     33\u001b[0m                 \u001b[0mA\u001b[0m\u001b[1;33m[\u001b[0m\u001b[0mrow_number\u001b[0m\u001b[1;33m,\u001b[0m\u001b[0mrow_number\u001b[0m\u001b[1;33m]\u001b[0m \u001b[1;33m=\u001b[0m \u001b[1;33m-\u001b[0m\u001b[1;36m4\u001b[0m \u001b[1;31m# Set diagonal\u001b[0m\u001b[1;33m\u001b[0m\u001b[0m\n\u001b[1;32m---> 34\u001b[1;33m                 \u001b[0mA\u001b[0m\u001b[1;33m[\u001b[0m\u001b[0mrow_number\u001b[0m\u001b[1;33m,\u001b[0m\u001b[0mrow_number\u001b[0m\u001b[1;33m+\u001b[0m\u001b[1;36m1\u001b[0m\u001b[1;33m]\u001b[0m \u001b[1;33m=\u001b[0m \u001b[1;36m1\u001b[0m      \u001b[1;31m# fetch i+1\u001b[0m\u001b[1;33m\u001b[0m\u001b[0m\n\u001b[0m\u001b[0;32m     35\u001b[0m                 \u001b[0mA\u001b[0m\u001b[1;33m[\u001b[0m\u001b[0mrow_number\u001b[0m\u001b[1;33m,\u001b[0m\u001b[0mrow_number\u001b[0m\u001b[1;33m-\u001b[0m\u001b[1;36m1\u001b[0m\u001b[1;33m]\u001b[0m \u001b[1;33m=\u001b[0m \u001b[1;36m1\u001b[0m      \u001b[1;31m# fetch i-1\u001b[0m\u001b[1;33m\u001b[0m\u001b[0m\n\u001b[0;32m     36\u001b[0m                 \u001b[0mA\u001b[0m\u001b[1;33m[\u001b[0m\u001b[0mrow_number\u001b[0m\u001b[1;33m,\u001b[0m\u001b[0mrow_number\u001b[0m\u001b[1;33m-\u001b[0m\u001b[1;33m(\u001b[0m\u001b[0mnxy\u001b[0m\u001b[1;33m)\u001b[0m\u001b[1;33m]\u001b[0m \u001b[1;33m=\u001b[0m \u001b[1;36m1\u001b[0m \u001b[1;31m# fetch j-1\u001b[0m\u001b[1;33m\u001b[0m\u001b[0m\n",
      "\u001b[1;31mIndexError\u001b[0m: index 9999 is out of bounds for axis 1 with size 9999"
     ]
    }
   ],
   "source": [
    "u, T = ftcs(Ti,To,ui,pi,rho,rho_i,alpha,v,k,c,g,ya,H,delT,nt,dt,dxy,nxy)"
   ]
  },
  {
   "cell_type": "code",
   "execution_count": null,
   "metadata": {
    "collapsed": false
   },
   "outputs": [],
   "source": [
    "plt.figure(figsize=(8,5))\n",
    "plt.contourf(x,y,T,20,cmap=cm.viridis)\n",
    "plt.xlabel('$x$')\n",
    "plt.ylabel('$y$')\n",
    "plt.colorbar();\n"
   ]
  },
  {
   "cell_type": "code",
   "execution_count": null,
   "metadata": {
    "collapsed": false
   },
   "outputs": [],
   "source": [
    "print(T)"
   ]
  },
  {
   "cell_type": "code",
   "execution_count": null,
   "metadata": {
    "collapsed": false
   },
   "outputs": [],
   "source": [
    "print(ui)"
   ]
  },
  {
   "cell_type": "code",
   "execution_count": null,
   "metadata": {
    "collapsed": false
   },
   "outputs": [],
   "source": [
    "print(pi)"
   ]
  }
 ],
 "metadata": {
  "kernelspec": {
   "display_name": "Python 3",
   "language": "python",
   "name": "python3"
  },
  "language_info": {
   "codemirror_mode": {
    "name": "ipython",
    "version": 3
   },
   "file_extension": ".py",
   "mimetype": "text/x-python",
   "name": "python",
   "nbconvert_exporter": "python",
   "pygments_lexer": "ipython3",
   "version": "3.5.1"
  }
 },
 "nbformat": 4,
 "nbformat_minor": 0
}
