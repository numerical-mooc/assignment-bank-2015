{
 "cells": [
  {
   "cell_type": "markdown",
   "metadata": {},
   "source": [
    "# <span style=\"color:blue\">Rayleigh-Benard Convection</span>"
   ]
  },
  {
   "cell_type": "markdown",
   "metadata": {},
   "source": [
    "![alt text](images/Benard cells 3D.jpg)\n",
    "\n",
    "Natural convection is a mechanism where motion is induced in a fluid, not \n",
    "through artificial means but by the effects of bouyancy. One of the most commonly studied convection phenomenon, is the Rayleigh-Benard convection. When a thin layer of fluid is heated from below, once the temperature difference, between the top and bottom fluid layers, grows large enough, convection cells, also called Benard cells, form within the fluid. As a result, some interesting patterns can be observed in the fluid.\n",
    "\n",
    "![alt text](images/Bénard_cells_convection.ogv.jpg)\n",
    "\n",
    "The cells are named after, Henri Benard, who conducted some of the earliest experiments on convection during the 1900s. Inspired by Benard's experiments, in 1916, Baron Rayleigh, John William Strutt, approached the problem his own way. Rayleigh was more interested in the stability aspect of Benard's problem. He showed that when the temperature gradient is high enough, instability would occur, leading to the formation of Benard cells. This behaviour is governed by the Rayleigh number. A non dimensional parameter of fluids, that relates the fluids rate of expansion due to heating, with the fluids viscosity. When this exceeds a certain critical value, the thermal energy within the fluid becomes strong enough to overcome the viscous forces, leading to the onset of convection.\n",
    "\n",
    "$$Ra = \\frac{\\alpha \\Delta Tgh^3}{\\nu D }$$\n",
    "\n",
    "Where,\n",
    "                                $$\\alpha =  thermal\\  expansion\\ coefficient\\ $$                               \n",
    "                                $$\\nu = kinematic\\ viscosity\\$$\n",
    "                                 $$D = thermal\\ diffusivity\\$$\n",
    "\n",
    "\n",
    "                                \n",
    "Experimental analysis has shown that the critical number is dependant on the boundary conditions of the problem. For example, for a case where a fluid is placed between and plate and open air, the critical value is less than if it were to be placed between to rigid plates. For this case, we will be studying the latter case. It is easier to keep the temperature of the colder surface constant and uniform with these conditions. "
   ]
  },
  {
   "cell_type": "markdown",
   "metadata": {},
   "source": [
    "## Problem Setup"
   ]
  },
  {
   "cell_type": "markdown",
   "metadata": {},
   "source": [
    "For this case, we will be considering a layer of fluid placed between to rigid plates.\n",
    "\n",
    "![alt text](images/Set-up.jpg)\n",
    "\n",
    "The length of the fluid is assumed to be sufficiently larger than the height, so that it can be considered infinite. Benard's original experiments, used a height 1 mm and a length of 20 cm.(Benard cells and Taylor Vortices)\n",
    "\n",
    "There are four boundary conditions. Two on each of the rigid plates. The temperatures at the plates are assumed to be constant and the no slip condition is applied.\n",
    "\n",
    "$$T_{(x,t)}|_{y=0} = T_{o}$$\n",
    "$$T_{(x,t)}|_{y=h} = T_{1}$$\n",
    "$$u_{(x,t)}|_{y=0} = 0$$\n",
    "$$u_{(x,t)}|_{y=h} = 0$$\n",
    "\n",
    "For initial conditions, the fluid is at rest and the temperature is assumed to be linearly distributed.\n",
    "\n",
    "$$T_{(x,t)}|_{t=0} = T_{o} + \\frac{y}{h}(T_{1}-T{o})$$\n",
    "$$u_{(x,t)}|_{t=0} = 0$$"
   ]
  },
  {
   "cell_type": "markdown",
   "metadata": {},
   "source": [
    "## Governing Equations"
   ]
  },
  {
   "cell_type": "markdown",
   "metadata": {},
   "source": [
    "The governing equations for this case, are derived by applying the Boussinesq approximation to the Navier-Stokes equations. The Boussinesq approximation neglects all density changes in the momentum and continuity equations, except for the gravity term. The assumption is, that the density changes are small compared to the velocity gradients. The gravitational constant is, however, strong enough to make it relevant.\n",
    "\n",
    "$$\\nabla \\cdot u = 0$$\n",
    "$$\\frac{\\partial u}{\\partial t} + u\\cdot \\nabla u = -\\frac{1}{\\rho_{o}}\\nabla p + \\frac{\\rho}{\\rho_{o}}g + \\nu\\nabla^2u$$\n",
    "\n",
    "Under the same assumption, the density can be shown to have a linear dependancy on the temperature.\n",
    "\n",
    "$$\\rho = \\rho_{o}(1-\\alpha(T-T_{o})$$\n",
    "\n",
    "And finally, the thermal energy equation can be approximated to a relatively familiar form.\n",
    "\n",
    "$$\\frac{\\partial T}{\\partial t} + u\\cdot \\nabla T = D\\nabla^2T$$\n",
    "\n",
    "Where the thermal diffusivity, $$D = \\frac{k}{\\rho c}$$\n",
    "\n",
    "\n",
    "Also, for this particular case, I will be modelling water. For temperatures between 0 and 370 degrees C, the viscosity of water can be found using the following relationship.\n",
    "\n",
    "$$\\nu = \\frac{1}{rho}x2.414x10^{-5}x10^{\\frac{247.8}{T-140}}$$"
   ]
  },
  {
   "cell_type": "markdown",
   "metadata": {},
   "source": [
    "## Discretization"
   ]
  },
  {
   "cell_type": "markdown",
   "metadata": {},
   "source": [
    "For this problem, I have decided to apply a forward-time central-space discretization scheme. As the boundary conditions for the pressure, depend on the fluid velocity, which is in turn dependant on the pressure, they are difficult to uncouple. One way to decouple the pressure and velocity terms, is by using Chorin's projection method. This is a two step process, not unlike the MacCormack method.\n",
    "\n",
    "An intermediate velocity term is first calcualted, free of the pressure gradient. \n",
    "\n",
    "$$\\frac{\\partial u}{\\partial t} + u\\cdot \\nabla u = \\frac{\\rho}{\\rho_{o}}g + \\nu\\nabla^2u$$\n",
    "\n",
    "This is then used to calculate the pressure gradient for the next time step, which calcualates the next iteration of the velocity field. To find the intermediate velocity, 'u_star', we discretize the above equation using forward-time central space scheme.\n",
    "\n",
    "$$u_{i,j}^{*} = u_{I,j}^{n} + dt(- \\frac{u_{i,j}^{n}}{2\\delta}(u_{i+1,j}^{n} - u_{i-1,j}^{n} + u_{i,j+1}^{n} - u_{i,j-1}^{n}) + \\frac{\\nu_{i,j}}{\\delta^2}(u_{i+1,j}^{n} + u_{i-1,j}^{n} + u_{i,j+1}^{n} + u_{i,j-1}^{n} - 4u_{i,j}^{n}))$$\n",
    "\n",
    "Where,\n",
    "$$\\delta = dx = dy$$\n",
    "\n",
    "On taking the divergence of the momentum equation and using the continuity equation, we end up with a Poisson's equation, relating the pressure with u_star.\n",
    "\n",
    "$$-\\nabla^2 p = -\\frac{\\rho_{o}}{dt}\\nabla \\cdot u^{*}$$\n",
    "\n",
    "In discretized form,\n",
    "\n",
    "$$p_{i,j}^{n+1} = \\frac{1}{4}(p_{i+1,j}^{n} + p_{i-1,j}^{n} + p_{i,j+1}^{n} + p_{i,j-1}^{n} - \\frac{\\rho_{o}}{dt}\\delta u_{i,j}^{*})$$\n",
    "\n",
    "This equation can be solved using the iterative method learned in module 5. Once the pressure distribution is found, we are finally ready to calculate the actual velocity and the temperature for the next time step.\n",
    "\n",
    "$$u_{i,j}^{n+1} = u_{i,j}^{n} + dt(-\\frac{u_{i,j}^{n}}{2\\delta}(u_{i+1,j}^{n} - u_{i-1,j}^{n} + u_{i,j+1}^{n} - u_{i,j-1}^{n}) - \\frac{1}{2\\rho_{o}\\delta}(p_{i+1,j}^{n} - p_{i-1,j}^{n} + p_{i,j+1}^{n} - p_{i,j-1}^{n}) + \\frac{\\nu_{i,j}}{\\delta^2}(u_{i+1,j}^{n} + u_{i-1,j}^{n} + u_{i,j+1}^{n} + u_{i,j-1}^{n} - 4u_{i,j}^{n})$$\n",
    "\n",
    "$$T_{i,j}^{n+1} = T_{i,j}^{n} + dt(-\\frac{u_{i,j}^{n}}{2\\delta}(T_{i+1,j}^{n} - T_{i-1,j}^{n} + T_{i,j+1}^{n} - T_{i,j-1}^{n}) + \\frac{k}{c\\rho_{i,j}\\delta^2}(T_{i+1,j}^{n} + T_{i-1,j}^{n} + T_{i,j+1}^{n} + T_{i,j-1}^{n} - 4T_{i,j}^{n})$$"
   ]
  },
  {
   "cell_type": "markdown",
   "metadata": {},
   "source": [
    "## Numerical Simulation"
   ]
  },
  {
   "cell_type": "markdown",
   "metadata": {},
   "source": [
    "We start by importing our usual libraries, with the addition of the laplace_helper provided for module 5."
   ]
  },
  {
   "cell_type": "code",
   "execution_count": 51,
   "metadata": {
    "collapsed": false
   },
   "outputs": [],
   "source": [
    "import numpy as np\n",
    "import matplotlib.pyplot as plt\n",
    "from mpl_toolkits.mplot3d import Axes3D\n",
    "%matplotlib inline\n",
    "from matplotlib import rcParams, cm\n",
    "rcParams['font.family'] = 'serif'\n",
    "rcParams['font.size'] = 16\n",
    "from laplace_helper import L2_rel_error"
   ]
  },
  {
   "cell_type": "markdown",
   "metadata": {},
   "source": [
    "### Setting up the problem."
   ]
  },
  {
   "cell_type": "code",
   "execution_count": 52,
   "metadata": {
    "collapsed": false
   },
   "outputs": [
    {
     "name": "stdout",
     "output_type": "stream",
     "text": [
      "delT = 120.92877677020469 Tl = 140.9287767702047\n"
     ]
    }
   ],
   "source": [
    "##Domain setup\n",
    "L = 1                                    #Domain Length\n",
    "H = 0.001                                #Domain Height\n",
    "\n",
    "nxy = 51                                 #Grid points for x and y\n",
    "nt = 3000                                #Time steps\n",
    "\n",
    "dxy = L/(nxy-1)                          #Grid spacing for x and y\n",
    "\n",
    "x = np.linspace(0,L,nxy)\n",
    "y = np.linspace(0,H,nxy)\n",
    "\n",
    "\n",
    "##Fluid Properties\n",
    "alpha = 207*10**(-6)                     #Volume expansion coefficient of water @ 20 C\n",
    "k = 0.6                                  #Thermal conductivity of water @ 20 C\n",
    "\n",
    "ReC = 1708                               #Critical Rayleigh number for two rigid body boundary condition\n",
    "g = 9.81\n",
    "D = 1.43E-7                              #Thermal diffusivity of water\n",
    "c = k/D\n",
    "rho_i = 1000                             #Density of water @ 20 C\n",
    "\n",
    "\n",
    "\n",
    "\n",
    "##Initial Parameters\n",
    "\n",
    "\n",
    "To = 20                                                     #Temperature of colder surface\n",
    "vo = 2.414*10**(-5) * 10**(247.8/(To + 273 - 140)) / rho_i  #kinematic viscosity of water at 20 C\n",
    "delT = (ReC*vo*1.43*10**(-7))/(alpha*g*H**3)                #Critical temperature gradient\n",
    "Th = 70                                                     #Temperature of hotter surface\n",
    "T = np.ones((nxy, nxy))*(To + (H-ya)/H*(Th-To))             #Initial temperature distribution\n",
    "\n",
    "\n",
    "rho = np.zeros((nxy,nxy), dtype=float)\n",
    "rho = rho_i*(1-alpha*(T - To))                              #Density of fluid body\n",
    "\n",
    "\n",
    "v = np.ones((nxy,nxy))*2.414*10**(-5) * 10**(247.8/(T + 273 - 140)) / rho  #kinematic viscosity of water\n",
    "\n",
    "ya = np.ones((nxy,nxy))\n",
    "for i in range(nxy):\n",
    "    ya[:,i] = y\n",
    "\n",
    "p = np.zeros((nxy,nxy), dtype=float)\n",
    "p[:,:] = rho[:,:] * (H-ya[:,:]) * g                          #Hydrostatic ressure distribution\n",
    "\n",
    "u = np.zeros((nxy,nxy), dtype=float)                         #Fluid velocity\n",
    "\n",
    "print('delT =',delT, 'Tl =',To+delT)"
   ]
  },
  {
   "cell_type": "code",
   "execution_count": 53,
   "metadata": {
    "collapsed": false
   },
   "outputs": [
    {
     "name": "stdout",
     "output_type": "stream",
     "text": [
      "dt = 0.001\n"
     ]
    }
   ],
   "source": [
    "# stability\n",
    "sigma = 0.00005\n",
    "#dt = sigma*min(dxy,dxy)**2/D\n",
    "dt = 0.001\n",
    "\n",
    "print('dt =',dt)"
   ]
  },
  {
   "cell_type": "code",
   "execution_count": 54,
   "metadata": {
    "collapsed": false
   },
   "outputs": [
    {
     "name": "stdout",
     "output_type": "stream",
     "text": [
      "dxy = 0.02\n"
     ]
    }
   ],
   "source": [
    "print('dxy =', dxy)"
   ]
  },
  {
   "cell_type": "markdown",
   "metadata": {},
   "source": [
    "### Solving the Poisson Equation\n",
    "The poisson equation solver from module 5, has been slightly modified to work for this problem."
   ]
  },
  {
   "cell_type": "code",
   "execution_count": 55,
   "metadata": {
    "collapsed": true
   },
   "outputs": [],
   "source": [
    "def poisson_IG(p, nxy, dxy, x, y, rho_i, u, dt):\n",
    "    '''Initialize the Poisson problem initial guess and other variables\n",
    "    Parameters:\n",
    "    ----------\n",
    "    nxy : int\n",
    "        number of mesh points in x and y\n",
    "    X  : 2D array of floats\n",
    "        X-position of mesh\n",
    "    Y  : 2D array of floats\n",
    "        Y-position of mesh\n",
    "    \n",
    "    Returns:\n",
    "    -------\n",
    "    p_i: 2D array of floats\n",
    "        initial guess of p\n",
    "    b  : 2D array of floats\n",
    "        forcing function\n",
    "    dx : float\n",
    "        mesh size in x direction\n",
    "    dy : float\n",
    "        mesh size in y direction\n",
    "    '''\n",
    "\n",
    "\n",
    "    # Mesh\n",
    "    X,Y = np.meshgrid(x,y)\n",
    "\n",
    "    # Intermidiate velocity\n",
    "    b = (rho_i/dt) * (u[2:,1:-1] - u[:-2,1:-1] + u[1:-1,2:] - u[1:-1,:-2])\n",
    "\n",
    "    # Initialize\n",
    "    p_i  = p.copy()\n",
    "\n",
    "    return X, Y, p_i, b\n"
   ]
  },
  {
   "cell_type": "code",
   "execution_count": 56,
   "metadata": {
    "collapsed": true
   },
   "outputs": [],
   "source": [
    "def poisson_2d(p, b, dxy, l2_target):\n",
    "    '''Performs Jacobi relaxation\n",
    "    \n",
    "    Parameters:\n",
    "    ----------\n",
    "    p : 2D array of floats\n",
    "        Initial guess\n",
    "    b : 2D array of floats\n",
    "        Source term\n",
    "    dxy: float\n",
    "        Mesh spacing in x and y direction\n",
    "    l2_target: float\n",
    "        Target difference between two consecutive iterates\n",
    "    \n",
    "    Returns:\n",
    "    -------\n",
    "    p: 2D array of float\n",
    "        Distribution after relaxation\n",
    "    '''\n",
    "\n",
    "    l2_norm = 1\n",
    "    iterations = 0\n",
    "    l2_conv = []\n",
    "    \n",
    "    while l2_norm > l2_target:\n",
    "\n",
    "        pd = p.copy()\n",
    "\n",
    "        p[1:-1,1:-1] = 1/4*\\\n",
    "                        ((pd[1:-1,2:]+pd[1:-1,:-2]) +\\\n",
    "                        (pd[2:,1:-1] + pd[:-2,1:-1]) -\\\n",
    "                         b*dxy)\n",
    "    \n",
    "        # BCs are automatically enforced\n",
    "        \n",
    "        l2_norm = L2_rel_error(pd,p)\n",
    "        iterations += 1\n",
    "        l2_conv.append(l2_norm)\n",
    "    \n",
    "    return p"
   ]
  },
  {
   "cell_type": "markdown",
   "metadata": {},
   "source": [
    "### Numerical Scheme\n",
    "\n",
    "Creating the function to solve the forward-time backwards space scheme"
   ]
  },
  {
   "cell_type": "code",
   "execution_count": 57,
   "metadata": {
    "collapsed": false
   },
   "outputs": [],
   "source": [
    "def ftcs(T, To, Th, u, p, rho, rho_i, alpha, v, k, c, g, ya, H, delT, nt, dt, dxy, nxy, x, y):\n",
    "    \n",
    "    for n in range(nt):\n",
    "\n",
    "        un = u.copy()\n",
    "        u_star = un.copy()\n",
    "        Tn = T.copy()\n",
    "        pn = p.copy()\n",
    "        vn = v.copy()\n",
    "        \n",
    "        #Calculating an intermediate velocity\n",
    "        u_star[1:-1,1:-1] = un[1:-1,1:-1] + dt*(-u[1:-1,1:-1]/(2*dxy) * (u[2:,1:-1] - u[:-2,1:-1] + u[1:-1,2:] - un[1:-1,:-2])\\\n",
    "                            + v[1:-1,1:-1]/(dxy**2) * (un[2:,1:-1] + un[:-2,1:-1] + un[1:-1,2:] + un[1:-1,:-2] - 4*un[1:-1,1:-1])\\\n",
    "                                                 + rho[1:-1,1:-1]/rho_i * g)\n",
    "        u_star[-1,:] = 0        #Top Boundary\n",
    "        u_star[0,:] = 0         #Bottom Boundary\n",
    "        \n",
    "        #Solving the poisson equation\n",
    "        X, Y, ps, b = poisson_IG(p, nxy, dxy, x, y, rho_i, u_star, dt)\n",
    "        p = poisson_2d(ps, b, dxy, 2e-4)\n",
    "        \n",
    "        #Actual velocity for next time step\n",
    "        u[1:-1,1:-1] = u_star[1:-1,1:-1] - dt/(2*dxy)*(p[2:,1:-1] - p[:-2,1:-1] + p[1:-1,2:] - p[1:-1,:-2])\n",
    "        \n",
    "        u[-1,:] = 0             #Top Boundary\n",
    "        u[0,:] = 0              #Bottom Boundary\n",
    "        \n",
    "        T[1:-1,1:-1] = T[1:-1,1:-1] + dt*(-u[1:-1,1:-1]/(2*dxy) * (T[2:,1:-1]-T[:-2,1:-1]+T[1:-1,2:]-T[1:-1,:-2])\\\n",
    "                                         + k/(rho[1:-1,1:-1]*c*dxy**2) * (T[2:,1:-1] + T[:-2,1:-1] + T[1:-1,2:] + T[1:-1,:-2]\\\n",
    "                                                                         -4*T[1:-1,1:-1]))\n",
    "    \n",
    "        T[0,:] = Th             #Bottom Boundary\n",
    "        T[-1,:] = To            #top Boundary\n",
    "        \n",
    "        rho[1:-1,1:-1] = rho_i*(1- alpha*(T[1:-1,1:-1] - To))\n",
    "        \n",
    "        v[1:-1,1:-1] = 2.414*10**(-5) * 10**(247.8/(T[1:-1,1:-1] + 273 - 140)) / rho[1:-1,1:-1]\n",
    "                                                \n",
    "    return p, u, T"
   ]
  },
  {
   "cell_type": "code",
   "execution_count": 58,
   "metadata": {
    "collapsed": false
   },
   "outputs": [
    {
     "name": "stderr",
     "output_type": "stream",
     "text": [
      "C:\\Users\\amiya\\Documents\\GitHub\\assignment-bank-2015\\Amiya Project\\laplace_helper.py:17: RuntimeWarning: overflow encountered in square\n",
      "  return numpy.sqrt(numpy.sum((p - pn)**2)/numpy.sum(pn**2))\n",
      "C:\\Users\\amiya\\Documents\\GitHub\\assignment-bank-2015\\Amiya Project\\laplace_helper.py:17: RuntimeWarning: invalid value encountered in double_scalars\n",
      "  return numpy.sqrt(numpy.sum((p - pn)**2)/numpy.sum(pn**2))\n",
      "C:\\Users\\amiya\\Anaconda3\\lib\\site-packages\\ipykernel\\__main__.py:12: RuntimeWarning: overflow encountered in multiply\n",
      "C:\\Users\\amiya\\Anaconda3\\lib\\site-packages\\ipykernel\\__main__.py:29: RuntimeWarning: invalid value encountered in subtract\n",
      "C:\\Users\\amiya\\Anaconda3\\lib\\site-packages\\ipykernel\\__main__.py:29: RuntimeWarning: invalid value encountered in add\n",
      "C:\\Users\\amiya\\Anaconda3\\lib\\site-packages\\ipykernel\\__main__.py:21: RuntimeWarning: invalid value encountered in subtract\n"
     ]
    }
   ],
   "source": [
    "p, u, T = ftcs(T, To, Th, u, p, rho, rho_i, alpha, v, k, c, g, ya, H, delT, nt, dt, dxy, nxy, x, y)"
   ]
  },
  {
   "cell_type": "code",
   "execution_count": 59,
   "metadata": {
    "collapsed": false
   },
   "outputs": [
    {
     "data": {
      "image/png": "[encoded data removed]",
      "text/plain": [
       "<matplotlib.figure.Figure at 0xec97db8b70>"
      ]
     },
     "metadata": {},
     "output_type": "display_data"
    }
   ],
   "source": [
    "plt.figure(figsize=(8,5))\n",
    "plt.contourf(x,y,T,50,cmap=cm.viridis)\n",
    "plt.xlabel('$x$')\n",
    "plt.ylabel('$y$')\n",
    "plt.colorbar();\n"
   ]
  },
  {
   "cell_type": "markdown",
   "metadata": {},
   "source": [
    "## Conclusions"
   ]
  },
  {
   "cell_type": "markdown",
   "metadata": {},
   "source": [
    "### References\n",
    "\n",
    "[1] - Koschmieder, E. L. Bénard Cells and Taylor Vortices. Cambridge: Cambridge UP, 1993. Print. \n",
    "[2] - Sandberg, M., Berg, N. and Johnsson G. Rayleigh-Benard convection. Royal Institute of Technology, 2011\n",
    "[3] Devendran, D. and Corona, E. Computational Fluid Dynamics Reading Group: Projection Methods\n",
    "[4] Thermal instabilities: Benard convection"
   ]
  }
 ],
 "metadata": {
  "kernelspec": {
   "display_name": "Python 3",
   "language": "python",
   "name": "python3"
  },
  "language_info": {
   "codemirror_mode": {
    "name": "ipython",
    "version": 3
   },
   "file_extension": ".py",
   "mimetype": "text/x-python",
   "name": "python",
   "nbconvert_exporter": "python",
   "pygments_lexer": "ipython3",
   "version": "3.5.1"
  }
 },
 "nbformat": 4,
 "nbformat_minor": 0
}
