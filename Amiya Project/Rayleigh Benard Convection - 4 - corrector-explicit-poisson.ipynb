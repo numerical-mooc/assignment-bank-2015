{
 "cells": [
  {
   "cell_type": "code",
   "execution_count": 135,
   "metadata": {
    "collapsed": false
   },
   "outputs": [],
   "source": [
    "import numpy as np\n",
    "import matplotlib.pyplot as plt\n",
    "from mpl_toolkits.mplot3d import Axes3D\n",
    "%matplotlib inline\n",
    "from matplotlib import rcParams, cm\n",
    "rcParams['font.family'] = 'serif'\n",
    "rcParams['font.size'] = 16\n",
    "from laplace_helper import L2_rel_error"
   ]
  },
  {
   "cell_type": "code",
   "execution_count": 136,
   "metadata": {
    "collapsed": false
   },
   "outputs": [
    {
     "name": "stdout",
     "output_type": "stream",
     "text": [
      "delT = 120.92877677020469 Tl = 140.9287767702047\n",
      "[[  4.05457457e-07   4.05457457e-07   4.05457457e-07 ...,   4.05457457e-07\n",
      "    4.05457457e-07   4.05457457e-07]\n",
      " [  4.11052677e-07   4.11052677e-07   4.11052677e-07 ...,   4.11052677e-07\n",
      "    4.11052677e-07   4.11052677e-07]\n",
      " [  4.16782828e-07   4.16782828e-07   4.16782828e-07 ...,   4.16782828e-07\n",
      "    4.16782828e-07   4.16782828e-07]\n",
      " ..., \n",
      " [  9.58576501e-07   9.58576501e-07   9.58576501e-07 ...,   9.58576501e-07\n",
      "    9.58576501e-07   9.58576501e-07]\n",
      " [  9.81562783e-07   9.81562783e-07   9.81562783e-07 ...,   9.81562783e-07\n",
      "    9.81562783e-07   9.81562783e-07]\n",
      " [  1.00541442e-06   1.00541442e-06   1.00541442e-06 ...,   1.00541442e-06\n",
      "    1.00541442e-06   1.00541442e-06]]\n"
     ]
    }
   ],
   "source": [
    "H = 0.25\n",
    "L = 1\n",
    "\n",
    "alpha = 207*10**(-6) #Volume expansion coefficient of water @ 20 C\n",
    "k = 0.6     #Thermal conductivity of water @ 20 C\n",
    "\n",
    "#ReC = 1100.65 #Critical Rayleigh number for one free and one rigid boundary condition\n",
    "ReC = 1708     #Critical Rayleigh number for two rigid body boundary condition\n",
    "g = 9.81\n",
    "D = 1.43E-7  #Thermal diffusivity of water\n",
    "c = k/D\n",
    "rho_i = 1000   #Density of water @ 20 C\n",
    "\n",
    "L = 1\n",
    "H = 0.001\n",
    "\n",
    "nxy = 51\n",
    "nt = 3000\n",
    "\n",
    "dxy = H/(nxy-1)\n",
    "\n",
    "x = np.linspace(0,L,nxy)\n",
    "y = np.linspace(0,H,nxy)\n",
    "ya = np.ones((nxy,nxy))\n",
    "for i in range(nxy):\n",
    "    ya[:,i] = y\n",
    "#Change to Kelivin?\n",
    "To = 20\n",
    "vo = 2.414*10**(-5) * 10**(247.8/(To + 273 - 140)) / rho_i  #initial kinematic viscosity of water\n",
    "delT = (ReC*vo*1.43*10**(-7))/(alpha*g*H**3)\n",
    "T = np.ones((nxy, nxy))*(To + (H-ya)/H*(70-To))\n",
    "#Ti[-1,:] = To + 50\n",
    "\n",
    "rho = np.zeros((nxy,nxy), dtype=float)\n",
    "rho = rho_i*(1-alpha*(T - To))\n",
    "\n",
    "v = np.ones((nxy,nxy))*2.414*10**(-5) * 10**(247.8/(T + 273 - 140)) / rho  #kinematic viscosity of water\n",
    "\n",
    "p = np.zeros((nxy,nxy), dtype=float)\n",
    "p[:,:] = rho[:,:] * (H-ya[:,:]) * g\n",
    "\n",
    "u = np.zeros((nxy,nxy), dtype=float)\n",
    "\n",
    "print('delT =',delT, 'Tl =',To+delT)\n",
    "print(v)\n",
    "#print('x =', x, 'y =', y)"
   ]
  },
  {
   "cell_type": "code",
   "execution_count": 137,
   "metadata": {
    "collapsed": false
   },
   "outputs": [
    {
     "name": "stdout",
     "output_type": "stream",
     "text": [
      "0.001\n"
     ]
    }
   ],
   "source": [
    "# stability\n",
    "sigma = 0.00005\n",
    "#dt = sigma*min(dxy,dxy)**2/D\n",
    "dt = 0.001\n",
    "\n",
    "print(dt)"
   ]
  },
  {
   "cell_type": "code",
   "execution_count": 138,
   "metadata": {
    "collapsed": false
   },
   "outputs": [
    {
     "name": "stdout",
     "output_type": "stream",
     "text": [
      "2e-05\n"
     ]
    }
   ],
   "source": [
    "print(dxy)"
   ]
  },
  {
   "cell_type": "code",
   "execution_count": 139,
   "metadata": {
    "collapsed": true
   },
   "outputs": [],
   "source": [
    "def poisson_IG(nxy, dxy, x, y, rho_i, u, dt):\n",
    "    '''Initialize the Poisson problem initial guess and other variables\n",
    "    Parameters:\n",
    "    ----------\n",
    "    nx : int\n",
    "        number of mesh points in x\n",
    "    ny : int\n",
    "        number of mesh points in y\n",
    "    xmax: float\n",
    "        maximum value of x in mesh\n",
    "    xmin: float\n",
    "        minimum value of x in mesh\n",
    "    ymax: float\n",
    "        maximum value of y in mesh\n",
    "    ymin: float\n",
    "        minimum value of y in mesh\n",
    "    \n",
    "    Returns:\n",
    "    -------\n",
    "    X  : 2D array of floats\n",
    "        X-position of mesh\n",
    "    Y  : 2D array of floats\n",
    "        Y-position of mesh\n",
    "    p_i: 2D array of floats\n",
    "        initial guess of p\n",
    "    b  : 2D array of floats\n",
    "        forcing function\n",
    "    dx : float\n",
    "        mesh size in x direction\n",
    "    dy : float\n",
    "        mesh size in y direction\n",
    "    '''\n",
    "\n",
    "\n",
    "    # Mesh\n",
    "    X,Y = np.meshgrid(x,y)\n",
    "\n",
    "    # Source\n",
    "    b = (rho_i/dt) * (u[2:,1:-1] - u[:-2,1:-1] + u[1:-1,2:] - u[1:-1,:-2])\n",
    "\n",
    "    # Initialize\n",
    "    p_i  = np.zeros((nxy,nxy))\n",
    "\n",
    "    return X, Y, p_i, b\n"
   ]
  },
  {
   "cell_type": "code",
   "execution_count": 140,
   "metadata": {
    "collapsed": true
   },
   "outputs": [],
   "source": [
    "def poisson_2d(p, b, dxy, l2_target):\n",
    "    '''Performs Jacobi relaxation\n",
    "    \n",
    "    Parameters:\n",
    "    ----------\n",
    "    p : 2D array of floats\n",
    "        Initial guess\n",
    "    b : 2D array of floats\n",
    "        Source term\n",
    "    dx: float\n",
    "        Mesh spacing in x direction\n",
    "    dy: float\n",
    "        Mesh spacing in y direction\n",
    "    l2_target: float\n",
    "        Target difference between two consecutive iterates\n",
    "    \n",
    "    Returns:\n",
    "    -------\n",
    "    p: 2D array of float\n",
    "        Distribution after relaxation\n",
    "    '''\n",
    "\n",
    "    l2_norm = 1\n",
    "    iterations = 0\n",
    "    l2_conv = []\n",
    "    \n",
    "    while l2_norm > l2_target:\n",
    "\n",
    "        pd = p.copy()\n",
    "\n",
    "        p[1:-1,1:-1] = 1/4*\\\n",
    "                        ((pd[1:-1,2:]+pd[1:-1,:-2]) +\\\n",
    "                        (pd[2:,1:-1] + pd[:-2,1:-1]) -\\\n",
    "                         b*dxy)\n",
    "    \n",
    "        # BCs are automatically enforced\n",
    "        \n",
    "        l2_norm = L2_rel_error(pd,p)\n",
    "        iterations += 1\n",
    "        l2_conv.append(l2_norm)\n",
    "    \n",
    "    return p"
   ]
  },
  {
   "cell_type": "code",
   "execution_count": 141,
   "metadata": {
    "collapsed": false
   },
   "outputs": [],
   "source": [
    "def ftcs(T, To, u, p, rho, rho_i, alpha, v, k, c, g, ya, H, delT, nt, dt, dxy, nxy, x, y):\n",
    "    \n",
    "    for n in range(nt):\n",
    "\n",
    "        un = u.copy()\n",
    "        u_star = un.copy()\n",
    "        Tn = T.copy()\n",
    "        pn = p.copy()\n",
    "        vn = v.copy()\n",
    "        \n",
    "        u_star[1:-1,1:-1] = un[1:-1,1:-1] + dt*(-u[1:-1,1:-1]/(2*dxy) * (u[2:,1:-1] - u[:-2,1:-1] + u[1:-1,2:] - un[1:-1,:-2])\\\n",
    "                            + v[1:-1,1:-1]/(dxy**2) * (un[2:,1:-1] + un[:-2,1:-1] + un[1:-1,2:] + un[1:-1,:-2] - 4*un[1:-1,1:-1])\\\n",
    "                                                 + rho[1:-1,1:-1]/rho_i * g)\n",
    "        #(1/(rho_i*dxy))*(pn[2:,1:-1]-pn[-2,1:-1]\\\n",
    "        #                                                                                     +pn[1:-1,2:]-pn[1:-1,:-2])\n",
    "        u_star[-1,:] = 0 #Top Boundary\n",
    "        u_star[0,:] = 0   #Bottom Boundary\n",
    "        \n",
    "        X, Y, ps, b = poisson_IG(nxy, dxy, x, y, rho_i, u_star, dt)\n",
    "        p = poisson_2d(ps, b, dxy, 2e-4)\n",
    "        \n",
    "        \n",
    "        u[1:-1,1:-1] = u_star[1:-1,1:-1] - dt/(2*dxy)*(p[2:,1:-1] - p[:-2,1:-1] + p[1:-1,2:] - p[1:-1,:-2])\n",
    "        \n",
    "        u[-1,:] = 0 #Top Boundary\n",
    "        u[0,:] = 0   #Bottom Boundary\n",
    "        \n",
    "        T[1:-1,1:-1] = T[1:-1,1:-1] + dt*(-u[1:-1,1:-1]/(2*dxy) * (T[2:,1:-1]-T[:-2,1:-1]+T[1:-1,2:]-T[1:-1,:-2])\\\n",
    "                                         + k/(rho[1:-1,1:-1]*c*dxy**2) * (T[2:,1:-1] + T[:-2,1:-1] + T[1:-1,2:] + T[1:-1,:-2]\\\n",
    "                                                                         -4*T[1:-1,1:-1]))\n",
    "    \n",
    "        T[0,:] = To + 50 #Bottom Boundary\n",
    "        T[-1,:] = To   #top Boundary\n",
    "        \n",
    "        rho[1:-1,1:-1] = rho_i*(1- alpha*(T[1:-1,1:-1] - To))\n",
    "        \n",
    "        v[1:-1,1:-1] = 2.414*10**(-5) * 10**(247.8/(T[1:-1,1:-1] + 273 - 140)) / rho[1:-1,1:-1]\n",
    "        \n",
    "        \n",
    "        #del u = 0\n",
    "        #u[1:,1:] = 0.5*(u[:-1,1:] + u[1:,:-1])\n",
    "        \n",
    "        \n",
    "\n",
    "                                           \n",
    "    return p, u, T"
   ]
  },
  {
   "cell_type": "code",
   "execution_count": 142,
   "metadata": {
    "collapsed": false
   },
   "outputs": [
    {
     "name": "stderr",
     "output_type": "stream",
     "text": [
      "C:\\Users\\amiya\\Documents\\GitHub\\assignment-bank-2015\\Amiya Project\\laplace_helper.py:17: RuntimeWarning: overflow encountered in square\n",
      "  return numpy.sqrt(numpy.sum((p - pn)**2)/numpy.sum(pn**2))\n",
      "C:\\Users\\amiya\\Documents\\GitHub\\assignment-bank-2015\\Amiya Project\\laplace_helper.py:17: RuntimeWarning: invalid value encountered in double_scalars\n",
      "  return numpy.sqrt(numpy.sum((p - pn)**2)/numpy.sum(pn**2))\n",
      "C:\\Users\\amiya\\Anaconda3\\lib\\site-packages\\ipykernel\\__main__.py:26: RuntimeWarning: overflow encountered in multiply\n",
      "C:\\Users\\amiya\\Anaconda3\\lib\\site-packages\\ipykernel\\__main__.py:11: RuntimeWarning: overflow encountered in multiply\n",
      "C:\\Users\\amiya\\Anaconda3\\lib\\site-packages\\ipykernel\\__main__.py:11: RuntimeWarning: invalid value encountered in add\n",
      "C:\\Users\\amiya\\Anaconda3\\lib\\site-packages\\ipykernel\\__main__.py:39: RuntimeWarning: invalid value encountered in subtract\n",
      "C:\\Users\\amiya\\Anaconda3\\lib\\site-packages\\ipykernel\\__main__.py:39: RuntimeWarning: invalid value encountered in add\n",
      "C:\\Users\\amiya\\Anaconda3\\lib\\site-packages\\ipykernel\\__main__.py:21: RuntimeWarning: invalid value encountered in subtract\n",
      "C:\\Users\\amiya\\Anaconda3\\lib\\site-packages\\ipykernel\\__main__.py:26: RuntimeWarning: invalid value encountered in subtract\n",
      "C:\\Users\\amiya\\Anaconda3\\lib\\site-packages\\ipykernel\\__main__.py:26: RuntimeWarning: invalid value encountered in add\n",
      "C:\\Users\\amiya\\Anaconda3\\lib\\site-packages\\ipykernel\\__main__.py:26: RuntimeWarning: invalid value encountered in multiply\n",
      "C:\\Users\\amiya\\Anaconda3\\lib\\site-packages\\ipykernel\\__main__.py:11: RuntimeWarning: invalid value encountered in multiply\n",
      "C:\\Users\\amiya\\Anaconda3\\lib\\site-packages\\ipykernel\\__main__.py:39: RuntimeWarning: overflow encountered in multiply\n",
      "C:\\Users\\amiya\\Anaconda3\\lib\\site-packages\\ipykernel\\__main__.py:26: RuntimeWarning: overflow encountered in true_divide\n",
      "C:\\Users\\amiya\\Anaconda3\\lib\\site-packages\\ipykernel\\__main__.py:11: RuntimeWarning: overflow encountered in true_divide\n",
      "C:\\Users\\amiya\\Anaconda3\\lib\\site-packages\\ipykernel\\__main__.py:11: RuntimeWarning: invalid value encountered in subtract\n",
      "C:\\Users\\amiya\\Anaconda3\\lib\\site-packages\\ipykernel\\__main__.py:21: RuntimeWarning: invalid value encountered in add\n"
     ]
    }
   ],
   "source": [
    "p, u, T = ftcs(T, To, u, p, rho, rho_i, alpha, v, k, c, g, ya, H, delT, nt, dt, dxy, nxy, x, y)"
   ]
  },
  {
   "cell_type": "code",
   "execution_count": 143,
   "metadata": {
    "collapsed": false
   },
   "outputs": [
    {
     "name": "stdout",
     "output_type": "stream",
     "text": [
      "[[  0.   0.   0. ...,   0.   0.   0.]\n",
      " [  0.  nan  nan ...,  nan  nan   0.]\n",
      " [  0.  nan  nan ...,  nan  nan   0.]\n",
      " ..., \n",
      " [  0.  nan  nan ...,  nan  nan   0.]\n",
      " [  0.  nan  nan ...,  nan  nan   0.]\n",
      " [  0.   0.   0. ...,   0.   0.   0.]]\n"
     ]
    }
   ],
   "source": [
    "print(u)"
   ]
  },
  {
   "cell_type": "code",
   "execution_count": 144,
   "metadata": {
    "collapsed": false
   },
   "outputs": [
    {
     "name": "stdout",
     "output_type": "stream",
     "text": [
      "[[  0.   0.   0. ...,   0.   0.   0.]\n",
      " [  0.  nan  nan ...,  nan  nan   0.]\n",
      " [  0.  nan  nan ...,  nan  nan   0.]\n",
      " ..., \n",
      " [  0.  nan  nan ...,  nan  nan   0.]\n",
      " [  0.  nan  nan ...,  nan  nan   0.]\n",
      " [  0.   0.   0. ...,   0.   0.   0.]]\n"
     ]
    }
   ],
   "source": [
    "print(p)"
   ]
  },
  {
   "cell_type": "code",
   "execution_count": 148,
   "metadata": {
    "collapsed": false
   },
   "outputs": [
    {
     "data": {
      "image/png": "[encoded data removed]",
      "text/plain": [
       "<matplotlib.figure.Figure at 0xe5970e4f60>"
      ]
     },
     "metadata": {},
     "output_type": "display_data"
    }
   ],
   "source": [
    "plt.figure(figsize=(8,5))\n",
    "plt.contourf(x,y,T,50,cmap=cm.viridis)\n",
    "plt.xlabel('$x$')\n",
    "plt.ylabel('$y$')\n",
    "plt.colorbar();\n"
   ]
  },
  {
   "cell_type": "code",
   "execution_count": 146,
   "metadata": {
    "collapsed": false
   },
   "outputs": [
    {
     "name": "stdout",
     "output_type": "stream",
     "text": [
      "[[ 70.  70.  70. ...,  70.  70.  70.]\n",
      " [ 69.  nan  nan ...,  nan  nan  69.]\n",
      " [ 68.  nan  nan ...,  nan  nan  68.]\n",
      " ..., \n",
      " [ 22.  nan  nan ...,  nan  nan  22.]\n",
      " [ 21.  nan  nan ...,  nan  nan  21.]\n",
      " [ 20.  20.  20. ...,  20.  20.  20.]]\n"
     ]
    }
   ],
   "source": [
    "print(T)"
   ]
  },
  {
   "cell_type": "code",
   "execution_count": 147,
   "metadata": {
    "collapsed": false
   },
   "outputs": [
    {
     "ename": "NameError",
     "evalue": "name 'ui' is not defined",
     "output_type": "error",
     "traceback": [
      "\u001b[1;31m---------------------------------------------------------------------------\u001b[0m",
      "\u001b[1;31mNameError\u001b[0m                                 Traceback (most recent call last)",
      "\u001b[1;32m<ipython-input-147-a99e2e8cc6d4>\u001b[0m in \u001b[0;36m<module>\u001b[1;34m()\u001b[0m\n\u001b[1;32m----> 1\u001b[1;33m \u001b[0mprint\u001b[0m\u001b[1;33m(\u001b[0m\u001b[0mui\u001b[0m\u001b[1;33m)\u001b[0m\u001b[1;33m\u001b[0m\u001b[0m\n\u001b[0m",
      "\u001b[1;31mNameError\u001b[0m: name 'ui' is not defined"
     ]
    }
   ],
   "source": [
    "print(ui)"
   ]
  },
  {
   "cell_type": "code",
   "execution_count": null,
   "metadata": {
    "collapsed": false
   },
   "outputs": [],
   "source": [
    "print(pi)"
   ]
  }
 ],
 "metadata": {
  "kernelspec": {
   "display_name": "Python 3",
   "language": "python",
   "name": "python3"
  },
  "language_info": {
   "codemirror_mode": {
    "name": "ipython",
    "version": 3
   },
   "file_extension": ".py",
   "mimetype": "text/x-python",
   "name": "python",
   "nbconvert_exporter": "python",
   "pygments_lexer": "ipython3",
   "version": "3.5.1"
  }
 },
 "nbformat": 4,
 "nbformat_minor": 0
}
