{
 "cells": [
  {
   "cell_type": "code",
   "execution_count": 173,
   "metadata": {
    "collapsed": false
   },
   "outputs": [],
   "source": [
    "import numpy as np\n",
    "import matplotlib.pyplot as plt\n",
    "%matplotlib inline\n",
    "from matplotlib import rcParams, cm\n",
    "rcParams['font.family'] = 'serif'\n",
    "rcParams['font.size'] = 16"
   ]
  },
  {
   "cell_type": "code",
   "execution_count": 174,
   "metadata": {
    "collapsed": false
   },
   "outputs": [
    {
     "name": "stdout",
     "output_type": "stream",
     "text": [
      "delT = 120.36236563779158 Tl = 140.36236563779158\n",
      "1.0054144180571545e-06\n"
     ]
    }
   ],
   "source": [
    "H = 0.25\n",
    "L = 1\n",
    "\n",
    "alpha = 207*10**(-6) #Volume expansion coefficient of water @ 20 C\n",
    "k = 0.6     #Thermal conductivity of water @ 20 C\n",
    "\n",
    "#ReC = 1100.65 #Critical Rayleigh number for one free and one rigid boundary condition\n",
    "ReC = 1708     #Critical Rayleigh number for two rigid body boundary condition\n",
    "g = 9.81\n",
    "D = 1.43E-7  #Thermal diffusivity of water\n",
    "rho_i = 1000   #Density of water @ 20 C\n",
    "\n",
    "L = 100\n",
    "H = 0.001\n",
    "\n",
    "nxy = 101\n",
    "nt = 6000\n",
    "\n",
    "dxy = L/(nxy-1)\n",
    "\n",
    "x = np.linspace(0,L,nxy)\n",
    "y = np.linspace(0,H,nxy)\n",
    "ya = np.ones((nxy,nxy))\n",
    "for i in range(nxy):\n",
    "    ya[:,i] = y\n",
    "#Change to Kelivin?\n",
    "To = 20\n",
    "vo = 2.414*10**(-5) * 10**(247.8/(To + 273 - 140)) / rho_i  #initial kinematic viscosity of water\n",
    "delT = (1700*vo*1.43*10**(-7))/(alpha*g*H**3)\n",
    "Ti = np.ones((nxy, nxy))*(To + (H-ya)/H*(70-To))\n",
    "Ti[-1,:] = To + 50\n",
    "\n",
    "rho = np.ones((nxy,nxy), dtype=float)*rho_i\n",
    "rho[0,:] = rho_i*(1-alpha*(Ti[0,:] - To))\n",
    "\n",
    "v = np.ones((nxy,nxy))*2.414*10**(-5) * 10**(247.8/(Ti + 273 - 140)) / rho  #kinematic viscosity of water\n",
    "\n",
    "pi = np.zeros((nxy,nxy), dtype=float)\n",
    "pi[:,:] = rho[:,:] * (H-ya[:,:]) * g\n",
    "\n",
    "ui = np.zeros((nxy,nxy), dtype=float)\n",
    "\n",
    "print('delT =',delT, 'Tl =',20+delT)\n",
    "print(vo)\n",
    "#print('x =', x, 'y =', y)"
   ]
  },
  {
   "cell_type": "code",
   "execution_count": 175,
   "metadata": {
    "collapsed": false
   },
   "outputs": [
    {
     "name": "stdout",
     "output_type": "stream",
     "text": [
      "0.001\n"
     ]
    }
   ],
   "source": [
    "# stability\n",
    "sigma = 0.00005\n",
    "#dt = sigma*min(dxy,dxy)**2/D\n",
    "dt = 0.001\n",
    "\n",
    "print(dt)"
   ]
  },
  {
   "cell_type": "code",
   "execution_count": 176,
   "metadata": {
    "collapsed": false
   },
   "outputs": [
    {
     "name": "stdout",
     "output_type": "stream",
     "text": [
      "1.0\n"
     ]
    }
   ],
   "source": [
    "print(dxy)"
   ]
  },
  {
   "cell_type": "code",
   "execution_count": 177,
   "metadata": {
    "collapsed": false
   },
   "outputs": [],
   "source": [
    "def ftcs(T, To, u, p, rho, rho_i, alpha, v, D, g, ya, H,delT, nt, dt, dxy):\n",
    "    \n",
    "    for n in range(nt):\n",
    "\n",
    "        un = u.copy()\n",
    "        Tn = T.copy()\n",
    "        pn = p.copy()\n",
    "        vn = v.copy()\n",
    "        T[1:-1,1:-1] = Tn[1:-1,1:-1] + dt*((un[1:-1,1:-1]/dxy)*(Tn[2:,1:-1]\\\n",
    "                    + Tn[1:-1,2:] - (2*Tn[1:-1,1:-1])) + \n",
    "                    (D/dxy**2)*(Tn[2:,1:-1] + Tn[:-2,1:-1] + Tn[1:-1,2:]\\\n",
    "                    + Tn[1:-1,:-2] - (4*Tn[1:-1,1:-1])))\n",
    "        \n",
    "        T[0,:] = To + 50 #Bottom Boundary\n",
    "        T[-1,:] = To   #top Boundary\n",
    "        \n",
    "        rho[1:-1,1:-1] = rho_i*(1- alpha*(T[1:-1,1:-1] - 20))\n",
    "        p[1:-1,1:-1] = rho[1:-1,1:-1]*(H-ya[1:-1,1:-1]) * g\n",
    "        \n",
    "        v[1:-1,1:-1] = 2.414*10**(-5) * 10**(247.8/(T[1:-1,1:-1] + 273 - 140)) / rho[1:-1,1:-1]\n",
    "        \n",
    "        u[1:-1,1:-1] = un[1:-1,1:-1] + dt*(-(1/rho_i)*(p[2:,1:-1] + p[1:-1,2:] - 2*p[1:-1,1:-1]) + (rho[1:-1,1:-1]*g/rho_i)\\\n",
    "                                           + (1/dxy)*(u[1:-1,1:-1]*0.5*(u[2:,1:-1] - u[:-2,1:-1] \\\n",
    "                                                                      + u[1:-1,2:] - u[1:-1,:-2]) \\\n",
    "                                           + (v[1:-1,1:-1]/dxy)*(u[2:,1:-1] + u[:-2,1:-1] + u[1:-1,2:] + u[1:-1,:-2] - 4*u[1:-1,1:-1])))\n",
    "        \n",
    "        #del u = 0\n",
    "        u[1:,1:] = 0.5*(u[:-1,1:] + u[1:,:-1])\n",
    "        \n",
    "        u[-1,:] = 0 #Top Boundary\n",
    "        u[0,:] = 0   #Bottom Boundary\n",
    "\n",
    "                                           \n",
    "    return u, T"
   ]
  },
  {
   "cell_type": "code",
   "execution_count": 178,
   "metadata": {
    "collapsed": false
   },
   "outputs": [],
   "source": [
    "u, T = ftcs(Ti,To,ui,pi,rho,rho_i,alpha,v,D,g,ya,H,delT,nt,dt,dxy)"
   ]
  },
  {
   "cell_type": "code",
   "execution_count": 179,
   "metadata": {
    "collapsed": false
   },
   "outputs": [
    {
     "data": {
      "image/png": "[encoded data removed]",
      "text/plain": [
       "<matplotlib.figure.Figure at 0x808d3bf7b8>"
      ]
     },
     "metadata": {},
     "output_type": "display_data"
    }
   ],
   "source": [
    "plt.figure(figsize=(8,5))\n",
    "plt.contourf(x,y,T,20,cmap=cm.viridis)\n",
    "plt.xlabel('$x$')\n",
    "plt.ylabel('$y$')\n",
    "plt.colorbar();\n"
   ]
  },
  {
   "cell_type": "code",
   "execution_count": 180,
   "metadata": {
    "collapsed": false
   },
   "outputs": [
    {
     "name": "stdout",
     "output_type": "stream",
     "text": [
      "[[ 70.          70.          70.         ...,  70.          70.          70.        ]\n",
      " [ 69.5         69.49999999  69.48489334 ...,  69.46914298  69.47011913\n",
      "   69.5       ]\n",
      " [ 69.          68.98489332  68.9546724  ...,  68.90788283  68.91561358\n",
      "   69.        ]\n",
      " ..., \n",
      " [ 21.          20.96881866  20.90692777 ...,  20.37500004  20.62500001\n",
      "   21.        ]\n",
      " [ 20.5         20.46981245  20.41480439 ...,  20.12500001  20.25000001\n",
      "   20.5       ]\n",
      " [ 20.          20.          20.         ...,  20.          20.          20.        ]]\n"
     ]
    }
   ],
   "source": [
    "print(T)"
   ]
  },
  {
   "cell_type": "code",
   "execution_count": 181,
   "metadata": {
    "collapsed": false
   },
   "outputs": [
    {
     "name": "stdout",
     "output_type": "stream",
     "text": [
      "[[ 0.          0.          0.         ...,  0.          0.          0.        ]\n",
      " [ 0.          0.          0.00485479 ...,  0.00970978  0.00970978\n",
      "   0.00970973]\n",
      " [ 0.          0.00485479  0.01456496 ...,  0.02913091  0.02913086\n",
      "   0.02427588]\n",
      " ..., \n",
      " [ 0.          0.00980624  0.02941929 ...,  1.79855969  1.80774826\n",
      "   1.80654397]\n",
      " [ 0.          0.00980726  0.02942231 ...,  1.80633264  1.81605858\n",
      "   1.81538929]\n",
      " [ 0.          0.          0.         ...,  0.          0.          0.        ]]\n"
     ]
    }
   ],
   "source": [
    "print(ui)"
   ]
  },
  {
   "cell_type": "code",
   "execution_count": null,
   "metadata": {
    "collapsed": true
   },
   "outputs": [],
   "source": []
  }
 ],
 "metadata": {
  "kernelspec": {
   "display_name": "Python 3",
   "language": "python",
   "name": "python3"
  },
  "language_info": {
   "codemirror_mode": {
    "name": "ipython",
    "version": 3
   },
   "file_extension": ".py",
   "mimetype": "text/x-python",
   "name": "python",
   "nbconvert_exporter": "python",
   "pygments_lexer": "ipython3",
   "version": "3.5.1"
  }
 },
 "nbformat": 4,
 "nbformat_minor": 0
}
