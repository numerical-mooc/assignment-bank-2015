{
 "cells": [
  {
   "cell_type": "markdown",
   "metadata": {},
   "source": [
    "# <span style=\"color:blue\">Rayleigh-Benard Convection</span>"
   ]
  },
  {
   "cell_type": "markdown",
   "metadata": {},
   "source": [
    "![alt text](images/Benard cells 3D.png)\n",
    "\n",
    "Natural convection is a mechanism where motion is induced in a fluid, not \n",
    "through artificial means but by the effects of bouyancy. One of the most commonly studied convection phenomenon, is the Rayleigh-Benard convection. When a thin layer of fluid is heated from below, once the temperature difference, between the top and bottom fluid layers, grows large enough, convection cells, also called Benard cells, form within the fluid. As a result, some interesting patterns can be observed in the fluid.\n",
    "\n",
    "![alt text](images/Bénard_cells_convection.ogv.jpg)\n",
    "\n",
    "In the 1900s, Henri Benard studied convection by heating a thin layer of fluid from below. Benard's experiments attempted to emulate a layer of fluid that was infinitely long.\n",
    "\n",
    "Inspired by Benard's experiments, in 1916, Lord Rayleigh.....Rayleigh was more interested in the stability aspect of Benard's problem. He showed that when the temperature gradient was high enough to make the Rayleigh number exceed a critical value, instability would occur, leading to the formation of Benard cells.\n",
    "\n",
    "$$Ra = \\frac{\\alpha \\Delta Tgh^3}{\\nu D }$$\n",
    "\n",
    "Where,\n",
    "                                $$\\alpha =  thermal  expansion  coefficient$$                               \n",
    "                                $$\\nu = $$kinematic viscosity\n",
    "                                $$D = $$thermal diffusivity"
   ]
  },
  {
   "cell_type": "markdown",
   "metadata": {},
   "source": [
    "## Problem Setup"
   ]
  },
  {
   "cell_type": "markdown",
   "metadata": {},
   "source": [
    "For this case, we will be considering a layer of fluid placed between to rigid plates.\n",
    "\n",
    "![alt text](images/Set-up.jpg)\n",
    "\n",
    "The length of the fluid is assumed to be sufficiently larger than the height, so that it can be considered infinite. Benard's original experiments, used a height 1 mm and a length of 20 cm.(Benard cells and Taylor Vortices)\n",
    "\n",
    "There are four boundary conditions. Two on each of the rigid plates. The temperatures at the plates are assumed to be constant and the no slip condition is applied.\n",
    "\n",
    "$$T_{(x,t)}|_{y=0} = T_{o}$$\n",
    "$$T_{(x,t)}|_{y=h} = T_{1}$$\n",
    "$$u_{(x,t)}|_{y=0} = 0$$\n",
    "$$u_{(x,t)}|_{y=h} = 0$$\n",
    "\n",
    "For initial conditions, the fluid is at rest and the temperature is assumed to be linearly distributed.\n",
    "\n",
    "$$T_{(x,t)}|_{t=0} = T_{o} + \\frac{y}{h}(T_{1}-T{o})$$\n",
    "$$u_{(x,t)}|_{t=0} = 0$$"
   ]
  },
  {
   "cell_type": "markdown",
   "metadata": {},
   "source": [
    "## Governing Equations"
   ]
  },
  {
   "cell_type": "markdown",
   "metadata": {},
   "source": [
    "The governing equations for this case, are derived by applying the Boussinesq approximation to the Navier-Stokes equations. The Boussinesq approximation neglects all density changes in the momentum and continuity equations, except for the gravity term. The assumption is, that the density changes are small compared to the velocity gradients. The gravitational constant is, however, strong enough to make it relevant.\n",
    "\n",
    "$$\\nabla \\cdot u = 0$$\n",
    "$$\\frac{\\partial u}{\\partial t} + u\\cdot \\nabla u = -\\frac{1}{\\rho_{o}}\\nabla p + \\frac{\\rho}{\\rho_{o}}g + \\nu\\nabla^2u$$\n",
    "\n",
    "Under the same assumption, the density can be shown to have a linear dependancy on the temperature.\n",
    "\n",
    "$$\\rho = \\rho_{o}(1-\\alpha(T-T_{o})$$\n",
    "\n",
    "And finally, the thermal energy equation can be approximated to a familiar form.\n",
    "\n",
    "$$\\frac{\\partial T}{\\partial t} + u\\cdot \\nabla T = D\\nabla^2T$$\n",
    "\n",
    "Where the thermal diffusivity, $$D = \\frac{k}{\\rho c}$$"
   ]
  },
  {
   "cell_type": "markdown",
   "metadata": {},
   "source": [
    "## Discretization"
   ]
  },
  {
   "cell_type": "markdown",
   "metadata": {
    "collapsed": true
   },
   "source": [
    "For this problem, I have decided to apply a forward-time central-space discretization scheme. As the boundary conditions for the pressure, depend on the fluid velocity, which is in turn dependant on the pressure, they are difficult to uncouple. One way to decouple the pressure and velocity terms, is by using Chorin's projection method. This is a two step process, not unlike the MacCormack method.\n",
    "\n",
    "An intermediate velocity term is first calcualted, free of the pressure gradient. \n",
    "\n",
    "$$\\frac{\\partial u}{\\partial t} + u\\cdot \\nabla u = \\frac{\\rho}{\\rho_{o}}g + \\nu\\nabla^2u$$\n",
    "\n",
    "This is then used to calculate the pressure gradient for the next time step, which calcualates the next iteration of the velocity field. To find the intermediate velocity, 'u_star', we discretize the above equation using forward-time central space scheme.\n",
    "\n",
    "$$u_{i,j}^{*} = u_{I,j}^{n} + dt(- \\frac{u_{i,j}^{n}}{2\\delta}(u_{i+1,j}^{n} - u_{i-1,j}^{n} + u_{i,j+1}^{n} - u_{i,j-1}^{n}) + \\frac{\\nu_{i,j}}{\\delta^2}(u_{i+1,j}^{n} + u_{i-1,j}^{n} + u_{i,j+1}^{n} + u_{i,j-1}^{n} - 4u_{i,j}^{n}))$$\n",
    "\n",
    "Where,\n",
    "$$\\delta = dx = dy$$\n",
    "\n",
    "On taking the divergence of the momentum equation and using the continuity equation, we end up with a Poisson's equation, relating the pressure with u_star.\n",
    "\n",
    "$$-\\nabla^2 p = -\\frac{\\rho_{o}}{dt}\\nabla \\cdot u^{*}$$\n",
    "\n",
    "In discretized form,\n",
    "\n",
    "$$p_{i,j}^{n+1} = \\frac{1}{4}(p_{i+1,j}^{n} + p_{i-1,j}^{n} + p_{i,j+1}^{n} + p_{i,j-1}^{n} - \\frac{\\rho_{o}}{dt}\\delta u_{i,j}^{*})$$\n",
    "\n",
    "This equation can be solved using "
   ]
  },
  {
   "cell_type": "code",
   "execution_count": 1,
   "metadata": {
    "collapsed": false
   },
   "outputs": [],
   "source": [
    "import numpy as np\n",
    "import matplotlib.pyplot as plt\n",
    "%matplotlib inline\n",
    "from matplotlib import rcParams, cm\n",
    "rcParams['font.family'] = 'serif'\n",
    "rcParams['font.size'] = 16"
   ]
  },
  {
   "cell_type": "code",
   "execution_count": 2,
   "metadata": {
    "collapsed": false
   },
   "outputs": [
    {
     "name": "stdout",
     "output_type": "stream",
     "text": [
      "delT = 0.12092877677020468 Tl = 20.120928776770203\n",
      "1.0054144180571545e-06\n"
     ]
    }
   ],
   "source": [
    "H = 0.25\n",
    "L = 1\n",
    "\n",
    "alpha = 207*10**(-6) #Volume expansion coefficient of water @ 20 C\n",
    "k = 0.6     #Thermal conductivity of water @ 20 C\n",
    "\n",
    "#ReC = 1100.65 #Critical Rayleigh number for one free and one rigid boundary condition\n",
    "ReC = 1708     #Critical Rayleigh number for two rigid body boundary condition\n",
    "g = 9.81\n",
    "D = 0.143E-6  #Thermal diffusivity of water\n",
    "rho_i = 1000   #Density of water @ 20 C\n",
    "\n",
    "L = 10\n",
    "H = 0.01\n",
    "\n",
    "nxy = 101\n",
    "nt = 500\n",
    "\n",
    "dxy = L/(nxy-1)\n",
    "\n",
    "x = np.linspace(0,L,nxy)\n",
    "y = np.linspace(0,H,nxy)\n",
    "ya = np.ones((nxy,nxy))\n",
    "for i in range(nxy):\n",
    "    ya[:,i] = y\n",
    "#Change to Kelivin?\n",
    "To = 20\n",
    "vo = 2.414*10**(-5) * 10**(247.8/(To + 273 - 140)) / rho_i  #initial kinematic viscosity of water\n",
    "delT = (ReC*vo*1.43*10**(-7))/(alpha*g*H**3)\n",
    "Ti = np.ones((nxy, nxy))*To\n",
    "Ti[-1,:] = To + 30\n",
    "\n",
    "rho = np.ones((nxy,nxy), dtype=float)*rho_i\n",
    "rho[0,:] = rho_i*(1-alpha*(Ti[0,:] - To))\n",
    "\n",
    "v = np.ones((nxy,nxy))*2.414*10**(-5) * 10**(247.8/(Ti + 273 - 140)) / rho  #kinematic viscosity of water\n",
    "\n",
    "pi = np.zeros((nxy,nxy), dtype=float)\n",
    "pi[:,:] = rho[:,:] * ya[:,:] * g\n",
    "\n",
    "ui = np.zeros((nxy,nxy), dtype=float)\n",
    "\n",
    "print('delT =',delT, 'Tl =',20+delT)\n",
    "print(vo)\n",
    "#print('x =', x, 'y =', y)"
   ]
  },
  {
   "cell_type": "code",
   "execution_count": 3,
   "metadata": {
    "collapsed": false
   },
   "outputs": [
    {
     "name": "stdout",
     "output_type": "stream",
     "text": [
      "0.001\n"
     ]
    }
   ],
   "source": [
    "# stability\n",
    "sigma = 0.00005\n",
    "#dt = sigma*min(dxy,dxy)**2/D\n",
    "dt = 0.001\n",
    "\n",
    "print(dt)"
   ]
  },
  {
   "cell_type": "code",
   "execution_count": 4,
   "metadata": {
    "collapsed": false
   },
   "outputs": [
    {
     "name": "stdout",
     "output_type": "stream",
     "text": [
      "0.1\n"
     ]
    }
   ],
   "source": [
    "print(dxy)"
   ]
  },
  {
   "cell_type": "code",
   "execution_count": 5,
   "metadata": {
    "collapsed": false
   },
   "outputs": [],
   "source": [
    "def ftcs(T, To, u, p, rho, rho_i, alpha, v, k, g, y, delT, nt, dt, dxy):\n",
    "    \n",
    "    for n in range(nt):\n",
    "        \n",
    "        # Boundary conditions\n",
    "        u[-1,:] = 0 #Top Boundary\n",
    "        u[0,:] = 0   #Bottom Boundary\n",
    "        T[0,:] = To + 30 #Bottom Boundary\n",
    "        T[-1,:] = To   #top Boundary\n",
    "\n",
    "        un = u.copy()\n",
    "        Tn = T.copy()\n",
    "        pn = p.copy()\n",
    "        vn = v.copy()\n",
    "        T[1:-1,1:-1] = Tn[1:-1,1:-1] + dt*((un[1:-1,1:-1]/dxy)*(Tn[2:,1:-1]\\\n",
    "                    + Tn[1:-1,2:] - (2*Tn[1:-1,1:-1])) + \n",
    "                    (k/dxy**2)*(Tn[2:,1:-1] + Tn[:-2,1:-1] + Tn[1:-1,2:]\\\n",
    "                    + Tn[1:-1,:-2] - (4*Tn[1:-1,1:-1])))\n",
    "        \n",
    "        rho[1:-1,1:-1] = rho_i*(1- alpha*(T[1:-1,1:-1] - 20))\n",
    "        p[1:-1,1:-1] = rho[1:-1,1:-1]*ya[1:-1,1:-1] * g\n",
    "        \n",
    "        v[1:-1,1:-1] = 2.414*10**(-5) * 10**(247.8/(T[1:-1,1:-1] + 273 - 140)) / rho[1:-1,1:-1]\n",
    "        \n",
    "        u[1:-1,1:-1] = un[1:-1,1:-1] + dt*(-(1/rho_i)*(p[2:,1:-1] + p[1:-1,2:] - 2*p[1:-1,1:-1]) + (rho[1:-1,1:-1]*g/rho_i)\\\n",
    "                                           + (1/dxy)*(u[1:-1,1:-1]*0.5*(u[2:,1:-1] - u[:-2,1:-1] \\\n",
    "                                                                      + u[1:-1,2:] - u[1:-1,:-2]) \\\n",
    "                                           + (v[1:-1,1:-1]/dxy)*(u[2:,1:-1] + u[:-2,1:-1] + u[1:-1,2:] + u[1:-1,:-2] - 4*u[1:-1,1:-1])))\n",
    "\n",
    "                                           \n",
    "    return T"
   ]
  },
  {
   "cell_type": "code",
   "execution_count": 6,
   "metadata": {
    "collapsed": false
   },
   "outputs": [],
   "source": [
    "T = ftcs(Ti,To,ui,pi,rho,rho_i,alpha,v,k,g,y,delT,nt,dt,dxy)"
   ]
  },
  {
   "cell_type": "code",
   "execution_count": 7,
   "metadata": {
    "collapsed": false
   },
   "outputs": [
    {
     "data": {
      "image/png": "[encoded data removed]",
      "text/plain": [
       "<matplotlib.figure.Figure at 0x6016266a90>"
      ]
     },
     "metadata": {},
     "output_type": "display_data"
    }
   ],
   "source": [
    "plt.figure(figsize=(8,5))\n",
    "plt.contourf(x,y,Ti,20,cmap=cm.viridis)\n",
    "plt.xlabel('$x$')\n",
    "plt.ylabel('$y$')\n",
    "plt.colorbar();\n"
   ]
  },
  {
   "cell_type": "code",
   "execution_count": 8,
   "metadata": {
    "collapsed": false
   },
   "outputs": [
    {
     "name": "stdout",
     "output_type": "stream",
     "text": [
      "[[ 50.          50.          50.         ...,  50.          50.          50.        ]\n",
      " [ 20.          31.24606041  35.92810255 ...,  35.63953431  31.71920868\n",
      "   20.        ]\n",
      " [ 20.          25.96178197  28.87450968 ...,  28.46203708  25.33425292\n",
      "   20.        ]\n",
      " ..., \n",
      " [ 20.          20.          20.         ...,  20.          20.          20.        ]\n",
      " [ 20.          20.          20.         ...,  20.          20.          20.        ]\n",
      " [ 20.          20.          20.         ...,  20.          20.          20.        ]]\n"
     ]
    }
   ],
   "source": [
    "print(T)"
   ]
  },
  {
   "cell_type": "code",
   "execution_count": 9,
   "metadata": {
    "collapsed": false
   },
   "outputs": [
    {
     "name": "stdout",
     "output_type": "stream",
     "text": [
      "102\n"
     ]
    }
   ],
   "source": [
    "print(ui.argmax())"
   ]
  },
  {
   "cell_type": "code",
   "execution_count": 10,
   "metadata": {
    "collapsed": false
   },
   "outputs": [
    {
     "name": "stdout",
     "output_type": "stream",
     "text": [
      "61.216268941\n"
     ]
    }
   ],
   "source": [
    "print(ui[1,3])"
   ]
  },
  {
   "cell_type": "code",
   "execution_count": 11,
   "metadata": {
    "collapsed": false
   },
   "outputs": [
    {
     "name": "stdout",
     "output_type": "stream",
     "text": [
      "102\n"
     ]
    }
   ],
   "source": [
    "def find_nearest(array,value):\n",
    "    idx = (np.abs(array-value)).argmin()\n",
    "    return idx\n",
    "\n",
    "value = 900\n",
    "\n",
    "loc = find_nearest(ui, value)\n",
    "print(loc)"
   ]
  },
  {
   "cell_type": "code",
   "execution_count": 12,
   "metadata": {
    "collapsed": false
   },
   "outputs": [
    {
     "name": "stdout",
     "output_type": "stream",
     "text": [
      "830.033812255\n"
     ]
    }
   ],
   "source": [
    "print(np.abs(ui-900).min())"
   ]
  },
  {
   "cell_type": "code",
   "execution_count": 13,
   "metadata": {
    "collapsed": false
   },
   "outputs": [
    {
     "name": "stdout",
     "output_type": "stream",
     "text": [
      "(array([1], dtype=int64), array([1], dtype=int64))\n"
     ]
    }
   ],
   "source": [
    "print(np.where(ui==900-np.abs(ui-900).min()))"
   ]
  },
  {
   "cell_type": "code",
   "execution_count": 14,
   "metadata": {
    "collapsed": false
   },
   "outputs": [
    {
     "name": "stdout",
     "output_type": "stream",
     "text": [
      "[[  0.           0.           0.         ...,   0.           0.           0.        ]\n",
      " [  0.          69.96618775   0.35068574 ...,   2.53918912   1.3582699    0.        ]\n",
      " [  0.           0.35718329   2.76598709 ...,   1.53694795   1.09842556\n",
      "    0.        ]\n",
      " ..., \n",
      " [  0.           2.54165246   1.53732047 ...,   1.5593685    1.0969332    0.        ]\n",
      " [  0.           1.35954534   1.09874381 ...,   1.0969332    0.89407909\n",
      "    0.        ]\n",
      " [  0.           0.           0.         ...,   0.           0.           0.        ]]\n"
     ]
    }
   ],
   "source": [
    "print(ui)"
   ]
  },
  {
   "cell_type": "code",
   "execution_count": null,
   "metadata": {
    "collapsed": true
   },
   "outputs": [],
   "source": []
  }
 ],
 "metadata": {
  "kernelspec": {
   "display_name": "Python 3",
   "language": "python",
   "name": "python3"
  },
  "language_info": {
   "codemirror_mode": {
    "name": "ipython",
    "version": 3
   },
   "file_extension": ".py",
   "mimetype": "text/x-python",
   "name": "python",
   "nbconvert_exporter": "python",
   "pygments_lexer": "ipython3",
   "version": "3.5.1"
  }
 },
 "nbformat": 4,
 "nbformat_minor": 0
}
