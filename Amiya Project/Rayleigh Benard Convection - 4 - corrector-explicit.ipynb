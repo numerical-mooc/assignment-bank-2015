{
 "cells": [
  {
   "cell_type": "code",
   "execution_count": 1,
   "metadata": {
    "collapsed": false
   },
   "outputs": [],
   "source": [
    "import numpy as np\n",
    "import matplotlib.pyplot as plt\n",
    "%matplotlib inline\n",
    "from matplotlib import rcParams, cm\n",
    "rcParams['font.family'] = 'serif'\n",
    "rcParams['font.size'] = 16"
   ]
  },
  {
   "cell_type": "code",
   "execution_count": 2,
   "metadata": {
    "collapsed": false
   },
   "outputs": [
    {
     "name": "stdout",
     "output_type": "stream",
     "text": [
      "delT = 120.92877677020469 Tl = 140.9287767702047\n",
      "[[  4.05457457e-07   4.05457457e-07   4.05457457e-07 ...,   4.05457457e-07\n",
      "    4.05457457e-07   4.05457457e-07]\n",
      " [  4.04055450e-07   4.04055450e-07   4.04055450e-07 ...,   4.04055450e-07\n",
      "    4.04055450e-07   4.04055450e-07]\n",
      " [  4.06883369e-07   4.06883369e-07   4.06883369e-07 ...,   4.06883369e-07\n",
      "    4.06883369e-07   4.06883369e-07]\n",
      " ..., \n",
      " [  9.81359599e-07   9.81359599e-07   9.81359599e-07 ...,   9.81359599e-07\n",
      "    9.81359599e-07   9.81359599e-07]\n",
      " [  9.93275020e-07   9.93275020e-07   9.93275020e-07 ...,   9.93275020e-07\n",
      "    9.93275020e-07   9.93275020e-07]\n",
      " [  1.00541442e-06   1.00541442e-06   1.00541442e-06 ...,   1.00541442e-06\n",
      "    1.00541442e-06   1.00541442e-06]]\n"
     ]
    }
   ],
   "source": [
    "H = 0.25\n",
    "L = 1\n",
    "\n",
    "alpha = 207*10**(-6) #Volume expansion coefficient of water @ 20 C\n",
    "k = 0.6     #Thermal conductivity of water @ 20 C\n",
    "\n",
    "#ReC = 1100.65 #Critical Rayleigh number for one free and one rigid boundary condition\n",
    "ReC = 1708     #Critical Rayleigh number for two rigid body boundary condition\n",
    "g = 9.81\n",
    "D = 1.43E-7  #Thermal diffusivity of water\n",
    "c = k/D\n",
    "rho_i = 1000   #Density of water @ 20 C\n",
    "\n",
    "L = 1\n",
    "H = 0.001\n",
    "\n",
    "nxy = 101\n",
    "nt = 6000\n",
    "\n",
    "dxy = H/(nxy-1)\n",
    "\n",
    "x = np.linspace(0,L,nxy)\n",
    "y = np.linspace(0,H,nxy)\n",
    "ya = np.ones((nxy,nxy))\n",
    "for i in range(nxy):\n",
    "    ya[:,i] = y\n",
    "#Change to Kelivin?\n",
    "To = 20\n",
    "vo = 2.414*10**(-5) * 10**(247.8/(To + 273 - 140)) / rho_i  #initial kinematic viscosity of water\n",
    "delT = (ReC*vo*1.43*10**(-7))/(alpha*g*H**3)\n",
    "Ti = np.ones((nxy, nxy))*(To + (H-ya)/H*(70-To))\n",
    "#Ti[-1,:] = To + 50\n",
    "\n",
    "rho = np.ones((nxy,nxy), dtype=float)*rho_i\n",
    "rho[0,:] = rho_i*(1-alpha*(Ti[0,:] - To))\n",
    "\n",
    "v = np.ones((nxy,nxy))*2.414*10**(-5) * 10**(247.8/(Ti + 273 - 140)) / rho  #kinematic viscosity of water\n",
    "\n",
    "pi = np.zeros((nxy,nxy), dtype=float)\n",
    "pi[:,:] = rho[:,:] * (H-ya[:,:]) * g\n",
    "\n",
    "ui = np.zeros((nxy,nxy), dtype=float)\n",
    "\n",
    "print('delT =',delT, 'Tl =',To+delT)\n",
    "print(v)\n",
    "#print('x =', x, 'y =', y)"
   ]
  },
  {
   "cell_type": "code",
   "execution_count": 3,
   "metadata": {
    "collapsed": false
   },
   "outputs": [
    {
     "name": "stdout",
     "output_type": "stream",
     "text": [
      "0.001\n"
     ]
    }
   ],
   "source": [
    "# stability\n",
    "sigma = 0.00005\n",
    "#dt = sigma*min(dxy,dxy)**2/D\n",
    "dt = 0.001\n",
    "\n",
    "print(dt)"
   ]
  },
  {
   "cell_type": "code",
   "execution_count": 4,
   "metadata": {
    "collapsed": false
   },
   "outputs": [
    {
     "name": "stdout",
     "output_type": "stream",
     "text": [
      "1e-05\n"
     ]
    }
   ],
   "source": [
    "print(dxy)"
   ]
  },
  {
   "cell_type": "code",
   "execution_count": 5,
   "metadata": {
    "collapsed": false
   },
   "outputs": [],
   "source": [
    "def ftcs(T, To, u, p, rho, rho_i, alpha, v, k, c, g, ya, H, delT, nt, dt, dxy, nxy):\n",
    "    \n",
    "    for n in range(nt):\n",
    "\n",
    "        un = u.copy()\n",
    "        u_star = un.copy()\n",
    "        Tn = T.copy()\n",
    "        pn = p.copy()\n",
    "        vn = v.copy()\n",
    "        \n",
    "        u_star[1:-1,1:-1] = un[1:-1,1:-1] + dt*(-u[1:-1,1:-1]/(2*dxy) * (u[2:,1:-1] - u[:-2,1:-1] + u[1:-1,2:] - un[1:-1,:-2])\\\n",
    "                            + v[1:-1,1:-1]/(dxy**2) * (un[2:,1:-1] + un[:-2,1:-1] + un[1:-1,2:] + un[1:-1,:-2] - 4*un[1:-1,1:-1])\\\n",
    "                                                 + rho[1:-1,1:-1]/rho_i * g + (1/(rho_i*dxy))*(pn[2:,1:-1]-pn[-2,1:-1]\\\n",
    "                                                                                             +pn[1:-1,2:]-pn[1:-1,:-2]))\n",
    "        \n",
    "        u_star[-1,:] = 0 #Top Boundary\n",
    "        u_star[0,:] = 0   #Bottom Boundary\n",
    "        \n",
    "        p[1:-1,1:-1] = pn[1:-1,1:-1] + 1/(2*dt*dxy) * (u_star[2:,1:-1] - u_star[:-2,1:-1] + u_star[1:-1,2:] - u_star[1:-1,:-2])\\\n",
    "        \n",
    "        \n",
    "        u[1:-1,1:-1] = u_star[1:-1,1:-1] - dt/(2*dxy)*(p[2:,1:-1] - p[:-2,1:-1] + p[1:-1,2:] - p[1:-1,:-2])\n",
    "        \n",
    "        u[-1,:] = 0 #Top Boundary\n",
    "        u[0,:] = 0   #Bottom Boundary\n",
    "        \n",
    "        T[1:-1,1:-1] = T[1:-1,1:-1] + dt*(-u[1:-1,1:-1]/(2*dxy) * (T[2:,1:-1]-T[:-2,1:-1]+T[1:-1,2:]-T[1:-1,:-2])\\\n",
    "                                         + k/(rho[1:-1,1:-1]*c*dxy**2) * (T[2:,1:-1] + T[:-2,1:-1] + T[1:-1,2:] + T[1:-1,:-2]\\\n",
    "                                                                         -4*T[1:-1,1:-1]))\n",
    "    \n",
    "        T[0,:] = To + 50 #Bottom Boundary\n",
    "        T[-1,:] = To   #top Boundary\n",
    "        \n",
    "        rho[1:-1,1:-1] = rho_i*(1- alpha*(T[1:-1,1:-1] - To))\n",
    "        \n",
    "        v[1:-1,1:-1] = 2.414*10**(-5) * 10**(247.8/(T[1:-1,1:-1] + 273 - 140)) / rho[1:-1,1:-1]\n",
    "        \n",
    "        \n",
    "        #del u = 0\n",
    "        #u[1:,1:] = 0.5*(u[:-1,1:] + u[1:,:-1])\n",
    "        \n",
    "        \n",
    "\n",
    "                                           \n",
    "    return u, T"
   ]
  },
  {
   "cell_type": "code",
   "execution_count": 6,
   "metadata": {
    "collapsed": false
   },
   "outputs": [
    {
     "name": "stderr",
     "output_type": "stream",
     "text": [
      "C:\\Users\\amiya\\Anaconda3\\lib\\site-packages\\ipykernel\\__main__.py:11: RuntimeWarning: overflow encountered in multiply\n",
      "C:\\Users\\amiya\\Anaconda3\\lib\\site-packages\\ipykernel\\__main__.py:16: RuntimeWarning: invalid value encountered in subtract\n",
      "C:\\Users\\amiya\\Anaconda3\\lib\\site-packages\\ipykernel\\__main__.py:16: RuntimeWarning: invalid value encountered in add\n",
      "C:\\Users\\amiya\\Anaconda3\\lib\\site-packages\\ipykernel\\__main__.py:16: RuntimeWarning: overflow encountered in multiply\n",
      "C:\\Users\\amiya\\Anaconda3\\lib\\site-packages\\ipykernel\\__main__.py:18: RuntimeWarning: invalid value encountered in subtract\n",
      "C:\\Users\\amiya\\Anaconda3\\lib\\site-packages\\ipykernel\\__main__.py:18: RuntimeWarning: invalid value encountered in add\n",
      "C:\\Users\\amiya\\Anaconda3\\lib\\site-packages\\ipykernel\\__main__.py:18: RuntimeWarning: overflow encountered in multiply\n",
      "C:\\Users\\amiya\\Anaconda3\\lib\\site-packages\\ipykernel\\__main__.py:23: RuntimeWarning: overflow encountered in true_divide\n",
      "C:\\Users\\amiya\\Anaconda3\\lib\\site-packages\\ipykernel\\__main__.py:23: RuntimeWarning: overflow encountered in multiply\n",
      "C:\\Users\\amiya\\Anaconda3\\lib\\site-packages\\ipykernel\\__main__.py:11: RuntimeWarning: overflow encountered in true_divide\n",
      "C:\\Users\\amiya\\Anaconda3\\lib\\site-packages\\ipykernel\\__main__.py:11: RuntimeWarning: overflow encountered in subtract\n",
      "C:\\Users\\amiya\\Anaconda3\\lib\\site-packages\\ipykernel\\__main__.py:11: RuntimeWarning: invalid value encountered in subtract\n",
      "C:\\Users\\amiya\\Anaconda3\\lib\\site-packages\\ipykernel\\__main__.py:11: RuntimeWarning: overflow encountered in add\n",
      "C:\\Users\\amiya\\Anaconda3\\lib\\site-packages\\ipykernel\\__main__.py:11: RuntimeWarning: invalid value encountered in add\n",
      "C:\\Users\\amiya\\Anaconda3\\lib\\site-packages\\ipykernel\\__main__.py:11: RuntimeWarning: invalid value encountered in multiply\n",
      "C:\\Users\\amiya\\Anaconda3\\lib\\site-packages\\ipykernel\\__main__.py:23: RuntimeWarning: invalid value encountered in subtract\n",
      "C:\\Users\\amiya\\Anaconda3\\lib\\site-packages\\ipykernel\\__main__.py:23: RuntimeWarning: invalid value encountered in add\n",
      "C:\\Users\\amiya\\Anaconda3\\lib\\site-packages\\ipykernel\\__main__.py:23: RuntimeWarning: invalid value encountered in multiply\n"
     ]
    }
   ],
   "source": [
    "u, T = ftcs(Ti,To,ui,pi,rho,rho_i,alpha,v,k,c,g,ya,H,delT,nt,dt,dxy,nxy)"
   ]
  },
  {
   "cell_type": "code",
   "execution_count": 7,
   "metadata": {
    "collapsed": false
   },
   "outputs": [
    {
     "data": {
      "image/png": "[encoded data removed]",
      "text/plain": [
       "<matplotlib.figure.Figure at 0x1239b4db38>"
      ]
     },
     "metadata": {},
     "output_type": "display_data"
    }
   ],
   "source": [
    "plt.figure(figsize=(8,5))\n",
    "plt.contourf(x,y,T,20,cmap=cm.viridis)\n",
    "plt.xlabel('$x$')\n",
    "plt.ylabel('$y$')\n",
    "plt.colorbar();\n"
   ]
  },
  {
   "cell_type": "code",
   "execution_count": 8,
   "metadata": {
    "collapsed": false
   },
   "outputs": [
    {
     "name": "stdout",
     "output_type": "stream",
     "text": [
      "[[ 70.   70.   70.  ...,  70.   70.   70. ]\n",
      " [ 69.5   nan   nan ...,   nan   nan  69.5]\n",
      " [ 69.    nan   nan ...,   nan   nan  69. ]\n",
      " ..., \n",
      " [ 21.    nan   nan ...,   nan   nan  21. ]\n",
      " [ 20.5   nan   nan ...,   nan   nan  20.5]\n",
      " [ 20.   20.   20.  ...,  20.   20.   20. ]]\n"
     ]
    }
   ],
   "source": [
    "print(T)"
   ]
  },
  {
   "cell_type": "code",
   "execution_count": 9,
   "metadata": {
    "collapsed": false
   },
   "outputs": [
    {
     "name": "stdout",
     "output_type": "stream",
     "text": [
      "[[  0.   0.   0. ...,   0.   0.   0.]\n",
      " [  0.  nan  nan ...,  nan  nan   0.]\n",
      " [  0.  nan  nan ...,  nan  nan   0.]\n",
      " ..., \n",
      " [  0.  nan  nan ...,  nan  nan   0.]\n",
      " [  0.  nan  nan ...,  nan  nan   0.]\n",
      " [  0.   0.   0. ...,   0.   0.   0.]]\n"
     ]
    }
   ],
   "source": [
    "print(ui)"
   ]
  },
  {
   "cell_type": "code",
   "execution_count": 10,
   "metadata": {
    "collapsed": false
   },
   "outputs": [
    {
     "name": "stdout",
     "output_type": "stream",
     "text": [
      "[[ 9.7084665  9.7084665  9.7084665 ...,  9.7084665  9.7084665  9.7084665]\n",
      " [ 9.7119           nan        nan ...,        nan        nan  9.7119   ]\n",
      " [ 9.6138           nan        nan ...,        nan        nan  9.6138   ]\n",
      " ..., \n",
      " [ 0.1962           nan        nan ...,        nan        nan  0.1962   ]\n",
      " [ 0.0981           nan        nan ...,        nan        nan  0.0981   ]\n",
      " [ 0.         0.         0.        ...,  0.         0.         0.       ]]\n"
     ]
    }
   ],
   "source": [
    "print(pi)"
   ]
  }
 ],
 "metadata": {
  "kernelspec": {
   "display_name": "Python 3",
   "language": "python",
   "name": "python3"
  },
  "language_info": {
   "codemirror_mode": {
    "name": "ipython",
    "version": 3
   },
   "file_extension": ".py",
   "mimetype": "text/x-python",
   "name": "python",
   "nbconvert_exporter": "python",
   "pygments_lexer": "ipython3",
   "version": "3.5.1"
  }
 },
 "nbformat": 4,
 "nbformat_minor": 0
}
