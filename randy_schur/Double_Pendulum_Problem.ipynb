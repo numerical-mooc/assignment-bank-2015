{
 "cells": [
  {
   "cell_type": "markdown",
   "metadata": {},
   "source": [
    "# Dynamics of a Double Pendulum"
   ]
  },
  {
   "cell_type": "markdown",
   "metadata": {},
   "source": [
    "In this section, we will study the dynamics of a double pendulum. Like before, we'll derive the equations of motion from the Lagrangian and the Hamiltonian. We can use the same methods of integration as before, but this time there is no analytical solution to compare to. Finally, we will look at the properties of the system in phase space using phase plots and Poincare sections."
   ]
  },
  {
   "cell_type": "markdown",
   "metadata": {},
   "source": [
    "## Background\n",
    "\n",
    "The double pendulum problem is a relatively simple system which can produce surprisingly complex movements. It is a chaotic system, meaning it is unpredictable and small changes in initial conditions lead to large changes in motion. There is no closed form solution to the motion of the two masses. This is a frequent example problem in the study of dynamic systems, nonlinear controls, and mechanics.\n",
    "\n",
    "In this notebook we will be treating the two rods as massless and we'll start out ignoring the effects of friction. For a treatment of this problem without these assumptions, see (cite).\n",
    "\n",
    "See the image below for the definition of constants."
   ]
  },
  {
   "cell_type": "markdown",
   "metadata": {},
   "source": [
    "![Image](figures/diagram.png)\n",
    "#### Figure 1. Diagram of Double Pendulum System"
   ]
  },
  {
   "cell_type": "markdown",
   "metadata": {},
   "source": [
    "## Equations of Motion \n",
    "\n",
    "As a reminder, the Lagrangian is\n",
    "$$\\begin{equation*}\n",
    "L = T- U\n",
    "\\end{equation*}$$\n",
    "where $T$ is the total Kinetic Energy in the system, and $U$ is the total Potential Energy. Potential energy is calculated as:\n",
    "\n",
    "$$\\begin{eqnarray*}\n",
    "U &=& m_1g(-y_1) + m_2g(-y_2) \\\\\n",
    " &=& -m_1gl_1cos\\theta_1 - m_2g(l_1cos\\theta_1 + l_2cos\\theta_2)\n",
    "\\end{eqnarray*}$$\n",
    "\n",
    "Kinetic Energy is calculated as:\n",
    "\n",
    "$$\\begin{eqnarray*}\n",
    "T &=& \\frac{1}{2}mv_1^2+\\frac{1}{2}mv_2^2 \\\\\n",
    "&=& \\frac{1}{2}m_1(l_1\\dot\\theta_1)^2 + \\frac{1}{2}m_2(l_1\\dot\\theta_1 + l_2\\dot\\theta_2)^2 \\\\\n",
    "&=& \\frac{1}{2}(m_1+m_2)l_1^2\\dot\\theta_1^2+\\frac{1}{2}m_2\\left(2l_1l_2\\dot\\theta_1\\dot\\theta_2cos(\\theta_2-\\theta_1)+l_2^2\\dot\\theta_2^2\\right)\n",
    "\\end{eqnarray*}$$\n",
    "\n",
    "\n",
    "So the Lagrangian quantity becomes:\n",
    "$$\\begin{equation*}\n",
    "L = \\frac{1}{2}(m_1+m_2)l_1^2\\dot\\theta_1^2+m_2l_1l_2\\dot\\theta_1\\dot\\theta_2cos(\\theta_2-\\theta_1)+(m_1+m_2)l_1gcos\\theta_1 + m_2l_2gcos\\theta_2\n",
    "\\end{equation*}$$\n"
   ]
  },
  {
   "cell_type": "markdown",
   "metadata": {
    "collapsed": true
   },
   "source": [
    "The equations of motion are then found using the Lagrange Equation:\n",
    "\n",
    "$$\\begin{equation*}\n",
    "\\frac{d}{dt} \\left( \\frac{\\partial L}{\\partial \\dot{x_i}}\\right) - \\frac{\\partial L}{\\partial x_i} = 0\n",
    "\\end{equation*}$$\n",
    "\n",
    "\n",
    "There are two generalized coordinates ($\\theta_1 and \\theta_2$. So the equation of motion for $\\theta_1$ is calculated by the following steps:\n",
    "\n",
    "$$\\begin{eqnarray*}\n",
    "\\frac{\\partial L}{\\partial \\dot{\\theta_1}} &=& (m_1+m_2)l_1^2\\dot\\theta_1+m_2l_1l_2\\dot\\theta_2cos(\\theta_2-\\theta_1) \\\\\n",
    "\\frac{d}{dt} \\left( \\frac{\\partial L}{\\partial \\dot{\\theta_1}}\\right) &=& (m_1+m_2)l_1^2\\ddot\\theta_1+m_2l_1l_2\\ddot\\theta_2cos(\\theta_2-\\theta_1)-m_2l_1l_2\\dot\\theta_2^2sin(\\theta_2-\\theta_1)+m_2l_1l_2\\dot\\theta_1\\dot\\theta_2sin(\\theta_2-\\theta_1) \\\\\n",
    "-\\frac{\\partial L}{\\partial \\theta_1} &=& -m_2l_1l_2\\dot\\theta_1\\dot\\theta_2sin(\\theta_2-\\theta_1)-(m_1+m_2)gl_1sin\\theta_1\n",
    "\\end{eqnarray*}$$\n",
    "\n",
    "We can add together the second and third equations to find the first equation of motion. Some of these terms will cancel out, and we are left with a final equation of motion:\n",
    "\n",
    "$$\\begin{equation*}\n",
    "0 = (m_1+m_2)l_1^2\\ddot\\theta_1+m_2l_1l_2\\ddot\\theta_2cos(\\theta_2-\\theta_1)-m_2l_1l_2\\dot\\theta_2^2sin(\\theta_2-\\theta_1)+(m_1+m_2)gl_1sin\\theta_1\n",
    "\\end{equation*}$$\n",
    "\n",
    "We will also need the equation of motion for $\\theta_2$. This can be derived using the same process. It should work out to the following (check this by yourself!):\n",
    "\n",
    "$$\\begin{equation*}\n",
    "0 = m_2l_2^2\\ddot\\theta_2+m_2l_1l_2\\ddot\\theta_1cos(\\theta_2-\\theta_1) - m_2l_2l_1\\dot\\theta_1^2sin(\\theta_2-\\theta_1)+ l_2m_2gsin\\theta_2\n",
    "\\end{equation*}$$"
   ]
  },
  {
   "cell_type": "markdown",
   "metadata": {},
   "source": [
    "## Problem setup\n",
    "\n",
    "Notice that these equations of motion are implicit equations for $\\ddot\\theta_1$ and $\\ddot\\theta_2$. We have talked about implicit equations in this class, and we solve them by forming a system of equations. In this case, we will need to solve the equations of motion at each time step. We will characterize our system in state space using the angle and angular velocity of each pendulum. Let's rewrite the equations of motion in a more readable form. We can use the standard form of this equation (which you'll be familiar with if you have studied mechanics) by separating out mass terms (anything multiplied by $\\ddot{x}$), centripetal terms (anything multiplied by $\\dot{x}$), and gravitational terms (anything multiplied by $x$). We get the following equations of state:\n",
    "\n",
    "$$\\begin{eqnarray*}\n",
    "0 &=&\\textbf{M}\\vec{\\ddot{x}}(t)  + \\textbf{V}\\dot{x} + \\textbf{G} \n",
    "\\end{eqnarray*}$$\n",
    "\n",
    "The equations of motion can be solved for $\\ddot{x}$:\n",
    "\n",
    "$$ \\ddot{x} = \\textbf{M}^{-1}\\left[ \\textbf{V}\\dot x + \\textbf{G} \\right]$$\n",
    "\n",
    "where \n",
    "\n",
    "\\begin{eqnarray*}\n",
    "M = \n",
    "\\left[\\begin{array}{c}\n",
    "(m_1+m_2)l_1 & m_2l_1l_2cos(\\theta_2 - \\theta_1)\\\\\n",
    " m_2l_1l_2cos(\\theta_2 - \\theta_1) &m_2l_2^2\n",
    "\\end{array}\\right]\n",
    "\\end{eqnarray*}\n",
    "\n",
    "\n",
    "\\begin{equation*}\n",
    "V = \n",
    "\\left[\\begin{array}{c}\n",
    "0 & -m_2l_1l_2sin(\\theta_2 - \\theta_1)\\\\\n",
    " -m_2l_1l_2sin(\\theta_2 - \\theta_1) &0\n",
    "\\end{array}\\right]\n",
    "\\end{equation*}\n",
    "\n",
    "\n",
    "\\begin{eqnarray*}\n",
    "G = \n",
    "\\left[\\begin{array}{c}\n",
    "(m_1+m_2)l_1gsin\\theta_1\\\\\n",
    " m_2l_2gsin\\theta_2\n",
    "\\end{array}\\right]\n",
    "\\end{eqnarray*}\n",
    "\n",
    "and\n",
    "\n",
    "$$\\begin{eqnarray*}\n",
    "\\vec{x}(t)  = \\begin{pmatrix} \\theta_1\\\\ \\theta_2\\\\ \\end{pmatrix}, \\vec{\\dot{x}(t)} = \\begin{pmatrix} \\dot \\theta_1 \\\\ \\dot \\theta_2 \\end{pmatrix}\n",
    "\\end{eqnarray*}$$\n",
    "\n",
    "We can now treat this system the same way we handled the simple harmonic motion; break the two second order ODEs into four first-order ODEs, then use Euler or Runge-Kutta on the results."
   ]
  },
  {
   "cell_type": "markdown",
   "metadata": {},
   "source": [
    "### Equations of Motion from Hamiltonian\n",
    "\n",
    "Here we derive the equations of motion from the Hamiltonian. If you want good practice, you can derive these on your own. We start with the same potential and kinetic energy, but we'll need to use postion ($\\theta$) and momentum ($I\\omega$)  to give us:\n",
    "\n",
    "$$\\begin{eqnarray*}\n",
    "U &=& m_1g(-y_1) + m_2g(-y_2) \\\\\n",
    " &=& -m_1g(l_1cos\\theta_1 - m_2g(l_1cos\\theta_1 + l_2cos\\theta_2)\n",
    "\\end{eqnarray*}$$\n",
    "\n",
    "Kinetic Energy is calculated as:\n",
    "\n",
    "$$\\begin{eqnarray*}\n",
    "T &=& \\frac{1}{2}mv_1^2+\\frac{1}{2}mv_2^2 \\\\\n",
    "&=& \\frac{q_1^2}{2I_1} + \\frac{q_2^2}{2I_2}\n",
    "\\end{eqnarray*}$$\n",
    "\n",
    "where $I_i = m_il_i^2$. So our Hamiltonian quantity becomes:\n",
    "$$\\begin{equation*}\n",
    "H = \\frac{1}{2}\\left(\\frac{q_1^2}{I_1} + \\frac{q_2^2}{I_2}\\right) - (m_1+m_2)gl_1cos\\theta_1 - m_2gl_2cos\\theta_2\n",
    "\\end{equation*}$$\n",
    "\n",
    "Since we have two degrees of freedom, we will have four equations of motion. These will be the following:\n",
    "$$\\begin{eqnarray*}\n",
    "\\dot{p_1} &=& -\\frac{\\partial H}{\\partial q_1} = \\frac{q_1}{I_1} \\\\\n",
    "\\dot{q_1} &=&  \\frac{\\partial H}{\\partial p_1} = (m_1+m_2)gl_1sin(p_1) \\\\\n",
    "\\dot{p_2} &=& -\\frac{\\partial H}{\\partial q_2} = \\frac{q_2}{I_2} \\\\\n",
    "\\dot{q_2} &=&  \\frac{\\partial H}{\\partial p_2} = m_2gl_2sin(p_2) \\\\\n",
    "\\end{eqnarray*}$$\n"
   ]
  },
  {
   "cell_type": "markdown",
   "metadata": {},
   "source": [
    "## Integration\n",
    "\n",
    "For Euler and Runge-Kutta, we can use the matrix equation above to integrate our system. The results will be VERY dependent on initial conditions; this is why we call it a chaotic system. For the symplectic integrator, we'll use the Hamiltonian equations of motion above. "
   ]
  },
  {
   "cell_type": "code",
   "execution_count": 1,
   "metadata": {
    "collapsed": false
   },
   "outputs": [],
   "source": [
    "def f_double_pendulum(u):\n",
    "    \"\"\"Returns RHS of double pendulum EOM\n",
    "    \n",
    "    Parameters:\n",
    "        q - initial state\n",
    "    \n",
    "    Returns:\n",
    "        RHS - RHS of harmonic oscillator eqn.\n",
    "    \n",
    "    \"\"\"\n",
    "    x1 = u[0]\n",
    "    x2 = u[1]\n",
    "    x3 = u[2]\n",
    "    x4 = u[3]\n",
    "    \n",
    "    M = numpy.array([[(m1+m2)*l1**2, m2*l1*l2*cos(x2-x1)],[m2*l1*l2*cos(x2-x1), m2*l2**2]])\n",
    "    V = numpy.array([[0, -m2*l1*l2*sin(x2-x1)],[-m2*l1*l2*sin(x2-x1), 0]])\n",
    "    G = numpy.array([[(m1+m2)*g*l1*sin(x1)],[m2*l2*g*sin(x2)]])\n",
    "    qdd = numpy.linalg.inv(M).dot(V.dot(numpy.array([[x3],[x4]])) +G) #- 2*numpy.array([[x3],[x4]])) \n",
    "    #print(qdd)\n",
    "    #print(M)\n",
    "    #print(V.dot(numpy.array([[x3],[x4]])))\n",
    "    #print(G)\n",
    "    RHS = numpy.array([[x3, x4, qdd[0], qdd[1]]])\n",
    "    #print(RHS.T)\n",
    "    return RHS.T"
   ]
  },
  {
   "cell_type": "code",
   "execution_count": 2,
   "metadata": {
    "collapsed": false
   },
   "outputs": [
    {
     "ename": "NameError",
     "evalue": "name 'numpy' is not defined",
     "output_type": "error",
     "traceback": [
      "\u001b[1;31m---------------------------------------------------------------------------\u001b[0m",
      "\u001b[1;31mNameError\u001b[0m                                 Traceback (most recent call last)",
      "\u001b[1;32m<ipython-input-2-ae24352caf7e>\u001b[0m in \u001b[0;36m<module>\u001b[1;34m()\u001b[0m\n\u001b[0;32m     11\u001b[0m \u001b[0mdt\u001b[0m \u001b[1;33m=\u001b[0m \u001b[1;36m.02\u001b[0m\u001b[1;33m;\u001b[0m \u001b[1;31m#\u001b[0m\u001b[1;33m\u001b[0m\u001b[0m\n\u001b[0;32m     12\u001b[0m \u001b[0mN\u001b[0m \u001b[1;33m=\u001b[0m \u001b[0mint\u001b[0m\u001b[1;33m(\u001b[0m\u001b[0mT\u001b[0m\u001b[1;33m/\u001b[0m\u001b[0mdt\u001b[0m\u001b[1;33m)\u001b[0m\u001b[1;33m+\u001b[0m\u001b[1;36m1\u001b[0m\u001b[1;33m\u001b[0m\u001b[0m\n\u001b[1;32m---> 13\u001b[1;33m \u001b[0mt\u001b[0m \u001b[1;33m=\u001b[0m \u001b[0mnumpy\u001b[0m\u001b[1;33m.\u001b[0m\u001b[0mlinspace\u001b[0m\u001b[1;33m(\u001b[0m\u001b[1;36m0.0\u001b[0m\u001b[1;33m,\u001b[0m \u001b[0mT\u001b[0m\u001b[1;33m,\u001b[0m \u001b[0mN\u001b[0m\u001b[1;33m)\u001b[0m\u001b[1;33m\u001b[0m\u001b[0m\n\u001b[0m\u001b[0;32m     14\u001b[0m \u001b[1;33m\u001b[0m\u001b[0m\n\u001b[0;32m     15\u001b[0m \u001b[1;31m#Initial Conditions\u001b[0m\u001b[1;33m\u001b[0m\u001b[1;33m\u001b[0m\u001b[0m\n",
      "\u001b[1;31mNameError\u001b[0m: name 'numpy' is not defined"
     ]
    }
   ],
   "source": [
    "#Set up parameters:\n",
    "g = -9.8 #[m/s^2]\n",
    "m1 = 2\n",
    "m2 = 1.5;\n",
    "l1 = 1\n",
    "l2 = 1.5\n",
    "I1 = m1*l1**2\n",
    "I2 = m2*l2**2\n",
    "\n",
    "T = 25; #[seconds]\n",
    "dt = .02; #\n",
    "N = int(T/dt)+1\n",
    "t = numpy.linspace(0.0, T, N)\n",
    "\n",
    "#Initial Conditions\n",
    "theta1_0 = 1 #[radians]\n",
    "theta2_0 = pi\n",
    "theta1_dot_0 = 0 #[rad/s]\n",
    "theta2_dot_0 = 0 #\n",
    "\n",
    "p1_0 = theta1_0\n",
    "q1_0 = m1*theta1_dot_0\n",
    "p2_0 = theta2_0\n",
    "q2_0 = m2*theta2_dot_0\n",
    "\n",
    "x_init_dp = numpy.array([theta1_0, theta2_0, theta1_dot_0, theta2_dot_0])\n",
    "x_init_H_dp = numpy.array([p1_0, q1_0, p2_0, q2_0])\n",
    "\n"
   ]
  },
  {
   "cell_type": "code",
   "execution_count": null,
   "metadata": {
    "collapsed": true
   },
   "outputs": [],
   "source": [
    "def euler_DP(u, f, dt):\n",
    "    \"\"\" Euler's method for integrating a system of differential equations.\n",
    "    \n",
    "    Parameters:\n",
    "        u - state at current step \n",
    "        f - RHS of equation\n",
    "        dt- time step size\n",
    "    \n",
    "    Returns: \n",
    "        x - array of values at next time step.\n",
    "    \"\"\"\n",
    "    #print(f(u))\n",
    "    #print(u)\n",
    "    \n",
    "    return u + dt*f(u).T    "
   ]
  },
  {
   "cell_type": "code",
   "execution_count": null,
   "metadata": {
    "collapsed": false
   },
   "outputs": [],
   "source": [
    "def RK4_DP(u,f, dt):\n",
    "    \"\"\"Runge Kutta fourth order integration method\n",
    "    \n",
    "    Parameters:\n",
    "        u - state of the system at time t\n",
    "        f - function for RHS of state equations\n",
    "        dt - time step\n",
    "        \n",
    "    Returns: array of state values at next time step.\n",
    "    \"\"\"\n",
    "    k1 = f(u).T\n",
    "    k2 = f(u).T + 0.5*dt*k1\n",
    "    k3 = f(u).T + 0.5*dt*k2\n",
    "    k4 = f(u).T + dt*k3  \n",
    "    \n",
    "    return u + dt/6*(k1+2*k2+2*k3+k4)"
   ]
  },
  {
   "cell_type": "code",
   "execution_count": null,
   "metadata": {
    "collapsed": false
   },
   "outputs": [],
   "source": [
    "#Euler\n",
    "q1_dp = numpy.zeros((N,4)) \n",
    "q1_dp[0,:] = x_init_dp.copy() #set initial conditions\n",
    "for n in range(N-1):  #integrate with Euler\n",
    "    q1_dp[n+1,:] = euler_DP(q1_dp[n,:], f_double_pendulum, dt)\n",
    "    #print(q1[n])\n",
    "    \n",
    "#Runge-Kutta\n",
    "q2_dp = numpy.zeros((N,4)) \n",
    "q2_dp[0,:] = x_init_dp.copy() #set initial conditions\n",
    "for n in range(N-1):  #integrate with Euler\n",
    "    q2_dp[n+1,:] = RK4_DP(q2_dp[n,:], f_double_pendulum, dt)\n",
    "    \n",
    "pyplot.figure(figsize=(10,8));\n",
    "pyplot.grid(True);\n",
    "pyplot.xlabel(r't', fontsize=18);\n",
    "pyplot.ylabel(r'position (meters)', fontsize=18);\n",
    "pyplot.title('Double Pendulum Euler');\n",
    "pyplot.plot(t, q1_dp[:,0], lw=2, label='Joint 1');\n",
    "pyplot.plot(t, q1_dp[:,1], lw=2, label='Joint 2')\n",
    "pyplot.legend();\n",
    "\n",
    "pyplot.figure(figsize=(10,8));\n",
    "pyplot.grid(True);\n",
    "pyplot.xlabel(r't', fontsize=18);\n",
    "pyplot.ylabel(r'position (meters)', fontsize=18);\n",
    "pyplot.title('Double Pendulum RK4');\n",
    "pyplot.plot(t, q2_dp[:,0], lw=2, label='Joint 1');\n",
    "pyplot.plot(t, q2_dp[:,1], lw=2, label='Joint 2')\n",
    "pyplot.legend();"
   ]
  },
  {
   "cell_type": "markdown",
   "metadata": {
    "collapsed": false
   },
   "source": [
    "Again, we can see that these integrators cause the system to go unstable. In fact, there is a physical interpretation for what is happening. In the RK4 plot, you can see the position of joint 1 oscillating betwee -pi and pi (corresponding to straight up in the air), until it finally reaches a value less than -pi. So, once joint 1 'flips around,' the system diverges.\n",
    "\n",
    "With simple harmonic motion, the symplectic integrator was able to accurately represent the state of the system without adding energy. Let's see if it is successful with the double pendulum. "
   ]
  },
  {
   "cell_type": "code",
   "execution_count": null,
   "metadata": {
    "collapsed": false
   },
   "outputs": [],
   "source": [
    "def Verlet_DP(u, dt):\n",
    "    \"\"\" Verlet integration for integrating from Hamiltonian equations of motion\n",
    "            for a ddouble pendulum\n",
    "    Parameters:\n",
    "        u - state at current time step\n",
    "        dt - time step size\n",
    "    Returns: \n",
    "        state at next time step.\n",
    "    \"\"\"\n",
    "    p1 = u[0]\n",
    "    q1 = u[1]\n",
    "    p2 = u[2]\n",
    "    q2 = u[3]\n",
    "    \n",
    "    p1_half = p1 - dt/2*(q1/I1)\n",
    "    q1 = q1 + dt*((m1+m2)*g*l1*sin(p1_half))\n",
    "    p1 = p1_half - dt/2*(q1/I1)\n",
    "    \n",
    "    p2_half = p2 - dt/2*(q2/I2)\n",
    "    q2 = q2 + dt*m2*g*l2*sin(p2_half)\n",
    "    p2 = p2_half - dt/2*(q2/I2)\n",
    "     \n",
    "    return numpy.array([p1, q1, p2, q2]) "
   ]
  },
  {
   "cell_type": "code",
   "execution_count": null,
   "metadata": {
    "collapsed": false
   },
   "outputs": [],
   "source": [
    "#Verlet integration\n",
    "q3_dp = numpy.zeros((N,4)) \n",
    "q3_dp[0,:] = x_init_H_dp.copy() #set initial conditions\n",
    "print(q3_dp[0,:])\n",
    "for n in range(N-1):  #integrate with Euler\n",
    "    q3_dp[n+1,:] = Verlet_DP(q3_dp[n,:], dt)\n",
    "    \n",
    "pyplot.figure(figsize=(10,8));\n",
    "pyplot.grid(True);\n",
    "pyplot.xlabel(r't', fontsize=18);\n",
    "pyplot.ylabel(r'position (meters)', fontsize=18);\n",
    "pyplot.title('Double Pendulum Euler');\n",
    "pyplot.plot(t, q3_dp[:,0], lw=2, label='Joint 1');\n",
    "pyplot.plot(t, q3_dp[:,2], lw=2, label='Joint 2')\n",
    "pyplot.legend();"
   ]
  },
  {
   "cell_type": "code",
   "execution_count": null,
   "metadata": {
    "collapsed": true
   },
   "outputs": [],
   "source": []
  },
  {
   "cell_type": "markdown",
   "metadata": {},
   "source": [
    "### Damped Double Pendulum\n",
    "\n",
    "Just like with simple harmonic motion, we can add in a damping term to help remove some of the energy that the integration scheme adds in. In the problem setup, we actually used an abbreviated form of a standard equation. The full equation is here:\n",
    "\n",
    "\\begin{equation}\n",
    "\\textbf{M}(x)\\vec{\\ddot{x}}(t)  + \\textbf{V}(x, \\dot x ) \\vec{\\dot{x}} + \\textbf{G(x)} + f(\\dot x) + \\tau_d(t) = \\tau(t)\n",
    "\\end{equation}"
   ]
  },
  {
   "cell_type": "markdown",
   "metadata": {
    "collapsed": true
   },
   "source": [
    "where $\\textbf{M, V}$, and $\\textbf{G}$ are defined as above, $f$ is frictional or damping terms, and the $\\tau$ terms represent added torque to the system. Since we aren't adding any torque, the $\\tau$ terms will remain 0. However, we can add in some linear damping by including the frictional term. This requires redefining our RHS function, but no other changes!"
   ]
  },
  {
   "cell_type": "code",
   "execution_count": null,
   "metadata": {
    "collapsed": false
   },
   "outputs": [],
   "source": [
    "def f_damped_double_pendulum(u):\n",
    "    \"\"\"Returns RHS of double pendulum EOM\n",
    "    \n",
    "    Parameters:\n",
    "        q - initial state\n",
    "    \n",
    "    Returns:\n",
    "        RHS - RHS of harmonic oscillator eqn.\n",
    "    \n",
    "    \"\"\"\n",
    "    x1 = u[0]\n",
    "    x2 = u[1]\n",
    "    x3 = u[2]\n",
    "    x4 = u[3]\n",
    "    \n",
    "    M = numpy.array([[(m1+m2)*l1**2, m2*l1*l2*cos(x2-x1)],[m2*l1*l2*cos(x2-x1), m2*l2**2]])\n",
    "    V = numpy.array([[0, -m2*l1*l2*sin(x2-x1)],[-m2*l1*l2*sin(x2-x1), 0]])\n",
    "    G = numpy.array([[(m1+m2)*g*l1*sin(x1)],[m2*l2*g*sin(x2)]])\n",
    "    f = c*numpy.array([[x3],[x4]])\n",
    "    qdd = numpy.linalg.inv(M).dot(V.dot(numpy.array([[x3],[x4]]))+G -f) \n",
    "    #print(qdd)\n",
    "    #print(M)\n",
    "    #print(V.dot(numpy.array([[x3],[x4]])))\n",
    "    #print(G)\n",
    "    RHS = numpy.array([[x3, x4, qdd[0], qdd[1]]])\n",
    "    #print(RHS.T)\n",
    "    return RHS.T"
   ]
  },
  {
   "cell_type": "code",
   "execution_count": null,
   "metadata": {
    "collapsed": false
   },
   "outputs": [],
   "source": [
    "#We use the same initial conditions as the example without damping, so they aren't redefined here.\n",
    "c = 2 #[N/(rad/s)] define some damping\n",
    "\n",
    "#Euler\n",
    "q1d_dp = numpy.zeros((N,4)) \n",
    "q1d_dp[0,:] = x_init_dp.copy() #set initial conditions\n",
    "for n in range(N-1):  #integrate with Euler\n",
    "    q1d_dp[n+1,:] = euler_DP(q1d_dp[n,:], f_damped_double_pendulum, dt)\n",
    "    #print(q1[n])\n",
    "    \n",
    "#Runge-Kutta\n",
    "q2d_dp = numpy.zeros((N,4)) \n",
    "q2d_dp[0,:] = x_init_dp.copy() #set initial conditions\n",
    "for n in range(N-1):  #integrate with Euler\n",
    "    q2d_dp[n+1,:] = RK4_DP(q2d_dp[n,:], f_damped_double_pendulum, dt)\n",
    "    \n",
    "pyplot.figure(figsize=(10,8));\n",
    "pyplot.grid(True);\n",
    "pyplot.xlabel(r't', fontsize=18);\n",
    "pyplot.ylabel(r'position (meters)', fontsize=18);\n",
    "pyplot.title('Double Pendulum Euler');\n",
    "pyplot.plot(t, q1d_dp[:,0], lw=2, label='Joint 1');\n",
    "pyplot.plot(t, q1d_dp[:,1], lw=2, label='Joint 2')\n",
    "pyplot.legend();\n",
    "\n",
    "pyplot.figure(figsize=(10,8));\n",
    "pyplot.grid(True);\n",
    "pyplot.xlabel(r't', fontsize=18);\n",
    "pyplot.ylabel(r'position (meters)', fontsize=18);\n",
    "pyplot.title('Double Pendulum RK4');\n",
    "pyplot.plot(t, q2d_dp[:,0], lw=2, label='Joint 1');\n",
    "pyplot.plot(t, q2d_dp[:,1], lw=2, label='Joint 2')\n",
    "pyplot.legend();"
   ]
  },
  {
   "cell_type": "markdown",
   "metadata": {
    "collapsed": true
   },
   "source": [
    "### Investigating system behavior\n",
    "\n",
    "In order to investigate system behavior for damped harmonic motion, we used a phase portrait where we plotted position vs. velocity. In this system, we have 2 positions and 2 velocities, so a phase plot won't accurately capture the behavior of the system. Instead we are going to use something called a Poincare section (https://en.wikipedia.org/wiki/Poincar%C3%A9_map). The way these work is to capture the system behavior at a specific, repetetive point. For example, each time that $\\theta_1 = 0$ (mass 1 is hanging straight down) we can capture the angular position and velocity of mass 2. This way, we are taking a 'snapshot' of the system, and plotting the state each time. We can now investigate system behavior on a simple 2D plot, similar to the phase portrait."
   ]
  },
  {
   "cell_type": "code",
   "execution_count": null,
   "metadata": {
    "collapsed": false
   },
   "outputs": [],
   "source": [
    "def poincare(state, sf, val, s1, s2):\n",
    "    '''Creates a poincare section, capturing system state each time q[state]=val\n",
    "    \n",
    "    Parameters:\n",
    "        state - state vector\n",
    "        sf - the row in q to fix\n",
    "        val - the value to capture state at \n",
    "        s1 - state to capture 1\n",
    "        s2 - state to capture 2\n",
    "        \n",
    "    Returns:\n",
    "        v - array with information for poincare section\n",
    "    '''\n",
    "    v = numpy.zeros((2,1))\n",
    "    for i in range(len(state[:,sf])-1):\n",
    "        if (state[i,sf]>val):\n",
    "            if (state[i+1,sf] < val):\n",
    "                # print(v)\n",
    "                # print([[state[i, s1],[state[i, s2]]]])\n",
    "                v = numpy.append(v, [[state[i, s1]],[state[i, s2]]], axis=1)\n",
    "        \n",
    "        if (state[i,sf] < val):\n",
    "            if (state[i+1,sf] > val):\n",
    "                v = numpy.append(v, [[state[i, s1]],[state[i, s2]]], axis=1)\n",
    "                         \n",
    "    return v\n",
    "    "
   ]
  },
  {
   "cell_type": "code",
   "execution_count": null,
   "metadata": {
    "collapsed": false
   },
   "outputs": [],
   "source": [
    "v = poincare(q2d_dp, 0, 0, 2, 3) #use states from RK4 integration\n",
    "\n",
    "pyplot.figure(figsize=(10,8));\n",
    "pyplot.grid(True);\n",
    "pyplot.xlabel(r'$\\theta_2$', fontsize=18);\n",
    "pyplot.ylabel(r'$\\dot{\\theta_2}$', fontsize=18);\n",
    "pyplot.title('Poincare Section');\n",
    "pyplot.plot(v[0,:], v[1,:], 'bo', lw=2, );\n",
    "#pyplot.plot(t, q2d_dp[:,1], lw=2, label='Joint 2')\n",
    "#pyplot.legend();\n"
   ]
  },
  {
   "cell_type": "markdown",
   "metadata": {},
   "source": [
    "(try to animate plot)\n",
    "\n",
    "Other than a few outliers, the plot converges to 0,0. So, this system is stable! This would not be the case for the undamped double pendulum, as integrated by RK4. "
   ]
  },
  {
   "cell_type": "markdown",
   "metadata": {},
   "source": [
    "Sources: \n",
    "\n",
    "[1] http://scienceworld.wolfram.com/physics/DoublePendulum.html\n",
    "\n",
    "[2] http://www.phy.uct.ac.za/courses/opencontent/phylab2/worksheet9_09.pdf\n",
    "\n",
    "[3] http://www.phys.lsu.edu/faculty/gonzalez/Teaching/Phys7221/DoublePendulum.pdf\n",
    "\n",
    "[4] http://www.iontrap.wabash.edu/adlab/papers/F2011_foster_groninger_tang_chaos.pdf\n",
    "\n",
    "[5] https://math.berkeley.edu/~alanw/242papers99/markiewicz.pdf\n",
    "\n",
    "[6] http://www.unige.ch/~hairer/poly_geoint/week2.pdf\n",
    "\n",
    "[7] http://articles.adsabs.harvard.edu/cgi-bin/nph-iarticle_query?1994CeMDA..60..409T&defaultprint=YES&filetype=.pdf\n",
    "\n"
   ]
  },
  {
   "cell_type": "code",
   "execution_count": null,
   "metadata": {
    "collapsed": false
   },
   "outputs": [],
   "source": [
    "# This cell loads the style of the notebook, which is modified from the \n",
    "# Numerical Methods in Python Course: http://openedx.seas.gwu.edu/courses/GW/MAE6286/2014_fall/about\n",
    "\n",
    "from IPython.core.display import HTML\n",
    "css_file = './numericalmoocstyle.css'\n",
    "HTML(open(css_file, \"r\").read())"
   ]
  },
  {
   "cell_type": "code",
   "execution_count": null,
   "metadata": {
    "collapsed": true
   },
   "outputs": [],
   "source": []
  }
 ],
 "metadata": {
  "kernelspec": {
   "display_name": "Python 3",
   "language": "python",
   "name": "python3"
  },
  "language_info": {
   "codemirror_mode": {
    "name": "ipython",
    "version": 3
   },
   "file_extension": ".py",
   "mimetype": "text/x-python",
   "name": "python",
   "nbconvert_exporter": "python",
   "pygments_lexer": "ipython3",
   "version": "3.5.0"
  }
 },
 "nbformat": 4,
 "nbformat_minor": 0
}
