{
 "cells": [
  {
   "cell_type": "markdown",
   "metadata": {},
   "source": [
    "# Supersonic Flow over a Flat Plate"
   ]
  },
  {
   "cell_type": "markdown",
   "metadata": {},
   "source": [
    "This notebook examines a two-dimensional, laminar, viscous, supersonic flow past a flat plate with zero angle of attack. The main source of this notebook is:\n",
    "\n",
    "$\\textit{Computational Fluid Dynamics, The Basics With Applications}$ by John D. Anderson."
   ]
  },
  {
   "cell_type": "markdown",
   "metadata": {},
   "source": [
    "## Problem Statement"
   ]
  },
  {
   "cell_type": "markdown",
   "metadata": {},
   "source": [
    "As incoming supersonic flow meets the leading edge of a thin flat plate with no angle of attack, a viscous and laminar boundary layer develops. The boundary layer remains laminar as long as the Reynolds number remains below the turbulent regime.\n",
    "\n",
    "This physical phenomenon causes the development of a shock wave, which is curved due to the presence of the boundary layer, as seen in Figure 1.  Anderson (1995) states that depending on the incoming Mach number, Reynolds number, and plate temperature, the shock layer can contain regions of both viscous and inviscid flows, or it can also be characterized as fully viscous.\n",
    "\n",
    "Additionally, viscous dissipation of kinetic energy in the shock layer can cause high temperature areas and high heat transfer rates (Anderson, 1995)."
   ]
  },
  {
   "cell_type": "markdown",
   "metadata": {},
   "source": [
    "<img src=\"./figures/flow_diagram.png\">\n",
    "\n",
    "\n",
    "#### Figure 1. Supersonic flow over a flat plate"
   ]
  },
  {
   "cell_type": "markdown",
   "metadata": {},
   "source": [
    "## The Governing Equations"
   ]
  },
  {
   "cell_type": "markdown",
   "metadata": {},
   "source": [
    "The problem can be studied using the time-dependent, two-dimensional Navier-Stokes equations with negligent body forces and volumetric heating (Anderson, 1995). The equations for continuity, and x and y momentum are:\n",
    "\n",
    "\\begin{align}\n",
    "0=& \\frac{\\partial \\rho}{\\partial t} + \\frac{\\partial}{\\partial x}(\\rho u ) + \\frac{\\partial}{\\partial y} ( \\rho v )   \\\\\n",
    "0 =& \\frac{\\partial}{\\partial t}( \\rho u ) + \\frac{\\partial}{\\partial x}( \\rho u^2 + P - \\tau_{xx}) + \\frac{\\partial}{\\partial y} ( \\rho uv -\\tau_{yx}) \\\\\n",
    "0=& \\frac{\\partial}{\\partial t}( \\rho v ) + \\frac{\\partial}{\\partial x} ( \\rho uv - \\tau_{xy} ) + \\frac{\\partial}{\\partial y}  ( \\rho v^2 + P -\\tau_{yy} ) \\\\\n",
    "0=& \\frac{\\partial}{\\partial t}E_{t} + \\frac{\\partial}{\\partial x} \\big( (E_{t}+P)u - u \\tau_{xx} - v \\tau_{xy} + q_{x} \\big) + \\frac{\\partial}{\\partial x} \\big( (E_{t}+P)v - u \\tau_{yx} - v \\tau_{yy} + q_{y} \\big) \\\\\n",
    "\\end{align}\n",
    "\n",
    "In these equations, $E_{t}$ is the sum of kinetic and internal energy per unit volume, and is defined as:\n",
    "\n",
    "\\begin{equation}\n",
    "E_{t} = \\rho \\big( e + \\frac{V^2}{2} \\big) \\\\\n",
    "\\end{equation}\n",
    "\n",
    "Additionally, the shear and normal stresses can be expressed in terms of velocity gradients as:\n",
    "\n",
    "\\begin{align}\n",
    "\\tau_{xy} &= \\tau_{yx} = \\mu \\big( \\frac{\\partial u }{\\partial y} + \\frac{\\partial v}{\\partial x} \\big) \\\\\n",
    "\\tau_{xx} &= \\lambda \\big( \\nabla  \\textbf{V} \\big) + 2 \\mu \\frac{\\partial u }{\\partial x} \\\\\n",
    "\\tau_{yy} &= \\lambda \\big( \\nabla  \\textbf{V} \\big) + 2 \\mu \\frac{\\partial v }{\\partial y} \\\\\n",
    "\\end{align}\n",
    "\n",
    "From Fourier's heat conduction law, the heat flux components are:\n",
    "\n",
    "\\begin{align}\n",
    "q_{x} &= -k \\frac{\\partial T }{\\partial x} \\\\\n",
    "q_{y} &= -k \\frac{\\partial T }{\\partial y}\n",
    "\\end{align}"
   ]
  },
  {
   "cell_type": "markdown",
   "metadata": {},
   "source": [
    "So far, the system consists of four equations (1 through 4 above). The system also contains nine unknowns, which are:\n",
    "\n",
    "* density, $\\rho$ \n",
    "* x-velocity, u \n",
    "* y-velocity, v \n",
    "* velocity magnitude, $|\\textbf{V}| $\n",
    "* pressure, P \n",
    "* temperature, T \n",
    "* internal energy, e \n",
    "* viscosity, $\\mu$, and \n",
    "* thermal conductivity, k\n",
    "\n",
    "Since there are more unknowns than equations, we need to close the system by adding more equations. Assuming that the air is calorically perfect, we can write an additional five equations for pressure, internal energy, velocity magnitude, viscosity, and thermal conductivity.\n",
    "\n",
    "1. P = $\\rho$RT\n",
    "2. e = $c_{v}$T\n",
    "3. $|\\textbf{V}| $ = $\\sqrt{u^{2}+v^{2}}$\n",
    "4. $\\mu  = \\mu_{o} \\big(\\frac{T}{T_{o}} \\big)^{\\frac{3}{2}} \\bigg( \\frac{T_{o} +110}{T + 110} \\bigg) \\hspace{1em} \\text{(Sutherland's law)}$ \n",
    "5. Pr = 0.71 = $\\frac{\\mu c_{p}}{k} \\hspace{1em} \\text{(Prandtl number)}$\n",
    "\n",
    "Now that the system of equations is closed, we can proceed to the discretization scheme."
   ]
  },
  {
   "cell_type": "markdown",
   "metadata": {},
   "source": [
    "## Discretization "
   ]
  },
  {
   "cell_type": "markdown",
   "metadata": {},
   "source": [
    "In this notebook, the governing equations are discretized using the MacCormack finite difference scheme. As we have learned from previous notebooks, the MacCormack scheme is second order accurate in space and time. \n",
    "\n",
    "To begin the discretization process, we can express the system of governing equations in vector form:\n",
    "\n",
    "\\begin{equation}\n",
    "\\frac{\\partial \\textbf{U}}{\\partial t} + \\frac{\\partial \\textbf{E}}{\\partial x} + \\frac{\\partial \\textbf{F}}{\\partial y} = 0,\n",
    "\\end{equation}\n",
    "\n",
    "where the vectors $\\textbf{U}, \\textbf{E}$, and $\\textbf{F}$ are:\n",
    "\n",
    "$$\\textbf{U} = \n",
    "\\left[ \\begin{array}{c}\n",
    "\\rho \\\\\n",
    "\\rho u \\\\\n",
    "\\rho v \\\\\n",
    "E_{t}\n",
    "\\end{array} \\right]$$\n",
    "\n",
    "$$\\textbf{E} = \n",
    "\\left[ \\begin{array}{c}\n",
    "\\rho u\\\\\n",
    "\\rho u^2 + P - \\tau_{xx}\\\\\n",
    "\\rho uv - \\tau_{xy} \\\\\n",
    "(E_{t}+P)u - u\\tau_{xx} - v\\tau_{xy} + q_{x} \n",
    "\\end{array} \\right] $$ \n",
    "\n",
    "$$\\textbf{F} = \n",
    "\\left[ \\begin{array}{c}\n",
    "\\rho v \\\\\n",
    "\\rho uv - \\tau_{xy}  \\\\\n",
    "\\rho v^2 + P - \\tau_{xy} \\\\ \n",
    "(E_{t}+P)v - u\\tau_{xy} - v\\tau_{yy} + q_{y}\n",
    "\\end{array} \\right] $$ \n",
    "\n",
    "Now that we have arranged the properties of mass momentum, energy, and fluxes, we can apply the MacCormack two-step method. It is as follows:\n",
    "\n",
    "predictor step:\n",
    "\n",
    "\\begin{equation*}\n",
    "U^*_{i,j} = U^n_{i,j} - \\frac{\\Delta t}{\\Delta x} (E^n_{i+1,j}-E^n_{i,j}) - \\frac{\\Delta t}{\\Delta y} (F^n_{i,j+1}-F^n_{i,j})\\\n",
    "\\end{equation*}\n",
    "\n",
    "corrector step:\n",
    "\n",
    "\\begin{equation*}\n",
    "U^{n+1}_{i,j} = \\frac{1}{2} \\big( U^n_{i,j} + U^*_{i,j} - \\frac{\\Delta t}{\\Delta x} (E^*_{i,j} - E^{*}_{i-1,j}) - \\frac{\\Delta t}{\\Delta y}(F^*_{i,j} - F^{*}_{i,j-1}) \\big) \\ \n",
    "\\end{equation*}\n",
    "\n"
   ]
  },
  {
   "cell_type": "markdown",
   "metadata": {},
   "source": [
    "### The issue of maintaining second order accuracy"
   ]
  },
  {
   "cell_type": "markdown",
   "metadata": {},
   "source": [
    "Anderson (1995) specifies that in order to maintain second order accuracy, the x derivatives appearing in the E flux vector (e.g. in the shear and normal stresses) are differenced in the opposite direction of discretization of $\\frac{\\partial E}{\\partial x}$, while the y derivatives are discretized centrally. Similarly, the y derivatives appearing in F flux are differenced in the opposite direction of discretization of $\\frac{\\partial F}{\\partial y}$, while the x derivatives are discretized centrally.\n",
    "\n",
    "As an example, consider the predictor step. The E flux vector is differenced forward in space, which means that the x derivatives that appear in E will be discretized in a backward direction and the y derivatives will be differenced centrally. Additionally, the F flux vector is differenced in a y-forward direction, which means that the y derivatives that appear in F will be discretized in a backward direction and the x derivatives will be differenced centrally. Then, for the predictor step, we have discretizations as such:\n",
    "\n",
    "$\\begin{align}\n",
    "\\frac{\\partial E}{\\partial x} \\approx \\frac{1}{\\Delta x} (E_{i+1,j}-E_{i,j}) \n",
    "\\end{align}$\n",
    "\n",
    "and the derivatives appearing in E are discretized like this:\n",
    "\n",
    "$\n",
    "\\hspace{2.5em} E_{0} = \\rho u, \\text{(no derivatives)} \n",
    "$\n",
    "\n",
    "$\\begin{align*}\n",
    "\\hspace{2.5em}E_{1} = \\rho u^{2} + &P - \\\\\n",
    "& \\lambda \\big( \\frac{\\textbf{V}_{i,j}-\\textbf{V}_{i-1,j} }{\\Delta x} + \\frac{\\textbf{V}_{i,j+1}-\\textbf{V}_{i,j-1} }{2 \\Delta y} \\big) + 2\\mu \\big( \\frac{u_{i,j}-u_{i-1,j}}{\\Delta x}  \\big)\n",
    "\\end{align*}$\n",
    "\n",
    "$\\begin{align*}\n",
    "\\hspace{2.5em}E_{2} = \\rho uv - \\mu \\big( \\frac{u_{i,j+1}-u_{i,j-1}}{2 \\Delta y} + \\frac{v_{i,j}-v_{i-1,j}}{\\Delta x} \\big) \n",
    "\\end{align*}$\n",
    "\n",
    "$\\begin{align*}\n",
    "\\hspace{2.5em}E_{3} = \\hspace{0.3em}  &(E_{t}+P)u - \\\\ & u \\bigg( \\lambda \\big(\\frac{ \\textbf{V}_{i,j} - \\textbf{V}_{i-1,j}  } {\\Delta x} + \\frac{ \\textbf{V}_{i,j+1} - \\textbf{V}_{i,j-1}  } {2 \\Delta y} \\big) + 2\\mu \\big( \\frac{u_{i,j}-u_{i-1,j}}{\\Delta x}  \\big) \\bigg) - \\\\ & v \\bigg(  \\mu \\big( \\frac{u_{i,j+1}-u_{i,j-1}}{2 \\Delta y} + \\frac{v_{i,j}-v_{i-1,j}}{\\Delta x} \\big) \\big) + \\\\\n",
    "&\\frac{T_{i,j}-T_{i-1,j}}{\\Delta x}\n",
    "\\end{align*}$\n",
    "\n",
    "For the F flux vector, we would have:\n",
    "\n",
    "$\\begin{align}\n",
    "\\frac{\\partial F}{\\partial y} \\approx \\frac{1}{\\Delta y} (F_{i,j+1}-F_{i,j}) \n",
    "\\end{align}$,\n",
    "\n",
    "and the derivatives appearing in F are discretized like this:\n",
    "\n",
    "$\n",
    "\\hspace{2.5em} F_{0} = \\rho v, \\text{(no derivatives)}\n",
    "$\n",
    "\n",
    "$\\begin{align*}\n",
    "\\hspace{2.5em} F_{1} = \\rho uv - \\mu \\big( \\frac{u_{i,j}-u_{i,j-1}}{\\Delta y} + \\frac{v_{i+1,j}-v_{i-1,j}}{2 \\Delta x} \\big) \n",
    "\\end{align*}$\n",
    "\n",
    "$\\begin{align*}\n",
    "\\hspace{2.5em} F_{2} = \\rho v^{2} + P - \\mu \\big( \\frac{u_{i,j}-u_{i,j-1}}{ \\Delta y} + \\frac{v_{i+1,j}-v_{i-1,j}}{2 \\Delta x} \\big) \n",
    "\\end{align*}$\n",
    "\n",
    "$\\begin{align*}\n",
    "\\hspace{2.5em} F_{3} = \\hspace{0.3em} &(E_{t}+P)v - \\\\ & u \\mu \\big( \\frac{u_{i,j}-u_{i,j-1}}{ \\Delta y} + \\frac{v_{i+1,j}-v_{i-1,j}}{2 \\Delta x} \\big) - \\\\ & v \\bigg( \\lambda \\big( \\frac{ \\textbf{V}_{i+1,j} - \\textbf{V}_{i-1,j}  } {2 \\Delta x} + \\frac{ \\textbf{V}_{i,j} - \\textbf{V}_{i,j-1}  } {\\Delta y}  \\big) + 2\\mu \\big( \\frac{u_{i,j}-u_{i,j-1}}{\\Delta y}  \\big) \\bigg) + \\\\\n",
    "&\\frac{T_{i,j}-T_{i,j-1}}{\\Delta y}\n",
    "\\end{align*}$\n",
    "\n",
    "This discretization process is also done for the corrector step, which means that we end up with many functions for calculating the shear and normal stress components. In fact, using this process, we end up with eight different functions for normal and shear stresses, and four different functions for heat fluxes.\n",
    "\n",
    "For further reading on the MacCormack technique, consult the numerical-mooc notebook\n",
    "[\"Convection Schemes\"](https://github.com/numerical-mooc/numerical-mooc/blob/master/lessons/03_wave/03_02_convectionSchemes.ipynb), and Anderson (1995), Chapter 6.3."
   ]
  },
  {
   "cell_type": "markdown",
   "metadata": {},
   "source": [
    "## Computational Domain"
   ]
  },
  {
   "cell_type": "markdown",
   "metadata": {},
   "source": [
    "Obviously, we want a computational domain that accurately captures the shock wave. The dimensions of the the computational domain will depend on the specific problem parameters. Anderson (1995) recommends a Reynolds number of about 1000 to relate the incoming freestream velocity and the plate length. A reasonable choice is to make the plate length the length of the computational x-length:\n",
    "\n",
    "$x_l = L_{plate}$\n",
    "\n",
    "Using the definition of Reynolds number, and assuming we know the freestream values for density, velocity, and viscosity, we can find the computational x-length:\n",
    "\n",
    "$Re = \\frac{\\rho u L_{plate}}{\\mu} \\approx 1000$\n",
    "\n",
    "Having established the length of the plate as the computational x-length, the computational y-length is established according to the assumption that a length five times the height of the boundary layer at the trailing edge will be sufficient to capture the shock (Anderson, 1995). The height of the boundary layer at the trailing edge, by Blasius calculation, is the following:\n",
    "\n",
    "$\\delta = \\frac{5 L_{plate}}{\\sqrt {Re_L}} $, and\n",
    "\n",
    "$y_l = 5\\delta  $"
   ]
  },
  {
   "cell_type": "markdown",
   "metadata": {},
   "source": [
    "<img src=\"./figures/computational_domain.png\">\n",
    "\n",
    "\n",
    "#### Figure 2. Computational Domain"
   ]
  },
  {
   "cell_type": "markdown",
   "metadata": {},
   "source": [
    "Using this information, we can calculate the x and y spacing between grid points:\n",
    "\n",
    "$\\Delta x = \\frac {x_l}{n_{x}-1}$, and\n",
    "$\\Delta y = \\frac {y_l}{n_{y}-1}$,\n",
    "\n",
    "where $n_x$ and $n_y$ are the number of grid points in the x and y direction, respectively. For this problem, we can follow the general requirements for choosing the number of grid points (Anderson, 1995):\n",
    "\n",
    "$Re_{\\Delta x} = \\frac{\\rho_{i,j} u_{i,j} \\Delta x}{\\mu_{i,j}}, \\hspace{0.5em} Re_{\\Delta x} \\leq 30-40$, and\n",
    "\n",
    "$Re_{\\Delta y} = \\frac{\\rho_{i,j} v_{i,j} \\Delta x}{\\mu_{i,j}}, \\hspace{0.5em} Re_{\\Delta y} \\leq 3-4$."
   ]
  },
  {
   "cell_type": "markdown",
   "metadata": {},
   "source": [
    "## Time Stepping Requirements"
   ]
  },
  {
   "cell_type": "markdown",
   "metadata": {},
   "source": [
    "Because the MacCormack scheme is explicit, we need to employ a stability criterion for the scheme. Using the CFL criterion in Anderson (1995), we can obtain an adaptive time step function:\n",
    "\n",
    "$\\begin{align*}\n",
    "(\\Delta tcfl)_{i,j} = \\big( \\frac{|u_{i,j}|}{\\Delta x} + \\frac{|v_{i,j}|}{\\Delta y} + a_{i,j} \\sqrt{\\frac{1}{\\Delta x^2} + \\frac{1}{\\Delta y^2}} + 2v^{'}_{i,j} (\\frac{1}{\\Delta x^2} + \\frac{1}{\\Delta y^2}) \\big)^{-1}\n",
    "\\end{align*}$\n",
    "\n",
    "where\n",
    "\n",
    "$\n",
    "\\hspace{3em} v^{'}_{i,j} = max \\big( \\frac{ \\frac{4}{3} \\mu_{i,j} (\\gamma \\mu_{i,j} / Pr) }{\\rho_{i,j}} \\big)\n",
    "$, \n",
    "\n",
    "and the time step is\n",
    "\n",
    "$\\hspace{4em} \\Delta t = min \\big( K(\\Delta tcfl)_{i,j} \\big)$\n",
    "\n",
    "K is a fudge factor chosen between 0.5 and 0.8 to ensure stability (Anderson, 1995)."
   ]
  },
  {
   "cell_type": "markdown",
   "metadata": {},
   "source": [
    "## Problem Setup"
   ]
  },
  {
   "cell_type": "markdown",
   "metadata": {},
   "source": [
    "Now that we have discussed the governing equations, discretization method, and computational requirements in time and space, we are ready to look at a specific problem.\n",
    "\n",
    "We choose the freestream conditions:\n",
    "\n",
    "* Initial values of air at sea level\n",
    "* Incoming speed of Mach 4\n",
    "\n",
    "At an incoming velocity of Mach 4, using sea level values for density, viscosity, and speed of sound, we can obtain the computational x and y dimensions:\n",
    "\n",
    "$x_{l} = \\frac{1000 \\mu}{\\rho u} \\approx 1.07x10^{-5} meters$\n",
    "\n",
    "$y_{l} = 5\\delta \\approx 8.48x10^{-6} meters$\n",
    "\n",
    "Although the computational domain is small, it is sufficiently large compared to the mean free path of air molecules (Anderson, 1995). Similarly, satisfying the spacing requirements, we choose the number of grid points:\n",
    "\n",
    "$n_x$ = $n_y$ = 70"
   ]
  },
  {
   "cell_type": "markdown",
   "metadata": {},
   "source": [
    "## Initial and  Boundary Conditions"
   ]
  },
  {
   "cell_type": "markdown",
   "metadata": {},
   "source": [
    "Initially, the values of $\\textbf{U}$ are given based on the following initial conditions:\n",
    "\n",
    "* u = 340.28 $\\frac{m}{s}$ x 4 = 1361.12 $\\frac{m}{s}$\n",
    "* v = 0\n",
    "* T = 288.16 K\n",
    "* P = 101325 Pa\n",
    "* $\\rho$ $\\approx$ 1.225 $\\frac{kg}{m^{3}}$\n",
    "\n",
    "These conditions are initialized everywhere except at the the leading edge and plate surface, where\n",
    "\n",
    "* u = v = 0, and\n",
    "* $T_{plate}$ = $T_{wall}$,\n",
    "\n",
    "where $T_{wall}$ is constant and is set equal to initial freestream temperature. Figure 3 below shows the application of boundary conditions. Note that in zone 4 the values for the x and y components of velocity, pressure, and temperature are extrapolated from interior points. Generally this is is accomplished as illustrated by the pseudocode:\n",
    "\n",
    "$u_{-1,1:-1} = 2u_{-2,1:-1} - u_{-3,1:-1}$."
   ]
  },
  {
   "cell_type": "markdown",
   "metadata": {},
   "source": [
    "<img src=\"./figures/bc.png\">\n",
    "\n",
    "\n",
    "#### Figure 3. Boundary Conditions"
   ]
  },
  {
   "cell_type": "markdown",
   "metadata": {},
   "source": [
    "## Run Time!"
   ]
  },
  {
   "cell_type": "markdown",
   "metadata": {},
   "source": [
    "First, we'll import the necessary libraries:"
   ]
  },
  {
   "cell_type": "code",
   "execution_count": 1,
   "metadata": {
    "collapsed": true
   },
   "outputs": [],
   "source": [
    "import numpy\n",
    "from matplotlib import pyplot    \n",
    "%matplotlib notebook"
   ]
  },
  {
   "cell_type": "markdown",
   "metadata": {},
   "source": [
    "We proceed to run the program by calling all of the parameters and functions saved in separate $\\textbf{.py}$ scripts. Let's look at these scripts.\n",
    "\n",
    "Firstly, the $\\textbf{parameters.py}$ script contains all of the freestream values necessary to initialize the problem, as well as grid dimensions and nodes. We can see what \"parameters.py\" contains by loading the script in a cell after we run the script. Use $\\textbf{%load parameters.py}$, and check it out!"
   ]
  },
  {
   "cell_type": "code",
   "execution_count": 2,
   "metadata": {
    "collapsed": true
   },
   "outputs": [],
   "source": [
    "%run parameters.py"
   ]
  },
  {
   "cell_type": "markdown",
   "metadata": {},
   "source": [
    "Now that we have loaded the initial conditions and grid information, we call another script that contains a function to initialize the flow field. The script $\\textbf{initial_conditions.py}$ contains this function. Generally, if you wish to see a description of each function within a script, use the general command  $\\textbf{?function_name}$  after the scripts are run. \n",
    "\n",
    "The following lists contain the scripts and functions used to calculate the solution:\n",
    "\n",
    "* initial_conditons.py\n",
    "    - get_Uinitial\n",
    "\n",
    "* functions.py\n",
    "    - get_Temperature\n",
    "    - get_visc\n",
    "    - get_BC\n",
    "    - get_tau_xy_predict\n",
    "    - get_tau_xy_Fpredict\n",
    "    - get_tau_xx_predict\n",
    "    - get_tau_yy_predict\n",
    "    - get_E_flux_predictor\n",
    "    - get_F_flux_predictor\n",
    "    - get_dt\n",
    "    - get_tau_xy_correct\n",
    "    - get_tau_xy_Fcorrect\n",
    "    - get_tau_xx_correct\n",
    "    - get_tau_yy_correct\n",
    "    - get_E_flux_correct\n",
    "    - get_F_flux_correct\n",
    "    - maccormack\n",
    "    \n",
    "    \n",
    "Remember, if you want to know more details about each function, go ahead and run $\\textbf{?function_name}$ to get docstring information.\n"
   ]
  },
  {
   "cell_type": "code",
   "execution_count": 3,
   "metadata": {
    "collapsed": true
   },
   "outputs": [],
   "source": [
    "%run initial_conditions.py"
   ]
  },
  {
   "cell_type": "code",
   "execution_count": 4,
   "metadata": {
    "collapsed": false
   },
   "outputs": [],
   "source": [
    "UU = get_Uinitial(nx, ny, rho_inf, u_inf, v_inf,\\\n",
    "                  V_inf, T_inf, e_inf, T_wall, cv, R)"
   ]
  },
  {
   "cell_type": "code",
   "execution_count": 5,
   "metadata": {
    "collapsed": false
   },
   "outputs": [],
   "source": [
    "%run functions.py"
   ]
  },
  {
   "cell_type": "code",
   "execution_count": 6,
   "metadata": {
    "collapsed": false
   },
   "outputs": [
    {
     "name": "stdout",
     "output_type": "stream",
     "text": [
      "Mass is conserved by 99.36 percent\n"
     ]
    }
   ],
   "source": [
    "US = maccormack(UU,nt,nx,ny,dx,dy,T_wall,\\\n",
    "                T_inf,rho_inf,u_inf,cv,cp,dyn_visc,Pr,lmbda,R,gamma)"
   ]
  },
  {
   "cell_type": "code",
   "execution_count": 7,
   "metadata": {
    "collapsed": false
   },
   "outputs": [
    {
     "data": {
      "text/plain": [
       "(2413, 4, 70, 70)"
      ]
     },
     "execution_count": 7,
     "metadata": {},
     "output_type": "execute_result"
    }
   ],
   "source": [
    "numpy.shape(US)"
   ]
  },
  {
   "cell_type": "markdown",
   "metadata": {},
   "source": [
    "## Post-Processing - Converged Solution"
   ]
  },
  {
   "cell_type": "markdown",
   "metadata": {},
   "source": [
    "Once we have a solution we can do some post-processing analysis to make sense of our results. First, let's discuss the time-dependent convergence of the solution. Anderson [1995] suggests that the solution is converged once the density at each grid point changes no less than $1x10^{-8}$ between time steps. We can do a quick check, just to convince ourselves that the solution has converged:\n"
   ]
  },
  {
   "cell_type": "code",
   "execution_count": 8,
   "metadata": {
    "collapsed": false
   },
   "outputs": [
    {
     "data": {
      "text/plain": [
       "(array([], dtype=int64), array([], dtype=int64))"
      ]
     },
     "execution_count": 8,
     "metadata": {},
     "output_type": "execute_result"
    }
   ],
   "source": [
    "numpy.where((US[-1,0,:,:] - US[-2,0,:,:]) > 1e-8)"
   ]
  },
  {
   "cell_type": "markdown",
   "metadata": {},
   "source": [
    "It looks like our solution has converged (yes!). Additionally, we can see that conservation of mass is satisfied to within 0.6 % percent (see printed statement right below the code cell for maccormack function). Conservation of mass was calculated observing mass flow rates across inflow and outflow boundaries. A trapezoidal function (numpy.trapz) was used to integrate the mass flow accross these boundaries.\n",
    "\n",
    "Now, let's call our post-processing script, $\\textbf{pp_functions.py}$, to plot some graphs. This script has the following functions:\n",
    "\n",
    "    - get_grid\n",
    "    - get_Pressure\n",
    "    - get_Pressure_plot\n",
    "    - get_Temperature_plot\n",
    "    - get_Velocity_plot\n",
    "    - get_cplots\n",
    "    "
   ]
  },
  {
   "cell_type": "code",
   "execution_count": 9,
   "metadata": {
    "collapsed": false
   },
   "outputs": [],
   "source": [
    "%run pp_functions.py"
   ]
  },
  {
   "cell_type": "markdown",
   "metadata": {},
   "source": [
    "Let's create a mesh:"
   ]
  },
  {
   "cell_type": "code",
   "execution_count": 10,
   "metadata": {
    "collapsed": true
   },
   "outputs": [],
   "source": [
    "x,y,mx, my = get_grid(L,Y, nx, ny)"
   ]
  },
  {
   "cell_type": "markdown",
   "metadata": {},
   "source": [
    "Next order of business is to plot some results!"
   ]
  },
  {
   "cell_type": "markdown",
   "metadata": {},
   "source": [
    "### Pressure "
   ]
  },
  {
   "cell_type": "markdown",
   "metadata": {},
   "source": [
    "The first figure immediately below shows the plate surface pressure, which is non-dimensionalized by the atmospheric pressure. This result is $\\textit{qualitatively}$ in good agreement with Anderson (1995). Anderson (1995) shows a maximum non-dimensionalized pressure of around 3 units, whereas this solution shows a maximum non-dimensionalized pressure of 4 units. The discrepancy may be in the initialization of the flow field. The initialized field in Anderson (1995) is not specified. The methodology of this current solution initializes the flow field with inflow freestream conditions as specified in the $\\textit{parameters.py}$ script.\n",
    "\n",
    "Another interesting result seen in figure 1 are the oscilations that occur in the leading edge region. Anderson (1995) concludes that it is unclear whether these results are due to the numerical scheme itself or whether this is part of the physics of the problem.\n",
    "\n",
    "\n",
    "Additionally, it is consistent with the pressure contour plot below. Look closely at the surface pressure contour and you'll see that the pressure is highest right after the leading edge. This makes sense!"
   ]
  },
  {
   "cell_type": "code",
   "execution_count": 11,
   "metadata": {
    "collapsed": false
   },
   "outputs": [],
   "source": [
    "Uf = US[-1,:,:,:].copy() #last time step values\n",
    "Tf = get_Temperature(Uf, nx, ny, T_wall, T_inf, cv) #at converged solution\n",
    "Pf = get_Pressure(Uf, Tf,nx,ny,R) #pressure at converged solution"
   ]
  },
  {
   "cell_type": "code",
   "execution_count": 12,
   "metadata": {
    "collapsed": false
   },
   "outputs": [
    {
     "data": {
      "image/png": "[encoded data removed]",
      "text/plain": [
       "<matplotlib.figure.Figure at 0x107c1d128>"
      ]
     },
     "metadata": {},
     "output_type": "display_data"
    }
   ],
   "source": [
    "%matplotlib inline\n",
    "Pressure_plot = get_Pressure_plot(x,y,Re, Pf, P_inf)"
   ]
  },
  {
   "cell_type": "markdown",
   "metadata": {},
   "source": [
    "### Temperature"
   ]
  },
  {
   "cell_type": "markdown",
   "metadata": {},
   "source": [
    "Figure 3 below shows good $\\textit{qualitative}$ agreement with the result presented in Anderson (1995). The profile shows varying temperatures due to the capture of the shock wave, and we also notice that the temperature gradient becomes zero as we move out of the shock region and closer to the outer, freestream region."
   ]
  },
  {
   "cell_type": "code",
   "execution_count": 13,
   "metadata": {
    "collapsed": false
   },
   "outputs": [
    {
     "data": {
      "image/png": "[encoded data removed]",
      "text/plain": [
       "<matplotlib.figure.Figure at 0x10af02080>"
      ]
     },
     "metadata": {},
     "output_type": "display_data"
    }
   ],
   "source": [
    "%matplotlib inline\n",
    "temperature_plot = get_Temperature_plot(x,y,Re,Tf,T_inf)"
   ]
  },
  {
   "cell_type": "markdown",
   "metadata": {},
   "source": [
    "### Velocity "
   ]
  },
  {
   "cell_type": "markdown",
   "metadata": {},
   "source": [
    "Figure 4 below shows the x component of velocity at the trailing edge. We can see that the velocity values approach the freestream velocity as we move towards the outer free stream conditions. Notice the zero velocity gradient as well."
   ]
  },
  {
   "cell_type": "code",
   "execution_count": 14,
   "metadata": {
    "collapsed": false
   },
   "outputs": [
    {
     "data": {
      "image/png": "[encoded data removed]",
      "text/plain": [
       "<matplotlib.figure.Figure at 0x10af3fba8>"
      ]
     },
     "metadata": {},
     "output_type": "display_data"
    }
   ],
   "source": [
    "velocity_plot = get_Velocity_plot(x,y,Re, Uf, u_inf)"
   ]
  },
  {
   "cell_type": "markdown",
   "metadata": {},
   "source": [
    "### Contour Plots"
   ]
  },
  {
   "cell_type": "markdown",
   "metadata": {},
   "source": [
    "The contour plots below show the values of momentum, energy, and pressure at the last time step. We can see that the highest concentrations of energy, for example, occur at the shock wave due to high heat transfer rates (Anderson, 1995)."
   ]
  },
  {
   "cell_type": "code",
   "execution_count": 15,
   "metadata": {
    "collapsed": false
   },
   "outputs": [
    {
     "data": {
      "image/png": "[encoded data removed]",
      "text/plain": [
       "<matplotlib.figure.Figure at 0x107c6ed68>"
      ]
     },
     "metadata": {},
     "output_type": "display_data"
    }
   ],
   "source": [
    "%matplotlib inline\n",
    "contour_plots = get_cplots(mx,my,Uf, Tf, R)"
   ]
  },
  {
   "cell_type": "markdown",
   "metadata": {},
   "source": [
    "## Animate!"
   ]
  },
  {
   "cell_type": "markdown",
   "metadata": {},
   "source": [
    "Lastly, here's an animation of the y-momentum profile as the shock forms over time. The red area represents the areas of highest momentum. Pretty cool!\n",
    "\n",
    "P.S. If you want to see the code that was used for this animation, run $\\textbf{%load animation_script.py}$ !"
   ]
  },
  {
   "cell_type": "markdown",
   "metadata": {},
   "source": [
    "<img src=\"ymom.gif\">"
   ]
  },
  {
   "cell_type": "markdown",
   "metadata": {},
   "source": [
    "## Dig Deeper"
   ]
  },
  {
   "cell_type": "markdown",
   "metadata": {},
   "source": [
    "We have just solved a problem in which the plate temperature is kept constant. Here's an interesting question: \n",
    "\n",
    "$\\textit{what would happen if the plate temperature was adiabatic instead?}$\n",
    "\n",
    "It turns out that solving this problem with an adiabatic surface leads to some interesting results. In an adiabatic wall, there is no heat transfer to the surface from the flow field. Then, by Fourier's law of heat conduction, we can say that the temperature gradient at the wall is zero. We can express this as:\n",
    "\n",
    "$\n",
    "\\begin{equation}\n",
    "\\big( \\frac{\\partial T}{\\partial y} \\big)_{wall} = 0\n",
    "\\end{equation}$\n",
    "\n",
    "To satisfy this condition, we can develop a discretization scheme that satisfies this zero flux condition while maintaining second order accuracy. \n",
    "\n",
    "\n",
    "Try modifing the code to solve the problem of $\\textit{supersonice flow past a plate with an adiabatic surface}$. Have fun!"
   ]
  },
  {
   "cell_type": "code",
   "execution_count": 16,
   "metadata": {
    "collapsed": false
   },
   "outputs": [
    {
     "data": {
      "text/html": [
       "<link href='http://fonts.googleapis.com/css?family=Alegreya+Sans:100,300,400,500,700,800,900,100italic,300italic,400italic,500italic,700italic,800italic,900italic' rel='stylesheet' type='text/css'>\n",
       "<link href='http://fonts.googleapis.com/css?family=Arvo:400,700,400italic' rel='stylesheet' type='text/css'>\n",
       "<link href='http://fonts.googleapis.com/css?family=PT+Mono' rel='stylesheet' type='text/css'>\n",
       "<link href='http://fonts.googleapis.com/css?family=Shadows+Into+Light' rel='stylesheet' type='text/css'>\n",
       "<link href='http://fonts.googleapis.com/css?family=Nixie+One' rel='stylesheet' type='text/css'>\n",
       "<style>\n",
       "\n",
       "@font-face {\n",
       "    font-family: \"Computer Modern\";\n",
       "    src: url('http://mirrors.ctan.org/fonts/cm-unicode/fonts/otf/cmunss.otf');\n",
       "}\n",
       "\n",
       "#notebook_panel { /* main background */\n",
       "    background: rgb(245,245,245);\n",
       "}\n",
       "\n",
       "div.cell { /* set cell width */\n",
       "    width: 750px;\n",
       "}\n",
       "\n",
       "div #notebook { /* centre the content */\n",
       "    background: #fff; /* white background for content */\n",
       "    width: 1000px;\n",
       "    margin: auto;\n",
       "    padding-left: 0em;\n",
       "}\n",
       "\n",
       "#notebook li { /* More space between bullet points */\n",
       "    margin-top:0.8em;\n",
       "}\n",
       "\n",
       "/* draw border around running cells */\n",
       "div.cell.border-box-sizing.code_cell.running { \n",
       "    border: 1px solid #111;\n",
       "}\n",
       "\n",
       "/* Put a solid color box around each cell and its output, visually linking them*/\n",
       "div.cell.code_cell {\n",
       "    background-color: rgb(256,256,256); \n",
       "    border-radius: 0px; \n",
       "    padding: 0.5em;\n",
       "    margin-left:1em;\n",
       "    margin-top: 1em;\n",
       "}\n",
       "\n",
       "div.text_cell_render{\n",
       "    font-family: 'Alegreya Sans' sans-serif;\n",
       "    line-height: 140%;\n",
       "    font-size: 125%;\n",
       "    font-weight: 400;\n",
       "    width:600px;\n",
       "    margin-left:auto;\n",
       "    margin-right:auto;\n",
       "}\n",
       "\n",
       "\n",
       "/* Formatting for header cells */\n",
       ".text_cell_render h1 {\n",
       "    font-family: 'Nixie One', serif;\n",
       "    font-style:regular;\n",
       "    font-weight: 400;    \n",
       "    font-size: 45pt;\n",
       "    line-height: 100%;\n",
       "    color: rgb(0,51,102);\n",
       "    margin-bottom: 0.5em;\n",
       "    margin-top: 0.5em;\n",
       "    display: block;\n",
       "}\n",
       "\n",
       ".text_cell_render h2 {\n",
       "    font-family: 'Nixie One', serif;\n",
       "    font-weight: 400;\n",
       "    font-size: 30pt;\n",
       "    line-height: 100%;\n",
       "    color: rgb(0,51,102);\n",
       "    margin-bottom: 0.1em;\n",
       "    margin-top: 0.3em;\n",
       "    display: block;\n",
       "}\t\n",
       "\n",
       ".text_cell_render h3 {\n",
       "    font-family: 'Nixie One', serif;\n",
       "    margin-top:16px;\n",
       "    font-size: 22pt;\n",
       "    font-weight: 600;\n",
       "    margin-bottom: 3px;\n",
       "    font-style: regular;\n",
       "    color: rgb(102,102,0);\n",
       "}\n",
       "\n",
       ".text_cell_render h4 {    /*Use this for captions*/\n",
       "    font-family: 'Nixie One', serif;\n",
       "    font-size: 14pt;\n",
       "    text-align: center;\n",
       "    margin-top: 0em;\n",
       "    margin-bottom: 2em;\n",
       "    font-style: regular;\n",
       "}\n",
       "\n",
       ".text_cell_render h5 {  /*Use this for small titles*/\n",
       "    font-family: 'Nixie One', sans-serif;\n",
       "    font-weight: 400;\n",
       "    font-size: 16pt;\n",
       "    color: rgb(163,0,0);\n",
       "    font-style: italic;\n",
       "    margin-bottom: .1em;\n",
       "    margin-top: 0.8em;\n",
       "    display: block;\n",
       "}\n",
       "\n",
       ".text_cell_render h6 { /*use this for copyright note*/\n",
       "    font-family: 'PT Mono', sans-serif;\n",
       "    font-weight: 300;\n",
       "    font-size: 9pt;\n",
       "    line-height: 100%;\n",
       "    color: grey;\n",
       "    margin-bottom: 1px;\n",
       "    margin-top: 1px;\n",
       "}\n",
       "\n",
       ".CodeMirror{\n",
       "    font-family: \"PT Mono\";\n",
       "    font-size: 90%;\n",
       "}\n",
       "\n",
       "</style>\n",
       "<script>\n",
       "    MathJax.Hub.Config({\n",
       "                        TeX: {\n",
       "                           extensions: [\"AMSmath.js\"],\n",
       "                           equationNumbers: { autoNumber: \"AMS\", useLabelIds: true}\n",
       "                           },\n",
       "                tex2jax: {\n",
       "                    inlineMath: [ ['$','$'], [\"\\\\(\",\"\\\\)\"] ],\n",
       "                    displayMath: [ ['$$','$$'], [\"\\\\[\",\"\\\\]\"] ]\n",
       "                },\n",
       "                displayAlign: 'center', // Change this to 'center' to center equations.\n",
       "                \"HTML-CSS\": {\n",
       "                    styles: {'.MathJax_Display': {\"margin\": 4}}\n",
       "                }\n",
       "        });\n",
       "</script>\n"
      ],
      "text/plain": [
       "<IPython.core.display.HTML object>"
      ]
     },
     "execution_count": 16,
     "metadata": {},
     "output_type": "execute_result"
    }
   ],
   "source": [
    "from IPython.core.display import HTML\n",
    "#css_file = '/Users/Luis/numerical-mooc/styles/numericalmoocstyle.css'\n",
    "css_file = './numericalmoocstyle.css'\n",
    "HTML(open(css_file, \"r\").read())"
   ]
  }
 ],
 "metadata": {
  "kernelspec": {
   "display_name": "Python 3",
   "language": "python",
   "name": "python3"
  },
  "language_info": {
   "codemirror_mode": {
    "name": "ipython",
    "version": 3
   },
   "file_extension": ".py",
   "mimetype": "text/x-python",
   "name": "python",
   "nbconvert_exporter": "python",
   "pygments_lexer": "ipython3",
   "version": "3.4.3"
  }
 },
 "nbformat": 4,
 "nbformat_minor": 0
}
