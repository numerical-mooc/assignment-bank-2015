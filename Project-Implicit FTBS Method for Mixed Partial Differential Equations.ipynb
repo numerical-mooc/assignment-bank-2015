{
 "cells": [
  {
   "cell_type": "markdown",
   "metadata": {},
   "source": [
    "# Implicit FTBS Method to Solve PDE's with Mixed Differentials"
   ]
  },
  {
   "cell_type": "markdown",
   "metadata": {},
   "source": [
    "In this notebook, you will learn the method used for numerically solving a mixed partial differential equation. An example of a mixed PDE looks like:"
   ]
  },
  {
   "cell_type": "markdown",
   "metadata": {},
   "source": [
    "$$\\frac{\\partial ^{2}}{\\partial t \\partial x}$$"
   ]
  },
  {
   "cell_type": "markdown",
   "metadata": {},
   "source": [
    "We can apply numerical methods to the following equation, which describes the movement of a conveyor belt. Notice that in this equation, there is a mixed partial!"
   ]
  },
  {
   "cell_type": "markdown",
   "metadata": {},
   "source": [
    "$$\\frac{\\partial ^{2 } u}{\\partial t^{2}}+2V\\frac{\\partial ^{2}u}{\\partial t\\partial x}+\\left ( V^{2} -c^{2}\\right )\\frac{\\partial ^{2}u}{\\partial x^{2}}=0$$"
   ]
  },
  {
   "cell_type": "markdown",
   "metadata": {},
   "source": [
    "For this equation, V is the speed of  the conveyor belt; in this case we can assume that it is a constant. \"c\" is also a constant, and represents __."
   ]
  },
  {
   "cell_type": "markdown",
   "metadata": {},
   "source": [
    "# Discretization"
   ]
  },
  {
   "cell_type": "markdown",
   "metadata": {},
   "source": [
    "Any kind of discretization can be used for this problem. Here we will discretize forwards in time and backwards in space (FTBS).\n",
    "\n",
    "We can begin by discretizing the $\\frac {\\partial^{2}u}{\\partial t^{2}}$ and $\\frac {\\partial^{2}u}{\\partial x^{2}}$ terms using Euler's method just as we always have:"
   ]
  },
  {
   "cell_type": "markdown",
   "metadata": {},
   "source": [
    "$$\\frac {\\partial_{2}u}{\\partial t^{2}} = \\frac{u_{i}^{n+1}-u_{i}^{n}}{\\Delta t^{2}}$$\n",
    "\n",
    "$$\\frac {\\partial_{2}u}{\\partial x^{2}} = \\frac{u_{i}^{n}-u_{i-1}^{n}}{\\Delta x^{2}}$$"
   ]
  },
  {
   "cell_type": "markdown",
   "metadata": {},
   "source": [
    "Now, we can move on to discretizing the mixed partial. First we will start by discretizing forward in space, just as we have already done."
   ]
  },
  {
   "cell_type": "markdown",
   "metadata": {},
   "source": [
    "$$\\frac {\\partial u}{\\partial t} = \\frac{u_{i}^{n+1}-u_{i}^{n}}{\\Delta t^{2}}$$\n",
    "\n",
    "It can also be written as:\n",
    "\n",
    "$$\\frac {\\partial u}{\\partial t} = \\frac{u_{i}^{n+1}}{\\Delta t^{2}}-\\frac{u_{i}^{n}}{\\Delta t^{2}}$$"
   ]
  },
  {
   "cell_type": "markdown",
   "metadata": {},
   "source": [
    "Next, we will discretize backwards in space, for **each** term. This can be confusing, so make sure to keep track of your $n$ and $i$ values."
   ]
  },
  {
   "cell_type": "markdown",
   "metadata": {},
   "source": []
  },
  {
   "cell_type": "markdown",
   "metadata": {},
   "source": [
    "After FTBS discretization and following the steps outlined in lesson 4.2 by moving the knowns to RHS and unknows to LHS:"
   ]
  },
  {
   "cell_type": "markdown",
   "metadata": {},
   "source": [
    "\n",
    "$$u_{i}^{n+1}\\left ( \\frac{1}{\\Delta t^{2}}+\\frac{2V}{\\Delta t\\Delta x} \\right )-\\frac{2V}{\\Delta t\\Delta x}u_{i-1}^{n+1}=\\frac{u_{i}^{n}}{\\Delta t^{2}}-\\frac{2V}{\\Delta t\\Delta x}\\left ( -u_{i}^{n}+u_{i-1}^{n} \\right )+\\left ( V^{2}-c^{2} \\right )\\frac{u_{i}^{n}-u_{i-1}^{n}}{\\Delta x^{2}}$$"
   ]
  },
  {
   "cell_type": "markdown",
   "metadata": {},
   "source": [
    "Looks similar to what was done in previous lessons, but now there are only terms for the "
   ]
  }
 ],
 "metadata": {
  "kernelspec": {
   "display_name": "Python 3",
   "language": "python",
   "name": "python3"
  },
  "language_info": {
   "codemirror_mode": {
    "name": "ipython",
    "version": 3
   },
   "file_extension": ".py",
   "mimetype": "text/x-python",
   "name": "python",
   "nbconvert_exporter": "python",
   "pygments_lexer": "ipython3",
   "version": "3.4.3"
  }
 },
 "nbformat": 4,
 "nbformat_minor": 0
}
