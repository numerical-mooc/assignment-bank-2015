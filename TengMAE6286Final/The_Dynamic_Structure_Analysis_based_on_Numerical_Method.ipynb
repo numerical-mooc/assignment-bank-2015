{
 "cells": [
  {
   "cell_type": "markdown",
   "metadata": {},
   "source": [
    "###### Content under Creative Commons Attribution license CC-BY 4.0, code under MIT license (c)2015 Teng Long"
   ]
  },
  {
   "cell_type": "markdown",
   "metadata": {},
   "source": [
    " # The Dynamic Structure Analysis based on Numerical Method"
   ]
  },
  {
   "cell_type": "markdown",
   "metadata": {},
   "source": [
    "## 1.Introduction:\n",
    "\n",
    "The project comes from a real physical phenomenon. We use cars everyday. When a car is running on a rough road, we may feel uncomfortable because of the vibration of car body.The suspension is the most important link between the ground and the car body structure and the mechanical property of the suspension determines the riding comfortability. \n",
    "\n",
    "If you are still confused about that, you can watch the video below:"
   ]
  },
  {
   "cell_type": "code",
   "execution_count": 1,
   "metadata": {
    "collapsed": false
   },
   "outputs": [
    {
     "data": {
      "text/html": [
       "\n",
       "        <iframe\n",
       "            width=\"400\"\n",
       "            height=\"300\"\n",
       "            src=\"https://www.youtube.com/embed/EbkWaNDyFOQ\"\n",
       "            frameborder=\"0\"\n",
       "            allowfullscreen\n",
       "        ></iframe>\n",
       "        "
      ],
      "text/plain": [
       "<IPython.lib.display.YouTubeVideo at 0x7fa3ecc80be0>"
      ]
     },
     "execution_count": 1,
     "metadata": {},
     "output_type": "execute_result"
    }
   ],
   "source": [
    "from IPython.display import YouTubeVideo\n",
    "YouTubeVideo('EbkWaNDyFOQ')"
   ]
  },
  {
   "cell_type": "markdown",
   "metadata": {},
   "source": [
    "At 3:00, the interesting video shows an experiment related to the damping property of the suspension affecting the performance of the car.\n",
    "\n",
    "Thus, an academic simulation needs to be done to make clear what effects the riding comfortabiltity."
   ]
  },
  {
   "cell_type": "markdown",
   "metadata": {},
   "source": [
    "For the project, the Numerical Method(Euler's Method) combined with the Finite Element Method was used to simulate the\n",
    "real physical phenomenon.\n",
    "\n",
    "The structure was modeled by Finite Element Method and the equations were solved by numerical method.\n",
    "\n",
    "The picture below is the structure modeled by Finite Element Method. You can see that I have 12 nodes, each of which has three degree of freedoms X, Y, Z and a Load(1N), which are appled on the y direction of node 4, 5, 11, 12:\n",
    "\n",
    "![Image](./figures/F1.png)\n",
    "#### Figure 1. To simplify the model, only two elements were used\n"
   ]
  },
  {
   "cell_type": "markdown",
   "metadata": {},
   "source": [
    "Equation One(Newton's Law) [1]:\n",
    "\\begin{equation}\n",
    " M  \\ddot{U}(t)+C \\dot{U}(t)+K U(t)= F(t)  \\quad \\quad\\quad (1)\n",
    "\\end{equation}\n",
    "\n",
    "Note:\n",
    "\n",
    "1.The equation does not have the damping coefficient C and indicates the material is purely elastic. The \"elastic\" means there is no dissipation property in structure and at any point the material has the potential to return to its original place.\n",
    "\n",
    "2.The equation has damping coefficient C and it indicates the material is a viscoelastic solid. The \"Visco\" is damping property.\n",
    "\n",
    "***Physical explanation***: If we suddenly sit in a car and the suspension of the car has the damping coefficient(C), we can feel the car vibrate, the amplitude of the vibration will decrease gradually, and the car  will eventually stop vibrating.  Because of the damping coefficient (C), the damping property of the suspension can damp out the energy. \n",
    "\n",
    "The video above at time  16:00  shows the phenomenon and the solution."
   ]
  },
  {
   "cell_type": "markdown",
   "metadata": {},
   "source": [
    "Equation two(Newton's Law) [1]:\n",
    "    \n",
    "\\begin{equation}\n",
    "M  \\ddot{U}(t)+K U(t)= F(t)\\quad \\quad\\quad(2)\n",
    "\\end{equation}\n",
    "\n",
    "\n",
    "\n",
    "***Physical explanation***: If we suddenly sit in a car and the suspension of the car without the property damping coefficient(C), theoritically, the car will not stop vibrating. That means the enery is conserved.\n",
    "\n",
    "The video above at 12:00  shows the phenomenon and the solution."
   ]
  },
  {
   "cell_type": "markdown",
   "metadata": {},
   "source": [
    "## 2.Euler Method:\n",
    "The method is the basic method in the numerial method and the specific introduction can be found at the website(https://en.wikipedia.org/wiki/Euler_method)"
   ]
  },
  {
   "cell_type": "markdown",
   "metadata": {},
   "source": [
    "Also you can watch the video below:"
   ]
  },
  {
   "cell_type": "code",
   "execution_count": 4,
   "metadata": {
    "collapsed": false
   },
   "outputs": [
    {
     "data": {
      "text/html": [
       "\n",
       "        <iframe\n",
       "            width=\"400\"\n",
       "            height=\"300\"\n",
       "            src=\"https://www.youtube.com/embed/RGtCw5E7gBc\"\n",
       "            frameborder=\"0\"\n",
       "            allowfullscreen\n",
       "        ></iframe>\n",
       "        "
      ],
      "text/plain": [
       "<IPython.lib.display.YouTubeVideo at 0x7faf8c133fd0>"
      ]
     },
     "execution_count": 4,
     "metadata": {},
     "output_type": "execute_result"
    }
   ],
   "source": [
    "from IPython.display import YouTubeVideo\n",
    "YouTubeVideo('RGtCw5E7gBc')"
   ]
  },
  {
   "cell_type": "markdown",
   "metadata": {},
   "source": [
    "#### The Equation in Eurler Method [2]\n",
    "\n",
    "\\begin{equation}\n",
    "F_{n}=\\frac{\\partial U_{n}}{\\partial t}\\quad \\quad\\quad(3)\n",
    "\\end{equation}\n",
    "\n",
    "\\begin{equation}\n",
    "U_{n+1}=U_{n}+dt \\cdot F_{n}\\quad \\quad\\quad(4)\n",
    "\\end{equation}"
   ]
  },
  {
   "cell_type": "markdown",
   "metadata": {},
   "source": [
    "Specifically, ***for the structure with the damping property C***, to use the numerical method, the dynamic equation can be processed in the following way [1]:\n",
    "\n",
    "\\begin{equation}\n",
    "    \\dot{U}(t)=V(t)\\quad \\quad\\quad(5)\\\\\n",
    "    \\dot{V}(t)=M^{-1}(F-KU(t)-CV(t))\\quad \\quad\\quad(6)\n",
    "\\end{equation}   \n",
    "\n",
    "\n",
    "The matrix form:\n",
    "\\begin{align}\n",
    "\\frac{\\partial }{\\partial t}&\n",
    "\\begin{pmatrix} U \\\\V \\end{pmatrix}\n",
    "= \\begin{pmatrix} \\ 0 \\ \\quad I \\\\ -M^{-1}K\\ \\quad-M^{-1}{C}   \\end{pmatrix}&\\begin{pmatrix} U \\\\V \\end{pmatrix}&\n",
    "+\\begin{pmatrix} \\ 0  \\\\ M^{-1}F\\   \\end{pmatrix}\\quad \\quad\\quad(7)\n",
    "\\end{align}"
   ]
  },
  {
   "cell_type": "markdown",
   "metadata": {},
   "source": [
    "In addition, ***for a structure without the damping property***, we just let the C become a zero matrix."
   ]
  },
  {
   "cell_type": "markdown",
   "metadata": {},
   "source": [
    "## 3.The Finite Element Method "
   ]
  },
  {
   "cell_type": "markdown",
   "metadata": {},
   "source": [
    "                  "
   ]
  },
  {
   "cell_type": "markdown",
   "metadata": {},
   "source": [
    "###  The Dynamic Equation(Newton's Law):"
   ]
  },
  {
   "cell_type": "markdown",
   "metadata": {},
   "source": [
    "\\begin{equation}\n",
    "Newton's \\quad Law [1]-->          M  \\ddot{U}(t)+C \\dot{U}(t)+K U(t)= F(t)\\quad \\quad\\quad(12)\n",
    "\\end{equation}\n",
    "\n",
    "Note: \n",
    "1. M is the mass of structure, C is  damping property of the structure, K is the stiffness of structure.\n",
    "\n",
    "2. The equation has damping coefficient C and it indicates the material is a viscoelastic solid. Specifically, \"Visco\" is damping property."
   ]
  },
  {
   "cell_type": "markdown",
   "metadata": {},
   "source": [
    "The Mass Matrix [1]:\n",
    "\\begin{equation}\n",
    "M_{\\alpha \\beta}=\\int_{\\text{v}}\\rho \\ N_{i\\alpha} N_{i\\beta}dV[1]\\quad \\quad\\quad(13)\n",
    "\\end{equation}"
   ]
  },
  {
   "cell_type": "markdown",
   "metadata": {},
   "source": [
    "The Damping Matrix [1]:\n",
    "\\begin{equation}\n",
    "C_{\\alpha \\beta}=\\int_{\\text{v}}a_{ijmn} \\ B_{ij\\alpha} B_{mn\\beta}dV\\quad \\quad\\quad(14)\n",
    "\\end{equation}"
   ]
  },
  {
   "cell_type": "markdown",
   "metadata": {},
   "source": [
    "The Stiffness Matrix [1]:\n",
    "\\begin{equation}\n",
    "K_{\\alpha \\beta}=\\int_{\\text{v}}A_{ijmn} \\ B_{ij\\alpha} B_{mn\\beta}dV\\quad \\quad\\quad(15)\n",
    "\\end{equation}"
   ]
  },
  {
   "cell_type": "markdown",
   "metadata": {},
   "source": [
    "The relation between the displacement and the strain [1]:"
   ]
  },
  {
   "cell_type": "markdown",
   "metadata": {},
   "source": [
    "\\begin{equation}\n",
    "B_{ija}=\\frac{\\partial B_{i\\alpha}}{\\partial \\xi_{k}}\\frac{\\partial \\xi_{k}}{\\partial X_{j}}\\quad \\quad\\quad(16)\n",
    "\\end{equation}\n"
   ]
  },
  {
   "cell_type": "markdown",
   "metadata": {},
   "source": [
    "The Jacobin Matrix [1]:\n",
    "\\begin{equation}\n",
    "Jacobin=\\frac{\\partial \\xi_{k}}{\\partial X_{j}}\\quad \\quad\\quad(17)\n",
    "\\end{equation}"
   ]
  },
  {
   "cell_type": "markdown",
   "metadata": {},
   "source": [
    "The Shape Funtion [1]:\n",
    "\n",
    "\\begin{equation}\n",
    "N1=(1-r)(1-s)(1+t)/8\n",
    "\\end{equation}\n",
    "\\begin{equation}\n",
    "N2=(1+r)(1-s)(1+t)/8\n",
    "\\end{equation}\n",
    "\\begin{equation}\n",
    "N3=(1+r)(1+s)(1+t)/8\n",
    "\\end{equation}\n",
    "\\begin{equation}\n",
    "N4=(1-r)(1+s)(1+t)/8\n",
    "\\end{equation}\n",
    "\\begin{equation}\n",
    "N5=(1-r)(1-s)(1-t)/8\n",
    "\\end{equation}\n",
    "\\begin{equation}\n",
    "N6=(1+r)(1-s)(1-t)/8\n",
    "\\end{equation}\n",
    "\\begin{equation}\n",
    "N7=(1+r)(1+s)(1-t)/8\n",
    "\\end{equation}\n",
    "\\begin{equation}\n",
    "N6=(1-r)(1+s)(1-t)/8\n",
    "\\end{equation}"
   ]
  },
  {
   "cell_type": "markdown",
   "metadata": {},
   "source": [
    "**Shape Function** is the the bridge between the natrue coordinate r,s t and the physical coordinate x,y,z. For this hexahedron & 8 nodes shape function, with the shape function we can map any hexahedron to the nature coordinate. In this way, the integration range in nature coordinate is always from -1 to 1."
   ]
  },
  {
   "cell_type": "markdown",
   "metadata": {},
   "source": [
    "How we can discrete the displacement by the eight nodes:\n",
    "\n",
    "Matrix Form [1]:\n",
    "\n",
    "\\begin{align}\n",
    "\\begin{pmatrix} X \\\\ Y \\\\ Z  \\end{pmatrix} =\n",
    "&  \\begin{pmatrix}\n",
    "N1\\ 0\\ 0\\ N2\\ 0\\ 0\\ N3\\ 0\\ 0\\ N4\\ 0\\ 0\\ N5\\ 0\\ 0\\ N6\\ 0\\ 0\\ N7\\ 0\\ 0\\ N8\\ 0\\ 0\\\\0\\ N1\\ 0\\ 0\\ N2\\ 0\\ 0\\ N3\\ 0\\ 0\\ N4\\ 0\\ 0\\ N5\\ 0\\ 0\\ N6\\ 0\\ 0\\ N7\\ 0\\ 0\\ N8\\ 0\\\\0\\ 0\\ N1\\ 0\\ 0\\ N2\\ 0\\ 0\\ N3\\ 0\\ 0\\ N4\\ 0\\ 0\\ N5\\ 0\\ 0\\ N6\\ 0\\ 0\\ N7\\ 0\\ 0\\ N8\n",
    "\\end{pmatrix}&* \\begin{pmatrix} X1\\\\ Y1\\\\ Z1\\\\ X2\\\\ Y2\\\\ Z2\\\\ X3\\\\ Y3\\\\ Z3\\\\ X4\\\\ Y4\\\\ Z4 \\\\ X5\\\\ Y5\\\\ Z5\\\\ X6\\\\ Y6\\\\ Z6\\\\ X7\\\\ Y7\\\\ Z7\\\\ X8\\\\ Y8\\\\ Z8\\end{pmatrix}.\n",
    "\\end{align}"
   ]
  },
  {
   "cell_type": "markdown",
   "metadata": {},
   "source": [
    "Summation Form[1]:\n",
    "\n",
    "$$X_{i}=\\sum_{\\alpha=1}^{24} N_{i\\alpha}X_{\\alpha}\\quad \\quad\\quad(11)$$\n",
    "$$Y_{i}=\\sum_{\\alpha=1}^{24} N_{i\\alpha}Y_{\\alpha}\\quad \\quad\\quad(12)$$\n",
    "$$Z_{i}=\\sum_{\\alpha=1}^{24} N_{i\\alpha}Z_{\\alpha}\\quad \\quad\\quad(13)$$"
   ]
  },
  {
   "cell_type": "markdown",
   "metadata": {},
   "source": [
    "We can expand the summation form:"
   ]
  },
  {
   "cell_type": "markdown",
   "metadata": {},
   "source": [
    "==>\n",
    "\\begin{equation}\n",
    "X=N1*X1+N2*X2+N3*X3+N4*X4+N5*X5+N6*X6+N7*X7+N8*X8\n",
    "\\end{equation}\n",
    "\\begin{equation}\n",
    "Y=N1*Y1+N2*Y2+N3*Y3+N4*Y4+N5*Y5+N6*Y6+N7*Y7+N8*Y8\n",
    "\\end{equation}\n",
    "\\begin{equation}\n",
    "Z=N1*Z1+N2*Z2+N3*Z3+N4*Z4+N5*Z5+N6*Z6+N7*Z7+N8*Y8\n",
    "\\end{equation}"
   ]
  },
  {
   "cell_type": "markdown",
   "metadata": {},
   "source": [
    "Jacobin Matrix [1]:\n",
    "\n",
    "\\begin{align}\n",
    "J& = \\begin{pmatrix} \\frac{\\partial X}{\\partial r} \\ \\frac{\\partial Y}{\\partial r}\\ \\frac{\\partial Z}{\\partial r} \\\\  \\frac{\\partial X}{\\partial s} \\ \\frac{\\partial Y}{\\partial s}\\ \\frac{\\partial Z}{\\partial s}\\\\   \\frac{\\partial X}{\\partial t} \\ \\frac{\\partial Y}{\\partial t}\\ \\frac{\\partial Z}{\\partial t}\\end{pmatrix}\n",
    "\\end{align}"
   ]
  },
  {
   "cell_type": "markdown",
   "metadata": {},
   "source": [
    "###  The Process of how we use the Linear monentum equation to derive the Finite Element equations:"
   ]
  },
  {
   "cell_type": "markdown",
   "metadata": {},
   "source": [
    "The linear momentum [1]:\n",
    "\\begin{equation}\n",
    "\\rho \\ddot{u}_{i} -\\rho \\ f_{i} -t_{ji,j}=0\\quad \\quad\\quad(14)\n",
    "\\end{equation}"
   ]
  },
  {
   "cell_type": "markdown",
   "metadata": {},
   "source": [
    "####  Apply the virtual displacement to the equilibrium equation  [1]:\n",
    "\\begin{equation}\n",
    "\\int_{\\text{v}}    (t_{ji,j}+\\rho \\ f_{i} -\\rho \\ddot{u}_{i})  \\delta\\ u_{i}    dV=0\\quad \\quad\\quad(15)\n",
    "\\end{equation}"
   ]
  },
  {
   "cell_type": "markdown",
   "metadata": {},
   "source": [
    "####  Process the last term [1]:\n",
    "\n",
    "\\begin{equation}\n",
    "\\int_{\\text{v}}    \\rho \\ f_{i} \\delta\\ u_{i}    dV\\quad \\quad\\quad(16)\n",
    "\\end{equation}"
   ]
  },
  {
   "cell_type": "markdown",
   "metadata": {},
   "source": [
    "\\begin{equation}\n",
    "\\delta\\ u_{i} = \\ N_{i\\alpha}\\delta \\ U_{\\alpha}   \\quad \\quad\\quad(17)\n",
    "\\end{equation}\n"
   ]
  },
  {
   "cell_type": "markdown",
   "metadata": {},
   "source": [
    "\\begin{equation}\n",
    "\\int_{\\text{v}}    \\rho\\ f_{i} \\delta\\ u_{i}    dV\n",
    "=\\int_{\\text{v}}    \\rho\\ f_{i} \\ N_{i\\alpha}\\delta \\ U_{\\alpha}    dV\n",
    "=\\delta \\ U_{\\alpha}\\int_{\\text{v}}    \\rho\\ f_{i} \\ N_{i\\alpha}    dV\n",
    "=\\delta \\ U_{\\alpha}\\ F_{\\alpha}^1\\quad \\quad\\quad(18)\n",
    "\\end{equation}"
   ]
  },
  {
   "cell_type": "markdown",
   "metadata": {},
   "source": [
    "\\begin{equation}\n",
    "\\int_{\\text{v}}    \\rho\\ f_{i} \\ N_{i\\alpha}    dV\n",
    "=\\ F_{\\alpha}^1\\quad \\quad\\quad(19)\n",
    "\\end{equation}"
   ]
  },
  {
   "cell_type": "markdown",
   "metadata": {},
   "source": [
    "#### Process the second term [1]:\n",
    "\\begin{equation}\n",
    "\\int_{\\text{v}}  \\rho \\ddot{u}_{i} \\delta\\ u_{i} dV\\quad \\quad\\quad(20)\n",
    "\\end{equation}"
   ]
  },
  {
   "cell_type": "markdown",
   "metadata": {},
   "source": [
    "\\begin{equation}\n",
    "\\ddot{u} = \\ N_{i \\beta} \\delta \\ U_{\\beta}   \\quad \\quad\\quad(21)\n",
    "\\end{equation}"
   ]
  },
  {
   "cell_type": "markdown",
   "metadata": {},
   "source": [
    "\\begin{equation}\n",
    "\\delta \\ u_{i}=N_{i\\alpha}\\delta \\ U_{\\alpha}   \\quad \\quad\\quad(22)\n",
    "\\end{equation}"
   ]
  },
  {
   "cell_type": "markdown",
   "metadata": {},
   "source": [
    "\n",
    "\\begin{equation}\n",
    "\\int_{\\text{v}}  \\rho \\ddot{u}_{i} \\delta\\ u_{i} dV\n",
    "=\\int_{\\text{v}}    \\rho\\ N_{i\\beta}\\ddot{U}_{\\beta} \\ N_{i\\alpha}\\delta \\ U_{\\alpha}    dV\n",
    "= \\delta \\ U_{\\alpha}\\ddot{U}_{\\beta}\\int_{\\text{v}}   \\rho\\ N_{i\\beta}\\  N_{i\\alpha}    dV\n",
    "=\\delta \\ U_{\\alpha}\\ddot{U}_{\\beta}\\ M_{\\alpha\\beta}\\quad \\quad\\quad(23)\n",
    "\\end{equation}"
   ]
  },
  {
   "cell_type": "markdown",
   "metadata": {},
   "source": [
    "\n",
    "\\begin{equation}\n",
    "\\int_{\\text{v}}   \\rho\\ N_{i\\beta}\\  N_{i\\alpha}    dV\n",
    "=\\ M_{\\alpha\\beta}\\quad \\quad\\quad(24)\n",
    "\\end{equation}"
   ]
  },
  {
   "cell_type": "markdown",
   "metadata": {},
   "source": [
    "#### Process the first term [1]:\n",
    "\n",
    "\\begin{equation}\n",
    "\\int_{\\text{v}}    t_{ji,j} \\delta\\ u_{i}    dV\n",
    "=\\int_{\\text{v}}    (t_{ji,j} \\delta\\ u_{i})_{,j}-\\ t_{ji,j} (\\delta \\ u_{i})_{,j} dV\\\\\n",
    "=\\oint_{\\text{v}}   t_{ji,j} \\delta\\ u_{i}\\ n_{j}dS- \\int_{\\text{v}}\\ t_{ji} \\delta \\ e_{ij} dV\\\\\n",
    "=\\oint_{\\text{sa}}   t_{ji,j} \\ n_{j}  \\delta\\ u_{i} dS\n",
    "+\\oint_{\\text{sb}}   t_{ji,j} \\ n_{j}  \\delta\\ u_{i} dS\n",
    "-\\int_{\\text{v}}   t_{ji} \\delta \\ e_{ij} dV\\\\\n",
    "=\\oint_{\\text{sa}}   t_{ji,j} \\ n_{j}  \\delta\\ u_{i} dS\n",
    "-\\int_{\\text{v}}   t_{ji} \\delta \\ e_{ij} dV\\\\\n",
    "=\\oint_{\\text{sa}}   t_{i}^*  \\delta\\ u_{i} dS\n",
    "- \\delta\\ N_{\\alpha} \\int_{\\text{v}} \\ t_{ij}\\ B_{ij\\alpha} dV\\\\\n",
    "=\\oint_{\\text{sa}}   t_{i}^*  \\ N_{i\\alpha}\\delta\\ U_{\\alpha} dS\n",
    "- \\delta\\ N_{\\alpha} \\int_{\\text{v}} \\ t_{ij}\\ B_{ij\\alpha} dV\\\\\n",
    "=\\delta\\ U_{\\alpha}\\oint_{\\text{sa}}   t_{i}^*  \\ N_{i\\alpha}  dS\n",
    "- \\delta\\ N_{\\alpha} \\int_{\\text{v}} \\ t_{ij}\\ B_{ij\\alpha} dV\\\\\n",
    "=\\delta\\ U_{\\alpha}\\ F_{\\alpha}^2-\\delta\\ U_{\\alpha}\\ F_{\\alpha}^3\\quad \\quad\\quad(25)\n",
    "\\end{equation}\n",
    "\n",
    "\\begin{equation}\n",
    "F_{\\alpha}^2 \\quad is \\quad due \\quad to \\quad surface \\quad traction\n",
    "\\end{equation}\n",
    "\\begin{equation}\n",
    "F_{\\alpha}^3 \\quad is \\quad due \\quad to \\quad internalaction\n",
    "\\end{equation}"
   ]
  },
  {
   "cell_type": "markdown",
   "metadata": {},
   "source": [
    "The detail: parameter relation for the equation above [1]:\n",
    "\n",
    "\\begin{equation}\n",
    "u_{i,j}=B_{ij\\alpha}U_{\\alpha}\\quad \\quad\\quad(26)\n",
    "\\end{equation}\n",
    "\\begin{equation}\n",
    "e_{ij}=0.5(B_{ij\\alpha}+B_{ij\\alpha})U_{\\alpha}\\quad \\quad\\quad(27)\n",
    "\\end{equation}\n",
    "\\begin{equation}\n",
    "t_{ji} \\delta\\ e_{ij}=t_{ji} \\delta\\ u_{i,j}\\quad \\quad\\quad(28)\n",
    "\\end{equation}\n",
    "\\begin{equation}\n",
    "t_{ji} \\delta\\ e_{ij}=t_{ij} \\ B_{ij\\alpha}\\delta\\ U_{\\alpha}\\quad \\quad\\quad(29)\n",
    "\\end{equation}\n",
    "\\begin{equation}\n",
    "e_{mn} =B_{mn\\beta}\\ U_{\\beta}\\quad \\quad\\quad(30)\n",
    "\\end{equation}\n",
    "\\begin{equation}\n",
    "\\dot{e}_{mn} =B_{mn\\beta}\\ \\dot{U}_{\\beta}\\quad \\quad\\quad31)\n",
    "\\end{equation}"
   ]
  },
  {
   "cell_type": "markdown",
   "metadata": {},
   "source": [
    "Note: we use the small strain theory [1]:\n",
    "\\begin{equation}\n",
    "e_{ij}=0.5(u_{i,j}+u_{j,i})\\quad \\quad\\quad(32)\n",
    "\\end{equation}\n",
    "\n",
    "\n"
   ]
  },
  {
   "cell_type": "markdown",
   "metadata": {},
   "source": [
    "Stress:the first term is initial stress, the second term is the thermal stress, the forth term is elastic stress and the last term is the damping stress [1]:\n",
    "\\begin{equation}    \n",
    "t_{ij}=\\alpha_{ji}+ \\beta_{ji}T+A_{jimn}e_{mn}+a_{jimn}\\dot{e}_{mn}\\quad \\quad\\quad(33)\n",
    "\\end{equation}"
   ]
  },
  {
   "cell_type": "markdown",
   "metadata": {},
   "source": [
    "Now we can get the discreted form internalaction [1]:"
   ]
  },
  {
   "cell_type": "markdown",
   "metadata": {},
   "source": [
    "\\begin{equation}   \n",
    "F_{\\alpha}^3=\\int_{\\text{v}}   t_{ij}\\ B_{ij\\alpha}    dV=\n",
    "\\int_{\\text{v}}   \\alpha_{ij}\\ B_{ij\\alpha}    dV\n",
    "-T_{q}\\int_{\\text{v}}  \\beta_{ji} \\ N_{q}\\ B_{ij\\alpha} dV\n",
    "+U_{ \\beta} \\int_{\\text{v}}  A_{jimn}\\  B_{ij\\alpha}\\ B_{mn\\beta}dV\n",
    "+U_{ \\beta} \\int_{\\text{v}}  a_{jimn}\\  B_{ij\\alpha}\\ B_{mn\\beta}dV\\\\\n",
    "=F_{\\alpha}^4-T_{q}P_{\\alpha q}+U_{\\beta}K_{\\alpha\\beta}+\\dot{U}_{\\beta}C_{\\alpha\\beta}\\quad \\quad\\quad(34)\n",
    "\\end{equation}\n",
    "\n",
    "Specifically [1]:\n",
    "\n",
    "\\begin{equation} \n",
    "\\int_{\\text{v}}   \\alpha_{ij}\\ B_{ij\\alpha}    dV=F_{\\alpha}^4\n",
    "\\end{equation}\n",
    "\\begin{equation} \n",
    "\\int_{\\text{v}}  \\beta_{ji} \\ N_{q}\\ B_{ij\\alpha} dV=P_{\\alpha q}\n",
    "\\end{equation}\n",
    "\\begin{equation} \n",
    "\\int_{\\text{v}}  A_{jimn}\\  B_{ij\\alpha}\\ B_{mn\\beta}dV=K_{\\alpha\\beta}\n",
    "\\end{equation}\n",
    "\\begin{equation} \n",
    "\\int_{\\text{v}}  a_{jimn}\\  B_{ij\\alpha}\\ B_{mn\\beta}dV=C_{\\alpha\\beta}\n",
    "\\end{equation}\n",
    "\n"
   ]
  },
  {
   "cell_type": "markdown",
   "metadata": {},
   "source": [
    "The discrete form of initial stress [1]:\n",
    "\\begin{equation} \n",
    "\\int_{\\text{v}}   \\alpha_{ij}\\ B_{ij\\alpha}    dV=F_{\\alpha}^4\n",
    "\\end{equation}\n",
    "\n",
    "The discrete form of thermal stress [1]:\n",
    "\\begin{equation} \n",
    "\\int_{\\text{v}}  \\beta_{ji} \\ N_{q}\\ B_{ij\\alpha} dV=P_{\\alpha q}\n",
    "\\end{equation}\n",
    "\n",
    "The discrete form of elastic stress [1]:\n",
    "\\begin{equation} \n",
    "\\int_{\\text{v}}  A_{jimn}\\  B_{ij\\alpha}\\ B_{mn\\beta}dV=K_{\\alpha\\beta}\n",
    "\\end{equation}\n",
    "\n",
    "The discrete form of damping stress  [1]:\n",
    "\\begin{equation} \n",
    "\\int_{\\text{v}}  a_{jimn}\\  B_{ij\\alpha}\\ B_{mn\\beta}dV=C_{\\alpha\\beta}\n",
    "\\end{equation}"
   ]
  },
  {
   "cell_type": "markdown",
   "metadata": {},
   "source": [
    "As a reuslt [1]:\n",
    "\\begin{equation}     \n",
    "F_{\\alpha}^3=F_{\\alpha}^4-T_{q}P_{\\alpha q}+U_{\\beta}K_{\\alpha\\beta}+\\dot{U}_{\\beta}C_{\\alpha\\beta}\\quad \\quad\\quad(35)\n",
    "\\end{equation}    "
   ]
  },
  {
   "cell_type": "markdown",
   "metadata": {},
   "source": [
    "####   The process of hwo we get the final Finite Element Method equation, which we can use to make a program [1]:\n",
    "\\begin{equation}   \n",
    "\\delta\\ U_{\\alpha}\\ F_{\\alpha}^1+\\delta\\ U_{\\alpha}\\ \\ddot{U}_{\\beta}\\ M_{\\alpha\\beta}+\n",
    "\\delta\\ U_{\\alpha}\\ F_{\\alpha}^2-\\delta\\ U_{\\alpha}\\ F_{\\alpha}^3=0\\quad \\quad\\quad(36)\n",
    "\\end{equation}\n"
   ]
  },
  {
   "cell_type": "markdown",
   "metadata": {},
   "source": [
    "\\begin{equation}   \n",
    "\\delta\\ U_{\\alpha} (M_{\\alpha\\beta}\\ddot{U}_{\\beta}+\\ F_{\\alpha}^3-\\ F_{\\alpha}^1-\\ F_{\\alpha}^2)=0\n",
    "\\end{equation}"
   ]
  },
  {
   "cell_type": "markdown",
   "metadata": {},
   "source": [
    "\\begin{equation}   \n",
    "M_{\\alpha\\beta}\\ddot{U}_{\\beta}+\\ F_{\\alpha}^3-\\ F_{\\alpha}^1-\\ F_{\\alpha}^2=0\n",
    "\\end{equation}"
   ]
  },
  {
   "cell_type": "markdown",
   "metadata": {},
   "source": [
    "\\begin{equation}   \n",
    "M_{\\alpha\\beta}\\ddot{U}_{\\beta}+\\ F_{\\alpha}^3=\\ F_{\\alpha}^1+\\ F_{\\alpha}^2\n",
    "\\end{equation}"
   ]
  },
  {
   "cell_type": "markdown",
   "metadata": {},
   "source": [
    "Mass Matrix [1]:\n",
    "\\begin{equation}   \n",
    "M_{\\alpha\\beta}\\ddot{U}_{\\beta} \n",
    "\\end{equation}\n",
    "\n",
    "Internal Internaction [1]\n",
    "\\begin{equation}   \n",
    "F_{\\alpha}^3 \n",
    "\\end{equation}\n",
    "\n",
    "\n",
    "Body Force [1]\n",
    "\\begin{equation}   \n",
    "F_{\\alpha}^1\n",
    "\\end{equation}\n",
    "\n",
    "Surface Traction [1]\n",
    "\\begin{equation}   \n",
    "F_{\\alpha}^2\n",
    "\\end{equation}"
   ]
  },
  {
   "cell_type": "markdown",
   "metadata": {},
   "source": [
    "\n",
    "\\begin{equation}   \n",
    "M_{\\alpha\\beta}\\ddot{U}_+ C_{\\alpha\\beta}\\dot{U}_{\\beta}+ K_{\\alpha\\beta}U_{\\beta}=T_{q}P_{\\alpha q}-\\ F_{\\alpha}^4+  \\ F_{\\alpha}^1+\\ F_{\\alpha}^2\\quad \\quad\\quad(37)\n",
    "\\end{equation}\n"
   ]
  },
  {
   "cell_type": "markdown",
   "metadata": {},
   "source": [
    "\n",
    "## 4.  Now let us do the coding!\n",
    "\n"
   ]
  },
  {
   "cell_type": "code",
   "execution_count": 4,
   "metadata": {
    "collapsed": false
   },
   "outputs": [],
   "source": [
    "import numpy\n",
    "from sympy import Symbol\n",
    "from sympy import sympify\n",
    "from matplotlib import pyplot  \n",
    "%matplotlib inline\n",
    "#init_printing(use_unicode=True)"
   ]
  },
  {
   "cell_type": "markdown",
   "metadata": {},
   "source": [
    "##### The Function \"NewWayToAss\" works to assemble the single matrix including Stiffness Matrix, Mass Matrix, Damping Matrix into a global Stiffness Matrix, Mass Matrix, Damping Matrix."
   ]
  },
  {
   "cell_type": "code",
   "execution_count": 5,
   "metadata": {
    "collapsed": true
   },
   "outputs": [],
   "source": [
    "\n",
    "def NewWayToAss(K1,S):    \n",
    "      \n",
    "    \"\"\" Construct the global stiffness Matrix\n",
    "    \n",
    "    Parameters:\n",
    "    ----------\n",
    "    S:  connectivity matrix ( input )\n",
    "    K1: single stiffnes atrix ( input )    \n",
    "        \n",
    "    Returns:\n",
    "    -------\n",
    "    KK1:  single stiffness matrix in the global stiffness matrix\n",
    "    \n",
    "    \"\"\"      \n",
    "    \n",
    "    KK1=zeros(36,36)\n",
    "    \n",
    "    for i in range(24):    \n",
    "    \n",
    "       for j in range(24) :\n",
    "            a=S[i]\n",
    "            b=S[j]\n",
    "            c=K1[i,j]    \n",
    "            KK1[a,b]=c\n",
    "        \n",
    "    return KK1     \n",
    "\n"
   ]
  },
  {
   "cell_type": "markdown",
   "metadata": {},
   "source": [
    "##### The Function \"GetSitffinessMatrix3D\" works to us the physical coordinate of input geometry and the Youngs Module and Poisson Ratio to generate the stiffness of a single matrix"
   ]
  },
  {
   "cell_type": "markdown",
   "metadata": {},
   "source": [
    "\n",
    "\n",
    "**Note: The relation between variables and equations in the program** \n",
    "\n",
    "\\begin{equation}\n",
    "aabbcc=\\frac{\\partial u}{\\partial r} +  \\frac{\\partial u}{\\partial s}  +\\frac{\\partial u}{\\partial t}\n",
    "\\end{equation}\n",
    "\n",
    " \n",
    "\n",
    "\\begin{equation}\n",
    "gghhii=\\frac{\\partial v}{\\partial r} +  \\frac{\\partial v}{\\partial s}  +\\frac{\\partial v}{\\partial t}\n",
    "\\end{equation}\n",
    "\n",
    "\n",
    "\n",
    "\\begin{equation}\n",
    "jjkkll=\\frac{\\partial w}{\\partial r} +  \\frac{\\partial w}{\\partial s}  +\\frac{\\partial w}{\\partial t}\n",
    "\\end{equation}\n",
    "\n",
    "  \n",
    "\\begin{equation}\n",
    "mm=\\frac{\\partial u}{\\partial x} +  \\frac{\\partial u}{\\partial y}  +\\frac{\\partial u}{\\partial z}\n",
    "\\end{equation}\n",
    "\n",
    "\\begin{equation}\n",
    "nn=\\frac{\\partial v}{\\partial x} +  \\frac{\\partial v}{\\partial y}  +\\frac{\\partial v}{\\partial z}\n",
    "\\end{equation}\n",
    "\n",
    "\\begin{equation}\n",
    "oo=\\frac{\\partial w}{\\partial x} +  \\frac{\\partial w}{\\partial y}  +\\frac{\\partial w}{\\partial z}\n",
    "\\end{equation}\n"
   ]
  },
  {
   "cell_type": "markdown",
   "metadata": {},
   "source": [
    "Note: aabbcc, gghhii, are jjkkll are the strain and diaplacement relationship in nature coordinate. mm nn and oo are\n",
    "    the strain and displacement in physical coordinate. The two relationship is linked by Jacobin Matrix."
   ]
  },
  {
   "cell_type": "code",
   "execution_count": 6,
   "metadata": {
    "collapsed": false
   },
   "outputs": [],
   "source": [
    "#--Stiffness Function----Stiffness Function----Stiffness Function----Stiffness Function----Stiffness Function----Stiffness Function--\n",
    "def GetStiffinessMatrix3D(X1,Y1,Z1,  X2,Y2,Z2,  X3,Y3,Z3,  X4,Y4,Z4,  X5,Y5,Z5,  X6,Y6,Z6,  X7,Y7,Z7,  X8,Y8,Z8, Young,P):\n",
    "    \n",
    "    \n",
    "    \"\"\" Construct the stiffness Matrix\n",
    "    \n",
    "    Parameters:\n",
    "    ----------\n",
    "    C: material matrix ( input )\n",
    "    X: physical X coordinate Matrix ( input )\n",
    "    Y: physical Y coordinate Matrix ( input )\n",
    "    Z: physical Z coordinate Matrix ( input )\n",
    "    B: the matrix of the relation between displacement and strain\n",
    "        \n",
    "    Returns:\n",
    "    -------\n",
    "    K: single stiffness matrix\n",
    "    \n",
    "    \"\"\"\n",
    "    \n",
    "    \n",
    "    \n",
    "    a=Young #Young's module\n",
    "    b=P     #Poisson's ratio\n",
    "    C = a/((1+b)*(1-2*b))*Matrix([[(1-b),     b,     b,         0,         0,         0], \n",
    "                                  [    b,  (1-b),    b,         0,         0,         0], \n",
    "                                  [    b,     b, (1-b),         0,         0,         0], \n",
    "                                  [    0,     0,     0, (1-2*b)/2,         0,         0],\n",
    "                                  [    0,     0,     0,         0, (1-2*b)/2,         0], \n",
    "                                  [    0,     0,     0,         0,         0, (1-2*b)/2]])\n",
    "    # C is the 3D material matrix\n",
    "#==================================================================================================\n",
    "    #form the physical coordinate matrix\n",
    "    Xphysical=Matrix([0,0,0,0,0,0,0,0])\n",
    "    Yphysical=Matrix([0,0,0,0,0,0,0,0])\n",
    "    Zphysical=Matrix([0,0,0,0,0,0,0,0])\n",
    "    Xphysical[0]=X1 \n",
    "    Xphysical[1]=X2\n",
    "    Xphysical[2]=X3\n",
    "    Xphysical[3]=X4\n",
    "    Xphysical[4]=X5\n",
    "    Xphysical[5]=X6\n",
    "    Xphysical[6]=X7\n",
    "    Xphysical[7]=X8\n",
    "\n",
    "    Yphysical[0]=Y1\n",
    "    Yphysical[1]=Y2\n",
    "    Yphysical[2]=Y3\n",
    "    Yphysical[3]=Y4\n",
    "    Yphysical[4]=Y5\n",
    "    Yphysical[5]=Y6\n",
    "    Yphysical[6]=Y7\n",
    "    Yphysical[7]=Y8\n",
    "\n",
    "    Zphysical[0]=Z1\n",
    "    Zphysical[1]=Z2\n",
    "    Zphysical[2]=Z3\n",
    "    Zphysical[3]=Z4\n",
    "    Zphysical[4]=Z5\n",
    "    Zphysical[5]=Z6\n",
    "    Zphysical[6]=Z7\n",
    "    Zphysical[7]=Z8\n",
    "    #the natural coordinate r s t and N1,N2,N3,N4,N5,N6,N7,N8,are the shape function \n",
    "    r,s,t=symbols('r s t')  \n",
    "    N1=0.125*(1-r)*(1-s)*(1+t)\n",
    "    N2=0.125*(1+r)*(1-s)*(1+t)\n",
    "    N3=0.125*(1+r)*(1+s)*(1+t)\n",
    "    N4=0.125*(1-r)*(1+s)*(1+t)\n",
    "    N5=0.125*(1-r)*(1-s)*(1-t)\n",
    "    N6=0.125*(1+r)*(1-s)*(1-t)\n",
    "    N7=0.125*(1+r)*(1+s)*(1-t)\n",
    "    N8=0.125*(1-r)*(1+s)*(1-t)\n",
    "    N_matrix = Matrix([[N1],[N2],[N3],[N4],[N5],[N6],[N7],[N8]])\n",
    "\n",
    "    X=N_matrix.dot(Xphysical)\n",
    "    Y=N_matrix.dot(Yphysical)\n",
    "    Z=N_matrix.dot(Zphysical)\n",
    "    \n",
    "    \n",
    "    #the code below is the way to get each entry of the Jacobin matrix:\n",
    "    dXdr=diff(X,r)\n",
    "    dYdr=diff(Y,r)\n",
    "    dZdr=diff(Z,r)\n",
    "\n",
    "    dXds=diff(X,s)\n",
    "    dYds=diff(Y,s)\n",
    "    dZds=diff(Z,s)\n",
    "\n",
    "    dXdt=diff(X,t)\n",
    "    dYdt=diff(Y,t)\n",
    "    dZdt=diff(Z,t)\n",
    "    #----------------------\n",
    "    dXdr=simplify(dXdr)\n",
    "    dYdr=simplify(dYdr)\n",
    "    dZdr=simplify(dZdr)\n",
    "\n",
    "    dXds=simplify(dXds)\n",
    "    dYds=simplify(dYds)\n",
    "    dZds=simplify(dZds)\n",
    "\n",
    "    dXdt=simplify(dXdt)\n",
    "    dYdt=simplify(dYdt)\n",
    "    dZdt=simplify(dZdt)    \n",
    "    \n",
    "    J=Matrix([[dXdr,dYdr,dZdr],[dXds,dYds,dZds],[dXdt,dYdt,dZdt]])#the code is the way to construct Jacobin matrix\n",
    "   \n",
    "    J_Inversed=J**-1   # To transfer the physical we need invese the jacobin \n",
    "#++++++++++++++++++++++++++++++++++++++++++++++++++++++++++++++++++++++++++++++++++++++++++++++++++++++++++++++++++++++++++    \n",
    "\n",
    "    New_u_Up=zeros(3,24)\n",
    "    New_u_Up[0,0]=N1\n",
    "    New_u_Up[0,3]=N2\n",
    "    New_u_Up[0,6]=N3\n",
    "    New_u_Up[0,9]=N4\n",
    "    New_u_Up[0,12]=N5\n",
    "    New_u_Up[0,15]=N6\n",
    "    New_u_Up[0,18]=N7\n",
    "    New_u_Up[0,21]=N8\n",
    "    u_Up=New_u_Up\n",
    "\n",
    "    New_u_Middle=zeros(3,24)\n",
    "    New_u_Middle[1,0]=N1\n",
    "    New_u_Middle[1,3]=N2\n",
    "    New_u_Middle[1,6]=N3\n",
    "    New_u_Middle[1,9]=N4\n",
    "    New_u_Middle[1,12]=N5\n",
    "    New_u_Middle[1,15]=N6\n",
    "    New_u_Middle[1,18]=N7\n",
    "    New_u_Middle[1,21]=N8\n",
    "    u_Middle=New_u_Middle\n",
    "\n",
    "    New_u_Down=zeros(3,24)\n",
    "    New_u_Down[2,0]=N1\n",
    "    New_u_Down[2,3]=N2\n",
    "    New_u_Down[2,6]=N3\n",
    "    New_u_Down[2,9]=N4\n",
    "    New_u_Down[2,12]=N5\n",
    "    New_u_Down[2,15]=N6\n",
    "    New_u_Down[2,18]=N7\n",
    "    New_u_Down[2,21]=N8\n",
    "    u_Down=New_u_Down \n",
    "    \n",
    "  \n",
    "    aa = u_Up.diff(r)\n",
    "    bb = u_Middle.diff(s)\n",
    "    cc = u_Down.diff(t)    \n",
    "    aabbcc=aa + bb + cc    \n",
    "#++++++++++++++++++++++++++++++++++++++++++++++++++++++++++++++++++++++++++++++++++++++++++++++++++++++++++++++++++++++++++        \n",
    "\n",
    "    New_v_Up=zeros(3,24)\n",
    "    New_v_Up[0,1]=N1\n",
    "    New_v_Up[0,4]=N2\n",
    "    New_v_Up[0,7]=N3\n",
    "    New_v_Up[0,10]=N4\n",
    "    New_v_Up[0,13]=N5\n",
    "    New_v_Up[0,16]=N6\n",
    "    New_v_Up[0,19]=N7\n",
    "    New_v_Up[0,22]=N8\n",
    "    v_Up=New_v_Up\n",
    "\n",
    "    New_v_Middle=zeros(3,24)\n",
    "    New_v_Middle[1,1]=N1\n",
    "    New_v_Middle[1,4]=N2\n",
    "    New_v_Middle[1,7]=N3\n",
    "    New_v_Middle[1,10]=N4\n",
    "    New_v_Middle[1,13]=N5\n",
    "    New_v_Middle[1,16]=N6\n",
    "    New_v_Middle[1,19]=N7\n",
    "    New_v_Middle[1,22]=N8\n",
    "    v_Middle=New_v_Middle\n",
    "\n",
    "    New_v_Down=zeros(3,24)\n",
    "    New_v_Down[2,1]=N1\n",
    "    New_v_Down[2,4]=N2\n",
    "    New_v_Down[2,7]=N3\n",
    "    New_v_Down[2,10]=N4\n",
    "    New_v_Down[2,13]=N5\n",
    "    New_v_Down[2,16]=N6\n",
    "    New_v_Down[2,19]=N7\n",
    "    New_v_Down[2,22]=N8\n",
    "    v_Down=New_v_Down    \n",
    "    \n",
    "\n",
    "    gg=v_Up.diff(r)\n",
    "    hh=v_Middle.diff(s)\n",
    "    ii=v_Down.diff(t)\n",
    "    gghhii=gg+hh+ii        \n",
    "#+++++++++++++++++++++++++++++++++++++++++++++++++++++++++++++++++++++++++++++++++++++++++++++++++++++++++++++++++++++++++++++++++++++++        \n",
    "\n",
    "    New_w_Up=zeros(3,24)\n",
    "    New_w_Up[0,2]=N1\n",
    "    New_w_Up[0,5]=N2\n",
    "    New_w_Up[0,8]=N3\n",
    "    New_w_Up[0,11]=N4\n",
    "    New_w_Up[0,14]=N5\n",
    "    New_w_Up[0,17]=N6\n",
    "    New_w_Up[0,20]=N7\n",
    "    New_w_Up[0,23]=N8\n",
    "    w_Up=New_w_Up\n",
    "\n",
    "    New_w_Middle=zeros(3,24)\n",
    "    New_w_Middle[1,2]=N1\n",
    "    New_w_Middle[1,5]=N2\n",
    "    New_w_Middle[1,8]=N3\n",
    "    New_w_Middle[1,11]=N4\n",
    "    New_w_Middle[1,14]=N5\n",
    "    New_w_Middle[1,17]=N6\n",
    "    New_w_Middle[1,20]=N7\n",
    "    New_w_Middle[1,23]=N8\n",
    "    w_Middle=New_w_Middle\n",
    "    \n",
    "    New_w_Down=zeros(3,24)\n",
    "    New_w_Down[2,2]=N1\n",
    "    New_w_Down[2,5]=N2\n",
    "    New_w_Down[2,8]=N3\n",
    "    New_w_Down[2,11]=N4\n",
    "    New_w_Down[2,14]=N5\n",
    "    New_w_Down[2,17]=N6\n",
    "    New_w_Down[2,20]=N7\n",
    "    New_w_Down[2,23]=N8\n",
    "    w_Down=New_w_Down  \n",
    "    \n",
    "   \n",
    "    jj=w_Up.diff(r)    \n",
    "    kk=w_Middle.diff(s)\n",
    "    ll=w_Down.diff(t)\n",
    "    jjkkll=jj+kk+ll    \n",
    "#+++++++++++++++++++++++++++++++++++++++++++++++++++++++++++++++++++++++++++++++++++++++++++++++++++++++++++++++++++++++++++++++++++++++       \n",
    "   \n",
    "    mm=J_Inversed*aabbcc  # the transformation from natural coordinate to physical cooridinate \n",
    "\n",
    "    nn=J_Inversed*gghhii  # the transformation from natural coordinate to physical cooridinate \n",
    "\n",
    "    oo=J_Inversed*jjkkll  # the transformation from natural coordinate to physical cooridinate \n",
    "    \n",
    "#+++++++++++++++++++++++++++++++++++++++++++++++++++++++++++++++++++++++++++++++++++++++++++++++++++++++++++++++++++++++++++++++++++++++        \n",
    "    strain_3D = zeros(6,24)\n",
    "    \n",
    "    strain_3D[0,:]=mm[0,:] #construct the relation between strain and displacement\n",
    "    strain_3D[1,:]=nn[1,:] #construct the relation between strain and displacement\n",
    "    strain_3D[2,:]=oo[2,:] #construct the relation between strain and displacement\n",
    "\n",
    "    strain_3D[3,:]=mm[1,:]+nn[0,:]  #construct the relation between strain and displacement\n",
    "    strain_3D[4,:]=nn[2,:]+oo[1,:]  #construct the relation between strain and displacement\n",
    "    strain_3D[5,:]=mm[2,:]+oo[0,:]  #construct the relation between strain and displacement\n",
    "    \n",
    "    B=strain_3D \n",
    "#+++++++++++++++++++++++++++++++++++++++++++++++++++++++++++++++++++++++++++++++++++++++++++++++++++++++++++++++++++++++++++++++++++++++       \n",
    "    Jdet=J.det()\n",
    "    Btranspose=B.T\n",
    "    K=Btranspose*C*B*Jdet           # according to the equaltion(15) and the Jet is the coefficiency between the \n",
    "                                    # geometry in nature coordinate and the pysical coordinate              \n",
    "    #integrate at the natural coordinate\n",
    "    fun=K\n",
    "\n",
    "    result1=integrate(fun, (r, -1, 1))\n",
    "    result2=integrate(result1, (s, -1, 1))\n",
    "    result3=integrate(result2, (t, -1, 1))\n",
    "    K=result3\n",
    "    det=K.det()  \n",
    "    \n",
    "    return K\n",
    "#--Stiffness Function----Stiffness Function----Stiffness Function----Stiffness Function----Stiffness Function----Stiffness Function--"
   ]
  },
  {
   "cell_type": "markdown",
   "metadata": {},
   "source": [
    "##### The program below uses the physical coordinate  matrix \"gcoord\", connectivity matrix \"nodes\" ,   young's module,  poisson 's ratio to generate a gobal Stiffness Matrix by the  \"GetStiffinessMatrix3D\"  Function and the \"NewWayToAss\" Function.\n",
    "\n"
   ]
  },
  {
   "cell_type": "code",
   "execution_count": 7,
   "metadata": {
    "collapsed": false
   },
   "outputs": [],
   "source": [
    "\"\"\" \n",
    "Main function to construct the global stiffnes matrix\n",
    "    \n",
    "Parameters:\n",
    "----------\n",
    "gcoord:  physical coordinate ( input )\n",
    "nodes:   connectivity ( input )    \n",
    "K: single stiffness matrix\n",
    "    \n",
    "Returns:\n",
    "-------\n",
    "Ksum: global stiffness matrix\n",
    "    \n",
    "\"\"\"\n",
    "\n",
    "gcoord=Matrix([[1,     2,     1,     0],\n",
    "               [2,     2,     1,     1],\n",
    "               [3,     1,     1,     1],\n",
    "               [4,     0,     1,     1],\n",
    "               [5,     0,     1,     0],\n",
    "               [6,     1,     1,     0],\n",
    "               [7,     2,     0,     0],\n",
    "               [8,     2,     0,     1],\n",
    "               [9,     1,     0,     1],\n",
    "               [10,     1,     0,     0],\n",
    "               [11,     0,     0,     1],\n",
    "               [12,     0,     0,     0]])\n",
    "nodes=Matrix([[7,     8,     9,    10,     1,     2,     3,     6],\n",
    "              [10,    9,    11,    12,     6,     3,     4,     5]])\n",
    "#+++++++++++++++++++++++++++++++++++++++++++++++++++++++++++++++++++++++++++++++++++++++++++++++++++++++++++=\n",
    "nel=2 # number of elements\n",
    "nnel=8  # number of nodes per element\n",
    "NodesToThreeD=zeros(nel,24)\n",
    "nd=zeros(1,8)\n",
    "#====================================\n",
    "g=12*3   #g=the number of node is 12 ,so the total degree of freedom is 12 * 3\n",
    "sum=zeros(g,g)\n",
    "\n",
    "for i in range(nel):\n",
    "    \n",
    "    xcoord=zeros(1,8)\n",
    "    ycoord=zeros(1,8)\n",
    "    zcoord=zeros(1,8)\n",
    "    \n",
    "    for j in range(nnel):\n",
    "        nd=nodes[i,j]\n",
    "        nd=nd-1\n",
    "        xcoord[j]=gcoord[nd,1]      \n",
    "        ycoord[j]=gcoord[nd,2]        \n",
    "        zcoord[j]=gcoord[nd,3]\n",
    "    \n",
    "    X1=xcoord[0]  \n",
    "    Y1=ycoord[0]  \n",
    "    Z1=zcoord[0] \n",
    "    \n",
    "    X2=xcoord[1]  \n",
    "    Y2=ycoord[1]  \n",
    "    Z2=zcoord[1]\n",
    "    \n",
    "    X3=xcoord[2]  \n",
    "    Y3=ycoord[2]  \n",
    "    Z3=zcoord[2] \n",
    "    \n",
    "    X4=xcoord[3]  \n",
    "    Y4=ycoord[3]  \n",
    "    Z4=zcoord[3]\n",
    "    \n",
    "    X5=xcoord[4]  \n",
    "    Y5=ycoord[4]  \n",
    "    Z5=zcoord[4]\n",
    "    \n",
    "    X6=xcoord[5]  \n",
    "    Y6=ycoord[5]  \n",
    "    Z6=zcoord[5] \n",
    "    \n",
    "    X7=xcoord[6]  \n",
    "    Y7=ycoord[6]    \n",
    "    Z7=zcoord[6] \n",
    "    \n",
    "    X8=xcoord[7]  \n",
    "    Y8=ycoord[7]  \n",
    "    Z8=zcoord[7]\n",
    "    \n",
    "    Young=10000\n",
    "    P=0.45 \n",
    "    \n",
    "    K=GetStiffinessMatrix3D(X1,Y1,Z1,  X2,Y2,Z2,  X3,Y3,Z3,  X4,Y4,Z4,  X5,Y5,Z5,  X6,Y6,Z6,  X7,Y7,Z7,  X8,Y8,Z8, Young,P)\n",
    "    \n",
    "    for j in range(nnel):   # the for loop works to generate the connectivity which is the linke between the local\n",
    "        a=nodes[i,j]        # parameter and the global parameter\n",
    "        a1=3*a-2-1\n",
    "        a2=3*a-1-1\n",
    "        a3=3*a-1\n",
    "        j=(j+1)*3-2-1\n",
    "        NodesToThreeD[i,j]=a1\n",
    "        NodesToThreeD[i,j+1]=a2\n",
    "        NodesToThreeD[i,j+2]=a3  \n",
    "\n",
    "    S1=NodesToThreeD[i,:]   \n",
    "\n",
    "    K1=NewWayToAss(K,S1)\n",
    "    #--------------------------------------------------------------\n",
    "    sum=sum+K1 \n",
    "\n",
    "Ksum=sum\n",
    "#print(\"Ksum=\",Ksum)"
   ]
  },
  {
   "cell_type": "code",
   "execution_count": 10,
   "metadata": {
    "collapsed": false
   },
   "outputs": [],
   "source": [
    "\"\"\" \n",
    "the parameter to check whether the stiffness matrix is symmetic or not\n",
    "        \n",
    "\"\"\"\n",
    "\n",
    "h=Ksum\n",
    "for x in range(36):\n",
    "    for y in range(36):\n",
    "        if h[i,j]!=h[j,i]:\n",
    "             print(\"Error\")\n"
   ]
  },
  {
   "cell_type": "markdown",
   "metadata": {
    "collapsed": true
   },
   "source": [
    "##### The Function\"GetMassMatrix3D\" works to use physical coordinate and density to generate the Mass Matrix "
   ]
  },
  {
   "cell_type": "code",
   "execution_count": 11,
   "metadata": {
    "collapsed": true
   },
   "outputs": [],
   "source": [
    "#--Mass Function----Mass Function----Mass Function----Mass Function----Mass Function----Mass Function----Mass Function----Mass Function---\n",
    "def GetMassMatrix3D( X1,Y1,Z1,  X2,Y2,Z2,  X3,Y3,Z3,  X4,Y4,Z4,  X5,Y5,Z5,  X6,Y6,Z6,  X7,Y7,Z7,  X8,Y8,Z8, Density ):\n",
    "    \n",
    "    \"\"\" Construct the Mass Matrix\n",
    "    \n",
    "    Parameters:\n",
    "    ----------\n",
    "    Density: the density of the structure ( input )    \n",
    "    X: physical X coordinate Matrix ( input )\n",
    "    Y: physical Y coordinate Matrix ( input )\n",
    "    Z: physical Z coordinate Matrix ( input )\n",
    "    J: Jacobin matrix \n",
    "        \n",
    "    Returns:\n",
    "    -------\n",
    "    M: single mass matrix\n",
    "    \n",
    "    \"\"\"\n",
    "    \n",
    "    Xphysical=Matrix([0,0,0,0,0,0,0,0])\n",
    "    Yphysical=Matrix([0,0,0,0,0,0,0,0])\n",
    "    Zphysical=Matrix([0,0,0,0,0,0,0,0])\n",
    "    Xphysical[0]=X1\n",
    "    Xphysical[1]=X2\n",
    "    Xphysical[2]=X3\n",
    "    Xphysical[3]=X4\n",
    "    Xphysical[4]=X5\n",
    "    Xphysical[5]=X6\n",
    "    Xphysical[6]=X7\n",
    "    Xphysical[7]=X8\n",
    "\n",
    "    Yphysical[0]=Y1\n",
    "    Yphysical[1]=Y2\n",
    "    Yphysical[2]=Y3\n",
    "    Yphysical[3]=Y4\n",
    "    Yphysical[4]=Y5\n",
    "    Yphysical[5]=Y6\n",
    "    Yphysical[6]=Y7\n",
    "    Yphysical[7]=Y8\n",
    "\n",
    "    Zphysical[0]=Z1\n",
    "    Zphysical[1]=Z2\n",
    "    Zphysical[2]=Z3\n",
    "    Zphysical[3]=Z4\n",
    "    Zphysical[4]=Z5\n",
    "    Zphysical[5]=Z6\n",
    "    Zphysical[6]=Z7\n",
    "    Zphysical[7]=Z8\n",
    "\n",
    "    r,s,t=symbols('r s t')\n",
    "    N1=0.125*(1-r)*(1-s)*(1+t)\n",
    "    N2=0.125*(1+r)*(1-s)*(1+t)\n",
    "    N3=0.125*(1+r)*(1+s)*(1+t)\n",
    "    N4=0.125*(1-r)*(1+s)*(1+t)\n",
    "    N5=0.125*(1-r)*(1-s)*(1-t)\n",
    "    N6=0.125*(1+r)*(1-s)*(1-t)\n",
    "    N7=0.125*(1+r)*(1+s)*(1-t)\n",
    "    N8=0.125*(1-r)*(1+s)*(1-t)\n",
    "    N_matrix = Matrix([[N1],[N2],[N3],[N4],[N5],[N6],[N7],[N8]])\n",
    "\n",
    "    X=N_matrix.dot(Xphysical)\n",
    "    Y=N_matrix.dot(Yphysical)\n",
    "    Z=N_matrix.dot(Zphysical)\n",
    "\n",
    "    dXdr=diff(X,r)\n",
    "    dYdr=diff(Y,r)\n",
    "    dZdr=diff(Z,r)\n",
    "\n",
    "    dXds=diff(X,s)\n",
    "    dYds=diff(Y,s)\n",
    "    dZds=diff(Z,s)\n",
    "\n",
    "    dXdt=diff(X,t)\n",
    "    dYdt=diff(Y,t)\n",
    "    dZdt=diff(Z,t)\n",
    "    #----------------------\n",
    "    dXdr=simplify(dXdr)\n",
    "    dYdr=simplify(dYdr)\n",
    "    dZdr=simplify(dZdr)\n",
    "\n",
    "    dXds=simplify(dXds)\n",
    "    dYds=simplify(dYds)\n",
    "    dZds=simplify(dZds)\n",
    "\n",
    "    dXdt=simplify(dXdt)\n",
    "    dYdt=simplify(dYdt)\n",
    "    dZdt=simplify(dZdt)\n",
    "    \n",
    "    J=Matrix([[dXdr,dYdr,dZdr],[dXds,dYds,dZds],[dXdt,dYdt,dZdt]])\n",
    "\n",
    "    J_Inversed=J**-1\n",
    "#++++++++++++++++++++++++++++++++++++++++++++++++++++++++++++++++++++++++++++++++++++++++++++++++++++++++++++++++++++++++++    \n",
    "    N=Matrix([[N1,  0,   0,     N2,  0,   0,      N3,  0,   0,     N4,  0,  0,    N5,   0,   0,   N6,   0,  0,  N7,  0,  0,   N8,   0,    0],\n",
    "              [0,   N1,  0,     0,   N2,  0,      0,  N3,   0,     0,  N4,  0,     0,  N5,   0,    0,  N6,  0,   0, N7,  0,    0,   N8,   0],\n",
    "              [0,   0,   N1,    0,   0,   N2,     0,   0,   N3,    0,   0,  N4,    0,   0,   N5,   0,   0,  N6,  0,  0, N7,    0,    0,  N8]])\n",
    "\n",
    "#+++++++++++++++++++++++++++++++++++++++++++++++++++++++++++++++++++++++++++++++++++++++++++++++++++++++++++++++++++++++++++++++++++++++       \n",
    "    Jdet=J.det()\n",
    "    \n",
    "    Ntranspose=N.T\n",
    "    \n",
    "    M = Density * Ntranspose * N * Jdet    # the code is the same as the equation (13)\n",
    "\n",
    "    result1=integrate(M, (r, -1, 1))\n",
    "    result2=integrate(result1, (s, -1, 1))\n",
    "    result3=integrate(result2, (t, -1, 1))\n",
    "    M=result3   \n",
    "   \n",
    "    return M\n",
    "#--Mass Function----Mass Function----Mass Function----Mass Function----Mass Function----Mass Function----Mass Function----Mass Function---"
   ]
  },
  {
   "cell_type": "markdown",
   "metadata": {},
   "source": [
    "##### The Function Lumped Mass works to transfer the original mass matrix into  a diagonal matrix called \" Lumped Mass\""
   ]
  },
  {
   "cell_type": "code",
   "execution_count": 12,
   "metadata": {
    "collapsed": true
   },
   "outputs": [],
   "source": [
    "def LumpedMass(M):\n",
    "    (m,n)=M.shape\n",
    "    LM=zeros(m,n)\n",
    "\n",
    "    for i in range(m):\n",
    "        summation=0   \n",
    "        for j in range(n):\n",
    "            summation= summation+M[i,j]    \n",
    "        LM[i,i]=summation\n",
    "\n",
    "    return LM"
   ]
  },
  {
   "cell_type": "markdown",
   "metadata": {},
   "source": [
    "##### The Function\"GetTotalMass\" works to calculate the mass of the structure.Since one node has three degrees of freedom,  each degree of freedom owns a single mass which is equal to the mass of the node,  the structure mass is three times that of the theoretical mass."
   ]
  },
  {
   "cell_type": "code",
   "execution_count": 13,
   "metadata": {
    "collapsed": true
   },
   "outputs": [],
   "source": [
    "def GetTotalMass( Matrix ):\n",
    "    (m,n)=Matrix.shape\n",
    "    TotalMass=0;\n",
    "    for i in range(m):\n",
    "        for j in range(n):\n",
    "            TotalMass=TotalMass+Matrix[i,j]\n",
    "\n",
    "    return TotalMass"
   ]
  },
  {
   "cell_type": "markdown",
   "metadata": {},
   "source": [
    "##### The program below uses the physical coordinate  matrix \"gcoord\", connectivity matrix \"nodes\" ,  and Density to generate a global Mass  Matrix by calling the   \"GetMassMatrix3D\"  Function , the \"NewWayToAss\" Function and the LumpedMass Matrix."
   ]
  },
  {
   "cell_type": "code",
   "execution_count": 15,
   "metadata": {
    "collapsed": false
   },
   "outputs": [],
   "source": [
    "\"\"\" \n",
    "Main function to construct the global mass matrix\n",
    "    \n",
    "Parameters:\n",
    "----------\n",
    "gcoord:  physical coordinate ( input )\n",
    "nodes:   connectivity ( input )    \n",
    "M1: single stiffness matrix\n",
    "S1: the connectivity (the information to connect the local matrix to the global matrix)\n",
    "    \n",
    "Returns:\n",
    "-------\n",
    "Ksum: global stiffness matrix\n",
    "    \n",
    "\"\"\"\n",
    "\n",
    "\n",
    "gcoord=Matrix([[1,     2,     1,     0],\n",
    "               [2,     2,     1,     1],\n",
    "               [3,     1,     1,     1],\n",
    "               [4,     0,     1,     1],\n",
    "               [5,     0,     1,     0],\n",
    "               [6,     1,     1,     0],\n",
    "               [7,     2,     0,     0],\n",
    "               [8,     2,     0,     1],\n",
    "               [9,     1,     0,     1],\n",
    "               [10,     1,     0,     0],\n",
    "               [11,     0,     0,     1],\n",
    "               [12,     0,     0,     0]])\n",
    "nodes=Matrix([[7,     8,     9,    10,     1,     2,     3,     6],\n",
    "              [10,    9,    11,    12,     6,     3,     4,     5]])\n",
    "#+++++++++++++++++++++++++++++++++++++++++++++++++++++++++++++++++++++++++++++++++++++++++++++++++++++++++++=\n",
    "nel=2 # number of elements\n",
    "nnel=8  # number of nodes per element\n",
    "NodesToThreeD=zeros(nel,24)\n",
    "nd=zeros(1,8)\n",
    "#====================================\n",
    "g=12*3   #g=the number of node is 12 ,so the total degree of freedom is 12 * 3\n",
    "sum=zeros(g,g)\n",
    "\n",
    "for i in range(nel):\n",
    "    \n",
    "    xcoord=zeros(1,8)\n",
    "    ycoord=zeros(1,8)\n",
    "    zcoord=zeros(1,8)\n",
    "    \n",
    "    for j in range(nnel):\n",
    "        \n",
    "        nd=nodes[i,j]\n",
    "\n",
    "        nd=nd-1\n",
    "        xcoord[j]=gcoord[nd,1]      \n",
    "        ycoord[j]=gcoord[nd,2]        \n",
    "        zcoord[j]=gcoord[nd,3]\n",
    "  \n",
    "    X1=xcoord[0]  \n",
    "    Y1=ycoord[0]  \n",
    "    Z1=zcoord[0] \n",
    "    \n",
    "    X2=xcoord[1]  \n",
    "    Y2=ycoord[1]  \n",
    "    Z2=zcoord[1]\n",
    "    \n",
    "    X3=xcoord[2]  \n",
    "    Y3=ycoord[2]  \n",
    "    Z3=zcoord[2] \n",
    "    \n",
    "    X4=xcoord[3]  \n",
    "    Y4=ycoord[3]  \n",
    "    Z4=zcoord[3]\n",
    "    \n",
    "    X5=xcoord[4]  \n",
    "    Y5=ycoord[4]  \n",
    "    Z5=zcoord[4]\n",
    "    \n",
    "    X6=xcoord[5]  \n",
    "    Y6=ycoord[5]  \n",
    "    Z6=zcoord[5] \n",
    "    \n",
    "    X7=xcoord[6]  \n",
    "    Y7=ycoord[6]    \n",
    "    Z7=zcoord[6] \n",
    "    \n",
    "    X8=xcoord[7]  \n",
    "    Y8=ycoord[7]  \n",
    "    Z8=zcoord[7]\n",
    "    Young=10000\n",
    "    P=0.45\n",
    "   \n",
    "    Density=1\n",
    "   \n",
    "    M=GetMassMatrix3D(X1,Y1,Z1,  X2,Y2,Z2,  X3,Y3,Z3,  X4,Y4,Z4,  X5,Y5,Z5,  X6,Y6,Z6,  X7,Y7,Z7,  X8,Y8,Z8, Density)\n",
    "    \n",
    "    for j in range(nnel): #the for loop works to generate the connectivity which works to link the local mass mass \n",
    "        a=nodes[i,j]      # matrix and global mass matrix\n",
    "        a1=3*a-2-1\n",
    "        a2=3*a-1-1\n",
    "        a3=3*a-1\n",
    "        j=(j+1)*3-2-1\n",
    "        NodesToThreeD[i,j]=a1\n",
    "        NodesToThreeD[i,j+1]=a2\n",
    "        NodesToThreeD[i,j+2]=a3\n",
    "   \n",
    "    S1=NodesToThreeD[i,:]   \n",
    "    \n",
    "    M1=NewWayToAss(M,S1)\n",
    "    #--------------------------------------------------------------\n",
    "    \n",
    "    M1=LumpedMass(M1)\n",
    "\n",
    "    sum=sum+M1 \n",
    "\n",
    "Msum=sum\n",
    "\n",
    "LM=LumpedMass(Msum)  #diagoalize the mass mastrix \n",
    "\n",
    "totalmass=GetTotalMass(Msum)\n",
    "\n",
    "Msum=LM"
   ]
  },
  {
   "cell_type": "markdown",
   "metadata": {},
   "source": [
    "##### The program below use \"Rayleight Damping Coefficient\" the damping matrix  and you can find the theory at the website(https://wiki.csiamerica.com/display/kb/Damping+coefficients)."
   ]
  },
  {
   "cell_type": "code",
   "execution_count": 16,
   "metadata": {
    "collapsed": true
   },
   "outputs": [],
   "source": [
    "Csum=zeros(36,36)\n",
    "Csum=0.015*Ksum+0.001*Msum # the equation of getting the damping coefficiency by \"Rayleight Damping Coefficiency\""
   ]
  },
  {
   "cell_type": "markdown",
   "metadata": {},
   "source": [
    "##### The program below works to process the Mass Matrix, Stiffness Matrix and Damping Matrix by using the constrained node information"
   ]
  },
  {
   "cell_type": "code",
   "execution_count": 17,
   "metadata": {
    "collapsed": true
   },
   "outputs": [],
   "source": [
    "def  ProcesTheMatrix(Inputmatrix,DisplacementInput):\n",
    "    \"\"\" \n",
    "    Main function to process the matix according to the boundary conditions\n",
    "    \n",
    "    Parameters:\n",
    "    ----------\n",
    "    Inputmatrix:  Inputmatrix ( input )\n",
    "    DisplacementInput:  The boundary conditions ( input )     \n",
    "    \n",
    "    Returns:\n",
    "    -------\n",
    "     MatrixCanBeUsed: the processed matrix\n",
    "    \n",
    "    \"\"\"\n",
    "    K=Inputmatrix\n",
    "    for i in range(36):\n",
    "        #print(i)\n",
    "        if DisplacementInput[i]==0:    \n",
    "            \n",
    "            for j in range(36):\n",
    "                          \n",
    "                K[i,j] = 0\n",
    "                K[j,i] = 0         \n",
    "            K[i,i]=1       \n",
    "     \n",
    "\n",
    "    MatrixCanBeUsed= K\n",
    "\n",
    "    return  MatrixCanBeUsed"
   ]
  },
  {
   "cell_type": "markdown",
   "metadata": {},
   "source": [
    "##### The program works to generate the Processed the Mass Matrix, Stiffness Matrix, and Damping Mastirx by calling \"ProcesTheMatrix\"."
   ]
  },
  {
   "cell_type": "code",
   "execution_count": 18,
   "metadata": {
    "collapsed": false
   },
   "outputs": [],
   "source": [
    "\"\"\" \n",
    "Main program to process the matix according to the boundary conditions\n",
    "    \n",
    "Parameters:\n",
    "    ----------\n",
    "NumberOfNodesBeingConstrained:  boundary condition matrix ( input )\n",
    "Ksum:the initial stiffness matrix \n",
    "Msum:the initial mass matrix \n",
    "Csum:the initial damping matrix \n",
    "    \n",
    "Returns:\n",
    "-------\n",
    "KsumOk:the processed stiffness matrix according to the boundary condition\n",
    "MsumOk:the processed mass matrix according to the boundary condition\n",
    "CsumOk:the processed damping matrix according to the boundary condition\n",
    "    \n",
    "\"\"\"\n",
    "\n",
    "\n",
    "NumOfNodes=12\n",
    "NumOfDegreeOfFreedom=3*NumOfNodes\n",
    "\n",
    "DisplacementInput=ones(1,NumOfDegreeOfFreedom)\n",
    "#-------------------------------------------------------------------------\n",
    "NumberOfNodesBeingConstrained=Matrix([1, 2, 3,  4, 5, 6,    19, 20, 21,   22, 23, 24]) # the degree of freedom I have\n",
    "#-------------------------------------------------------------------------             #fixed\n",
    "\n",
    "large=len(NumberOfNodesBeingConstrained)\n",
    "\n",
    "for j in range(large):\n",
    "    NumberOfNodesBeingConstrained[j]=NumberOfNodesBeingConstrained[j]-1\n",
    "\n",
    "\n",
    "for i in range(large):\n",
    "\n",
    "        DisplacementInput[NumberOfNodesBeingConstrained[i]]=0\n",
    "\n",
    "#==================================================================\n",
    "KsumOk=ProcesTheMatrix(Ksum,DisplacementInput)\n",
    "MsumOk=ProcesTheMatrix(Msum,DisplacementInput)\n",
    "CsumOk=ProcesTheMatrix(Csum,DisplacementInput)\n"
   ]
  },
  {
   "cell_type": "markdown",
   "metadata": {
    "collapsed": true
   },
   "source": [
    "### 5. The Numerical Solution"
   ]
  },
  {
   "cell_type": "markdown",
   "metadata": {},
   "source": [
    "I used  the Euler's Method to Solve the dyanmic equation:  to use the numerical method,  the dynamic equation was processed in the following way:\n",
    "\n",
    "\\begin{equation}\n",
    "    \\dot{U}(t)=V(t) \\quad \\quad\\quad(38)\\\\\n",
    "    \\dot{V}(t)=M^{-1}(F-KU(t)-CV(t)) \\quad \\quad\\quad(39)\n",
    "\\end{equation}   \n",
    "\n",
    "\n",
    "The matrix form:\n",
    "\\begin{align}\n",
    "\\frac{\\partial }{\\partial t}&\n",
    "\\begin{pmatrix} U \\\\V \\end{pmatrix}\n",
    "= \\begin{pmatrix} \\ 0 \\ \\quad I \\\\ -M^{-1}K\\ \\quad-M^{-1}{C}   \\end{pmatrix}&\\begin{pmatrix} U \\\\V \\end{pmatrix}&\n",
    "+\\begin{pmatrix} \\ 0  \\\\ M^{-1}F\\   \\end{pmatrix} \\quad \\quad\\quad(40)\n",
    "\\end{align}"
   ]
  },
  {
   "cell_type": "markdown",
   "metadata": {
    "collapsed": true
   },
   "source": [
    "##### The following program is to put the constrain condition on the degrees of freedom on the node."
   ]
  },
  {
   "cell_type": "code",
   "execution_count": 19,
   "metadata": {
    "collapsed": false
   },
   "outputs": [],
   "source": [
    "M=MsumOk\n",
    "C=CsumOk\n",
    "K=KsumOk\n",
    "#+++++++++++++++++++++++++++++++++++++++++++++++\n",
    "DOF=36\n",
    "F=zeros(DOF,1) \n",
    "\n",
    "F[35]=1 # Apply the load to the y direction on the node 12\n",
    "F[32]=1 # Apply the load to the y direction on the node 11\n",
    "F[11]=1 # Apply the load to the y direction on the node 4\n",
    "F[14]=1 # Apply the load to the y direction on the node 5"
   ]
  },
  {
   "cell_type": "markdown",
   "metadata": {
    "collapsed": true
   },
   "source": [
    "##### The following program is to construct the part:"
   ]
  },
  {
   "cell_type": "markdown",
   "metadata": {},
   "source": [
    "euqation  (41)\\begin{pmatrix} \\ 0  \\\\ M^{-1}F\\  \\end{pmatrix}  \n"
   ]
  },
  {
   "cell_type": "code",
   "execution_count": 20,
   "metadata": {
    "collapsed": false
   },
   "outputs": [],
   "source": [
    "\"\"\"\n",
    "The following program is to construct equation (41) \n",
    "\"\"\"\n",
    "bup=zeros(36,1)\n",
    "bdown=(M**-1)*F\n",
    "\n",
    "b=zeros(72,1)\n",
    "\n",
    "for k in range(36):\n",
    "    b[k]=bup[k]\n",
    "\n",
    "for kk in range(36):\n",
    "    b[kk+36]=bdown[kk]"
   ]
  },
  {
   "cell_type": "markdown",
   "metadata": {},
   "source": [
    "#####  The following program is to construct the  Matrix as following:\n",
    "\n",
    "\\begin{align}\n",
    "\\begin{pmatrix} \\ 0 \\ \\quad I \\\\ -M^{-1}K\\ \\quad-M^{-1}{C}   \\end{pmatrix}  \\quad \\quad\\quad(42)\n",
    "\\end{align}"
   ]
  },
  {
   "cell_type": "code",
   "execution_count": 21,
   "metadata": {
    "collapsed": false
   },
   "outputs": [],
   "source": [
    "\"\"\"\n",
    "The following program is to construct equation (42)\n",
    "\n",
    "\"\"\"\n",
    "aa=zeros(DOF,DOF)\n",
    "\n",
    "bb=eye(DOF)\n",
    "\n",
    "cc=-1*(M** -1)*K\n",
    "\n",
    "dd=-1*(M** -1)*C"
   ]
  },
  {
   "cell_type": "code",
   "execution_count": 22,
   "metadata": {
    "collapsed": false
   },
   "outputs": [],
   "source": [
    "a=zeros(72,72)\n",
    "\n",
    "for i in range(36):\n",
    "    for j in range(36):\n",
    "        a[i,j]=aa[i,j]       \n",
    "\n",
    "\n",
    "for i in range(36):\n",
    "    for j in range(36):\n",
    "        a[i,j+36]=bb[i,j]        \n",
    "\n",
    "\n",
    "for i in range(36):\n",
    "    for j in range(36):\n",
    "        a[i+36,j]=cc[i,j]      \n",
    "\n",
    "for i in range(36):\n",
    "    for j in range(36):\n",
    "        a[i+36,j+36]=dd[i,j]       \n"
   ]
  },
  {
   "cell_type": "markdown",
   "metadata": {
    "collapsed": true
   },
   "source": [
    "##### The Following program is the interation part of the Numerical Method to do the Finite Element Simulation with Mass Matrix,  Damping Matrix, and Stiffness Matrix."
   ]
  },
  {
   "cell_type": "markdown",
   "metadata": {},
   "source": [
    "\n",
    "\n",
    "\\begin{align}\n",
    "a=\\begin{pmatrix} \\ 0 \\ \\quad I \\\\ -M^{-1}K\\ \\quad-M^{-1}{C}   \\end{pmatrix} \\quad \\quad \\quad \\quad\\quad\\quad \\quad\\quad(42)\n",
    "\\end{align}\n",
    "\n",
    "\\begin{align}\n",
    "b= \\begin{pmatrix} \\ 0  \\\\ M^{-1}F\\  \\end{pmatrix} \\quad\\quad \\quad\\quad \\quad\\quad \\quad \\quad\\quad \\quad\\quad \\quad \\quad(41)\n",
    "\\end{align}\n",
    "\n",
    "\\begin{align}\n",
    "\\frac{\\partial }{\\partial t}&\n",
    "\\begin{pmatrix} U \\\\V \\end{pmatrix}\n",
    "= \\begin{pmatrix} \\ 0 \\ \\quad I \\\\ -M^{-1}K\\ \\quad-M^{-1}{C}   \\end{pmatrix}&\\begin{pmatrix} U \\\\V \\end{pmatrix}&\n",
    "+\\begin{pmatrix} \\ 0  \\\\ M^{-1}F\\   \\end{pmatrix} \\quad (40)\n",
    "\\end{align}\n",
    "\n",
    "\n",
    "\\begin{align}\n",
    "\\begin{pmatrix} U \\\\V \\end{pmatrix}^{n+1}=\\begin{pmatrix} U \\\\V \\end{pmatrix}^{n}+dt\\cdot \\frac{\\partial }{\\partial t}&\\begin{pmatrix} U \\\\V \\end{pmatrix}^{n}\\quad \\quad\\quad \\quad \\quad\\quad(43)\n",
    "\\end{align}\n",
    "\n"
   ]
  },
  {
   "cell_type": "code",
   "execution_count": 23,
   "metadata": {
    "collapsed": false
   },
   "outputs": [],
   "source": [
    "dt=0.00006;\n",
    "N=12000\n",
    "\n",
    "U_V_Each=zeros(72,1)  #create a space to store all displacements of all the nodes for a single time step\n",
    "U_V_Total=zeros(72,N) #create a space to store all displacements of all the nodes for all time steps\n",
    "\n",
    "for i in range(N):\n",
    "    \n",
    "    derivative=a * U_V_Each + b        #use equation (40)\n",
    "   \n",
    "    U_V_Each=U_V_Each+dt * derivative  #use the equation (43)\n",
    "    \n",
    "    U_V_Total[:,i]=U_V_Each      # store all displacements of all the nodes information in a matrix \n",
    "    "
   ]
  },
  {
   "cell_type": "code",
   "execution_count": 24,
   "metadata": {
    "collapsed": false
   },
   "outputs": [],
   "source": [
    "import matplotlib.pyplot as plt\n",
    "\n",
    "sh=U_V_Total.row(11)\n"
   ]
  },
  {
   "cell_type": "code",
   "execution_count": 25,
   "metadata": {
    "collapsed": true
   },
   "outputs": [],
   "source": [
    "for i in range(399):\n",
    "    if sh[i]>sh[i+1]:\n",
    "        print(\"error\")"
   ]
  },
  {
   "cell_type": "markdown",
   "metadata": {},
   "source": [
    "### Numerical Simulation Result:\n",
    "#### The simulation for the structure with the damping is:    \n",
    "####    Note: The displacement in the y direction of node 11 has been extracted to generate the graph."
   ]
  },
  {
   "cell_type": "code",
   "execution_count": 26,
   "metadata": {
    "collapsed": false
   },
   "outputs": [
    {
     "data": {
      "text/plain": [
       "<matplotlib.text.Text at 0x7fa3cd42b0b8>"
      ]
     },
     "execution_count": 26,
     "metadata": {},
     "output_type": "execute_result"
    },
    {
     "data": {
      "image/png": "[encoded data removed]",
      "text/plain": [
       "<matplotlib.figure.Figure at 0x7fa3cd595a58>"
      ]
     },
     "metadata": {},
     "output_type": "display_data"
    }
   ],
   "source": [
    "pyplot.plot(sh.transpose());\n",
    "pyplot.xlabel('Iteration times and the total time equals 0.72s')\n",
    "pyplot.ylabel('Displacement')"
   ]
  },
  {
   "cell_type": "markdown",
   "metadata": {},
   "source": [
    "#### Figure 2. The numerical solution of  displacement of y direction of the No. 11 node. "
   ]
  },
  {
   "cell_type": "markdown",
   "metadata": {},
   "source": [
    "***The interpretation of the Figure 2:***\n",
    "\n",
    "**First:**\n",
    "From the graph above, we can see because the material has the damping properity,  the displacement of the 11th degree of freedom of the structure increases gradually.  And the displacement seems smooth which means the damping properity of material has damped out the energy.\n",
    "\n",
    "**Second:**\n",
    "The line of  simulation result calculated by Numerical Method combined with Finite Element Method agrees with the following evidence:\n",
    "\n",
    "1: the physical phenomenon \"if we suddenly sit in a car and the suspension of the car with the \n",
    "property damping coefficient(C), we can feel the car vibrate, the amplitude of the vibration will decrease \n",
    "gradually and eventually the car will stop vibrating\".\n",
    "\n",
    "2: the actual experiment is from the video(https://www.youtube.com/watch?v=EbkWaNDyFOQ) at 3:34.\n",
    "\n"
   ]
  },
  {
   "cell_type": "markdown",
   "metadata": {
    "collapsed": true
   },
   "source": [
    "##### Now we drop the Damping Coefficiency of the Material Property by time the CsumOk with 0"
   ]
  },
  {
   "cell_type": "code",
   "execution_count": 27,
   "metadata": {
    "collapsed": true
   },
   "outputs": [],
   "source": [
    "\"\"\"\n",
    "The following program is to apply the boundary condition to the structure and force the damping property to be zero!\n",
    "\"\"\"\n",
    "\n",
    "M=MsumOk\n",
    "C=CsumOk*0 # Now, we force the damping property to be zero!!!\n",
    "K=KsumOk\n",
    "#+++++++++++++++++++++++++++++++++++++++++++++++\n",
    "DOF=36\n",
    "F=zeros(DOF,1) \n",
    "\n",
    "F[35]=1 # Apply the load to the y direction on the node 12\n",
    "F[32]=1 # Apply the load to the y direction on the node 11\n",
    "F[11]=1 # Apply the load to the y direction on the node 4\n",
    "F[14]=1 # Apply the load to the y direction on the node 5"
   ]
  },
  {
   "cell_type": "markdown",
   "metadata": {},
   "source": [
    "##### The following program is to construct the part:"
   ]
  },
  {
   "cell_type": "markdown",
   "metadata": {
    "collapsed": false
   },
   "source": [
    "euqation  (41)\\begin{pmatrix} \\ 0  \\\\ M^{-1}F\\  \\end{pmatrix}  \n"
   ]
  },
  {
   "cell_type": "code",
   "execution_count": 28,
   "metadata": {
    "collapsed": false
   },
   "outputs": [],
   "source": [
    "bup=zeros(36,1)\n",
    "bdown=(M**-1)*F\n",
    "\n",
    "b=zeros(72,1)\n",
    "\n",
    "for k in range(36):\n",
    "    b[k]=bup[k]\n",
    "\n",
    "for kk in range(36):\n",
    "    b[kk+36]=bdown[kk]\n"
   ]
  },
  {
   "cell_type": "markdown",
   "metadata": {},
   "source": [
    "#####  The following program is to construct the  Matrix as following:\n",
    "\n",
    "\\begin{align}\n",
    "\\begin{pmatrix} \\ 0 \\ \\quad I \\\\ -M^{-1}K\\ \\quad-M^{-1}{C}   \\end{pmatrix}  \\quad \\quad\\quad(42)\n",
    "\\end{align}"
   ]
  },
  {
   "cell_type": "code",
   "execution_count": 29,
   "metadata": {
    "collapsed": true
   },
   "outputs": [],
   "source": [
    "aa=zeros(DOF,DOF)\n",
    "bb=eye(DOF)\n",
    "cc=-1*(M** -1)*K\n",
    "dd=-1*(M** -1)*C"
   ]
  },
  {
   "cell_type": "code",
   "execution_count": 30,
   "metadata": {
    "collapsed": true
   },
   "outputs": [],
   "source": [
    "a=zeros(72,72)\n",
    "\n",
    "for i in range(36):\n",
    "    for j in range(36):\n",
    "        a[i,j]=aa[i,j]\n",
    "\n",
    "for i in range(36):\n",
    "    for j in range(36):\n",
    "        a[i,j+36]=bb[i,j]\n",
    "\n",
    "for i in range(36):\n",
    "    for j in range(36):\n",
    "        a[i+36,j]=cc[i,j]\n",
    "\n",
    "for i in range(36):\n",
    "    for j in range(36):\n",
    "        a[i+36,j+36]=dd[i,j]"
   ]
  },
  {
   "cell_type": "markdown",
   "metadata": {
    "collapsed": true
   },
   "source": [
    "##### The Following program is the iteration part of the Numerical Method to do the Finite Element Simulation only with Mass Matrix and Stiffness Matrix."
   ]
  },
  {
   "cell_type": "markdown",
   "metadata": {},
   "source": [
    "\n",
    "\n",
    "\\begin{align}\n",
    "a=\\begin{pmatrix} \\ 0 \\ \\quad I \\\\ -M^{-1}K\\ \\quad-M^{-1}{C}   \\end{pmatrix} \\quad \\quad \\quad \\quad\\quad\\quad \\quad\\quad(42)\n",
    "\\end{align}\n",
    "\n",
    "\\begin{align}\n",
    "b= \\begin{pmatrix} \\ 0  \\\\ M^{-1}F\\  \\end{pmatrix} \\quad\\quad \\quad\\quad \\quad\\quad \\quad \\quad\\quad \\quad\\quad \\quad \\quad(41)\n",
    "\\end{align}\n",
    "\n",
    "\\begin{align}\n",
    "\\frac{\\partial }{\\partial t}&\n",
    "\\begin{pmatrix} U \\\\V \\end{pmatrix}\n",
    "= \\begin{pmatrix} \\ 0 \\ \\quad I \\\\ -M^{-1}K\\ \\quad-M^{-1}\\cdot{(C=0)}   \\end{pmatrix}&\\begin{pmatrix} U \\\\V \\end{pmatrix}&\n",
    "+\\begin{pmatrix} \\ 0  \\\\ M^{-1}F\\   \\end{pmatrix} \\quad (40)\n",
    "\\end{align}\n",
    "\n",
    "\n",
    "\\begin{align}\n",
    "\\begin{pmatrix} U \\\\V \\end{pmatrix}^{n+1}=\\begin{pmatrix} U \\\\V \\end{pmatrix}^{n}+dt\\cdot \\frac{\\partial }{\\partial t}&\\begin{pmatrix} U \\\\V \\end{pmatrix}^{n} \\quad \\quad\\quad \\quad \\quad\\quad(43)\n",
    "\\end{align}\n"
   ]
  },
  {
   "cell_type": "code",
   "execution_count": 31,
   "metadata": {
    "collapsed": false
   },
   "outputs": [],
   "source": [
    "dt=0.00006;\n",
    "N=12000\n",
    "\n",
    "NewU_V_Each=zeros(72,1) #create a space to store all displacements of all the nodes for a single time step\n",
    "NewU_V_Total=zeros(72,N) #create a space to store all displacements of all the nodes for all time steps\n",
    "\n",
    "for i in range(N):\n",
    "    #print(\"i=\",i)\n",
    "    Newderivative=a * NewU_V_Each + b  # use the equation (40)\n",
    "   \n",
    "    NewU_V_Each=NewU_V_Each+dt * Newderivative #use the equation (43)\n",
    "    \n",
    "    NewU_V_Total[:,i]=NewU_V_Each # store all displacements of all the nodes information in a matrix "
   ]
  },
  {
   "cell_type": "code",
   "execution_count": 32,
   "metadata": {
    "collapsed": false
   },
   "outputs": [
    {
     "name": "stdout",
     "output_type": "stream",
     "text": [
      "(72, 12000)\n",
      "(1, 12000)\n"
     ]
    }
   ],
   "source": [
    "import matplotlib.pyplot as plt\n",
    "print(NewU_V_Total.shape)\n",
    "\n",
    "ssh=NewU_V_Total.row(11)\n",
    "\n",
    "print(ssh.shape)"
   ]
  },
  {
   "cell_type": "code",
   "execution_count": 33,
   "metadata": {
    "collapsed": false
   },
   "outputs": [],
   "source": [
    "for i in range(399):\n",
    "    if ssh[i]>ssh[i+1]:\n",
    "        print(\"errot\")"
   ]
  },
  {
   "cell_type": "code",
   "execution_count": 34,
   "metadata": {
    "collapsed": false
   },
   "outputs": [
    {
     "data": {
      "text/plain": [
       "<matplotlib.text.Text at 0x7fa3ba346048>"
      ]
     },
     "execution_count": 34,
     "metadata": {},
     "output_type": "execute_result"
    },
    {
     "data": {
      "image/png": "[encoded data removed]",
      "text/plain": [
       "<matplotlib.figure.Figure at 0x7fa3cd586da0>"
      ]
     },
     "metadata": {},
     "output_type": "display_data"
    }
   ],
   "source": [
    "pyplot.plot(ssh.transpose());\n",
    "pyplot.xlabel('Iteration times and the total time equals 0.72s')\n",
    "pyplot.ylabel('Displacement')"
   ]
  },
  {
   "cell_type": "markdown",
   "metadata": {},
   "source": [
    "#### Figure 3. The numerical solution of displacement of y direction of the No. 11 node. "
   ]
  },
  {
   "cell_type": "markdown",
   "metadata": {},
   "source": [
    "***The interpretation of  Figure 3:***\n",
    "    \n",
    "**First:**From the graph above, we can see because of the material without the damping properity, the displacement of the 11th degree of freedom of the structure vibrate periodically . \n",
    "\n",
    "\n",
    "**Second:**As we can see in the graph, the line of  simulation result calculated by Numerical Method combined with Finite Element Method agree with the following evidence:\n",
    "\n",
    "1: The physical phenomenon \"Physical explanation: If we suddenly sit in a car and the suspension of the car without the property damping coefficient(C). Theoretically, the car will not stop vibrating. That means the energy is conserved.\".\n",
    "\n",
    "2: The actual experiment is from the video(https://www.youtube.com/watch?v=-qRYaZP0938) "
   ]
  },
  {
   "cell_type": "markdown",
   "metadata": {},
   "source": [
    "## 6. Analytical Solution:"
   ]
  },
  {
   "cell_type": "markdown",
   "metadata": {},
   "source": [
    "The Duhamel Integral equation [3]:\n",
    "\\begin{equation}\n",
    "x(t)=\\frac{F}{K} \\begin{pmatrix}  1- \\frac{e^{- \\varepsilon \\omega t}  cos(\\omega_{d}t-\\psi)}  {\\sqrt{1-\\varepsilon^2} \\qquad }   \\end{pmatrix}\\quad \\quad\\quad(8)\n",
    "\\end{equation}\n",
    "\n",
    "The Damping ratio [3]:\n",
    "\\begin{equation}\n",
    "\\varepsilon=\\frac{C}{2m \\omega}\\quad \\quad\\quad(9)\n",
    "\\end{equation}\n",
    "\n",
    "The Natural Frequence [3]:\n",
    "\\begin{equation}\n",
    "\\omega =\\begin{pmatrix}\\frac{K}{m} \\end{pmatrix}^{0.5}\\quad \\quad\\quad(10)\n",
    "\\end{equation}\n",
    "\n",
    "The Damping Frequency [3]:\n",
    "\\begin{equation}\n",
    "\\omega_{d} =\\omega \\begin{pmatrix} 1- \\varepsilon_{2}\\end{pmatrix}^{0.5}\\quad \\quad\\quad(11)\n",
    "\\end{equation}"
   ]
  },
  {
   "cell_type": "markdown",
   "metadata": {},
   "source": [
    "#### The code below is to calculate the analytical solution of the structure with Damping Property"
   ]
  },
  {
   "cell_type": "code",
   "execution_count": 67,
   "metadata": {
    "collapsed": false
   },
   "outputs": [
    {
     "data": {
      "text/plain": [
       "<matplotlib.text.Text at 0x7fa3b8ca5d30>"
      ]
     },
     "execution_count": 67,
     "metadata": {},
     "output_type": "execute_result"
    },
    {
     "data": {
      "image/png": "[encoded data removed]",
      "text/plain": [
       "<matplotlib.figure.Figure at 0x7fa3b8d146a0>"
      ]
     },
     "metadata": {},
     "output_type": "display_data"
    }
   ],
   "source": [
    "F=4 # the end has four node and each node had load(1N)\n",
    "possion=0.45\n",
    "A=1\n",
    "L=2\n",
    "young=10000\n",
    "K=(A/L)*young  #the relation between young's model and stiffness\n",
    "M=2\n",
    "C=0.015*K+0.001*M \n",
    "w=(K/M)**0.5 #equation (10)\n",
    "eps=C/(2*M*w) #equation (9)\n",
    "wd=w*(1-eps**2)**0.5 #equation (11)\n",
    "c=zeros(72)\n",
    "dt=0.00006;\n",
    "N=12000\n",
    "t=dt*N #total time\n",
    "for i in range(0,72):\n",
    "    t=i\n",
    "    t=t/100 \n",
    "    x=(F/K)*(1-(2.7**(-eps*w*t))*cos(wd*t)/(1-eps**2)**0.5) #equation (8)\n",
    "    c[i]=x\n",
    "    \n",
    "pyplot.plot(c.transpose()); \n",
    "pyplot.xlabel('Iteration times and the total time equals 0.72s')\n",
    "pyplot.ylabel('Displacement')"
   ]
  },
  {
   "cell_type": "markdown",
   "metadata": {},
   "source": [
    "#### Figure 4. The analytical solution of  displacement of y direction of the No. 11 node. "
   ]
  },
  {
   "cell_type": "markdown",
   "metadata": {},
   "source": [
    "#### The code below is to calculate the analytical solution of the structure without Damping Property"
   ]
  },
  {
   "cell_type": "code",
   "execution_count": 65,
   "metadata": {
    "collapsed": false
   },
   "outputs": [
    {
     "data": {
      "text/plain": [
       "<matplotlib.text.Text at 0x7fa3b8e49320>"
      ]
     },
     "execution_count": 65,
     "metadata": {},
     "output_type": "execute_result"
    },
    {
     "data": {
      "image/png": "[encoded data removed]",
      "text/plain": [
       "<matplotlib.figure.Figure at 0x7fa3b8eff9b0>"
      ]
     },
     "metadata": {},
     "output_type": "display_data"
    }
   ],
   "source": [
    "F=4  # the end has four node and each node had load(1N)\n",
    "possion=0.45\n",
    "young=10000\n",
    "K=(1/2)*young\n",
    "M=2\n",
    "C=0  # we force the damping cofficiency to be zero!\n",
    "w=(K/M)**0.5 #equation (10)\n",
    "eps=C/(2*M*w)#equation (9)\n",
    "wd=w*(1-eps**2)**0.5 #equation (11)\n",
    "b=zeros(72)\n",
    "dt=0.00006;\n",
    "N=12000\n",
    "t=dt*N #the total time\n",
    "\n",
    "for i in range(0,72):\n",
    "    t=i\n",
    "    t=t/100 \n",
    "    x=(F/K)*(1-(2.7**(-eps*w*t))*cos(wd*t)/(1-eps**2)**0.5) #equation9(8)\n",
    "    b[i]=x\n",
    "    \n",
    "pyplot.plot(b.transpose()); \n",
    "pyplot.xlabel('Iteration times and the total time equals 0.72s')\n",
    "pyplot.ylabel('Displacement')"
   ]
  },
  {
   "cell_type": "markdown",
   "metadata": {},
   "source": [
    "#### Figure 5. The analytical solution of  displacement of y direction of the No. 11 node. "
   ]
  },
  {
   "cell_type": "markdown",
   "metadata": {},
   "source": [
    "## 7. Compare the analytical solutions  with numerical solutions in:##"
   ]
  },
  {
   "cell_type": "code",
   "execution_count": 73,
   "metadata": {
    "collapsed": false
   },
   "outputs": [
    {
     "data": {
      "text/plain": [
       "[<matplotlib.lines.Line2D at 0x7fa3b829f470>,\n",
       " <matplotlib.lines.Line2D at 0x7fa3b829f860>,\n",
       " <matplotlib.lines.Line2D at 0x7fa3b829fb38>,\n",
       " <matplotlib.lines.Line2D at 0x7fa3b829fda0>,\n",
       " <matplotlib.lines.Line2D at 0x7fa3b82a5048>,\n",
       " <matplotlib.lines.Line2D at 0x7fa3b82a52b0>,\n",
       " <matplotlib.lines.Line2D at 0x7fa3b82a5518>,\n",
       " <matplotlib.lines.Line2D at 0x7fa3b82ef2e8>,\n",
       " <matplotlib.lines.Line2D at 0x7fa3b82a59e8>,\n",
       " <matplotlib.lines.Line2D at 0x7fa3b82a5c50>,\n",
       " <matplotlib.lines.Line2D at 0x7fa3b82a5eb8>,\n",
       " <matplotlib.lines.Line2D at 0x7fa3b82a8160>,\n",
       " <matplotlib.lines.Line2D at 0x7fa3b82a83c8>,\n",
       " <matplotlib.lines.Line2D at 0x7fa3b82a8630>,\n",
       " <matplotlib.lines.Line2D at 0x7fa3b82a5780>,\n",
       " <matplotlib.lines.Line2D at 0x7fa3b82a8b00>,\n",
       " <matplotlib.lines.Line2D at 0x7fa3b82a8d68>,\n",
       " <matplotlib.lines.Line2D at 0x7fa3b82a8fd0>,\n",
       " <matplotlib.lines.Line2D at 0x7fa3b82ad278>,\n",
       " <matplotlib.lines.Line2D at 0x7fa3b82ad4e0>,\n",
       " <matplotlib.lines.Line2D at 0x7fa3b82ad748>,\n",
       " <matplotlib.lines.Line2D at 0x7fa3b82a8898>,\n",
       " <matplotlib.lines.Line2D at 0x7fa3b82adc18>,\n",
       " <matplotlib.lines.Line2D at 0x7fa3b82ade80>,\n",
       " <matplotlib.lines.Line2D at 0x7fa3b82b0128>,\n",
       " <matplotlib.lines.Line2D at 0x7fa3b82b0390>,\n",
       " <matplotlib.lines.Line2D at 0x7fa3b82b05f8>,\n",
       " <matplotlib.lines.Line2D at 0x7fa3b82b0860>,\n",
       " <matplotlib.lines.Line2D at 0x7fa3b82ad9b0>,\n",
       " <matplotlib.lines.Line2D at 0x7fa3b82b0d30>,\n",
       " <matplotlib.lines.Line2D at 0x7fa3b82f5518>,\n",
       " <matplotlib.lines.Line2D at 0x7fa3b82efb70>,\n",
       " <matplotlib.lines.Line2D at 0x7fa3b82ef6d8>,\n",
       " <matplotlib.lines.Line2D at 0x7fa3b82ded68>,\n",
       " <matplotlib.lines.Line2D at 0x7fa3b82e7438>,\n",
       " <matplotlib.lines.Line2D at 0x7fa3b82e7080>,\n",
       " <matplotlib.lines.Line2D at 0x7fa3b82e2a90>,\n",
       " <matplotlib.lines.Line2D at 0x7fa3b82e2f60>,\n",
       " <matplotlib.lines.Line2D at 0x7fa3b8364588>,\n",
       " <matplotlib.lines.Line2D at 0x7fa3b8317a20>,\n",
       " <matplotlib.lines.Line2D at 0x7fa3b831bd68>,\n",
       " <matplotlib.lines.Line2D at 0x7fa3b8329128>,\n",
       " <matplotlib.lines.Line2D at 0x7fa3b82e7048>,\n",
       " <matplotlib.lines.Line2D at 0x7fa3b8553b70>,\n",
       " <matplotlib.lines.Line2D at 0x7fa3b8323438>,\n",
       " <matplotlib.lines.Line2D at 0x7fa3b83a3f60>,\n",
       " <matplotlib.lines.Line2D at 0x7fa3b83a9588>,\n",
       " <matplotlib.lines.Line2D at 0x7fa3b82b0ef0>,\n",
       " <matplotlib.lines.Line2D at 0x7fa3b82b4160>,\n",
       " <matplotlib.lines.Line2D at 0x7fa3b8329048>,\n",
       " <matplotlib.lines.Line2D at 0x7fa3b82b45c0>,\n",
       " <matplotlib.lines.Line2D at 0x7fa3b82b47f0>,\n",
       " <matplotlib.lines.Line2D at 0x7fa3b82b4a20>,\n",
       " <matplotlib.lines.Line2D at 0x7fa3b82b4c50>,\n",
       " <matplotlib.lines.Line2D at 0x7fa3b82b4e80>,\n",
       " <matplotlib.lines.Line2D at 0x7fa3b82b70f0>,\n",
       " <matplotlib.lines.Line2D at 0x7fa3b82b4390>,\n",
       " <matplotlib.lines.Line2D at 0x7fa3b82b7550>,\n",
       " <matplotlib.lines.Line2D at 0x7fa3b82b7780>,\n",
       " <matplotlib.lines.Line2D at 0x7fa3b82b79b0>,\n",
       " <matplotlib.lines.Line2D at 0x7fa3b82b7be0>,\n",
       " <matplotlib.lines.Line2D at 0x7fa3b82b7e10>,\n",
       " <matplotlib.lines.Line2D at 0x7fa3b82bb080>,\n",
       " <matplotlib.lines.Line2D at 0x7fa3b82b7320>,\n",
       " <matplotlib.lines.Line2D at 0x7fa3b82bb4e0>,\n",
       " <matplotlib.lines.Line2D at 0x7fa3b82bb710>,\n",
       " <matplotlib.lines.Line2D at 0x7fa3b82bb940>,\n",
       " <matplotlib.lines.Line2D at 0x7fa3b82bbb70>,\n",
       " <matplotlib.lines.Line2D at 0x7fa3b82bbda0>,\n",
       " <matplotlib.lines.Line2D at 0x7fa3b82bbfd0>,\n",
       " <matplotlib.lines.Line2D at 0x7fa3b82bb2b0>,\n",
       " <matplotlib.lines.Line2D at 0x7fa3b82be470>]"
      ]
     },
     "execution_count": 73,
     "metadata": {},
     "output_type": "execute_result"
    },
    {
     "data": {
      "image/png": "[encoded data removed]",
      "text/plain": [
       "<matplotlib.figure.Figure at 0x7fa3b86b7cf8>"
      ]
     },
     "metadata": {},
     "output_type": "display_data"
    }
   ],
   "source": [
    "pyplot.subplot(211)\n",
    "pyplot.grid(True)\n",
    "pyplot.xlabel('Iteration times and the total time equals 0.72s')\n",
    "pyplot.ylabel('Displacement')\n",
    "pyplot.plot(sh.transpose(),  label='The Numerical Solution')\n",
    "\n",
    "pyplot.subplot(212)\n",
    "pyplot.grid(True)\n",
    "pyplot.xlabel('Iteration times and the total time equals 0.72s')\n",
    "pyplot.ylabel('Displacement')\n",
    "pyplot.plot(c.transpose(),  label='The Analytical Solution')\n",
    "\n"
   ]
  },
  {
   "cell_type": "markdown",
   "metadata": {},
   "source": [
    "#### Figure 6. the structure with the damping property case is plotted for analyzing the difference"
   ]
  },
  {
   "cell_type": "markdown",
   "metadata": {},
   "source": [
    "**Note:<br/> 1.The numerical solution is the upper one and the analytical solution is at the bottom**\n",
    "**      <br/>2. Since result of analytical solution is much smaller that of numerical method, it will be better to plot them seperately.**\n",
    "\n",
    "\n",
    "As you can see in the **Figures above**, the displacement of the y direction of the node 11 in analytical result is much smaller than numerical result in **Figure 2**  for the following reasons:\n",
    "\n",
    "**1.**Because of the low performance of this computer, only two elements have been modeled by the finite element method. Actually, a large number of elements need to be modeled to get an accurate result. \n",
    "\n",
    "**2.**The **small strain theory** was used to derive the finite element equations. \n",
    "\n",
    "**3.**The **equation (8)** I used for the numerical solution is for the one dimensional problem and the theory of vibration almost cover the one demensional problem. And the finite element method I used is a three demensional problem. "
   ]
  },
  {
   "cell_type": "markdown",
   "metadata": {},
   "source": [
    "## 8. Conclusion: "
   ]
  },
  {
   "cell_type": "markdown",
   "metadata": {},
   "source": [
    "**Based on the 3 reasons, the difference between numerical solution and analytical solution can be definitely accepted.**"
   ]
  },
  {
   "cell_type": "markdown",
   "metadata": {
    "collapsed": true
   },
   "source": [
    "### References:"
   ]
  },
  {
   "cell_type": "markdown",
   "metadata": {
    "collapsed": true
   },
   "source": [
    "[1] Chen, Youping, J D. Lee, and Azim Eskandarian. Meshless Methods in Solid Mechanics. New York, NY: Springer,2006. Internet resource. "
   ]
  },
  {
   "cell_type": "markdown",
   "metadata": {
    "collapsed": true
   },
   "source": [
    "[2] Euler Method.13 November 2015. In Wikipedia. Retrieved 5 December 2015,  from  https://en.wikipedia.org/wiki/Euler_method"
   ]
  },
  {
   "cell_type": "markdown",
   "metadata": {
    "collapsed": true
   },
   "source": [
    "[3] Shabana, Ahmed A. Theory of Vibration. New York: Springer-Verlag, 1991. Print. "
   ]
  }
 ],
 "metadata": {
  "kernelspec": {
   "display_name": "Python 3",
   "language": "python",
   "name": "python3"
  },
  "language_info": {
   "codemirror_mode": {
    "name": "ipython",
    "version": 3
   },
   "file_extension": ".py",
   "mimetype": "text/x-python",
   "name": "python",
   "nbconvert_exporter": "python",
   "pygments_lexer": "ipython3",
   "version": "3.4.3"
  }
 },
 "nbformat": 4,
 "nbformat_minor": 0
}
