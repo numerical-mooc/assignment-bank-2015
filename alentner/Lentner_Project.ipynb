{
 "cells": [
  {
   "cell_type": "markdown",
   "metadata": {},
   "source": [
    "_Content under Creative Commons Attribution license CC-BY 4.0, code under MIT license (c)2014 A. D. Lentner_"
   ]
  },
  {
   "cell_type": "markdown",
   "metadata": {},
   "source": [
    "# The China Syndrome"
   ]
  },
  {
   "cell_type": "markdown",
   "metadata": {},
   "source": [
    "Welcome to my Fall 2015 project for the George Washington University, School of Mechanical and Aeronautical Engineering, Numerical Methods course.  The lesson presented in this notebook, _The China Syndrome: One Dimensional, multi-region, Heat conduction with non-linear Neumann Boundary Conditions and volumetric source_, is of significant personal interest. Before we begin I would like to acknowlage Professor L. Barba and the great Jupyter notebooks that have been presented in this course, and upon which I draw stylistic, layout, and presentational inspiration for my lesson herein _(and darn it all if I haven't grown to enjoy python!!!!)_.\n",
    "\n",
    "The heat conduction equation\n",
    "\n",
    "\\begin{equation}\n",
    "\\frac{\\partial T}{\\partial t} = \\alpha \\frac{\\partial^2 T}{\\partial x^2} + \\frac{\\dot{ q_{v}}}{\\rho C_{p}}\n",
    "\\end{equation}\n",
    "\n",
    "where $\\alpha$ is the thermal diffusivity, $T$ is the temperature, and $\\dot{ q_{v}}$ is the volumetric heat generation.\n",
    "\n",
    "In this lesson, we will be applying non-linear Neumann boundary conditions to the heat conduction equation.  That is, boundary conditions which are non-constant, depend on the value of the function (i.e., surface temperature), and in fact, do so _non-linearly_.  This has several important implications, which we will dive into more deeply a bit latter into the lesson. Most importantly, it means that we will need to iterate to find the solution at each and every time step.  Specifically, the boundary conditions we will be studying are the following:\n",
    "\n",
    "$$\\frac{\\partial T}{\\partial x}\\left.\\begin{matrix} \\end{matrix}\\right|_{x = 0} = h_{rad}\\left ( T\\left.\\begin{matrix} \\end{matrix}\\right|_{x = 0} \\right ) \\left ( T\\left.\\begin{matrix} \\end{matrix}\\right|_{x = 0} - T_{inf} \\right )$$\n",
    "$$\\frac{\\partial T}{\\partial x}\\left.\\begin{matrix} \\end{matrix}\\right|_{x = x_{1} + x_{2}} = h_{conv}\\left ( T\\left.\\begin{matrix} \\end{matrix}\\right|_{x = x_{1} +. x_{2}} \\right ) \\left ( T\\left.\\begin{matrix} \\end{matrix}\\right|_{x = x_{1}+x_{2}} - T_{inf} \\right )$$\n",
    "\n",
    " With the initial conditions\n",
    " $$T\\left.\\begin{matrix} \\end{matrix}\\right|_{t = 0} = T_{0}$$\n",
    "\n",
    "And interface conditions\n",
    "$$\\dot{q''}_{left} = \\dot{q''}_{right} $$ "
   ]
  },
  {
   "cell_type": "markdown",
   "metadata": {},
   "source": [
    "##### _Now for a little background_"
   ]
  },
  {
   "cell_type": "markdown",
   "metadata": {},
   "source": [
    "The nuclear reactor accident and simultaneous meltdown of three of the five nuclear reactors at the Fukushima Daiichi nuclear power station in spring of 2011 was the most severe nuclear disaster since the Chernobyl unit 4 explosion in 1986 and the Three Mile Island Unit 2 partial meltdown in 1979.  The nuclear accident at Fukushima Daiichi has spawned significant investment in experimental and analytical research programs, as was the case following the Three Mile Island accident, to increase understanding in severe accident phenomenology and predictive capabilities of severe accident thermal hydraulic system codes (e.g., MELCOR, MAAP, ATHLET, and RELAP5-SCDAP).  These research efforts provide important information in the development and refinement of Severe Accident Management (SAM) strategies such as External Reactor Vessel Cooling (ERVC) to prevent reactor vessel failure.  Retention of the molten reactor core within the reactor vessel is one of the most powerful SAM strategies and has gained particular attention following the Fukushima Daiichi accident and the nuclear industries investment in FLEX (Home & Chai, 2015).  In-vessel retention limits the consequences of a beyond design basis nuclear reactor accident by precluding exotic ex-vessel phenomena which can challenge containment integrity and cause a significant release of hazardous radioactivity to the environment; such as, Molten Core Concrete Interactions (MCCIs), Fuel Coolant Interaction (FCI), and Direct Containment Heating (DCH).\n",
    "\n",
    "In-Vessel retention using ERVC is a SAM strategy in which the cavity inside of the containment structure and external to the reactor vessel is flooded to provide a cooling mechanism to the reactor vessel lower head in order to remove the thermal load provided by the relocated molten corium mass on the inside surface of the reactor vessel lower plenum.  This strategy relies on the ability of the submerged reactor vessel lower head to maintain a sufficiently low downward or lateral facing heat flux as to preclude the occurrence of Critical Heat Flux (CFH), resultant temperature excursion, and subsequent loss of reactor vessel integrity through either a creep rupture, melting, or rapid eutectic dissolution failure mechanism. Thus it is necessary to predict the transient temperature distrobution in such a configuration."
   ]
  },
  {
   "cell_type": "markdown",
   "metadata": {},
   "source": [
    "##### _Your mission, should you choose to accept it (this is a bonus lesson after all ... but I think you're up to it)_"
   ]
  },
  {
   "cell_type": "markdown",
   "metadata": {},
   "source": [
    "To serve as a simplified introduction into the simulation of the severe thermal hydraulic phenomena involved in the meltdown of a nuclear reactor we are going to investigate a simplified version of ERVC following a severe reactor accident.  Specifically, we are going to predict the transient temperature distrobution of a stagnent molten metal pool dropped onto a relatively thin metal plate cooled by liquid water from below contained within an isothermal vacuum chamber.  Figure 1 below details the geometry of the problem to be simulated.  As introduced by professor L. Barba in Lesson 2 of Module 4, we will be using an implicit cental difference in space, forward in time scheme.  One important difference is the need to iteratively solve for the solution at each timestep as the boundary conditions are also dependant on the solution.  We will be applying a Newton-Raphson scheme to resolve this non-linearity.\n",
    "\n",
    "\n",
    "![Problem_Diagram](./figures/Problem_Diagram.png)\n",
    "                                _Figure 1. Diagram of problem description to be modeled_.\n",
    "\n",
    "\n"
   ]
  },
  {
   "cell_type": "markdown",
   "metadata": {},
   "source": [
    "##### _Newton-Raphson Scheme_"
   ]
  },
  {
   "cell_type": "markdown",
   "metadata": {},
   "source": [
    "As presented in [_\"Newton's Method!\"_](https://en.wikipedia.org/wiki/Newton%27s_method), Newton's method, or Newton-Raphson scheme, is found by setting the tangent line of a function (a system of equations for our interest) equal to zero and solving for the root $x_{n+1}$.  Newton's method necessitates that the exact or approxamate derivative of the function (or system of equations) be determined at every point for which the solution is desired. Depending on the governing equation, it may be difficult or computationally impractical to assertain an analytical or approximate expression of the derivative.  However, this will not be an issue for our interests.  Newton's method is presented as follows:\n",
    "\n",
    "$$y\\left ( x \\right ) = f'\\left ( x_{n} \\right )\\left ( x-x_{n} \\right ) + f\\left ( x_{n} \\right )$$\n",
    "\n",
    "$$0 = f'\\left ( x_{n} \\right )\\left ( x_{n+1}-x_{n} \\right ) +f\\left ( x_{n} \\right )$$\n",
    "\n",
    "$$x_{n+1} = x_{n} - \\frac{f\\left ( x_{n} \\right )}{f'\\left ( x_{n} \\right )}$$\n",
    "\n",
    "This result is then extened to a system of differencial equations, as the following:\n",
    "\n",
    "$$\\underline{X}_{n+1} = \\underline{X}_{n} - \\underline{\\underline{J}}^{-1}.\\underline{F}\\left (\\underline{X}_{n}\\right )$$\n",
    "\n",
    "$$\\underline{X}_{n+1} = \\underline{X}_{n} - \\underline{\\underline{J}}^{-1}.\\left (\\underline{\\underline{A}}. \\underline{X}_{n} - \\underline{B}\\right )$$\n",
    "\n",
    "Where $A$ & $B$ are the coefficient and inhomogenious matricies respectively, and $J$ is the Jacobian Matrix defined by \n",
    "\n",
    "$$\\underline{\\underline{J}} = \\begin{bmatrix}\n",
    "\\frac{\\partial f_{1}}{\\partial x_{1}} & \\frac{\\partial f_{1}}{\\partial x_{2}} & \\cdots  & \\frac{\\partial f_{1}}{\\partial x_{n}}\\\\\n",
    "\\frac{\\partial f_{2}}{\\partial x_{1}} & \\frac{\\partial f_{2}}{\\partial x_{2}} & \\cdots  & \\frac{\\partial f_{2}}{\\partial x_{n}}\\\\\n",
    "\\vdots  &  &  & \\\\\n",
    "\\frac{\\partial f_{n}}{\\partial x_{1}} & \\frac{\\partial f_{n}}{\\partial x_{2}} & \\cdots  & \\frac{\\partial f_{n}}{\\partial x_{n}}\\\\\n",
    "\\end{bmatrix}$$"
   ]
  },
  {
   "cell_type": "markdown",
   "metadata": {},
   "source": [
    "##### _Finite Difference Equations (implicit Central Space Forward Time)_"
   ]
  },
  {
   "cell_type": "markdown",
   "metadata": {},
   "source": [
    "Now we will proceed to develop the finite difference equations for the governing equation and geometry presented above.  As expected we will need to develop 6 distinct sets of equations; one each for the upper and lower boundary nodes, one each for the interior nodes for each material, and finally one each for the interface nodes for each material.\n",
    "\n",
    "Lets start with the interior node for the upper region (i.e., the heat producing material with a radiative upper boundary).  You should grab some paper (don't remember what that is ... its that dead tree stuff with lines) and follow the derivation yourself as they get more difficult as we proceed.\n",
    "\n",
    "$$\\frac{\\partial T}{\\partial t} = \\alpha \\frac{\\partial^2 T}{\\partial x^2} + \\frac{\\dot{ q_{v}}}{\\rho C_{p}}$$\n",
    "\n",
    "$$\\frac{T^{n+1}_{i} - T^{n}_{i}}{\\Delta t} = \\alpha \\frac{T^{n+1}_{i+1} -2 T^{n+1}_{i} + T^{n+1}_{i-1}}{\\Delta x^2} + \\frac{\\dot{ q}^{n+1}_{i}}{\\rho C_{p}}$$\n",
    "\n",
    "$$\\left ( 1 + 2 Fo\\right ) T^{n+1}_{i} - Fo \\left ( T^{n+1}_{i+1} + T^{n+1}_{i-1} \\right ) = T^{n}_{i} + \\frac{\\Delta t}{\\rho C_{p}}\\dot{ q}^{n+1}_{i}$$\n",
    "\n",
    "\n",
    "Where the Fourier Number $Fo$ is defined as $\\frac{\\alpha \\Delta t}{\\Delta x^{2}}$\n",
    "\n",
    "\n",
    "\n",
    "\n",
    "Lets move on with the upper boundary node for the upper region (i.e., radiative upper boundary).  You should grab some paper (yes I said it again ... not sure you were listening last time) and follow the derivation yourself.\n",
    "\n",
    "First recall that the stephan-boltzman radiation law can be cleverly writen in a form similar to Newton's Law of cooling with the convective coeficient $h$ a fuction of surface and bulk temperatures. \n",
    "\n",
    "$$ q\" \\left ( x \\right ) |_{x = L_{up}} = \\sigma \\epsilon \\left (T_{sur}^{4} - T_{inf}^{4} \\right)  $$\n",
    "\n",
    "$$ q\" \\left ( x \\right ) |_{x = L_{up}} = \\sigma \\epsilon \\left (T_{sur} + T_{inf} \\right) \\left(T_{sur}^{2} + T_{inf}^{2} \\right) \\left(T_{sur} - T_{inf} \\right)$$\n",
    "\n",
    "$$ q\" \\left ( x \\right ) |_{x = L_{up}} = h_{rad}\\left(T_{suf}\\right) \\left (T_{sur} - T_{inf} \\right)  $$\n",
    "\n",
    "Now that we have that out of the way, on to the finite difference equation for the upper boundary node.  This one is a bit trickier, so lets start from the governing energy conservation equation and see what we get. _note all terms assume heat entering the node_\n",
    "\n",
    "$$\\dot{E}_{storage} = \\dot{E}_{net-inflow} + \\dot{E}_{generation}$$\n",
    "\n",
    "$$\\rho C_{p} A \\frac{\\Delta x}{2} \\frac{T^{n+1}_{i} - T^{n}_{i}}{\\Delta t} = hA\\left(T_{inf} - T^{n+1}_{i}\\right) + \\frac{kA}{\\Delta x}\\left(T^{n+1}_{i+1} - T^{n+1}_{i} \\right) + A\\frac{\\Delta x}{2} \\dot{q}^{n+1}_{i}$$\n",
    "\n",
    "$$\\left ( 1 + 2 Fo\\left(1+Bi\\right)\\right ) T^{n+1}_{i} - 2 Fo T^{n+1}_{i+1} = T^{n}_{i} + 2 Fo Bi T_{inf} + \\frac{\\Delta t}{\\rho C_{p}}\\dot{ q}^{n+1}_{i}$$\n",
    "\n",
    "Where the Biot Number $Bi$ is defined as $\\frac{h \\Delta x}{k}$\n",
    "\n",
    "\n",
    "\n",
    "Finally, let's move on to the lower interface boundary node for the upper region.  You should grab some paper (yes I keep saying it ... I had to do it twice because of a sign error which resulted in several python errors) and follow the derivation yourself.  Again, lets start from the governing energy conservation equation and see what we get. _note all terms assume heat entering the node with the upper node as 1 and lower node as 2_\n",
    "\n",
    "$$\\dot{E}_{storage} = \\dot{E}_{net-inflow} + \\dot{E}_{generation}$$\n",
    "\n",
    "$$\\rho C_{p} A \\Delta x_{1} \\frac{T^{n+1}_{i} - T^{n}_{i}}{\\Delta t} = \\frac{k_{1} A}{\\Delta x_{1}}\\left(T^{n+1}_{i-1} - T^{n+1}_{i} \\right) + \\frac{k_{2} A}{\\Delta x_{2}}\\left(T^{n+1}_{i+1} - T^{n+1}_{i} \\right) + A\\Delta x_{1} \\dot{q}^{n+1}_{i}$$\n",
    "\n",
    "$$ \\left( 1 + \\frac{\\Delta t}{\\rho C_{p 1}} \\left(\\frac{k_{1}}{\\Delta x^{2}_{1}} + \\frac{k_{2}}{\\Delta x_{1} \\Delta x_{2}}\\right)\\right)T^{n+1}_{i} + \\frac{\\Delta t}{\\rho C_{p 1}} \\left(\\frac{k_{1}}{\\Delta x^{2}_{1}}T^{n+1}_{i-1} + \\frac{k_{2}}{\\Delta x_{1} \\Delta x_{2}}T^{n+1}_{i+1}\\right) = T^{n}_{i} + \\frac{\\Delta t}{\\rho C_{p 1}}\\dot{ q}^{n+1}_{i}$$\n",
    "\n",
    "$$\\left ( 1 + Fo_{1}\\left(1+\\frac{k_{2}\\Delta x_{1}}{k_{1}\\Delta x_{2}}\\right)\\right ) T^{n+1}_{i} - Fo_{1} \\left( T^{n+1}_{i-1} + \\frac{k_{2}\\Delta x_{1}}{k_{1}\\Delta x_{2}} T^{n+1}_{i+1} \\right) = T^{n}_{i} + \\frac{\\Delta t}{\\rho C_{p}}\\dot{ q}^{n+1}_{i}$$\n",
    "\n",
    "\n",
    "Now the analogious nodes for the lower region (i.e., without heat generation and a convective lower boundary) can be obtained by inspection and are as follows:\n",
    "\n",
    "$$\\left ( 1 + 2 Fo\\right ) T^{n+1}_{i} - Fo \\left ( T^{n+1}_{i+1} + T^{n+1}_{i-1} \\right ) = T^{n}_{i} $$  \n",
    "\n",
    "$$\\left ( 1 + 2 Fo\\left(1+Bi\\right)\\right ) T^{n+1}_{i} - 2 Fo T^{n+1}_{i-1} = T^{n}_{i} + 2 Fo Bi T_{inf} $$\n",
    "\n",
    "$$\\left ( 1 + Fo_{2}\\left(1+\\frac{k_{1}\\Delta x_{2}}{k_{2}\\Delta x_{1}}\\right)\\right ) T^{n+1}_{i} - Fo_{2} \\left( T^{n+1}_{i+1} + \\frac{k_{1}\\Delta x_{2}}{k_{2}\\Delta x_{1}} T^{n+1}_{i-1} \\right) = T^{n}_{i} $$\n"
   ]
  },
  {
   "cell_type": "markdown",
   "metadata": {},
   "source": [
    "##### _Back to boundary conditions?_ "
   ]
  },
  {
   "cell_type": "markdown",
   "metadata": {},
   "source": [
    "The heat transfer correlation for radiation heat transfer (in our simplified model at least) is rather straight forward and is given by the equation below.\n",
    "\n",
    "\n",
    "$$ h_{rad}\\left( T_{sur} \\right) = \\sigma \\epsilon \\left (T_{sur} + T_{inf} \\right) \\left(T_{sur}^{2} + T_{inf}^{2} \\right)$$\n",
    "\n",
    "However, the heat transfer correlation for free, or natural, convection is more complicated and requires a little more development.  The heat transfer correlations which have been empirically derived for convective flows, in general, relate the Nusselt Number $\\overline{Nu}$ to other thermodynamic non-dimentionalized numbers which characterise the fluid flow.  In the case of free convection, the modified Rayliegh number, $Ra'$.  For a more detailed introduction to [\"free convection\"](https://en.wikipedia.org/wiki/Natural_convection), please see (Incropera et al., 2007).  For this lesson we are conserned with downward facing, horizontally oriented, heating, which is given by the following relation (valid for $10^5 <= Ra' <= 10^{10}$ )\n",
    "\n",
    "$$ \\overline{Nu} = \\frac{h\\left( T_{sur} \\right) L}{k} = 0.27 Ra'^{1/4} = 0.27 \\left(\\frac{g \\beta (T_{sur} - T_{inf}) L^3}{\\nu \\alpha}\\right)^{1/4} $$\n",
    "\n",
    "$$ h_{conv}\\left( T_{sur} \\right) = \\frac{0.27  k}{ L} \\left(\\frac{g \\beta (T_{sur} - T_{inf}) L^3}{\\nu \\alpha}\\right)^{1/4} $$"
   ]
  },
  {
   "cell_type": "markdown",
   "metadata": {},
   "source": [
    "##### _Don't forget the source function!_"
   ]
  },
  {
   "cell_type": "markdown",
   "metadata": {},
   "source": [
    "What makes retention of molten core material difficult is its propensity for internal heat generation, owing from the decay of fission products and activated fuel and structural material. The study of decay heat generation after shutdown for a nuclear reactor is a challengingly deep topic in its own right. However, for our purposes, it is sufficent to say that the fission product decay heat post shutdown can be calculated as the sum of a 23 term exponential series.  We will be approximating this series with a single term with a time constant equal to ~2 hrs.  Additionally we will assume that after five time constants that the volumetric heat generation goes to zero.  This results in the following functional form: \n",
    "\n",
    "$$P\\left(t\\right) = max \\left( \\begin{array}{c}\n",
    "P_{0} \\left(e^{- t / \\tau} - \\frac{t}{5 \\tau} e^{-5}\\right)\\\\\n",
    "0\\\\\n",
    "\\end{array} \\right)$$"
   ]
  },
  {
   "cell_type": "markdown",
   "metadata": {},
   "source": [
    "##### _Now the Matricies!!!!_"
   ]
  },
  {
   "cell_type": "markdown",
   "metadata": {},
   "source": [
    "Now on to wrapping it all up before we start codeing.  I've said it before and I'll say it again, work this out with pen and paper. It is the best way to visualize the matrix equation!\n",
    "\n",
    "Now we can write the non-linear system of equations in matrix form as follows:\n",
    "\n",
    "$$\\underline{\\underline{A}}.\\underline{T} = \\underline{B}$$\n",
    "\n",
    "This equation is non-linear, because the coefficient matrix $\\underline{\\underline{A}}$ depends on $\\underline{T}$ and the in-homogenious matrix $ \\underline{B}$ is itself a non-linear function of $\\underline{T}$ at the boundaries\n",
    "\n",
    "Writing the expanded system in matrix form is very useful in translating the governing equations into executable code:\n",
    "\n",
    "$$ \\scriptstyle \\underline{\\underline{A}} = \\left[ \\begin{array}{cccccccc}\n",
    " 1 + 2Fo_{1} \\left(1 + Bi_{1} \\right) & -2Fo_{1} & 0 & & & \\cdots & & 0 \\\\\n",
    " -Fo_{1} & \\left(1 + 2Fo_{1}\\right) & -Fo_{1} & 0 & & \\cdots & & 0 \\\\\n",
    " 0 & & \\ddots & & & & &  \\\\\n",
    "  & & -Fo_{1} & 1 + Fo_{1}\\left(1+\\frac{k_{2}\\Delta x_{1}}{k_{1}\\Delta x_{2}}\\right) & -Fo_{1} \\frac{k_{2}\\Delta x_{1}}{k_{1}\\Delta x_{2}} & & & \\\\\n",
    " \\vdots & & & -Fo_{2}\\frac{k_{1}\\Delta x_{2}}{k_{2}\\Delta x_{1}} & 1 + Fo_{2}\\left(1+\\frac{k_{1}\\Delta x_{2}}{k_{2}\\Delta x_{1}}\\right) & -Fo_{2} & & \\vdots \\\\\n",
    " & & & & & \\ddots & & 0 \\\\\n",
    " 0 & \\cdots & & & 0 & -Fo_{2} & 1 + 2 Fo_{2} & -Fo_{2}\\\\\n",
    " 0 & \\cdots & & & & 0 & -2 Fo_{2} & 1 + 2Fo_{2} \\left(1 + Bi_{2} \\right) \\end{array} \\right]$$ \n",
    " \n",
    "$$ \\underline{B} = \\left[ \\begin{array}{c}\n",
    " T^{n}_{1} \\\\\n",
    " T^{n}_{2} \\\\\n",
    " \\vdots \\\\\n",
    " T^{n}_{N_{1} + N_{2} -1} \\\\\n",
    " T^{n}_{N_{1} + N_{2}} \\\\\n",
    "\\end{array}\\right] + \\left[ \\begin{array}{c}\n",
    " 2Fo_{1}Bi_{1}T_{inf} \\\\\n",
    " 0 \\\\\n",
    " \\vdots \\\\\n",
    " 0 \\\\\n",
    " 2Fo_{2}Bi_{2}T_{inf} \\\\\n",
    "\\end{array}\\right] + \\left[ \\begin{array}{c}\n",
    " \\frac{\\Delta t}{\\rho C_{p}}\\dot{ q}^{n+1}_{1} \\\\\n",
    " \\frac{\\Delta t}{\\rho C_{p}}\\dot{ q}^{n+1}_{2} \\\\\n",
    " \\vdots \\\\\n",
    " \\frac{\\Delta t}{\\rho C_{p}}\\dot{ q}^{n+1}_{N_{1}}\\\\\n",
    " 0 \\\\\n",
    " \\vdots\\\\\n",
    "\\end{array}\\right]$$\n",
    " \n",
    "Now for the iterative search for the root of the system at each timestep we once again have the following:\n",
    "\n",
    "$$ _{j+1}\\underline{T}^{n+1} = \\, _{j}\\underline{T}^{n+1} - \\underline{\\underline{J}}^{-1} \\left (\\underline{\\underline{A}} \\; _{j}\\underline{T}^{n+1} - \\underline{B}\\right )$$\n",
    "\n",
    "with the initial guess for the Newton iterate taken as the last time step temperature $_{0}\\underline{T}^{n+1} =  \\underline{T}^{n}$\n",
    "\n",
    "And now expanded out:\n",
    "\n",
    "$$ \\underline{\\underline{J}} = \\underline{\\underline{A}} + \\left[ \\begin{array}{c}\n",
    " 2Fo_{1}Bi'_{1} \\\\\n",
    " 0 \\\\\n",
    " \\vdots \\\\\n",
    " 0 \\\\\n",
    " 2Fo_{2}Bi'_{2} \\\\\n",
    "\\end{array}\\right] \\cdot \\left(\\underline{T}^{n+1} - \\left[ \\begin{array}{c}\n",
    " T_{inf_{1}} \\\\\n",
    " 0 \\\\\n",
    " \\vdots \\\\\n",
    " 0 \\\\\n",
    " T_{inf_{2}} \\\\\n",
    "\\end{array}\\right]\\right)^{T}$$"
   ]
  },
  {
   "cell_type": "markdown",
   "metadata": {},
   "source": [
    "##### _Problem set up (Now its time to code!!!)_"
   ]
  },
  {
   "cell_type": "markdown",
   "metadata": {},
   "source": [
    "Let's start with importing your libraries, defining material properties, and setting up the discretization."
   ]
  },
  {
   "cell_type": "code",
   "execution_count": 1,
   "metadata": {
    "collapsed": true
   },
   "outputs": [],
   "source": [
    "%matplotlib inline\n",
    "import numpy\n",
    "from matplotlib import pyplot\n",
    "from matplotlib import cm\n",
    "\n",
    "from matplotlib import rcParams\n",
    "rcParams['font.family'] = 'serif'\n",
    "rcParams['font.size'] = 14"
   ]
  },
  {
   "cell_type": "code",
   "execution_count": 2,
   "metadata": {
    "collapsed": true
   },
   "outputs": [],
   "source": [
    "## Define Properties and Geometry\n",
    "rhoCpMelt  = 37.81 # Btu / ft^3 - F\n",
    "kMelt      = 9.00  # Btu / hr - ft - F\n",
    "LMelt      = 0.60  # ft\n",
    "qVolGen    = 0.8 * 10**6  # Btu / hr - ft^3\n",
    "qGentau    = 2.0   # hr  --  Time constant for exponential\n",
    "\n",
    "rhoCpPlate = 27.61 # Btu / ft^3 - F\n",
    "kPlate     = 9.00  # Btu / hr - ft - F\n",
    "LPlate     = 0.25 / 12 # ft\n",
    "\n",
    "## Define Inital and Boundary Conditions\n",
    "T0Melt  = 3000   # F\n",
    "T0Plate = 700    # F\n",
    "\n",
    "vFeps = 0.5 * 0.33 # View Factor and emmisivity\n",
    "TinfR = 90         # F  --  Radiative bulk temperature \n",
    "\n",
    "betaH2O = 115.0 * 10**-6 # 1/R    --  Volumetric expansion coefficient\n",
    "nuH2O = 2.093 * 10**-5   # lbf s  --  Kinematic viscosity\n",
    "LChar = 1   # ft      -- Characteristic Length is equal to \n",
    "            #              the Area of the surface / Perimeter\n",
    "TinfC = 120 # F       --  Convective bulk fluid temperature\n",
    "\n",
    "## Define Spatial Discritization \n",
    "nXMelt  = 20    #     --  Number of Melt nodes\n",
    "nXPlate = 10    #     --  Number of Plate nodes\n",
    "\n",
    "## Define Temporal Discritization\n",
    "tMax    = 5.00     # hr  --  Maximum simulation time\n",
    "dtMax   = 0.001    # hr  --  Maximum timestep\n",
    "tPntRes = dtMax/10 # hr  --  Max Resolution of output\n",
    "\n",
    "## Define Convergence Criteria\n",
    "nIterMax = 25     #     --  Maximum attempts to converge\n",
    "nErrMax  = 0.0005 #     --  Convergence Criteria\n",
    "NdtDband = 20     #     --  Number of successful timesteps \n",
    "                  #           before a larger timestep is attempted"
   ]
  },
  {
   "cell_type": "code",
   "execution_count": 3,
   "metadata": {
    "collapsed": true
   },
   "outputs": [],
   "source": [
    "#### Calculate Derived Problem Inputs ####\n",
    "\n",
    "## Material Properties\n",
    "alphaM = kMelt / rhoCpMelt\n",
    "alphaP = kPlate / rhoCpPlate\n",
    "\n",
    "## Discritization in Space\n",
    "dxMelt = LMelt / (nXMelt - 1/2)\n",
    "dxPlate = LPlate / (nXPlate - 1/2)\n",
    "\n",
    "## nodal locations for Melt (x=0 @ interface)\n",
    "xMelt = numpy.zeros(nXMelt)\n",
    "for i in range(nXMelt):\n",
    "    xMelt[i] = LMelt - i * dxMelt\n",
    "\n",
    "## nodal locations for Plate\n",
    "xPlate = numpy.zeros(nXPlate)\n",
    "for i in range(nXPlate):\n",
    "    xPlate[i] = - (LPlate - i * dxPlate)\n",
    "    \n",
    "## Discritization in Time\n",
    "time = 0.0\n",
    "dt = dtMax\n",
    "\n",
    "## Initial Distrobution\n",
    "T0 = numpy.ones(nXMelt + nXPlate)\n",
    "T0[:nXMelt] = T0Melt\n",
    "T0[nXMelt:] = T0Plate\n",
    "\n",
    "## Output Variables\n",
    "tPrint = numpy.ones(1) * time\n",
    "TPrint = T0.copy()\n",
    "dtPrint = numpy.ones(1) * dt\n",
    "nIterPrint = numpy.zeros(1)"
   ]
  },
  {
   "cell_type": "markdown",
   "metadata": {},
   "source": [
    "Plot the initial temperature distrobution!"
   ]
  },
  {
   "cell_type": "code",
   "execution_count": 4,
   "metadata": {
    "collapsed": false
   },
   "outputs": [
    {
     "data": {
      "image/png": "[encoded data removed]",
      "text/plain": [
       "<matplotlib.figure.Figure at 0x7ff711f46518>"
      ]
     },
     "metadata": {},
     "output_type": "display_data"
    }
   ],
   "source": [
    "## Plot inital temperature Distribution\n",
    "pyplot.plot(xMelt,  T0[:nXMelt], color='#AA0055', ls='-', lw=3)\n",
    "pyplot.plot(xPlate, T0[nXMelt:], color='#00AA55', ls='-', lw=3)\n",
    "pyplot.ylabel('Temperature Distribution (F)')\n",
    "pyplot.xlabel('Position (ft)')\n",
    "pyplot.ylim(0, 1.1 * T0Melt);"
   ]
  },
  {
   "cell_type": "markdown",
   "metadata": {},
   "source": [
    "Let's now proceed with writting a function to return the internal heat generation as a fuction of time as we defined above."
   ]
  },
  {
   "cell_type": "code",
   "execution_count": 5,
   "metadata": {
    "collapsed": false
   },
   "outputs": [],
   "source": [
    "def get_power(t, tau, P):\n",
    "    \"\"\" Calculates the power density for a given time for use in the heat conduction equation\n",
    "        Assumes an linear - exponential decay law which goes to zero after 5 time constants \n",
    "    \n",
    "    Parameters:\n",
    "    ----------\n",
    "    t    : float\n",
    "           transient time\n",
    "    tau  : float\n",
    "           time constant for use in the exponential decay equation\n",
    "    P    : float\n",
    "           initial power\n",
    "        \n",
    "    Returns:\n",
    "    -------\n",
    "    power : float\n",
    "            power density\n",
    "    \"\"\"\n",
    "    \n",
    "    return max(0, P * (numpy.exp(- t / tau) - t / (5 * tau) * numpy.exp(-5)))"
   ]
  },
  {
   "cell_type": "markdown",
   "metadata": {},
   "source": [
    "Now let's plot the transient power density and verify that it is what we wanted!"
   ]
  },
  {
   "cell_type": "code",
   "execution_count": 6,
   "metadata": {
    "collapsed": false
   },
   "outputs": [
    {
     "data": {
      "image/png": "[encoded data removed]",
      "text/plain": [
       "<matplotlib.figure.Figure at 0x7ff70fc98e48>"
      ]
     },
     "metadata": {},
     "output_type": "display_data"
    }
   ],
   "source": [
    "## Calculate Power distrobution\n",
    "t = numpy.linspace(0, 6 * qGentau, 100)\n",
    "y = numpy.zeros_like(t)\n",
    "for n in range(len(t)):\n",
    "    y[n] = get_power(t[n], qGentau, qVolGen)\n",
    "\n",
    "## Plot transient Power over time\n",
    "pyplot.plot(t, y, color='#AA0055', ls='-', lw=3)\n",
    "pyplot.ylabel('Power Density (Btu / hr ft^3)')\n",
    "pyplot.xlabel('Time (s)')\n",
    "pyplot.ylim(0, 1.1*qVolGen);"
   ]
  },
  {
   "cell_type": "markdown",
   "metadata": {},
   "source": [
    "##### _Boundary Condition and Non-Dimentional Parameters_"
   ]
  },
  {
   "cell_type": "markdown",
   "metadata": {},
   "source": [
    "We now need to define a set of functions for returning the Bi numbers and their derivatives for the upper surface radiation and the lower surface convection.  Additionally, we neef to define a function to return the Fo number.\n",
    "\n",
    "Lets start with the upper radiative boundary."
   ]
  },
  {
   "cell_type": "code",
   "execution_count": 7,
   "metadata": {
    "collapsed": true
   },
   "outputs": [],
   "source": [
    "def get_BiRad(Ts, Tinf, dx, k, coeff):\n",
    "    \"\"\" Calculates the Bi number and the derivative of the Bi number for radiation heat transfer \n",
    "    \n",
    "    Parameters:\n",
    "    ----------\n",
    "    Ts   : float\n",
    "           surface temperature\n",
    "    Tinf : float\n",
    "           temperature radiating to\n",
    "    dx   : float\n",
    "           spacial discritization\n",
    "    k    : float\n",
    "           thermal conductance\n",
    "    coeff : float\n",
    "            leading coefficiant for stephan-boltzman radiation law\n",
    "        \n",
    "    Returns:\n",
    "    -------\n",
    "    Bi  : float\n",
    "          Biot number\n",
    "    Bip : float\n",
    "          Derivative of Bi number\n",
    "    \"\"\"\n",
    "    \n",
    "    sigma = 0.1714 * 10**-8\n",
    "    Tref  = 459.67\n",
    "    \n",
    "    Ts = Ts + Tref\n",
    "    Tinf = Tinf + Tref\n",
    "    \n",
    "    h = coeff * sigma * (Ts + Tinf) * (Ts**2 + Tinf**2) \n",
    "    hp = coeff * sigma * ((Ts**2 + Tinf**2) + 2 * Ts * (Ts + Tinf))\n",
    "    \n",
    "    return h * dx / k, hp * dx / k"
   ]
  },
  {
   "cell_type": "markdown",
   "metadata": {},
   "source": [
    "The lower convective boundary is similar but slightly more complex as we first need to calculate the Ra number and its deriviative prior to calculating the Bi number and its derivative."
   ]
  },
  {
   "cell_type": "code",
   "execution_count": 8,
   "metadata": {
    "collapsed": true
   },
   "outputs": [],
   "source": [
    "def get_BiConv(Ts, Tinf, dx, alpha, beta, nu, L):\n",
    "    \"\"\" Calculates the Bi number and the derivative of the Bi number for convective heat transfer \n",
    "        Assumes free confection from a horizontal heated plate\n",
    "    \n",
    "    Parameters:\n",
    "    ----------\n",
    "    Ts   : float\n",
    "           surface temperature\n",
    "    Tinf : float\n",
    "           temperature radiating to\n",
    "    dx   : float\n",
    "           spacial discritization\n",
    "    alpha : float\n",
    "            thermal conductance / rho Cp\n",
    "    beta  : float\n",
    "            volume expansion coefficient\n",
    "    nu    : float\n",
    "            kinematic viscosity\n",
    "        \n",
    "    Returns:\n",
    "    -------\n",
    "    Bi  : float\n",
    "          Biot number\n",
    "    Bip : float\n",
    "          Derivative of Bi number\n",
    "    \"\"\"  \n",
    "    \n",
    "    g = 32.2\n",
    "    Tref = 459.67\n",
    "    Ts = Ts + Tref\n",
    "    Tinf = Tinf + Tref\n",
    "    \n",
    "    Coeff = 0.27\n",
    "    n = 1/4\n",
    "    \n",
    "    if Ts > Tinf:\n",
    "        Ra  = (g * beta * (Ts - Tinf) * L**3) / (nu * alpha)\n",
    "        Rap = (g * beta * L**3) / (nu * alpha) \n",
    "    \n",
    "        h  = 1/L * Coeff * Ra**n\n",
    "        hp = 1/L * Coeff * n * Ra**(n-1) * Rap\n",
    "    \n",
    "    else:\n",
    "        h = 0\n",
    "        hp = 0\n",
    "     \n",
    "    return h * dx, hp * dx"
   ]
  },
  {
   "cell_type": "markdown",
   "metadata": {},
   "source": [
    "The Fo number is as one might expect."
   ]
  },
  {
   "cell_type": "code",
   "execution_count": 9,
   "metadata": {
    "collapsed": true
   },
   "outputs": [],
   "source": [
    "def get_FoNumb(alpha, dt, dx):\n",
    "    \"\"\" Calculates the Fo number for use in the heat transfer equation \n",
    "    \n",
    "    Parameters:\n",
    "    ----------\n",
    "    alpha : float\n",
    "            thermal conductance / rho Cp\n",
    "    dt   : float\n",
    "           time discritization\n",
    "    dx   : float\n",
    "           spacial discritization\n",
    "        \n",
    "    Returns:\n",
    "    -------\n",
    "    Fo  : float\n",
    "          Fourier number\n",
    "    \"\"\"\n",
    "    \n",
    "    return alpha * dt / dx**2"
   ]
  },
  {
   "cell_type": "markdown",
   "metadata": {},
   "source": [
    "###### _Convergence and the Dynamic Timestep size_"
   ]
  },
  {
   "cell_type": "markdown",
   "metadata": {},
   "source": [
    "As you will see later, we will use a while loop to iterate on the Newton Raphon root search and will have need for a function which determines if the solution is sufficiently converged.  Whole books might be written (A friend said I should check the library ... but I forgot what that was) methods of determining convergence criteria and the selection of optimal timestep sizes.  However, for simplicity the determination of convergence will be given by the following relation:\n",
    "\n",
    "$$ max \\left( \\frac{abs \\left( \\underline{T}_{j+1} - \\underline{T}_{j} \\right)}{\\underline{T}_{j+1}} \\right)< Error$$\n",
    "\n",
    "Given that the initial condition for this problem is a highly non-equilibrium state and that the forcing function (volumetric generation) varies significantly over time, it is prudent to not restrict ourselves to a single choice of timestep size.  To do so, would either result in poor accuracy (i.e., large timestep) at the begining of the problem when the transient processes are very dynamic or poor computational efficiency when a quasi-steady state is reached later in the problem. Implementing a variable timestep size in our solution allows us to have our cake and eat it too! \n",
    "\n",
    "Again, here for simplicity, the specific implementation of the dynamic timestep will be as follows: (1) set a initial & maximum timestep allowed, (2) if convergence is not reached within a set number of attempts for a particular time in the transient reduce the timestep by a factor of 2, and finally, (3) if a sufficient number of timesteps have been completed successfully without reducing timestep size, increase timestep size by a factor of 2.  This essentially allows the timestep to flow at an \"optimal\" size for the accuracy desired recognizing the need for a damponing effect to avoid rapid oscillation of timestep size.\n",
    "\n",
    "The code for timestep size is integrated into the transient evolution code shown below.  The following defines the convergence checking function:"
   ]
  },
  {
   "cell_type": "code",
   "execution_count": 10,
   "metadata": {
    "collapsed": true
   },
   "outputs": [],
   "source": [
    "def isConverge(Tnew, Told, err):\n",
    "    \"\"\" Function for ascertaining convergence with a given error\n",
    "        Finds the maximum element wise magnitude of relative error and compares this\n",
    "        to an acceptable error\n",
    "    \n",
    "    Parameters:\n",
    "    ----------\n",
    "    Tnew : array of floats (1D)\n",
    "           new temperature\n",
    "    Told : array of floats (1D)\n",
    "           old temperature    \n",
    "    err  : float\n",
    "           acceptable error\n",
    "           \n",
    "    Returns:\n",
    "    -------\n",
    "    conv : boolean\n",
    "           returns true or false for convergence status           \n",
    "    \"\"\"\n",
    "    return max(abs((Tnew - Told) / Tnew)) < err"
   ]
  },
  {
   "cell_type": "markdown",
   "metadata": {},
   "source": [
    "##### _Coding the system of equations into matricies and solving the system_"
   ]
  },
  {
   "cell_type": "markdown",
   "metadata": {},
   "source": [
    "Now lets write code we will need to solve the non-linear system of equations written above at every timestep to find the solution in time. \n",
    "\n",
    "First lets write a function to return the coefficent matrix $\\underline{\\underline{A}}$"
   ]
  },
  {
   "cell_type": "code",
   "execution_count": 11,
   "metadata": {
    "collapsed": true
   },
   "outputs": [],
   "source": [
    "def gen_CoeffMatrix(N1, N2, dx1, dx2, k1, k2, Fo1, Fo2, Bi1, Bi2):\n",
    "    \"\"\" Generate implicit matrix for 1D heat equation with Neumann in top and bottom\n",
    "        Applies to a two region problem (upper region is internally heated)\n",
    "    \n",
    "    Parameters:\n",
    "    ----------\n",
    "    N1   : int\n",
    "           number of discretization points in region 1\n",
    "    N2   : int\n",
    "           number of discretization points in region 2\n",
    "    dx1  : float\n",
    "           spacial discritization in region 1\n",
    "    dx2  : float\n",
    "           spacial discritization in region 2\n",
    "    k1   : float\n",
    "           thermal conductance in region 1\n",
    "    k2   : float\n",
    "           thermal conductance in region 2\n",
    "    Fo1  : float\n",
    "           Fourier number in region 1\n",
    "    Fo2  : float\n",
    "           Fourier number in region 2\n",
    "    Bi1  : float\n",
    "           Biot number in region 1\n",
    "    Bi2  : float\n",
    "           Biot number in region 2        \n",
    "           \n",
    "    Returns:\n",
    "    -------\n",
    "    A : array of floats (2D)\n",
    "        Matrix of implicit 1D heat equation\n",
    "    \"\"\"\n",
    "    # Setup the diagonal\n",
    "    d = numpy.diag(numpy.r_[\n",
    "             1 + 2 * Fo1 * (1 + Bi1),         # Neumann BC Top\n",
    "            (1 + 2 * Fo1) * numpy.ones(N1 - 2),  # Internal Top\n",
    "             1 + Fo1 * (1 + k2/k1 * dx1/dx2), # Interface Top\n",
    "             1 + Fo2 * (1 + k1/k2 * dx2/dx1), # Interface Bottom\n",
    "            (1 + 2 * Fo2) * numpy.ones(N2 - 2),  # Internal Bottom\n",
    "             1 + 2 * Fo2 * (1 + Bi2)          # Neumann BC Bottom\n",
    "    ], 0)\n",
    "    \n",
    "    # Setup upper diagonal\n",
    "    ud = numpy.diag(numpy.r_[\n",
    "             - 2 * Fo1,               # Neumann BC Top\n",
    "             - Fo1 * numpy.ones(N1 - 2), # Internal Top\n",
    "             - Fo1 * k2/k1 * dx1/dx2, # Interface Top\n",
    "             - Fo2,                   # Interface Bottom\n",
    "             - Fo2 * numpy.ones(N2 - 2)  # Internal Bottom\n",
    "    ], 1)\n",
    "    \n",
    "    # Setup lower diagonal\n",
    "    ld = numpy.diag(numpy.r_[\n",
    "             - Fo1 * numpy.ones(N1 - 2), # Internal Top\n",
    "             - Fo1,                   # Interface Top\n",
    "             - Fo2 * k1/k2 * dx2/dx1, # Interface Bottom\n",
    "             - Fo2 * numpy.ones(N2 - 2), # Internal Bottom\n",
    "             - 2 * Fo2                # Neumann BC Bottom\n",
    "    ], -1)\n",
    "    \n",
    "    A = d + ud + ld\n",
    "    \n",
    "    return A"
   ]
  },
  {
   "cell_type": "markdown",
   "metadata": {},
   "source": [
    "Second lets write a function to return the in-homogenious matrix $\\underline{B}$"
   ]
  },
  {
   "cell_type": "code",
   "execution_count": 12,
   "metadata": {
    "collapsed": true
   },
   "outputs": [],
   "source": [
    "def gen_InHomVector(N1, N2, dt, T, Fo1, Fo2, Bi1, Bi2, Tb1, Tb2, rhoCp1, rhoCp2, qdot1, qdot2):\n",
    "    \"\"\" Generate right hand side for 1D heat equation with Neumann in top and bottom\n",
    "        Applies to a two region problem (upper region is internally heated)\n",
    "    \n",
    "    Parameters:\n",
    "    ----------\n",
    "    N1   : int\n",
    "           number of discretization points in region 1\n",
    "    N2   : int\n",
    "           number of discretization points in region 2\n",
    "    dt   : float\n",
    "           temporal discritization\n",
    "    Fo1  : float\n",
    "           Fourier number in region 1\n",
    "    Fo2  : float\n",
    "           Fourier number in region 2\n",
    "    Bi1  : float\n",
    "           Biot number in region 1\n",
    "    Bi2  : float\n",
    "           Biot number in region 2\n",
    "    Tb1  : float\n",
    "           Boundary temperature in region 1\n",
    "    Tb2  : float\n",
    "           Boundary temperature in region 2\n",
    "    rhoCp1  : float\n",
    "           specific heat capacity in region 1\n",
    "    rhoCp2  : float\n",
    "           specific heat capacity in region 2\n",
    "    qdot1  : float\n",
    "           internal heat generation in region 1\n",
    "    qdot2  : float\n",
    "           internal heat generation in region 2 \n",
    "           \n",
    "    Returns:\n",
    "    -------\n",
    "    B : array of floats (1D)\n",
    "        RHS Matrix of implicit 1D heat equation\n",
    "    \"\"\"\n",
    "    \n",
    "    # Setup Vector Component from previous \n",
    "    # Timestep Temperature\n",
    "    bTemp = T.copy()\n",
    "    \n",
    "    # Setup Vector Component from Neumann BC \n",
    "    bNeumann = numpy.zeros_like(T)\n",
    "    bNeumann[0] = 2 * Fo1 * Bi1 * Tb1\n",
    "    bNeumann[-1] = 2 * Fo2 * Bi2 * Tb2\n",
    "    \n",
    "    # Setup Vector Component from Internal Generation\n",
    "    bInternal = numpy.r_[\n",
    "        (dt / rhoCp1) * qdot1 * numpy.ones(N1),\n",
    "        (dt / rhoCp2) * qdot2 * numpy.ones(N2)\n",
    "    ]\n",
    "    \n",
    "    return bTemp + bNeumann + bInternal"
   ]
  },
  {
   "cell_type": "markdown",
   "metadata": {},
   "source": [
    "Third, lets write a function to return the Jacobian matrix $\\underline{\\underline{J}}$"
   ]
  },
  {
   "cell_type": "code",
   "execution_count": 13,
   "metadata": {
    "collapsed": true
   },
   "outputs": [],
   "source": [
    "def gen_JacobMatrix(A, T, Fo1, Fo2, Bip1, Bip2, Tb1, Tb2):\n",
    "    \"\"\" Generate Jacobian Matrix for 1D heat equation with Neumann in top and bottom\n",
    "        Applies to a two region problem (upper region is internally heated)\n",
    "    \n",
    "    Parameters:\n",
    "    ----------\n",
    "    A    : array of floats (2D)\n",
    "           Matrix of implicit 1D heat equation\n",
    "    T    : array of floats (1D)\n",
    "           Temperature of implicit 1D heat equation\n",
    "    Fo1  : float\n",
    "           Fourier number in region 1\n",
    "    Fo2  : float\n",
    "           Fourier number in region 2\n",
    "    Bip1  : float\n",
    "           Biot number derivative in region 1\n",
    "    Bip2  : float\n",
    "           Biot number derivative in region 2\n",
    "    Tb1  : float\n",
    "           Boundary temperature in region 1\n",
    "    Tb2  : float\n",
    "           Boundary temperature in region 2\n",
    "           \n",
    "    Returns:\n",
    "    -------\n",
    "    J : array of floats (2D)\n",
    "        Jacobian Matrix of implicit 1D heat equation\n",
    "    \"\"\"\n",
    "    \n",
    "    J = A.copy()\n",
    "    \n",
    "    # Setup upper Neumann BC (Derivative of A)\n",
    "    J[0] = J[0] + (2 * Fo1 * Bip1) * (T[0] - Tb1)\n",
    "\n",
    "    # Setup lower Neumann BC (Derivative of B)\n",
    "    J[-1] = J[-1] + (2 * Fo2 * Bip2) * (T[-1] - Tb2)\n",
    "   \n",
    "    return J"
   ]
  },
  {
   "cell_type": "markdown",
   "metadata": {},
   "source": [
    "Finally, we will write a nested while loop structure to step through each timestep and iteration within each timestep.  The code below can and should be translated into a function. However, due to the large number of inputs needed for such a function and for the ease of this lesson, we will forego this step.  \n",
    "\n",
    "You should grab a piece of paper and a pencil (I know I said it again) and flow chart what this code should look like. A few new topics were introduced in this lesson; in particular, an inner iteration loop and a dynamic time step.  You should know how this should look before you ever start codeing a single line!"
   ]
  },
  {
   "cell_type": "code",
   "execution_count": 14,
   "metadata": {
    "collapsed": false
   },
   "outputs": [],
   "source": [
    "#### Apply Newton Raphson Scheme ####\n",
    "\n",
    "## Initial non-dimentional quantities\n",
    "FoMelt = get_FoNumb(alphaM, dt, dxMelt)\n",
    "FoPlate = get_FoNumb(alphaP, dt, dxPlate)\n",
    "BiMelt, BiMeltP = get_BiRad(T0[0], TinfR, dxMelt, kMelt, vFeps)\n",
    "BiPlate, BiPlateP = get_BiConv(T0[-1], TinfC, dxPlate, alphaP, betaH2O, nuH2O, LChar)\n",
    "\n",
    "## Initial Matricies\n",
    "A = gen_CoeffMatrix(nXMelt, nXPlate, dxMelt, dxPlate, kMelt, kPlate, FoMelt, FoPlate, BiMelt, BiPlate)\n",
    "B = gen_InHomVector(nXMelt, nXPlate, dt, T0, FoMelt, FoPlate, BiMelt, BiPlate, \n",
    "                    TinfR, TinfC, rhoCpMelt, rhoCpPlate, get_power(time, qGentau, qVolGen), 0)\n",
    "\n",
    "## Initialize Temperature and zero dead band for increasing timestep size\n",
    "T = T0.copy()\n",
    "nIterDband = 0\n",
    "\n",
    "## While loop for every timestep\n",
    "while time <= tMax:\n",
    "    \n",
    "    ## Initialize convergence state, \n",
    "    ## initial temp for iteration, and zero Newton iterations\n",
    "    convIter = False \n",
    "    nIter = 0\n",
    "    Told = T.copy()\n",
    "    \n",
    "    ## While loop for Newton iterations\n",
    "    while not convIter:\n",
    "        \n",
    "        ## Calculate non-dimentional quantities\n",
    "        FoMelt = get_FoNumb(alphaM, dt, dxMelt)\n",
    "        FoPlate = get_FoNumb(alphaP, dt, dxPlate)\n",
    "        BiMelt, BiMeltP = get_BiRad(Told[0], TinfR, dxMelt, kMelt, vFeps)\n",
    "        BiPlate, BiPlateP = get_BiConv(Told[-1], TinfC, dxPlate, alphaP, betaH2O, nuH2O, LChar)\n",
    "\n",
    "        ## Calculate Maticies\n",
    "        A = gen_CoeffMatrix(nXMelt, nXPlate, dxMelt, dxPlate, kMelt, kPlate, FoMelt, FoPlate, BiMelt, BiPlate)\n",
    "        B = gen_InHomVector(nXMelt, nXPlate, dt, Told, FoMelt, FoPlate, BiMelt, BiPlate, \n",
    "                    TinfR, TinfC, rhoCpMelt, rhoCpPlate, get_power(time, qGentau, qVolGen), 0)\n",
    "        J = gen_JacobMatrix(A, Told, FoMelt, FoPlate, BiMeltP, BiPlateP, TinfR, TinfC)\n",
    "    \n",
    "        ## Guess new temperature for timestep\n",
    "        Tguess = Told + numpy.dot(-numpy.linalg.inv(J), numpy.dot(A, Told) - B)\n",
    "    \n",
    "        ## Test for convergence; if converged set temp & increment Dband count\n",
    "        if isConverge(Tguess, Told, nErrMax):\n",
    "            convIter = True\n",
    "            T = Tguess.copy()\n",
    "            nIterDband = nIterDband + 1\n",
    "        \n",
    "        ## Test for too many attempts; if failed reset temp, interation count, \n",
    "        ## decrease timestep size, & reset Dband count            \n",
    "        elif nIter >= nIterMax:\n",
    "            nIter = 0\n",
    "            dt = dt / 2\n",
    "            nIterDband = 0\n",
    "            Told = T.copy()\n",
    "\n",
    "        ## If not converged and still attempting; set new temp \n",
    "        ## & increment iteration count\n",
    "        else:\n",
    "            Told = Tguess.copy()\n",
    "            nIter = nIter + 1\n",
    "\n",
    "    ## End While not convIter\n",
    "    \n",
    "    ## If sufficient time elapsed since last output; \n",
    "    ## save snapshot of output variables\n",
    "    if time + dt >= tPrint[-1] + tPntRes:\n",
    "        tPrint = numpy.r_[tPrint, time + dt]\n",
    "        TPrint = numpy.c_[TPrint, T]\n",
    "        dtPrint = numpy.r_[dtPrint, dt]\n",
    " \n",
    "    ## If sufficient successful timesteps @ current timestep size;\n",
    "    ## increase timestep size, reset Dband counter, and clip dt to dtMax \n",
    "    ## save snapshot of output variables\n",
    "    if nIterDband >= NdtDband:\n",
    "        nIterDband = 0\n",
    "        dt = dt * 2.0\n",
    "    if dt > dtMax:\n",
    "        dt = dtMax\n",
    "    \n",
    "    ## Increment time\n",
    "    time = time + dt\n",
    "\n",
    "## End While time <= tMax   "
   ]
  },
  {
   "cell_type": "markdown",
   "metadata": {},
   "source": [
    "Looks Great - Now did it work (I am always surprised when it actually works)?\n",
    "\n",
    "Plot the solution!  _(and I think I like the spectral colormap more than the viridis)_"
   ]
  },
  {
   "cell_type": "code",
   "execution_count": 15,
   "metadata": {
    "collapsed": false
   },
   "outputs": [
    {
     "data": {
      "image/png": "[encoded data removed]",
      "text/plain": [
       "<matplotlib.figure.Figure at 0x7ff70fb8e7f0>"
      ]
     },
     "metadata": {},
     "output_type": "display_data"
    }
   ],
   "source": [
    "y = numpy.r_[xMelt,xPlate]\n",
    "x = tPrint\n",
    "mx, my = numpy.meshgrid(x,y)\n",
    "\n",
    "pyplot.figure(figsize=(8,5))\n",
    "pyplot.contourf(mx, my, TPrint, 10**3, cmap=cm.spectral)\n",
    "pyplot.grid\n",
    "pyplot.ylabel('Length (ft)')\n",
    "pyplot.xlabel('Time (hr)')\n",
    "pyplot.colorbar();"
   ]
  },
  {
   "cell_type": "markdown",
   "metadata": {},
   "source": [
    "Wow, the solution is pretty dynamic in the first ~6 minutes.  Let's plot just the first 6 minutes!\n",
    "\n",
    "Also note the growing oscilations in tempreature at the lower boundary ... why do you think this is.  \n",
    "_Hint: look at the derivation of the difference equation for the lower boundary, what is the order of all of the terms?_"
   ]
  },
  {
   "cell_type": "code",
   "execution_count": 16,
   "metadata": {
    "collapsed": false
   },
   "outputs": [
    {
     "data": {
      "image/png": "[encoded data removed]",
      "text/plain": [
       "<matplotlib.figure.Figure at 0x7ff70f247470>"
      ]
     },
     "metadata": {},
     "output_type": "display_data"
    }
   ],
   "source": [
    "y = numpy.r_[xMelt,xPlate]\n",
    "x = tPrint\n",
    "mx, my = numpy.meshgrid(x,y)\n",
    "\n",
    "pyplot.figure(figsize=(8,5))\n",
    "pyplot.contourf(mx, my, TPrint, 10**3, cmap=cm.spectral)\n",
    "pyplot.grid\n",
    "pyplot.ylabel('Length (ft)')\n",
    "pyplot.xlabel('Time (hr)')\n",
    "pyplot.xlim(0,0.20)\n",
    "pyplot.colorbar();"
   ]
  },
  {
   "cell_type": "markdown",
   "metadata": {},
   "source": [
    "Lets now focus on the upper, lower, and midplane temperature distrobutions for both the Melt and the Plate!"
   ]
  },
  {
   "cell_type": "code",
   "execution_count": 17,
   "metadata": {
    "collapsed": false
   },
   "outputs": [
    {
     "data": {
      "image/png": "[encoded data removed]",
      "text/plain": [
       "<matplotlib.figure.Figure at 0x7ff70f4dd3c8>"
      ]
     },
     "metadata": {},
     "output_type": "display_data"
    }
   ],
   "source": [
    "pyplot.plot(tPrint, TPrint[0], ls='-', lw=1)\n",
    "pyplot.plot(tPrint, TPrint[int((nXMelt-1)/2)], ls='-', lw=1)\n",
    "pyplot.plot(tPrint, TPrint[nXMelt-1], ls='-', lw=1)\n",
    "pyplot.plot(tPrint, TPrint[nXMelt], ls='-', lw=1)\n",
    "pyplot.plot(tPrint, TPrint[-1], ls='-', lw=1)\n",
    "pyplot.xlim(0,5)\n",
    "pyplot.legend(['Melt Upper Surface','Melt Center','Melt Lower Surface',\\\n",
    "           'Plate Upper Surface','Plate Lower Surface'])\n",
    "pyplot.ylabel('Temperature (F)')\n",
    "pyplot.xlabel('Time (hr)');"
   ]
  },
  {
   "cell_type": "markdown",
   "metadata": {},
   "source": [
    "Now plot how the timestep size varied over the simulation and lets see if the trouble we went to was worth it!\n",
    "\n",
    "Plot the timestep size!"
   ]
  },
  {
   "cell_type": "code",
   "execution_count": 18,
   "metadata": {
    "collapsed": false
   },
   "outputs": [
    {
     "data": {
      "image/png": "[encoded data removed]",
      "text/plain": [
       "<matplotlib.figure.Figure at 0x7ff70f4a3f28>"
      ]
     },
     "metadata": {},
     "output_type": "display_data"
    }
   ],
   "source": [
    "pyplot.semilogy(tPrint, dtPrint, 'ro', tPrint, numpy.ones(len(dtPrint)) * dtMax, 'b-')\n",
    "pyplot.ylabel('Timestep (s)')\n",
    "pyplot.xlabel('Time (s)');\n",
    "pyplot.xlim(0, 0.5)\n",
    "pyplot.ylim(min(dtPrint)/10, 10 * dtMax);"
   ]
  },
  {
   "cell_type": "markdown",
   "metadata": {},
   "source": [
    "##### _Is it Surprising ... It Works!!_\n",
    "\n",
    "The figure above is exactly as we might have expected. We were able to use a very small timestep size in the begining when it was needed and a substatially larger timestep size as the solution approaches a more equilibrium state.  This method of timestep selection is self correcting to an extent.  This allowance for increasing the timestep size, subject to accuracy constrants, is playing to the stregths of the implicit scheme chosen for this solution."
   ]
  },
  {
   "cell_type": "markdown",
   "metadata": {},
   "source": [
    "#####  _With great power comes great responsibility_"
   ]
  },
  {
   "cell_type": "markdown",
   "metadata": {},
   "source": [
    "The Implicit method coupled with the dynamic timestep allows you to use very large initial and maximum timestep sizes.  This is a good thing!  However, you should be careful about the accuracy of the solution.  If you recal from the derivation of the difference equations for the exterier and interface nodes, a first order accurate differece approximation was used in some of these terms.  That means, for all the fancy code jiu-jitsu we employed with the variable timestep and the iterative Newton Raphson scheme, **the Error still grows linearly with increasing timestep size!!! So be Careful!!**"
   ]
  },
  {
   "cell_type": "markdown",
   "metadata": {},
   "source": [
    "##### Dig deeper"
   ]
  },
  {
   "cell_type": "markdown",
   "metadata": {},
   "source": [
    "Do you think you could allow for even larger timestep sizes while retaining sufficently accurate results?  why not replace the first order derivative approximations in the interface and exterier nodes in the equations above with second order accurate approximations.\n",
    "\n",
    "Is this sufficient ... No.  \n",
    "\n",
    "The Newton Raphson scheme is essentially an Euler method, that means its first order in time.  Why not also replace the Newton Raphson iteration with a second order accurate method ([\"Runge-Kutta\"](https://en.wikipedia.org/wiki/Runge%E2%80%93Kutta_methods), or [\"Crank-Nicolson\"](https://en.wikipedia.org/wiki/Crank%E2%80%93Nicolson_method))\n",
    "\n",
    "And finally, experiment with the input assumptions such as initial temperature, lengths, material properties, and power density.\n",
    "\n",
    "_if you are really adventurious ... convert the notebook from Imperial units to SI units :) _"
   ]
  },
  {
   "cell_type": "markdown",
   "metadata": {},
   "source": [
    "##### _References_"
   ]
  },
  {
   "cell_type": "markdown",
   "metadata": {},
   "source": [
    "1. Home, D., & Chai, M. (2015). Determination of In-Vessel Retention Under Molten Corium Pool Attack. International Topical Conference on Nuclear Reactor Thermal Hydraulics. Chicago.\n",
    "\n",
    "2. Incropera, DeWitt, Bergman, Lavine. _Fundamentals of Heat and Mass Transfer_, Whiley 2007, 6th edition.  (see sections 4.4, 5.10, & 9.6)\n",
    "\n",
    "3. L. Barba, I. hawke, C. Jerez. _Practical Numerical Methods with Python_, The George Washington University, School of Mechanical and Aerospace Engineering, Fall 2015 [\"OpenEdX\"](http://openedx.seas.gwu.edu/courses/GW/MAE6286/2014_fall/99f230e1104b46c1857417614de7e3bd/) [\"GitHub\"](https://github.com/numerical-mooc/numerical-mooc)"
   ]
  }
 ],
 "metadata": {
  "kernelspec": {
   "display_name": "Python 3",
   "language": "python",
   "name": "python3"
  },
  "language_info": {
   "codemirror_mode": {
    "name": "ipython",
    "version": 3
   },
   "file_extension": ".py",
   "mimetype": "text/x-python",
   "name": "python",
   "nbconvert_exporter": "python",
   "pygments_lexer": "ipython3",
   "version": "3.4.3"
  }
 },
 "nbformat": 4,
 "nbformat_minor": 0
}
